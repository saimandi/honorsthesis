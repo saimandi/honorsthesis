{
  "cells": [
    {
      "cell_type": "code",
      "execution_count": 1,
      "metadata": {
        "colab": {
          "base_uri": "https://localhost:8080/"
        },
        "id": "RuyBQ-6dSkod",
        "outputId": "041e0f55-0aac-4a8c-b897-89b9ea95c3d9"
      },
      "outputs": [
        {
          "output_type": "stream",
          "name": "stdout",
          "text": [
            "Requirement already satisfied: packaging in /usr/local/lib/python3.10/dist-packages (24.0)\n",
            "Collecting ninja\n",
            "  Downloading ninja-1.11.1.1-py2.py3-none-manylinux1_x86_64.manylinux_2_5_x86_64.whl (307 kB)\n",
            "\u001b[2K     \u001b[90m━━━━━━━━━━━━━━━━━━━━━━━━━━━━━━━━━━━━━━━━\u001b[0m \u001b[32m307.2/307.2 kB\u001b[0m \u001b[31m3.1 MB/s\u001b[0m eta \u001b[36m0:00:00\u001b[0m\n",
            "\u001b[?25hCollecting einops\n",
            "  Downloading einops-0.8.0-py3-none-any.whl (43 kB)\n",
            "\u001b[2K     \u001b[90m━━━━━━━━━━━━━━━━━━━━━━━━━━━━━━━━━━━━━━━━\u001b[0m \u001b[32m43.2/43.2 kB\u001b[0m \u001b[31m3.5 MB/s\u001b[0m eta \u001b[36m0:00:00\u001b[0m\n",
            "\u001b[?25hCollecting flash-attn\n",
            "  Downloading flash_attn-2.5.9.post1.tar.gz (2.6 MB)\n",
            "\u001b[2K     \u001b[90m━━━━━━━━━━━━━━━━━━━━━━━━━━━━━━━━━━━━━━━━\u001b[0m \u001b[32m2.6/2.6 MB\u001b[0m \u001b[31m10.2 MB/s\u001b[0m eta \u001b[36m0:00:00\u001b[0m\n",
            "\u001b[?25h  Preparing metadata (setup.py) ... \u001b[?25l\u001b[?25hdone\n",
            "Collecting xformers\n",
            "  Downloading xformers-0.0.26.post1-cp310-cp310-manylinux2014_x86_64.whl (222.7 MB)\n",
            "\u001b[2K     \u001b[90m━━━━━━━━━━━━━━━━━━━━━━━━━━━━━━━━━━━━━━━━\u001b[0m \u001b[32m222.7/222.7 MB\u001b[0m \u001b[31m5.9 MB/s\u001b[0m eta \u001b[36m0:00:00\u001b[0m\n",
            "\u001b[?25hCollecting trl\n",
            "  Downloading trl-0.8.6-py3-none-any.whl (245 kB)\n",
            "\u001b[2K     \u001b[90m━━━━━━━━━━━━━━━━━━━━━━━━━━━━━━━━━━━━━━━━\u001b[0m \u001b[32m245.2/245.2 kB\u001b[0m \u001b[31m26.3 MB/s\u001b[0m eta \u001b[36m0:00:00\u001b[0m\n",
            "\u001b[?25hCollecting peft\n",
            "  Downloading peft-0.11.1-py3-none-any.whl (251 kB)\n",
            "\u001b[2K     \u001b[90m━━━━━━━━━━━━━━━━━━━━━━━━━━━━━━━━━━━━━━━━\u001b[0m \u001b[32m251.6/251.6 kB\u001b[0m \u001b[31m30.2 MB/s\u001b[0m eta \u001b[36m0:00:00\u001b[0m\n",
            "\u001b[?25hCollecting accelerate\n",
            "  Downloading accelerate-0.30.1-py3-none-any.whl (302 kB)\n",
            "\u001b[2K     \u001b[90m━━━━━━━━━━━━━━━━━━━━━━━━━━━━━━━━━━━━━━━━\u001b[0m \u001b[32m302.6/302.6 kB\u001b[0m \u001b[31m32.9 MB/s\u001b[0m eta \u001b[36m0:00:00\u001b[0m\n",
            "\u001b[?25hCollecting bitsandbytes\n",
            "  Downloading bitsandbytes-0.43.1-py3-none-manylinux_2_24_x86_64.whl (119.8 MB)\n",
            "\u001b[2K     \u001b[90m━━━━━━━━━━━━━━━━━━━━━━━━━━━━━━━━━━━━━━━━\u001b[0m \u001b[32m119.8/119.8 MB\u001b[0m \u001b[31m8.7 MB/s\u001b[0m eta \u001b[36m0:00:00\u001b[0m\n",
            "\u001b[?25hBuilding wheels for collected packages: flash-attn\n",
            "  Building wheel for flash-attn (setup.py) ... \u001b[?25l\u001b[?25hdone\n",
            "  Created wheel for flash-attn: filename=flash_attn-2.5.9.post1-cp310-cp310-linux_x86_64.whl size=120889689 sha256=5022ba11d48bf74926da9c16260f4ea2b9bb7f4e29bdb4bd6e1383ad1c55d16f\n",
            "  Stored in directory: /root/.cache/pip/wheels/cc/ad/f6/7ccf0238790d6346e9fe622923a76ec218e890d356b9a2754a\n",
            "Successfully built flash-attn\n",
            "Installing collected packages: ninja, bitsandbytes, xformers, trl, peft, flash-attn, einops, accelerate\n",
            "Successfully installed accelerate-0.30.1 bitsandbytes-0.43.1 einops-0.8.0 flash-attn-2.5.9.post1 ninja-1.11.1.1 peft-0.11.1 trl-0.8.6 xformers-0.0.26.post1\n",
            "Collecting unsloth[colab-new]@ git+https://github.com/unslothai/unsloth.git\n",
            "  Cloning https://github.com/unslothai/unsloth.git to /tmp/pip-install-cvjz_fzq/unsloth_a63b942a391b4da1b8f9b90e62818aeb\n",
            "  Running command git clone --filter=blob:none --quiet https://github.com/unslothai/unsloth.git /tmp/pip-install-cvjz_fzq/unsloth_a63b942a391b4da1b8f9b90e62818aeb\n",
            "  Resolved https://github.com/unslothai/unsloth.git to commit 27fa021a7bb959a53667dd4e7cdb9598c207aa0d\n",
            "  Installing build dependencies ... \u001b[?25l\u001b[?25hdone\n",
            "  Getting requirements to build wheel ... \u001b[?25l\u001b[?25hdone\n",
            "  Installing backend dependencies ... \u001b[?25l\u001b[?25hdone\n",
            "  Preparing metadata (pyproject.toml) ... \u001b[?25l\u001b[?25hdone\n",
            "Collecting tyro (from unsloth[colab-new]@ git+https://github.com/unslothai/unsloth.git)\n",
            "  Downloading tyro-0.8.4-py3-none-any.whl (102 kB)\n",
            "\u001b[2K     \u001b[90m━━━━━━━━━━━━━━━━━━━━━━━━━━━━━━━━━━━━━━━━\u001b[0m \u001b[32m102.4/102.4 kB\u001b[0m \u001b[31m3.1 MB/s\u001b[0m eta \u001b[36m0:00:00\u001b[0m\n",
            "\u001b[?25hRequirement already satisfied: transformers>=4.38.2 in /usr/local/lib/python3.10/dist-packages (from unsloth[colab-new]@ git+https://github.com/unslothai/unsloth.git) (4.41.1)\n",
            "Collecting datasets>=2.16.0 (from unsloth[colab-new]@ git+https://github.com/unslothai/unsloth.git)\n",
            "  Downloading datasets-2.19.1-py3-none-any.whl (542 kB)\n",
            "\u001b[2K     \u001b[90m━━━━━━━━━━━━━━━━━━━━━━━━━━━━━━━━━━━━━━━━\u001b[0m \u001b[32m542.0/542.0 kB\u001b[0m \u001b[31m11.3 MB/s\u001b[0m eta \u001b[36m0:00:00\u001b[0m\n",
            "\u001b[?25hRequirement already satisfied: sentencepiece in /usr/local/lib/python3.10/dist-packages (from unsloth[colab-new]@ git+https://github.com/unslothai/unsloth.git) (0.1.99)\n",
            "Requirement already satisfied: tqdm in /usr/local/lib/python3.10/dist-packages (from unsloth[colab-new]@ git+https://github.com/unslothai/unsloth.git) (4.66.4)\n",
            "Requirement already satisfied: psutil in /usr/local/lib/python3.10/dist-packages (from unsloth[colab-new]@ git+https://github.com/unslothai/unsloth.git) (5.9.5)\n",
            "Requirement already satisfied: wheel>=0.42.0 in /usr/local/lib/python3.10/dist-packages (from unsloth[colab-new]@ git+https://github.com/unslothai/unsloth.git) (0.43.0)\n",
            "Requirement already satisfied: numpy in /usr/local/lib/python3.10/dist-packages (from unsloth[colab-new]@ git+https://github.com/unslothai/unsloth.git) (1.25.2)\n",
            "Requirement already satisfied: protobuf<4.0.0 in /usr/local/lib/python3.10/dist-packages (from unsloth[colab-new]@ git+https://github.com/unslothai/unsloth.git) (3.20.3)\n",
            "Requirement already satisfied: filelock in /usr/local/lib/python3.10/dist-packages (from datasets>=2.16.0->unsloth[colab-new]@ git+https://github.com/unslothai/unsloth.git) (3.14.0)\n",
            "Requirement already satisfied: pyarrow>=12.0.0 in /usr/local/lib/python3.10/dist-packages (from datasets>=2.16.0->unsloth[colab-new]@ git+https://github.com/unslothai/unsloth.git) (14.0.2)\n",
            "Requirement already satisfied: pyarrow-hotfix in /usr/local/lib/python3.10/dist-packages (from datasets>=2.16.0->unsloth[colab-new]@ git+https://github.com/unslothai/unsloth.git) (0.6)\n",
            "Collecting dill<0.3.9,>=0.3.0 (from datasets>=2.16.0->unsloth[colab-new]@ git+https://github.com/unslothai/unsloth.git)\n",
            "  Downloading dill-0.3.8-py3-none-any.whl (116 kB)\n",
            "\u001b[2K     \u001b[90m━━━━━━━━━━━━━━━━━━━━━━━━━━━━━━━━━━━━━━━━\u001b[0m \u001b[32m116.3/116.3 kB\u001b[0m \u001b[31m11.8 MB/s\u001b[0m eta \u001b[36m0:00:00\u001b[0m\n",
            "\u001b[?25hRequirement already satisfied: pandas in /usr/local/lib/python3.10/dist-packages (from datasets>=2.16.0->unsloth[colab-new]@ git+https://github.com/unslothai/unsloth.git) (2.0.3)\n",
            "Requirement already satisfied: requests>=2.19.0 in /usr/local/lib/python3.10/dist-packages (from datasets>=2.16.0->unsloth[colab-new]@ git+https://github.com/unslothai/unsloth.git) (2.31.0)\n",
            "Collecting xxhash (from datasets>=2.16.0->unsloth[colab-new]@ git+https://github.com/unslothai/unsloth.git)\n",
            "  Downloading xxhash-3.4.1-cp310-cp310-manylinux_2_17_x86_64.manylinux2014_x86_64.whl (194 kB)\n",
            "\u001b[2K     \u001b[90m━━━━━━━━━━━━━━━━━━━━━━━━━━━━━━━━━━━━━━━━\u001b[0m \u001b[32m194.1/194.1 kB\u001b[0m \u001b[31m13.9 MB/s\u001b[0m eta \u001b[36m0:00:00\u001b[0m\n",
            "\u001b[?25hCollecting multiprocess (from datasets>=2.16.0->unsloth[colab-new]@ git+https://github.com/unslothai/unsloth.git)\n",
            "  Downloading multiprocess-0.70.16-py310-none-any.whl (134 kB)\n",
            "\u001b[2K     \u001b[90m━━━━━━━━━━━━━━━━━━━━━━━━━━━━━━━━━━━━━━━━\u001b[0m \u001b[32m134.8/134.8 kB\u001b[0m \u001b[31m10.2 MB/s\u001b[0m eta \u001b[36m0:00:00\u001b[0m\n",
            "\u001b[?25hRequirement already satisfied: fsspec[http]<=2024.3.1,>=2023.1.0 in /usr/local/lib/python3.10/dist-packages (from datasets>=2.16.0->unsloth[colab-new]@ git+https://github.com/unslothai/unsloth.git) (2023.6.0)\n",
            "Requirement already satisfied: aiohttp in /usr/local/lib/python3.10/dist-packages (from datasets>=2.16.0->unsloth[colab-new]@ git+https://github.com/unslothai/unsloth.git) (3.9.5)\n",
            "Requirement already satisfied: huggingface-hub>=0.21.2 in /usr/local/lib/python3.10/dist-packages (from datasets>=2.16.0->unsloth[colab-new]@ git+https://github.com/unslothai/unsloth.git) (0.23.1)\n",
            "Requirement already satisfied: packaging in /usr/local/lib/python3.10/dist-packages (from datasets>=2.16.0->unsloth[colab-new]@ git+https://github.com/unslothai/unsloth.git) (24.0)\n",
            "Requirement already satisfied: pyyaml>=5.1 in /usr/local/lib/python3.10/dist-packages (from datasets>=2.16.0->unsloth[colab-new]@ git+https://github.com/unslothai/unsloth.git) (6.0.1)\n",
            "Requirement already satisfied: regex!=2019.12.17 in /usr/local/lib/python3.10/dist-packages (from transformers>=4.38.2->unsloth[colab-new]@ git+https://github.com/unslothai/unsloth.git) (2024.5.15)\n",
            "Requirement already satisfied: tokenizers<0.20,>=0.19 in /usr/local/lib/python3.10/dist-packages (from transformers>=4.38.2->unsloth[colab-new]@ git+https://github.com/unslothai/unsloth.git) (0.19.1)\n",
            "Requirement already satisfied: safetensors>=0.4.1 in /usr/local/lib/python3.10/dist-packages (from transformers>=4.38.2->unsloth[colab-new]@ git+https://github.com/unslothai/unsloth.git) (0.4.3)\n",
            "Requirement already satisfied: docstring-parser>=0.14.1 in /usr/local/lib/python3.10/dist-packages (from tyro->unsloth[colab-new]@ git+https://github.com/unslothai/unsloth.git) (0.16)\n",
            "Requirement already satisfied: typing-extensions>=4.7.0 in /usr/local/lib/python3.10/dist-packages (from tyro->unsloth[colab-new]@ git+https://github.com/unslothai/unsloth.git) (4.11.0)\n",
            "Requirement already satisfied: rich>=11.1.0 in /usr/local/lib/python3.10/dist-packages (from tyro->unsloth[colab-new]@ git+https://github.com/unslothai/unsloth.git) (13.7.1)\n",
            "Collecting shtab>=1.5.6 (from tyro->unsloth[colab-new]@ git+https://github.com/unslothai/unsloth.git)\n",
            "  Downloading shtab-1.7.1-py3-none-any.whl (14 kB)\n",
            "Requirement already satisfied: aiosignal>=1.1.2 in /usr/local/lib/python3.10/dist-packages (from aiohttp->datasets>=2.16.0->unsloth[colab-new]@ git+https://github.com/unslothai/unsloth.git) (1.3.1)\n",
            "Requirement already satisfied: attrs>=17.3.0 in /usr/local/lib/python3.10/dist-packages (from aiohttp->datasets>=2.16.0->unsloth[colab-new]@ git+https://github.com/unslothai/unsloth.git) (23.2.0)\n",
            "Requirement already satisfied: frozenlist>=1.1.1 in /usr/local/lib/python3.10/dist-packages (from aiohttp->datasets>=2.16.0->unsloth[colab-new]@ git+https://github.com/unslothai/unsloth.git) (1.4.1)\n",
            "Requirement already satisfied: multidict<7.0,>=4.5 in /usr/local/lib/python3.10/dist-packages (from aiohttp->datasets>=2.16.0->unsloth[colab-new]@ git+https://github.com/unslothai/unsloth.git) (6.0.5)\n",
            "Requirement already satisfied: yarl<2.0,>=1.0 in /usr/local/lib/python3.10/dist-packages (from aiohttp->datasets>=2.16.0->unsloth[colab-new]@ git+https://github.com/unslothai/unsloth.git) (1.9.4)\n",
            "Requirement already satisfied: async-timeout<5.0,>=4.0 in /usr/local/lib/python3.10/dist-packages (from aiohttp->datasets>=2.16.0->unsloth[colab-new]@ git+https://github.com/unslothai/unsloth.git) (4.0.3)\n",
            "Requirement already satisfied: charset-normalizer<4,>=2 in /usr/local/lib/python3.10/dist-packages (from requests>=2.19.0->datasets>=2.16.0->unsloth[colab-new]@ git+https://github.com/unslothai/unsloth.git) (3.3.2)\n",
            "Requirement already satisfied: idna<4,>=2.5 in /usr/local/lib/python3.10/dist-packages (from requests>=2.19.0->datasets>=2.16.0->unsloth[colab-new]@ git+https://github.com/unslothai/unsloth.git) (3.7)\n",
            "Requirement already satisfied: urllib3<3,>=1.21.1 in /usr/local/lib/python3.10/dist-packages (from requests>=2.19.0->datasets>=2.16.0->unsloth[colab-new]@ git+https://github.com/unslothai/unsloth.git) (2.0.7)\n",
            "Requirement already satisfied: certifi>=2017.4.17 in /usr/local/lib/python3.10/dist-packages (from requests>=2.19.0->datasets>=2.16.0->unsloth[colab-new]@ git+https://github.com/unslothai/unsloth.git) (2024.2.2)\n",
            "Requirement already satisfied: markdown-it-py>=2.2.0 in /usr/local/lib/python3.10/dist-packages (from rich>=11.1.0->tyro->unsloth[colab-new]@ git+https://github.com/unslothai/unsloth.git) (3.0.0)\n",
            "Requirement already satisfied: pygments<3.0.0,>=2.13.0 in /usr/local/lib/python3.10/dist-packages (from rich>=11.1.0->tyro->unsloth[colab-new]@ git+https://github.com/unslothai/unsloth.git) (2.16.1)\n",
            "Requirement already satisfied: python-dateutil>=2.8.2 in /usr/local/lib/python3.10/dist-packages (from pandas->datasets>=2.16.0->unsloth[colab-new]@ git+https://github.com/unslothai/unsloth.git) (2.8.2)\n",
            "Requirement already satisfied: pytz>=2020.1 in /usr/local/lib/python3.10/dist-packages (from pandas->datasets>=2.16.0->unsloth[colab-new]@ git+https://github.com/unslothai/unsloth.git) (2023.4)\n",
            "Requirement already satisfied: tzdata>=2022.1 in /usr/local/lib/python3.10/dist-packages (from pandas->datasets>=2.16.0->unsloth[colab-new]@ git+https://github.com/unslothai/unsloth.git) (2024.1)\n",
            "Requirement already satisfied: mdurl~=0.1 in /usr/local/lib/python3.10/dist-packages (from markdown-it-py>=2.2.0->rich>=11.1.0->tyro->unsloth[colab-new]@ git+https://github.com/unslothai/unsloth.git) (0.1.2)\n",
            "Requirement already satisfied: six>=1.5 in /usr/local/lib/python3.10/dist-packages (from python-dateutil>=2.8.2->pandas->datasets>=2.16.0->unsloth[colab-new]@ git+https://github.com/unslothai/unsloth.git) (1.16.0)\n",
            "Building wheels for collected packages: unsloth\n",
            "  Building wheel for unsloth (pyproject.toml) ... \u001b[?25l\u001b[?25hdone\n",
            "  Created wheel for unsloth: filename=unsloth-2024.5-py3-none-any.whl size=109360 sha256=616ba5ec77d8f0e70ecc56a1f77b7a6c0d5945bc7d3e79127e3222298030a563\n",
            "  Stored in directory: /tmp/pip-ephem-wheel-cache-11m5xvk2/wheels/ed/d4/e9/76fb290ee3df0a5fc21ce5c2c788e29e9607a2353d8342fd0d\n",
            "Successfully built unsloth\n",
            "Installing collected packages: xxhash, unsloth, shtab, dill, multiprocess, tyro, datasets\n",
            "Successfully installed datasets-2.19.1 dill-0.3.8 multiprocess-0.70.16 shtab-1.7.1 tyro-0.8.4 unsloth-2024.5 xxhash-3.4.1\n"
          ]
        }
      ],
      "source": [
        "# Installing all the necessary packages(libraries) for the experiments (RTX30xx, RTX40xx, A100, H100, L40)\n",
        "!pip install --no-deps packaging ninja einops flash-attn xformers trl peft accelerate bitsandbytes\n",
        "!pip install \"unsloth[colab-new] @ git+https://github.com/unslothai/unsloth.git\""
      ]
    },
    {
      "cell_type": "code",
      "execution_count": 2,
      "metadata": {
        "colab": {
          "base_uri": "https://localhost:8080/"
        },
        "id": "wAw5cZ8sMXIo",
        "outputId": "5b50141a-f499-46d0-d578-3e73876ee633"
      },
      "outputs": [
        {
          "output_type": "stream",
          "name": "stdout",
          "text": [
            "Requirement already satisfied: xformers in /usr/local/lib/python3.10/dist-packages (0.0.26.post1)\n",
            "Requirement already satisfied: trl in /usr/local/lib/python3.10/dist-packages (0.8.6)\n",
            "Requirement already satisfied: peft in /usr/local/lib/python3.10/dist-packages (0.11.1)\n",
            "Requirement already satisfied: accelerate in /usr/local/lib/python3.10/dist-packages (0.30.1)\n",
            "Requirement already satisfied: bitsandbytes in /usr/local/lib/python3.10/dist-packages (0.43.1)\n",
            "Collecting unsloth[colab-new]@ git+https://github.com/unslothai/unsloth.git\n",
            "  Cloning https://github.com/unslothai/unsloth.git to /tmp/pip-install-ldby1wxp/unsloth_9933a9afd1df437c8e6207ade2331b53\n",
            "  Running command git clone --filter=blob:none --quiet https://github.com/unslothai/unsloth.git /tmp/pip-install-ldby1wxp/unsloth_9933a9afd1df437c8e6207ade2331b53\n",
            "  Resolved https://github.com/unslothai/unsloth.git to commit 27fa021a7bb959a53667dd4e7cdb9598c207aa0d\n",
            "  Installing build dependencies ... \u001b[?25l\u001b[?25hdone\n",
            "  Getting requirements to build wheel ... \u001b[?25l\u001b[?25hdone\n",
            "  Installing backend dependencies ... \u001b[?25l\u001b[?25hdone\n",
            "  Preparing metadata (pyproject.toml) ... \u001b[?25l\u001b[?25hdone\n",
            "Requirement already satisfied: tyro in /usr/local/lib/python3.10/dist-packages (from unsloth[colab-new]@ git+https://github.com/unslothai/unsloth.git) (0.8.4)\n",
            "Requirement already satisfied: transformers>=4.38.2 in /usr/local/lib/python3.10/dist-packages (from unsloth[colab-new]@ git+https://github.com/unslothai/unsloth.git) (4.41.1)\n",
            "Requirement already satisfied: datasets>=2.16.0 in /usr/local/lib/python3.10/dist-packages (from unsloth[colab-new]@ git+https://github.com/unslothai/unsloth.git) (2.19.1)\n",
            "Requirement already satisfied: sentencepiece in /usr/local/lib/python3.10/dist-packages (from unsloth[colab-new]@ git+https://github.com/unslothai/unsloth.git) (0.1.99)\n",
            "Requirement already satisfied: tqdm in /usr/local/lib/python3.10/dist-packages (from unsloth[colab-new]@ git+https://github.com/unslothai/unsloth.git) (4.66.4)\n",
            "Requirement already satisfied: psutil in /usr/local/lib/python3.10/dist-packages (from unsloth[colab-new]@ git+https://github.com/unslothai/unsloth.git) (5.9.5)\n",
            "Requirement already satisfied: wheel>=0.42.0 in /usr/local/lib/python3.10/dist-packages (from unsloth[colab-new]@ git+https://github.com/unslothai/unsloth.git) (0.43.0)\n",
            "Requirement already satisfied: numpy in /usr/local/lib/python3.10/dist-packages (from unsloth[colab-new]@ git+https://github.com/unslothai/unsloth.git) (1.25.2)\n",
            "Requirement already satisfied: protobuf<4.0.0 in /usr/local/lib/python3.10/dist-packages (from unsloth[colab-new]@ git+https://github.com/unslothai/unsloth.git) (3.20.3)\n",
            "Requirement already satisfied: filelock in /usr/local/lib/python3.10/dist-packages (from datasets>=2.16.0->unsloth[colab-new]@ git+https://github.com/unslothai/unsloth.git) (3.14.0)\n",
            "Requirement already satisfied: pyarrow>=12.0.0 in /usr/local/lib/python3.10/dist-packages (from datasets>=2.16.0->unsloth[colab-new]@ git+https://github.com/unslothai/unsloth.git) (14.0.2)\n",
            "Requirement already satisfied: pyarrow-hotfix in /usr/local/lib/python3.10/dist-packages (from datasets>=2.16.0->unsloth[colab-new]@ git+https://github.com/unslothai/unsloth.git) (0.6)\n",
            "Requirement already satisfied: dill<0.3.9,>=0.3.0 in /usr/local/lib/python3.10/dist-packages (from datasets>=2.16.0->unsloth[colab-new]@ git+https://github.com/unslothai/unsloth.git) (0.3.8)\n",
            "Requirement already satisfied: pandas in /usr/local/lib/python3.10/dist-packages (from datasets>=2.16.0->unsloth[colab-new]@ git+https://github.com/unslothai/unsloth.git) (2.0.3)\n",
            "Requirement already satisfied: requests>=2.19.0 in /usr/local/lib/python3.10/dist-packages (from datasets>=2.16.0->unsloth[colab-new]@ git+https://github.com/unslothai/unsloth.git) (2.31.0)\n",
            "Requirement already satisfied: xxhash in /usr/local/lib/python3.10/dist-packages (from datasets>=2.16.0->unsloth[colab-new]@ git+https://github.com/unslothai/unsloth.git) (3.4.1)\n",
            "Requirement already satisfied: multiprocess in /usr/local/lib/python3.10/dist-packages (from datasets>=2.16.0->unsloth[colab-new]@ git+https://github.com/unslothai/unsloth.git) (0.70.16)\n",
            "Requirement already satisfied: fsspec[http]<=2024.3.1,>=2023.1.0 in /usr/local/lib/python3.10/dist-packages (from datasets>=2.16.0->unsloth[colab-new]@ git+https://github.com/unslothai/unsloth.git) (2023.6.0)\n",
            "Requirement already satisfied: aiohttp in /usr/local/lib/python3.10/dist-packages (from datasets>=2.16.0->unsloth[colab-new]@ git+https://github.com/unslothai/unsloth.git) (3.9.5)\n",
            "Requirement already satisfied: huggingface-hub>=0.21.2 in /usr/local/lib/python3.10/dist-packages (from datasets>=2.16.0->unsloth[colab-new]@ git+https://github.com/unslothai/unsloth.git) (0.23.1)\n",
            "Requirement already satisfied: packaging in /usr/local/lib/python3.10/dist-packages (from datasets>=2.16.0->unsloth[colab-new]@ git+https://github.com/unslothai/unsloth.git) (24.0)\n",
            "Requirement already satisfied: pyyaml>=5.1 in /usr/local/lib/python3.10/dist-packages (from datasets>=2.16.0->unsloth[colab-new]@ git+https://github.com/unslothai/unsloth.git) (6.0.1)\n",
            "Requirement already satisfied: regex!=2019.12.17 in /usr/local/lib/python3.10/dist-packages (from transformers>=4.38.2->unsloth[colab-new]@ git+https://github.com/unslothai/unsloth.git) (2024.5.15)\n",
            "Requirement already satisfied: tokenizers<0.20,>=0.19 in /usr/local/lib/python3.10/dist-packages (from transformers>=4.38.2->unsloth[colab-new]@ git+https://github.com/unslothai/unsloth.git) (0.19.1)\n",
            "Requirement already satisfied: safetensors>=0.4.1 in /usr/local/lib/python3.10/dist-packages (from transformers>=4.38.2->unsloth[colab-new]@ git+https://github.com/unslothai/unsloth.git) (0.4.3)\n",
            "Requirement already satisfied: docstring-parser>=0.14.1 in /usr/local/lib/python3.10/dist-packages (from tyro->unsloth[colab-new]@ git+https://github.com/unslothai/unsloth.git) (0.16)\n",
            "Requirement already satisfied: typing-extensions>=4.7.0 in /usr/local/lib/python3.10/dist-packages (from tyro->unsloth[colab-new]@ git+https://github.com/unslothai/unsloth.git) (4.11.0)\n",
            "Requirement already satisfied: rich>=11.1.0 in /usr/local/lib/python3.10/dist-packages (from tyro->unsloth[colab-new]@ git+https://github.com/unslothai/unsloth.git) (13.7.1)\n",
            "Requirement already satisfied: shtab>=1.5.6 in /usr/local/lib/python3.10/dist-packages (from tyro->unsloth[colab-new]@ git+https://github.com/unslothai/unsloth.git) (1.7.1)\n",
            "Requirement already satisfied: aiosignal>=1.1.2 in /usr/local/lib/python3.10/dist-packages (from aiohttp->datasets>=2.16.0->unsloth[colab-new]@ git+https://github.com/unslothai/unsloth.git) (1.3.1)\n",
            "Requirement already satisfied: attrs>=17.3.0 in /usr/local/lib/python3.10/dist-packages (from aiohttp->datasets>=2.16.0->unsloth[colab-new]@ git+https://github.com/unslothai/unsloth.git) (23.2.0)\n",
            "Requirement already satisfied: frozenlist>=1.1.1 in /usr/local/lib/python3.10/dist-packages (from aiohttp->datasets>=2.16.0->unsloth[colab-new]@ git+https://github.com/unslothai/unsloth.git) (1.4.1)\n",
            "Requirement already satisfied: multidict<7.0,>=4.5 in /usr/local/lib/python3.10/dist-packages (from aiohttp->datasets>=2.16.0->unsloth[colab-new]@ git+https://github.com/unslothai/unsloth.git) (6.0.5)\n",
            "Requirement already satisfied: yarl<2.0,>=1.0 in /usr/local/lib/python3.10/dist-packages (from aiohttp->datasets>=2.16.0->unsloth[colab-new]@ git+https://github.com/unslothai/unsloth.git) (1.9.4)\n",
            "Requirement already satisfied: async-timeout<5.0,>=4.0 in /usr/local/lib/python3.10/dist-packages (from aiohttp->datasets>=2.16.0->unsloth[colab-new]@ git+https://github.com/unslothai/unsloth.git) (4.0.3)\n",
            "Requirement already satisfied: charset-normalizer<4,>=2 in /usr/local/lib/python3.10/dist-packages (from requests>=2.19.0->datasets>=2.16.0->unsloth[colab-new]@ git+https://github.com/unslothai/unsloth.git) (3.3.2)\n",
            "Requirement already satisfied: idna<4,>=2.5 in /usr/local/lib/python3.10/dist-packages (from requests>=2.19.0->datasets>=2.16.0->unsloth[colab-new]@ git+https://github.com/unslothai/unsloth.git) (3.7)\n",
            "Requirement already satisfied: urllib3<3,>=1.21.1 in /usr/local/lib/python3.10/dist-packages (from requests>=2.19.0->datasets>=2.16.0->unsloth[colab-new]@ git+https://github.com/unslothai/unsloth.git) (2.0.7)\n",
            "Requirement already satisfied: certifi>=2017.4.17 in /usr/local/lib/python3.10/dist-packages (from requests>=2.19.0->datasets>=2.16.0->unsloth[colab-new]@ git+https://github.com/unslothai/unsloth.git) (2024.2.2)\n",
            "Requirement already satisfied: markdown-it-py>=2.2.0 in /usr/local/lib/python3.10/dist-packages (from rich>=11.1.0->tyro->unsloth[colab-new]@ git+https://github.com/unslothai/unsloth.git) (3.0.0)\n",
            "Requirement already satisfied: pygments<3.0.0,>=2.13.0 in /usr/local/lib/python3.10/dist-packages (from rich>=11.1.0->tyro->unsloth[colab-new]@ git+https://github.com/unslothai/unsloth.git) (2.16.1)\n",
            "Requirement already satisfied: python-dateutil>=2.8.2 in /usr/local/lib/python3.10/dist-packages (from pandas->datasets>=2.16.0->unsloth[colab-new]@ git+https://github.com/unslothai/unsloth.git) (2.8.2)\n",
            "Requirement already satisfied: pytz>=2020.1 in /usr/local/lib/python3.10/dist-packages (from pandas->datasets>=2.16.0->unsloth[colab-new]@ git+https://github.com/unslothai/unsloth.git) (2023.4)\n",
            "Requirement already satisfied: tzdata>=2022.1 in /usr/local/lib/python3.10/dist-packages (from pandas->datasets>=2.16.0->unsloth[colab-new]@ git+https://github.com/unslothai/unsloth.git) (2024.1)\n",
            "Requirement already satisfied: mdurl~=0.1 in /usr/local/lib/python3.10/dist-packages (from markdown-it-py>=2.2.0->rich>=11.1.0->tyro->unsloth[colab-new]@ git+https://github.com/unslothai/unsloth.git) (0.1.2)\n",
            "Requirement already satisfied: six>=1.5 in /usr/local/lib/python3.10/dist-packages (from python-dateutil>=2.8.2->pandas->datasets>=2.16.0->unsloth[colab-new]@ git+https://github.com/unslothai/unsloth.git) (1.16.0)\n"
          ]
        }
      ],
      "source": [
        "# Installing all the necessary packages(libraries) for the experiments (V100, T4, RTX20xx)\n",
        "!pip install --no-deps xformers trl peft accelerate bitsandbytes\n",
        "!pip install \"unsloth[colab-new] @ git+https://github.com/unslothai/unsloth.git\""
      ]
    },
    {
      "cell_type": "code",
      "execution_count": 3,
      "metadata": {
        "id": "3sl1jjxFMeVx",
        "colab": {
          "base_uri": "https://localhost:8080/"
        },
        "outputId": "e995681c-b7e8-4115-d481-3ad3270460a6"
      },
      "outputs": [
        {
          "output_type": "stream",
          "name": "stdout",
          "text": [
            "🦥 Unsloth: Will patch your computer to enable 2x faster free finetuning.\n"
          ]
        }
      ],
      "source": [
        "# Importing the necessary packages(libraries) for the experiments\n",
        "import json\n",
        "\n",
        "import torch\n",
        "from datasets import load_dataset\n",
        "from huggingface_hub import notebook_login\n",
        "from transformers import TrainingArguments\n",
        "from trl import SFTTrainer\n",
        "from unsloth import FastLanguageModel"
      ]
    },
    {
      "cell_type": "code",
      "source": [],
      "metadata": {
        "id": "GefA05Ap8TAS"
      },
      "execution_count": null,
      "outputs": []
    },
    {
      "cell_type": "code",
      "execution_count": 4,
      "metadata": {
        "colab": {
          "base_uri": "https://localhost:8080/",
          "height": 145,
          "referenced_widgets": [
            "60eccd6781b84ef7b70c5fdec6453656",
            "2d789e1c8a8040e3a08c398a76970f79",
            "df88b14dbd8b4bb4abb2bf709a169307",
            "71c731c07ec843608df40c763229d8d0",
            "63a2966b7cec47ce800dc2541e4c3a98",
            "fe059c2b07c44d32873851f691611390",
            "824247bd7f464a7f874389668293fa1b",
            "e8aa5b93dd2f460fb9fa98cf8ebb4dcd",
            "93f7478fe01b40719f5eec84dfa7817f",
            "37c7feba26f044e59f0a20823505b6de",
            "04475aa35ce1454ab3595b7f446bf9ae",
            "088a82327d954162bfa04cfb20f90bef",
            "c5489e620ce74585bd32380aa5eb7824",
            "fe250e2260d2440795f15a03f539a13b",
            "6a672d65ee6c46e690db012e6c7513e0",
            "13626e4555ea42adb0ef87b992edc040",
            "d4470702d6644c61990191696ff9f8c2",
            "3fd4f637655b4042b66fa3a9301d74c8",
            "99e375c6a2824c43b23c0b0ee8ccbee9",
            "ad4288c8f83b4f99b08a6c5eab7d22d6",
            "2c1998a374304b9e9de3fc0ee742525d",
            "8107c81d373945dc87a5616a3e7f1f01",
            "fa3085929c7f40cfbaeb73d60a8270ed",
            "e3ec4f1c07a345dc97479f2b2cc8ee98",
            "a8a5332c2fd14745a876350f58b4e3b4",
            "61a03ac3ef2d41b58f12106fdeb6f899",
            "32817d4fa116421fa574b1e74b4f834a",
            "04c6393aaa88485a84a830f0644c7dbf",
            "554a07ec92a34daab9b1ad9b0bc00e42",
            "cafb359df83f4a158e1a323bbe598604",
            "51d7f6031a0441558c77581be4a0102b",
            "788aefebee524f74a71185e6300b437c"
          ]
        },
        "id": "-oBRGqKDSkof",
        "outputId": "f58129d7-73a1-46d7-d4f0-548bc9895a64"
      },
      "outputs": [
        {
          "output_type": "display_data",
          "data": {
            "text/plain": [
              "VBox(children=(HTML(value='<center> <img\\nsrc=https://huggingface.co/front/assets/huggingface_logo-noborder.sv…"
            ],
            "application/vnd.jupyter.widget-view+json": {
              "version_major": 2,
              "version_minor": 0,
              "model_id": "60eccd6781b84ef7b70c5fdec6453656"
            }
          },
          "metadata": {}
        }
      ],
      "source": [
        "# Logging into the Hugging Face Hub(with token)\n",
        "notebook_login()"
      ]
    },
    {
      "cell_type": "code",
      "execution_count": 5,
      "metadata": {
        "id": "qQQN-uSUzB8h"
      },
      "outputs": [],
      "source": [
        "# Defining the configuration for the base model, LoRA and training\n",
        "config = {\n",
        "    \"hugging_face_username\":\"Shekswess\",\n",
        "    \"model_config\": {\n",
        "        \"base_model\":\"unsloth/llama-3-8b-Instruct-bnb-4bit\", # The base model\n",
        "        \"finetuned_model\":\"llama-3-8b-Instruct-bnb-4bit-medical\", # The finetuned model\n",
        "        \"max_seq_length\": 2048, # The maximum sequence length\n",
        "        \"dtype\":torch.float16, # The data type\n",
        "        \"load_in_4bit\": True, # Load the model in 4-bit\n",
        "    },\n",
        "    \"lora_config\": {\n",
        "      \"r\": 16, # The number of LoRA layers 8, 16, 32, 64\n",
        "      \"target_modules\": [\"q_proj\", \"k_proj\", \"v_proj\", \"o_proj\",\n",
        "                      \"gate_proj\", \"up_proj\", \"down_proj\"], # The target modules\n",
        "      \"lora_alpha\":16, # The alpha value for LoRA\n",
        "      \"lora_dropout\":0, # The dropout value for LoRA\n",
        "      \"bias\":\"none\", # The bias for LoRA\n",
        "      \"use_gradient_checkpointing\":True, # Use gradient checkpointing\n",
        "      \"use_rslora\":False, # Use RSLora\n",
        "      \"use_dora\":False, # Use DoRa\n",
        "      \"loftq_config\":None # The LoFTQ configuration\n",
        "    },\n",
        "    \"training_dataset\":{\n",
        "        \"name\":\"Shekswess/medical_llama3_instruct_dataset_short\", # The dataset name(huggingface/datasets)\n",
        "        \"split\":\"train\", # The dataset split\n",
        "        \"input_field\":\"prompt\", # The input field\n",
        "    },\n",
        "    \"training_config\": {\n",
        "        \"per_device_train_batch_size\": 2, # The batch size\n",
        "        \"gradient_accumulation_steps\": 4, # The gradient accumulation steps\n",
        "        \"warmup_steps\": 5, # The warmup steps\n",
        "        \"max_steps\":0, # The maximum steps (0 if the epochs are defined)\n",
        "        \"num_train_epochs\": 1, # The number of training epochs(0 if the maximum steps are defined)\n",
        "        \"learning_rate\": 2e-4, # The learning rate\n",
        "        \"fp16\": not torch.cuda.is_bf16_supported(), # The fp16\n",
        "        \"bf16\": torch.cuda.is_bf16_supported(), # The bf16\n",
        "        \"logging_steps\": 1, # The logging steps\n",
        "        \"optim\" :\"adamw_8bit\", # The optimizer\n",
        "        \"weight_decay\" : 0.01,  # The weight decay\n",
        "        \"lr_scheduler_type\": \"linear\", # The learning rate scheduler\n",
        "        \"seed\" : 42, # The seed\n",
        "        \"output_dir\" : \"outputs\", # The output directory\n",
        "    }\n",
        "}"
      ]
    },
    {
      "cell_type": "code",
      "execution_count": 6,
      "metadata": {
        "colab": {
          "base_uri": "https://localhost:8080/",
          "height": 513,
          "referenced_widgets": [
            "43851f132a3a40d0aea36f856a98af10",
            "cc733ef03a4b4b31b55d09e9e689b91e",
            "f640bff8d9754813988fb0cd621e0df9",
            "edf54142dde84b72b1f8b25262431122",
            "ddf02bd9ab0b4b989b4dc0cd83ed8288",
            "19a7ea1fab4141c58c77c4103d48bdad",
            "aadd455ddc30425383dd363f8e687a0d",
            "5525a86683084828af4e9f6636206f4e",
            "7c1a0f8297254bb3b42b1f1969d035cc",
            "cea3cd4e531b4764b2d691d68b5c1ad1",
            "031e470c01d84fdea1a2fbfb83210cb9",
            "ef56a0972f394acead0e2e67fe19693d",
            "ff41623d28014ee992aa2d7a478ed323",
            "f53b7be910f14fd3b00e742aafc6b5fd",
            "584070d38b76475fb2940ead8774692d",
            "4fe0157a5fc641888acde999be234d1a",
            "45c1a18e1eb44d778d1d3cbabdb88c6d",
            "b659a02b101e476b821fc8dbaefdbb71",
            "7788549efd0b40f7a8b6656e33bce78a",
            "ee909d3399d2441c95e306239e10009e",
            "6a89276da17b466595da051a9d536445",
            "44a811250701460a9b6a80db8a57b5da",
            "24139809e09346f282333bc423370367",
            "9536f26610514c9b8f4068c20d28fe5a",
            "93b2c1b9afe044529a10bd8673ff9d64",
            "a8656e6a898b41d29aa353a3324284e0",
            "582151600d56452a9951a3b5d28c456c",
            "889bcc149d824522afc2bb3cddcb6414",
            "b8b13cd8d3314facaef2a75a03d5b837",
            "c2b981a2de18466dac72222d54f08392",
            "cd9ca0bc69e244af9e340bf66b2ac924",
            "1e56d0a1a61d40739fc5bdacb9d1e45e",
            "d85026de1c9b48379cf0ded87fb49f80",
            "e9e9a1573c004162b236ae27ffc41e8f",
            "5bd2499a125e4b0cbf5bb442d60b43a6",
            "41c0b12c290c4316888dd065114b5454",
            "62d80a700e2e45a693650eca940f2b27",
            "4367cc1295fc4d0fa0b2f689cdbc1dff",
            "976dd4b58cfb4509b0eb4138b5e0c425",
            "436689e9c3fd44b09e824e5fea186614",
            "541ab12b68874bf09d01c1a9445d5c6d",
            "a311bf222e4046d5af83458a51fb3a78",
            "9c90a2a250b94b729fb2040490d9fb79",
            "e700842419f64905acfec60b71f9f3db",
            "e0aa25fef14b48d09eac03b180edad89",
            "1200ccb21639479fb055e5a3fbc612d7",
            "bb3f66d842034b25979442a361b214bd",
            "ba07e336ab9e445f8627d7f43a914af4",
            "54bc126791344d4082ee0c1bc5f10584",
            "9041a53f33d949dc8e322136b85fc93e",
            "25db91d25f8a4f35823524d3d7d21e56",
            "3efe44104f7141949a9b50113af4e93c",
            "fd4a88e635974f31acbbe3f9f337df0f",
            "51473cb5ef1f40c99ab6c94056859b02",
            "883a93f824c741a8b8239c062adbfdf1",
            "f1f85040e81f4ce5b102baa36b0d2d80",
            "0a61f76d41024dd3908d25a717bf94de",
            "d39e0c9c318f419eb3035989db041fe4",
            "28d237f4cacc45628a9ce35a7686bf69",
            "01b36daf7af348d99a528d47f535a752",
            "10e724db7dd94d0ebe5aa9471485fee4",
            "525ada96547642328b232c87f7e72207",
            "5ea042afe2334b0295178593f92febf9",
            "ecf0edcc844445a795aac25263a21467",
            "d087bf2846d94860b2dd78fb666d4580",
            "4488ac3f378d4964b6ef7843e282c231",
            "aac03dfef181424da9f19c37c55f3aed",
            "21d184892807483495fe4f9877f5baa4",
            "be2075e39ab44f9385a2009ec78a06a3",
            "e283b446c4a14800b1374291e952cb4b",
            "cecdb6849a0e40c6aba3a34aa8155057",
            "d68cfb8c173e44328275d310ab062858",
            "03551277edc14eb58b59a1fa5bab4b45",
            "a53d36ffa70c42b48d9996c6dfe5f0f5",
            "766f7359e4664b28b6f42db43fcbc02a",
            "9d18d9c33f144cd3adc2c9fe320743a5",
            "a60aaf4a15634eb7b0168ee5eaaaae8d",
            "a7a67aa2a82d44809e745d67fe674d0f",
            "939668fccd9846d187a66fad9698f9d1",
            "68b44b3e7d034ff4beb1bff5b8f61ab8",
            "8678291ab2c8485793facdf7eb1bcdea",
            "6ad244e92e9c4e8199598f18cc1e1534",
            "ffaaf4199e414f658951335d1bbf4cff",
            "d38bd1e85ecc472f9a90f5a7f549df84",
            "18275f3ba6ee4f95b737f12bfef5498c",
            "af9d6487071449dd8395f111f913c238",
            "e77653f3e89e45dfbe69e4a36a03fafd",
            "b6e8a834ee1445a5a803c45661c389ed",
            "dd7876d6ed1b487d972537e2f592c703",
            "12086d7c4f424899a2a24a2d61919a55",
            "9f5471cf82a74bcf8cd7e3187cf17cc5",
            "9f141ae46ee14973a7d5f59d3874df07",
            "4a8397b9172042b483579c2a42991d22",
            "bb5b72fe541548e5be6d2942ac2dbc93",
            "5daf9730a26844ba833049a3c09640ce",
            "a1ed76d0ef4748c59b69238cb85d8954",
            "b100e65beb1e45139981681b9b8ca992",
            "f60d0bad20b342faaaad5d0083647715",
            "0d00f4ae4d034fb9ab889796bd1d03fe",
            "860df137b2504681876679b10149e4b9",
            "1955d4a2f1834305a89a29cec969277e",
            "68e95dbb487c44a0b9a043f64238acc5",
            "2017f634d819421898c552f7c54b54a5",
            "8b2ba6a4b5884a089087f4663d42dd28",
            "3d160d6e2ca14bfd9ac668efa05ec452",
            "2718fa32fb9a448383b1be8ffe08907e",
            "3f732483832b4600a0f71e26b8ba1fcd",
            "0c2d6dea05f141c880382157b74d01ed",
            "b831138effab4d47ac72062a8f039194",
            "3eeeda28ccb3401cb19b4d3bee5b6b3e"
          ]
        },
        "id": "X4wxJAgnM2W0",
        "outputId": "2280539f-33fa-49e8-a384-bd5d01aeda3c"
      },
      "outputs": [
        {
          "output_type": "display_data",
          "data": {
            "text/plain": [
              "config.json:   0%|          | 0.00/1.15k [00:00<?, ?B/s]"
            ],
            "application/vnd.jupyter.widget-view+json": {
              "version_major": 2,
              "version_minor": 0,
              "model_id": "43851f132a3a40d0aea36f856a98af10"
            }
          },
          "metadata": {}
        },
        {
          "output_type": "stream",
          "name": "stdout",
          "text": [
            "==((====))==  Unsloth: Fast Llama patching release 2024.5\n",
            "   \\\\   /|    GPU: Tesla T4. Max memory: 14.748 GB. Platform = Linux.\n",
            "O^O/ \\_/ \\    Pytorch: 2.3.0+cu121. CUDA = 7.5. CUDA Toolkit = 12.1.\n",
            "\\        /    Bfloat16 = FALSE. Xformers = 0.0.26.post1. FA = False.\n",
            " \"-____-\"     Free Apache license: http://github.com/unslothai/unsloth\n"
          ]
        },
        {
          "output_type": "display_data",
          "data": {
            "text/plain": [
              "model.safetensors:   0%|          | 0.00/5.70G [00:00<?, ?B/s]"
            ],
            "application/vnd.jupyter.widget-view+json": {
              "version_major": 2,
              "version_minor": 0,
              "model_id": "ef56a0972f394acead0e2e67fe19693d"
            }
          },
          "metadata": {}
        },
        {
          "output_type": "display_data",
          "data": {
            "text/plain": [
              "generation_config.json:   0%|          | 0.00/131 [00:00<?, ?B/s]"
            ],
            "application/vnd.jupyter.widget-view+json": {
              "version_major": 2,
              "version_minor": 0,
              "model_id": "24139809e09346f282333bc423370367"
            }
          },
          "metadata": {}
        },
        {
          "output_type": "display_data",
          "data": {
            "text/plain": [
              "tokenizer_config.json:   0%|          | 0.00/51.1k [00:00<?, ?B/s]"
            ],
            "application/vnd.jupyter.widget-view+json": {
              "version_major": 2,
              "version_minor": 0,
              "model_id": "e9e9a1573c004162b236ae27ffc41e8f"
            }
          },
          "metadata": {}
        },
        {
          "output_type": "display_data",
          "data": {
            "text/plain": [
              "tokenizer.json:   0%|          | 0.00/9.09M [00:00<?, ?B/s]"
            ],
            "application/vnd.jupyter.widget-view+json": {
              "version_major": 2,
              "version_minor": 0,
              "model_id": "e0aa25fef14b48d09eac03b180edad89"
            }
          },
          "metadata": {}
        },
        {
          "output_type": "display_data",
          "data": {
            "text/plain": [
              "special_tokens_map.json:   0%|          | 0.00/459 [00:00<?, ?B/s]"
            ],
            "application/vnd.jupyter.widget-view+json": {
              "version_major": 2,
              "version_minor": 0,
              "model_id": "f1f85040e81f4ce5b102baa36b0d2d80"
            }
          },
          "metadata": {}
        },
        {
          "output_type": "stream",
          "name": "stderr",
          "text": [
            "Special tokens have been added in the vocabulary, make sure the associated word embeddings are fine-tuned or trained.\n",
            "Unsloth 2024.5 patched 32 layers with 32 QKV layers, 32 O layers and 32 MLP layers.\n"
          ]
        },
        {
          "output_type": "display_data",
          "data": {
            "text/plain": [
              "Downloading readme:   0%|          | 0.00/2.50k [00:00<?, ?B/s]"
            ],
            "application/vnd.jupyter.widget-view+json": {
              "version_major": 2,
              "version_minor": 0,
              "model_id": "aac03dfef181424da9f19c37c55f3aed"
            }
          },
          "metadata": {}
        },
        {
          "output_type": "display_data",
          "data": {
            "text/plain": [
              "Downloading data:   0%|          | 0.00/1.94M [00:00<?, ?B/s]"
            ],
            "application/vnd.jupyter.widget-view+json": {
              "version_major": 2,
              "version_minor": 0,
              "model_id": "a7a67aa2a82d44809e745d67fe674d0f"
            }
          },
          "metadata": {}
        },
        {
          "output_type": "display_data",
          "data": {
            "text/plain": [
              "Generating train split:   0%|          | 0/2000 [00:00<?, ? examples/s]"
            ],
            "application/vnd.jupyter.widget-view+json": {
              "version_major": 2,
              "version_minor": 0,
              "model_id": "dd7876d6ed1b487d972537e2f592c703"
            }
          },
          "metadata": {}
        },
        {
          "output_type": "stream",
          "name": "stderr",
          "text": [
            "/usr/local/lib/python3.10/dist-packages/multiprocess/popen_fork.py:66: RuntimeWarning: os.fork() was called. os.fork() is incompatible with multithreaded code, and JAX is multithreaded, so this will likely lead to a deadlock.\n",
            "  self.pid = os.fork()\n"
          ]
        },
        {
          "output_type": "display_data",
          "data": {
            "text/plain": [
              "Map (num_proc=2):   0%|          | 0/2000 [00:00<?, ? examples/s]"
            ],
            "application/vnd.jupyter.widget-view+json": {
              "version_major": 2,
              "version_minor": 0,
              "model_id": "860df137b2504681876679b10149e4b9"
            }
          },
          "metadata": {}
        }
      ],
      "source": [
        "# Loading the model and the tokinizer for the model\n",
        "model, tokenizer = FastLanguageModel.from_pretrained(\n",
        "    model_name = config.get(\"model_config\").get(\"base_model\"),\n",
        "    max_seq_length = config.get(\"model_config\").get(\"max_seq_length\"),\n",
        "    dtype = config.get(\"model_config\").get(\"dtype\"),\n",
        "    load_in_4bit = config.get(\"model_config\").get(\"load_in_4bit\"),\n",
        ")\n",
        "\n",
        "# Setup for QLoRA/LoRA peft of the base model\n",
        "model = FastLanguageModel.get_peft_model(\n",
        "    model,\n",
        "    r = config.get(\"lora_config\").get(\"r\"),\n",
        "    target_modules = config.get(\"lora_config\").get(\"target_modules\"),\n",
        "    lora_alpha = config.get(\"lora_config\").get(\"lora_alpha\"),\n",
        "    lora_dropout = config.get(\"lora_config\").get(\"lora_dropout\"),\n",
        "    bias = config.get(\"lora_config\").get(\"bias\"),\n",
        "    use_gradient_checkpointing = config.get(\"lora_config\").get(\"use_gradient_checkpointing\"),\n",
        "    random_state = 42,\n",
        "    use_rslora = config.get(\"lora_config\").get(\"use_rslora\"),\n",
        "    use_dora = config.get(\"lora_config\").get(\"use_dora\"),\n",
        "    loftq_config = config.get(\"lora_config\").get(\"loftq_config\"),\n",
        ")\n",
        "\n",
        "# Loading the training dataset\n",
        "dataset_train = load_dataset(config.get(\"training_dataset\").get(\"name\"), split = config.get(\"training_dataset\").get(\"split\"))\n",
        "\n",
        "# Setting up the trainer for the model\n",
        "trainer = SFTTrainer(\n",
        "    model = model,\n",
        "    tokenizer = tokenizer,\n",
        "    train_dataset = dataset_train,\n",
        "    dataset_text_field = config.get(\"training_dataset\").get(\"input_field\"),\n",
        "    max_seq_length = config.get(\"model_config\").get(\"max_seq_length\"),\n",
        "    dataset_num_proc = 2,\n",
        "    packing = False,\n",
        "    args = TrainingArguments(\n",
        "        per_device_train_batch_size = config.get(\"training_config\").get(\"per_device_train_batch_size\"),\n",
        "        gradient_accumulation_steps = config.get(\"training_config\").get(\"gradient_accumulation_steps\"),\n",
        "        warmup_steps = config.get(\"training_config\").get(\"warmup_steps\"),\n",
        "        max_steps = config.get(\"training_config\").get(\"max_steps\"),\n",
        "        num_train_epochs= config.get(\"training_config\").get(\"num_train_epochs\"),\n",
        "        learning_rate = config.get(\"training_config\").get(\"learning_rate\"),\n",
        "        fp16 = config.get(\"training_config\").get(\"fp16\"),\n",
        "        bf16 = config.get(\"training_config\").get(\"bf16\"),\n",
        "        logging_steps = config.get(\"training_config\").get(\"logging_steps\"),\n",
        "        optim = config.get(\"training_config\").get(\"optim\"),\n",
        "        weight_decay = config.get(\"training_config\").get(\"weight_decay\"),\n",
        "        lr_scheduler_type = config.get(\"training_config\").get(\"lr_scheduler_type\"),\n",
        "        seed = 42,\n",
        "        output_dir = config.get(\"training_config\").get(\"output_dir\"),\n",
        "    ),\n",
        ")"
      ]
    },
    {
      "cell_type": "code",
      "execution_count": 7,
      "metadata": {
        "colab": {
          "base_uri": "https://localhost:8080/"
        },
        "id": "o-ID1rOcSkof",
        "outputId": "bd972405-5c09-4158-de06-ad342060eb35"
      },
      "outputs": [
        {
          "output_type": "stream",
          "name": "stdout",
          "text": [
            "Reserved Memory: 5.59GB\n",
            "Max Memory: 14.75GB\n"
          ]
        }
      ],
      "source": [
        "# Memory statistics before training\n",
        "gpu_statistics = torch.cuda.get_device_properties(0)\n",
        "reserved_memory = round(torch.cuda.max_memory_reserved() / 1024**3, 2)\n",
        "max_memory = round(gpu_statistics.total_memory / 1024**3, 2)\n",
        "print(f\"Reserved Memory: {reserved_memory}GB\")\n",
        "print(f\"Max Memory: {max_memory}GB\")"
      ]
    },
    {
      "cell_type": "code",
      "execution_count": 8,
      "metadata": {
        "colab": {
          "base_uri": "https://localhost:8080/",
          "height": 1000
        },
        "id": "yI9mEQ7ZOUx2",
        "outputId": "22939281-1e6e-4599-a2ce-84dc8a73023d"
      },
      "outputs": [
        {
          "output_type": "stream",
          "name": "stderr",
          "text": [
            "==((====))==  Unsloth - 2x faster free finetuning | Num GPUs = 1\n",
            "   \\\\   /|    Num examples = 2,000 | Num Epochs = 1\n",
            "O^O/ \\_/ \\    Batch size per device = 2 | Gradient Accumulation steps = 4\n",
            "\\        /    Total batch size = 8 | Total steps = 250\n",
            " \"-____-\"     Number of trainable parameters = 41,943,040\n"
          ]
        },
        {
          "output_type": "display_data",
          "data": {
            "text/plain": [
              "<IPython.core.display.HTML object>"
            ],
            "text/html": [
              "\n",
              "    <div>\n",
              "      \n",
              "      <progress value='250' max='250' style='width:300px; height:20px; vertical-align: middle;'></progress>\n",
              "      [250/250 39:30, Epoch 1/1]\n",
              "    </div>\n",
              "    <table border=\"1\" class=\"dataframe\">\n",
              "  <thead>\n",
              " <tr style=\"text-align: left;\">\n",
              "      <th>Step</th>\n",
              "      <th>Training Loss</th>\n",
              "    </tr>\n",
              "  </thead>\n",
              "  <tbody>\n",
              "    <tr>\n",
              "      <td>1</td>\n",
              "      <td>3.088900</td>\n",
              "    </tr>\n",
              "    <tr>\n",
              "      <td>2</td>\n",
              "      <td>3.489900</td>\n",
              "    </tr>\n",
              "    <tr>\n",
              "      <td>3</td>\n",
              "      <td>3.294400</td>\n",
              "    </tr>\n",
              "    <tr>\n",
              "      <td>4</td>\n",
              "      <td>2.442800</td>\n",
              "    </tr>\n",
              "    <tr>\n",
              "      <td>5</td>\n",
              "      <td>2.188100</td>\n",
              "    </tr>\n",
              "    <tr>\n",
              "      <td>6</td>\n",
              "      <td>1.803000</td>\n",
              "    </tr>\n",
              "    <tr>\n",
              "      <td>7</td>\n",
              "      <td>1.810400</td>\n",
              "    </tr>\n",
              "    <tr>\n",
              "      <td>8</td>\n",
              "      <td>1.763500</td>\n",
              "    </tr>\n",
              "    <tr>\n",
              "      <td>9</td>\n",
              "      <td>1.316100</td>\n",
              "    </tr>\n",
              "    <tr>\n",
              "      <td>10</td>\n",
              "      <td>1.706000</td>\n",
              "    </tr>\n",
              "    <tr>\n",
              "      <td>11</td>\n",
              "      <td>1.498400</td>\n",
              "    </tr>\n",
              "    <tr>\n",
              "      <td>12</td>\n",
              "      <td>1.789400</td>\n",
              "    </tr>\n",
              "    <tr>\n",
              "      <td>13</td>\n",
              "      <td>1.586900</td>\n",
              "    </tr>\n",
              "    <tr>\n",
              "      <td>14</td>\n",
              "      <td>1.702300</td>\n",
              "    </tr>\n",
              "    <tr>\n",
              "      <td>15</td>\n",
              "      <td>1.417600</td>\n",
              "    </tr>\n",
              "    <tr>\n",
              "      <td>16</td>\n",
              "      <td>1.619800</td>\n",
              "    </tr>\n",
              "    <tr>\n",
              "      <td>17</td>\n",
              "      <td>1.494500</td>\n",
              "    </tr>\n",
              "    <tr>\n",
              "      <td>18</td>\n",
              "      <td>1.425900</td>\n",
              "    </tr>\n",
              "    <tr>\n",
              "      <td>19</td>\n",
              "      <td>0.905900</td>\n",
              "    </tr>\n",
              "    <tr>\n",
              "      <td>20</td>\n",
              "      <td>1.500700</td>\n",
              "    </tr>\n",
              "    <tr>\n",
              "      <td>21</td>\n",
              "      <td>1.664100</td>\n",
              "    </tr>\n",
              "    <tr>\n",
              "      <td>22</td>\n",
              "      <td>1.458600</td>\n",
              "    </tr>\n",
              "    <tr>\n",
              "      <td>23</td>\n",
              "      <td>1.203900</td>\n",
              "    </tr>\n",
              "    <tr>\n",
              "      <td>24</td>\n",
              "      <td>1.159800</td>\n",
              "    </tr>\n",
              "    <tr>\n",
              "      <td>25</td>\n",
              "      <td>1.297300</td>\n",
              "    </tr>\n",
              "    <tr>\n",
              "      <td>26</td>\n",
              "      <td>1.631000</td>\n",
              "    </tr>\n",
              "    <tr>\n",
              "      <td>27</td>\n",
              "      <td>1.071300</td>\n",
              "    </tr>\n",
              "    <tr>\n",
              "      <td>28</td>\n",
              "      <td>1.358300</td>\n",
              "    </tr>\n",
              "    <tr>\n",
              "      <td>29</td>\n",
              "      <td>1.168000</td>\n",
              "    </tr>\n",
              "    <tr>\n",
              "      <td>30</td>\n",
              "      <td>1.365600</td>\n",
              "    </tr>\n",
              "    <tr>\n",
              "      <td>31</td>\n",
              "      <td>1.690000</td>\n",
              "    </tr>\n",
              "    <tr>\n",
              "      <td>32</td>\n",
              "      <td>1.364800</td>\n",
              "    </tr>\n",
              "    <tr>\n",
              "      <td>33</td>\n",
              "      <td>1.527300</td>\n",
              "    </tr>\n",
              "    <tr>\n",
              "      <td>34</td>\n",
              "      <td>1.452900</td>\n",
              "    </tr>\n",
              "    <tr>\n",
              "      <td>35</td>\n",
              "      <td>1.545900</td>\n",
              "    </tr>\n",
              "    <tr>\n",
              "      <td>36</td>\n",
              "      <td>1.367600</td>\n",
              "    </tr>\n",
              "    <tr>\n",
              "      <td>37</td>\n",
              "      <td>1.202200</td>\n",
              "    </tr>\n",
              "    <tr>\n",
              "      <td>38</td>\n",
              "      <td>1.540900</td>\n",
              "    </tr>\n",
              "    <tr>\n",
              "      <td>39</td>\n",
              "      <td>1.306100</td>\n",
              "    </tr>\n",
              "    <tr>\n",
              "      <td>40</td>\n",
              "      <td>1.565300</td>\n",
              "    </tr>\n",
              "    <tr>\n",
              "      <td>41</td>\n",
              "      <td>1.403800</td>\n",
              "    </tr>\n",
              "    <tr>\n",
              "      <td>42</td>\n",
              "      <td>1.565700</td>\n",
              "    </tr>\n",
              "    <tr>\n",
              "      <td>43</td>\n",
              "      <td>1.337700</td>\n",
              "    </tr>\n",
              "    <tr>\n",
              "      <td>44</td>\n",
              "      <td>1.401500</td>\n",
              "    </tr>\n",
              "    <tr>\n",
              "      <td>45</td>\n",
              "      <td>0.978600</td>\n",
              "    </tr>\n",
              "    <tr>\n",
              "      <td>46</td>\n",
              "      <td>0.953800</td>\n",
              "    </tr>\n",
              "    <tr>\n",
              "      <td>47</td>\n",
              "      <td>0.853300</td>\n",
              "    </tr>\n",
              "    <tr>\n",
              "      <td>48</td>\n",
              "      <td>1.221800</td>\n",
              "    </tr>\n",
              "    <tr>\n",
              "      <td>49</td>\n",
              "      <td>1.595000</td>\n",
              "    </tr>\n",
              "    <tr>\n",
              "      <td>50</td>\n",
              "      <td>1.586600</td>\n",
              "    </tr>\n",
              "    <tr>\n",
              "      <td>51</td>\n",
              "      <td>1.331400</td>\n",
              "    </tr>\n",
              "    <tr>\n",
              "      <td>52</td>\n",
              "      <td>1.080700</td>\n",
              "    </tr>\n",
              "    <tr>\n",
              "      <td>53</td>\n",
              "      <td>1.189600</td>\n",
              "    </tr>\n",
              "    <tr>\n",
              "      <td>54</td>\n",
              "      <td>1.227700</td>\n",
              "    </tr>\n",
              "    <tr>\n",
              "      <td>55</td>\n",
              "      <td>0.964600</td>\n",
              "    </tr>\n",
              "    <tr>\n",
              "      <td>56</td>\n",
              "      <td>1.122900</td>\n",
              "    </tr>\n",
              "    <tr>\n",
              "      <td>57</td>\n",
              "      <td>1.256900</td>\n",
              "    </tr>\n",
              "    <tr>\n",
              "      <td>58</td>\n",
              "      <td>1.398500</td>\n",
              "    </tr>\n",
              "    <tr>\n",
              "      <td>59</td>\n",
              "      <td>0.962400</td>\n",
              "    </tr>\n",
              "    <tr>\n",
              "      <td>60</td>\n",
              "      <td>1.091000</td>\n",
              "    </tr>\n",
              "    <tr>\n",
              "      <td>61</td>\n",
              "      <td>0.576500</td>\n",
              "    </tr>\n",
              "    <tr>\n",
              "      <td>62</td>\n",
              "      <td>0.913100</td>\n",
              "    </tr>\n",
              "    <tr>\n",
              "      <td>63</td>\n",
              "      <td>1.602500</td>\n",
              "    </tr>\n",
              "    <tr>\n",
              "      <td>64</td>\n",
              "      <td>1.115600</td>\n",
              "    </tr>\n",
              "    <tr>\n",
              "      <td>65</td>\n",
              "      <td>1.448200</td>\n",
              "    </tr>\n",
              "    <tr>\n",
              "      <td>66</td>\n",
              "      <td>1.326400</td>\n",
              "    </tr>\n",
              "    <tr>\n",
              "      <td>67</td>\n",
              "      <td>0.920800</td>\n",
              "    </tr>\n",
              "    <tr>\n",
              "      <td>68</td>\n",
              "      <td>1.441100</td>\n",
              "    </tr>\n",
              "    <tr>\n",
              "      <td>69</td>\n",
              "      <td>1.324900</td>\n",
              "    </tr>\n",
              "    <tr>\n",
              "      <td>70</td>\n",
              "      <td>1.433900</td>\n",
              "    </tr>\n",
              "    <tr>\n",
              "      <td>71</td>\n",
              "      <td>1.137900</td>\n",
              "    </tr>\n",
              "    <tr>\n",
              "      <td>72</td>\n",
              "      <td>1.347200</td>\n",
              "    </tr>\n",
              "    <tr>\n",
              "      <td>73</td>\n",
              "      <td>1.014900</td>\n",
              "    </tr>\n",
              "    <tr>\n",
              "      <td>74</td>\n",
              "      <td>1.312800</td>\n",
              "    </tr>\n",
              "    <tr>\n",
              "      <td>75</td>\n",
              "      <td>1.486500</td>\n",
              "    </tr>\n",
              "    <tr>\n",
              "      <td>76</td>\n",
              "      <td>1.390700</td>\n",
              "    </tr>\n",
              "    <tr>\n",
              "      <td>77</td>\n",
              "      <td>1.039800</td>\n",
              "    </tr>\n",
              "    <tr>\n",
              "      <td>78</td>\n",
              "      <td>1.273900</td>\n",
              "    </tr>\n",
              "    <tr>\n",
              "      <td>79</td>\n",
              "      <td>0.948300</td>\n",
              "    </tr>\n",
              "    <tr>\n",
              "      <td>80</td>\n",
              "      <td>1.201200</td>\n",
              "    </tr>\n",
              "    <tr>\n",
              "      <td>81</td>\n",
              "      <td>1.181200</td>\n",
              "    </tr>\n",
              "    <tr>\n",
              "      <td>82</td>\n",
              "      <td>0.972800</td>\n",
              "    </tr>\n",
              "    <tr>\n",
              "      <td>83</td>\n",
              "      <td>1.286600</td>\n",
              "    </tr>\n",
              "    <tr>\n",
              "      <td>84</td>\n",
              "      <td>1.428500</td>\n",
              "    </tr>\n",
              "    <tr>\n",
              "      <td>85</td>\n",
              "      <td>0.848600</td>\n",
              "    </tr>\n",
              "    <tr>\n",
              "      <td>86</td>\n",
              "      <td>0.945200</td>\n",
              "    </tr>\n",
              "    <tr>\n",
              "      <td>87</td>\n",
              "      <td>0.834300</td>\n",
              "    </tr>\n",
              "    <tr>\n",
              "      <td>88</td>\n",
              "      <td>1.383500</td>\n",
              "    </tr>\n",
              "    <tr>\n",
              "      <td>89</td>\n",
              "      <td>1.499100</td>\n",
              "    </tr>\n",
              "    <tr>\n",
              "      <td>90</td>\n",
              "      <td>1.337700</td>\n",
              "    </tr>\n",
              "    <tr>\n",
              "      <td>91</td>\n",
              "      <td>0.920000</td>\n",
              "    </tr>\n",
              "    <tr>\n",
              "      <td>92</td>\n",
              "      <td>1.189600</td>\n",
              "    </tr>\n",
              "    <tr>\n",
              "      <td>93</td>\n",
              "      <td>1.145300</td>\n",
              "    </tr>\n",
              "    <tr>\n",
              "      <td>94</td>\n",
              "      <td>1.085100</td>\n",
              "    </tr>\n",
              "    <tr>\n",
              "      <td>95</td>\n",
              "      <td>1.134600</td>\n",
              "    </tr>\n",
              "    <tr>\n",
              "      <td>96</td>\n",
              "      <td>0.985600</td>\n",
              "    </tr>\n",
              "    <tr>\n",
              "      <td>97</td>\n",
              "      <td>1.132000</td>\n",
              "    </tr>\n",
              "    <tr>\n",
              "      <td>98</td>\n",
              "      <td>0.939400</td>\n",
              "    </tr>\n",
              "    <tr>\n",
              "      <td>99</td>\n",
              "      <td>1.230200</td>\n",
              "    </tr>\n",
              "    <tr>\n",
              "      <td>100</td>\n",
              "      <td>1.049000</td>\n",
              "    </tr>\n",
              "    <tr>\n",
              "      <td>101</td>\n",
              "      <td>1.139900</td>\n",
              "    </tr>\n",
              "    <tr>\n",
              "      <td>102</td>\n",
              "      <td>1.169400</td>\n",
              "    </tr>\n",
              "    <tr>\n",
              "      <td>103</td>\n",
              "      <td>0.907100</td>\n",
              "    </tr>\n",
              "    <tr>\n",
              "      <td>104</td>\n",
              "      <td>1.587300</td>\n",
              "    </tr>\n",
              "    <tr>\n",
              "      <td>105</td>\n",
              "      <td>1.266900</td>\n",
              "    </tr>\n",
              "    <tr>\n",
              "      <td>106</td>\n",
              "      <td>1.078000</td>\n",
              "    </tr>\n",
              "    <tr>\n",
              "      <td>107</td>\n",
              "      <td>1.291200</td>\n",
              "    </tr>\n",
              "    <tr>\n",
              "      <td>108</td>\n",
              "      <td>1.202100</td>\n",
              "    </tr>\n",
              "    <tr>\n",
              "      <td>109</td>\n",
              "      <td>1.312600</td>\n",
              "    </tr>\n",
              "    <tr>\n",
              "      <td>110</td>\n",
              "      <td>1.512300</td>\n",
              "    </tr>\n",
              "    <tr>\n",
              "      <td>111</td>\n",
              "      <td>1.145200</td>\n",
              "    </tr>\n",
              "    <tr>\n",
              "      <td>112</td>\n",
              "      <td>1.329500</td>\n",
              "    </tr>\n",
              "    <tr>\n",
              "      <td>113</td>\n",
              "      <td>1.012700</td>\n",
              "    </tr>\n",
              "    <tr>\n",
              "      <td>114</td>\n",
              "      <td>1.156700</td>\n",
              "    </tr>\n",
              "    <tr>\n",
              "      <td>115</td>\n",
              "      <td>1.244600</td>\n",
              "    </tr>\n",
              "    <tr>\n",
              "      <td>116</td>\n",
              "      <td>1.072800</td>\n",
              "    </tr>\n",
              "    <tr>\n",
              "      <td>117</td>\n",
              "      <td>1.262400</td>\n",
              "    </tr>\n",
              "    <tr>\n",
              "      <td>118</td>\n",
              "      <td>1.202400</td>\n",
              "    </tr>\n",
              "    <tr>\n",
              "      <td>119</td>\n",
              "      <td>1.197900</td>\n",
              "    </tr>\n",
              "    <tr>\n",
              "      <td>120</td>\n",
              "      <td>1.117900</td>\n",
              "    </tr>\n",
              "    <tr>\n",
              "      <td>121</td>\n",
              "      <td>0.944500</td>\n",
              "    </tr>\n",
              "    <tr>\n",
              "      <td>122</td>\n",
              "      <td>1.255200</td>\n",
              "    </tr>\n",
              "    <tr>\n",
              "      <td>123</td>\n",
              "      <td>1.087400</td>\n",
              "    </tr>\n",
              "    <tr>\n",
              "      <td>124</td>\n",
              "      <td>1.407700</td>\n",
              "    </tr>\n",
              "    <tr>\n",
              "      <td>125</td>\n",
              "      <td>0.987400</td>\n",
              "    </tr>\n",
              "    <tr>\n",
              "      <td>126</td>\n",
              "      <td>1.058700</td>\n",
              "    </tr>\n",
              "    <tr>\n",
              "      <td>127</td>\n",
              "      <td>1.267000</td>\n",
              "    </tr>\n",
              "    <tr>\n",
              "      <td>128</td>\n",
              "      <td>1.210300</td>\n",
              "    </tr>\n",
              "    <tr>\n",
              "      <td>129</td>\n",
              "      <td>1.111100</td>\n",
              "    </tr>\n",
              "    <tr>\n",
              "      <td>130</td>\n",
              "      <td>1.596500</td>\n",
              "    </tr>\n",
              "    <tr>\n",
              "      <td>131</td>\n",
              "      <td>1.115700</td>\n",
              "    </tr>\n",
              "    <tr>\n",
              "      <td>132</td>\n",
              "      <td>1.071100</td>\n",
              "    </tr>\n",
              "    <tr>\n",
              "      <td>133</td>\n",
              "      <td>1.212400</td>\n",
              "    </tr>\n",
              "    <tr>\n",
              "      <td>134</td>\n",
              "      <td>1.543000</td>\n",
              "    </tr>\n",
              "    <tr>\n",
              "      <td>135</td>\n",
              "      <td>1.032100</td>\n",
              "    </tr>\n",
              "    <tr>\n",
              "      <td>136</td>\n",
              "      <td>1.061600</td>\n",
              "    </tr>\n",
              "    <tr>\n",
              "      <td>137</td>\n",
              "      <td>1.077100</td>\n",
              "    </tr>\n",
              "    <tr>\n",
              "      <td>138</td>\n",
              "      <td>0.807300</td>\n",
              "    </tr>\n",
              "    <tr>\n",
              "      <td>139</td>\n",
              "      <td>1.379600</td>\n",
              "    </tr>\n",
              "    <tr>\n",
              "      <td>140</td>\n",
              "      <td>1.547300</td>\n",
              "    </tr>\n",
              "    <tr>\n",
              "      <td>141</td>\n",
              "      <td>1.174800</td>\n",
              "    </tr>\n",
              "    <tr>\n",
              "      <td>142</td>\n",
              "      <td>1.318200</td>\n",
              "    </tr>\n",
              "    <tr>\n",
              "      <td>143</td>\n",
              "      <td>0.958600</td>\n",
              "    </tr>\n",
              "    <tr>\n",
              "      <td>144</td>\n",
              "      <td>1.224800</td>\n",
              "    </tr>\n",
              "    <tr>\n",
              "      <td>145</td>\n",
              "      <td>1.203800</td>\n",
              "    </tr>\n",
              "    <tr>\n",
              "      <td>146</td>\n",
              "      <td>0.983900</td>\n",
              "    </tr>\n",
              "    <tr>\n",
              "      <td>147</td>\n",
              "      <td>1.267600</td>\n",
              "    </tr>\n",
              "    <tr>\n",
              "      <td>148</td>\n",
              "      <td>1.108800</td>\n",
              "    </tr>\n",
              "    <tr>\n",
              "      <td>149</td>\n",
              "      <td>1.088800</td>\n",
              "    </tr>\n",
              "    <tr>\n",
              "      <td>150</td>\n",
              "      <td>1.395700</td>\n",
              "    </tr>\n",
              "    <tr>\n",
              "      <td>151</td>\n",
              "      <td>1.065700</td>\n",
              "    </tr>\n",
              "    <tr>\n",
              "      <td>152</td>\n",
              "      <td>1.279200</td>\n",
              "    </tr>\n",
              "    <tr>\n",
              "      <td>153</td>\n",
              "      <td>1.140000</td>\n",
              "    </tr>\n",
              "    <tr>\n",
              "      <td>154</td>\n",
              "      <td>0.886100</td>\n",
              "    </tr>\n",
              "    <tr>\n",
              "      <td>155</td>\n",
              "      <td>1.143800</td>\n",
              "    </tr>\n",
              "    <tr>\n",
              "      <td>156</td>\n",
              "      <td>1.229800</td>\n",
              "    </tr>\n",
              "    <tr>\n",
              "      <td>157</td>\n",
              "      <td>0.785700</td>\n",
              "    </tr>\n",
              "    <tr>\n",
              "      <td>158</td>\n",
              "      <td>1.268700</td>\n",
              "    </tr>\n",
              "    <tr>\n",
              "      <td>159</td>\n",
              "      <td>0.905600</td>\n",
              "    </tr>\n",
              "    <tr>\n",
              "      <td>160</td>\n",
              "      <td>0.923200</td>\n",
              "    </tr>\n",
              "    <tr>\n",
              "      <td>161</td>\n",
              "      <td>1.385800</td>\n",
              "    </tr>\n",
              "    <tr>\n",
              "      <td>162</td>\n",
              "      <td>0.960000</td>\n",
              "    </tr>\n",
              "    <tr>\n",
              "      <td>163</td>\n",
              "      <td>1.440300</td>\n",
              "    </tr>\n",
              "    <tr>\n",
              "      <td>164</td>\n",
              "      <td>1.190100</td>\n",
              "    </tr>\n",
              "    <tr>\n",
              "      <td>165</td>\n",
              "      <td>1.245700</td>\n",
              "    </tr>\n",
              "    <tr>\n",
              "      <td>166</td>\n",
              "      <td>1.180400</td>\n",
              "    </tr>\n",
              "    <tr>\n",
              "      <td>167</td>\n",
              "      <td>1.232700</td>\n",
              "    </tr>\n",
              "    <tr>\n",
              "      <td>168</td>\n",
              "      <td>1.105500</td>\n",
              "    </tr>\n",
              "    <tr>\n",
              "      <td>169</td>\n",
              "      <td>1.138400</td>\n",
              "    </tr>\n",
              "    <tr>\n",
              "      <td>170</td>\n",
              "      <td>1.274400</td>\n",
              "    </tr>\n",
              "    <tr>\n",
              "      <td>171</td>\n",
              "      <td>1.118200</td>\n",
              "    </tr>\n",
              "    <tr>\n",
              "      <td>172</td>\n",
              "      <td>1.105100</td>\n",
              "    </tr>\n",
              "    <tr>\n",
              "      <td>173</td>\n",
              "      <td>1.163600</td>\n",
              "    </tr>\n",
              "    <tr>\n",
              "      <td>174</td>\n",
              "      <td>0.890800</td>\n",
              "    </tr>\n",
              "    <tr>\n",
              "      <td>175</td>\n",
              "      <td>1.233300</td>\n",
              "    </tr>\n",
              "    <tr>\n",
              "      <td>176</td>\n",
              "      <td>1.587100</td>\n",
              "    </tr>\n",
              "    <tr>\n",
              "      <td>177</td>\n",
              "      <td>1.171500</td>\n",
              "    </tr>\n",
              "    <tr>\n",
              "      <td>178</td>\n",
              "      <td>1.400900</td>\n",
              "    </tr>\n",
              "    <tr>\n",
              "      <td>179</td>\n",
              "      <td>1.255500</td>\n",
              "    </tr>\n",
              "    <tr>\n",
              "      <td>180</td>\n",
              "      <td>1.171600</td>\n",
              "    </tr>\n",
              "    <tr>\n",
              "      <td>181</td>\n",
              "      <td>1.268000</td>\n",
              "    </tr>\n",
              "    <tr>\n",
              "      <td>182</td>\n",
              "      <td>0.881300</td>\n",
              "    </tr>\n",
              "    <tr>\n",
              "      <td>183</td>\n",
              "      <td>0.944300</td>\n",
              "    </tr>\n",
              "    <tr>\n",
              "      <td>184</td>\n",
              "      <td>1.194200</td>\n",
              "    </tr>\n",
              "    <tr>\n",
              "      <td>185</td>\n",
              "      <td>1.485900</td>\n",
              "    </tr>\n",
              "    <tr>\n",
              "      <td>186</td>\n",
              "      <td>1.246200</td>\n",
              "    </tr>\n",
              "    <tr>\n",
              "      <td>187</td>\n",
              "      <td>1.347500</td>\n",
              "    </tr>\n",
              "    <tr>\n",
              "      <td>188</td>\n",
              "      <td>1.229500</td>\n",
              "    </tr>\n",
              "    <tr>\n",
              "      <td>189</td>\n",
              "      <td>1.473300</td>\n",
              "    </tr>\n",
              "    <tr>\n",
              "      <td>190</td>\n",
              "      <td>0.926300</td>\n",
              "    </tr>\n",
              "    <tr>\n",
              "      <td>191</td>\n",
              "      <td>0.904500</td>\n",
              "    </tr>\n",
              "    <tr>\n",
              "      <td>192</td>\n",
              "      <td>1.088200</td>\n",
              "    </tr>\n",
              "    <tr>\n",
              "      <td>193</td>\n",
              "      <td>0.888500</td>\n",
              "    </tr>\n",
              "    <tr>\n",
              "      <td>194</td>\n",
              "      <td>1.378100</td>\n",
              "    </tr>\n",
              "    <tr>\n",
              "      <td>195</td>\n",
              "      <td>0.930900</td>\n",
              "    </tr>\n",
              "    <tr>\n",
              "      <td>196</td>\n",
              "      <td>1.281800</td>\n",
              "    </tr>\n",
              "    <tr>\n",
              "      <td>197</td>\n",
              "      <td>1.109400</td>\n",
              "    </tr>\n",
              "    <tr>\n",
              "      <td>198</td>\n",
              "      <td>0.929500</td>\n",
              "    </tr>\n",
              "    <tr>\n",
              "      <td>199</td>\n",
              "      <td>1.193300</td>\n",
              "    </tr>\n",
              "    <tr>\n",
              "      <td>200</td>\n",
              "      <td>1.226600</td>\n",
              "    </tr>\n",
              "    <tr>\n",
              "      <td>201</td>\n",
              "      <td>0.953900</td>\n",
              "    </tr>\n",
              "    <tr>\n",
              "      <td>202</td>\n",
              "      <td>1.242800</td>\n",
              "    </tr>\n",
              "    <tr>\n",
              "      <td>203</td>\n",
              "      <td>1.130500</td>\n",
              "    </tr>\n",
              "    <tr>\n",
              "      <td>204</td>\n",
              "      <td>0.991800</td>\n",
              "    </tr>\n",
              "    <tr>\n",
              "      <td>205</td>\n",
              "      <td>1.279200</td>\n",
              "    </tr>\n",
              "    <tr>\n",
              "      <td>206</td>\n",
              "      <td>1.339800</td>\n",
              "    </tr>\n",
              "    <tr>\n",
              "      <td>207</td>\n",
              "      <td>1.034700</td>\n",
              "    </tr>\n",
              "    <tr>\n",
              "      <td>208</td>\n",
              "      <td>1.236100</td>\n",
              "    </tr>\n",
              "    <tr>\n",
              "      <td>209</td>\n",
              "      <td>1.700700</td>\n",
              "    </tr>\n",
              "    <tr>\n",
              "      <td>210</td>\n",
              "      <td>0.803300</td>\n",
              "    </tr>\n",
              "    <tr>\n",
              "      <td>211</td>\n",
              "      <td>1.288200</td>\n",
              "    </tr>\n",
              "    <tr>\n",
              "      <td>212</td>\n",
              "      <td>0.734500</td>\n",
              "    </tr>\n",
              "    <tr>\n",
              "      <td>213</td>\n",
              "      <td>1.066600</td>\n",
              "    </tr>\n",
              "    <tr>\n",
              "      <td>214</td>\n",
              "      <td>1.370800</td>\n",
              "    </tr>\n",
              "    <tr>\n",
              "      <td>215</td>\n",
              "      <td>1.181800</td>\n",
              "    </tr>\n",
              "    <tr>\n",
              "      <td>216</td>\n",
              "      <td>1.206700</td>\n",
              "    </tr>\n",
              "    <tr>\n",
              "      <td>217</td>\n",
              "      <td>0.785600</td>\n",
              "    </tr>\n",
              "    <tr>\n",
              "      <td>218</td>\n",
              "      <td>1.099100</td>\n",
              "    </tr>\n",
              "    <tr>\n",
              "      <td>219</td>\n",
              "      <td>1.299200</td>\n",
              "    </tr>\n",
              "    <tr>\n",
              "      <td>220</td>\n",
              "      <td>0.891700</td>\n",
              "    </tr>\n",
              "    <tr>\n",
              "      <td>221</td>\n",
              "      <td>0.860800</td>\n",
              "    </tr>\n",
              "    <tr>\n",
              "      <td>222</td>\n",
              "      <td>1.031200</td>\n",
              "    </tr>\n",
              "    <tr>\n",
              "      <td>223</td>\n",
              "      <td>0.682600</td>\n",
              "    </tr>\n",
              "    <tr>\n",
              "      <td>224</td>\n",
              "      <td>0.852600</td>\n",
              "    </tr>\n",
              "    <tr>\n",
              "      <td>225</td>\n",
              "      <td>0.736600</td>\n",
              "    </tr>\n",
              "    <tr>\n",
              "      <td>226</td>\n",
              "      <td>1.049600</td>\n",
              "    </tr>\n",
              "    <tr>\n",
              "      <td>227</td>\n",
              "      <td>0.836900</td>\n",
              "    </tr>\n",
              "    <tr>\n",
              "      <td>228</td>\n",
              "      <td>1.040000</td>\n",
              "    </tr>\n",
              "    <tr>\n",
              "      <td>229</td>\n",
              "      <td>0.985400</td>\n",
              "    </tr>\n",
              "    <tr>\n",
              "      <td>230</td>\n",
              "      <td>1.239100</td>\n",
              "    </tr>\n",
              "    <tr>\n",
              "      <td>231</td>\n",
              "      <td>1.199700</td>\n",
              "    </tr>\n",
              "    <tr>\n",
              "      <td>232</td>\n",
              "      <td>0.949500</td>\n",
              "    </tr>\n",
              "    <tr>\n",
              "      <td>233</td>\n",
              "      <td>0.889400</td>\n",
              "    </tr>\n",
              "    <tr>\n",
              "      <td>234</td>\n",
              "      <td>0.991000</td>\n",
              "    </tr>\n",
              "    <tr>\n",
              "      <td>235</td>\n",
              "      <td>1.306100</td>\n",
              "    </tr>\n",
              "    <tr>\n",
              "      <td>236</td>\n",
              "      <td>1.073400</td>\n",
              "    </tr>\n",
              "    <tr>\n",
              "      <td>237</td>\n",
              "      <td>1.423900</td>\n",
              "    </tr>\n",
              "    <tr>\n",
              "      <td>238</td>\n",
              "      <td>1.519900</td>\n",
              "    </tr>\n",
              "    <tr>\n",
              "      <td>239</td>\n",
              "      <td>1.337800</td>\n",
              "    </tr>\n",
              "    <tr>\n",
              "      <td>240</td>\n",
              "      <td>1.193400</td>\n",
              "    </tr>\n",
              "    <tr>\n",
              "      <td>241</td>\n",
              "      <td>1.215000</td>\n",
              "    </tr>\n",
              "    <tr>\n",
              "      <td>242</td>\n",
              "      <td>1.027200</td>\n",
              "    </tr>\n",
              "    <tr>\n",
              "      <td>243</td>\n",
              "      <td>1.132600</td>\n",
              "    </tr>\n",
              "    <tr>\n",
              "      <td>244</td>\n",
              "      <td>0.951900</td>\n",
              "    </tr>\n",
              "    <tr>\n",
              "      <td>245</td>\n",
              "      <td>1.310800</td>\n",
              "    </tr>\n",
              "    <tr>\n",
              "      <td>246</td>\n",
              "      <td>0.798700</td>\n",
              "    </tr>\n",
              "    <tr>\n",
              "      <td>247</td>\n",
              "      <td>1.181700</td>\n",
              "    </tr>\n",
              "    <tr>\n",
              "      <td>248</td>\n",
              "      <td>1.047500</td>\n",
              "    </tr>\n",
              "    <tr>\n",
              "      <td>249</td>\n",
              "      <td>1.012600</td>\n",
              "    </tr>\n",
              "    <tr>\n",
              "      <td>250</td>\n",
              "      <td>1.133100</td>\n",
              "    </tr>\n",
              "  </tbody>\n",
              "</table><p>"
            ]
          },
          "metadata": {}
        }
      ],
      "source": [
        "# Training the model\n",
        "trainer_stats = trainer.train()"
      ]
    },
    {
      "cell_type": "code",
      "execution_count": 9,
      "metadata": {
        "colab": {
          "base_uri": "https://localhost:8080/"
        },
        "id": "tE8OUfYgSkof",
        "outputId": "152619d0-63eb-4dc3-cc51-4ad49050a225"
      },
      "outputs": [
        {
          "output_type": "stream",
          "name": "stdout",
          "text": [
            "Used Memory: 9.81GB (66.51%)\n",
            "Used Memory for training(fine-tuning) LoRA: 4.22GB (28.61%)\n"
          ]
        }
      ],
      "source": [
        "# Memory statistics after training\n",
        "used_memory = round(torch.cuda.max_memory_allocated() / 1024**3, 2)\n",
        "used_memory_lora = round(used_memory - reserved_memory, 2)\n",
        "used_memory_persentage = round((used_memory / max_memory) * 100, 2)\n",
        "used_memory_lora_persentage = round((used_memory_lora / max_memory) * 100, 2)\n",
        "print(f\"Used Memory: {used_memory}GB ({used_memory_persentage}%)\")\n",
        "print(f\"Used Memory for training(fine-tuning) LoRA: {used_memory_lora}GB ({used_memory_lora_persentage}%)\")"
      ]
    },
    {
      "cell_type": "code",
      "source": [
        "import matplotlib.pyplot as plt\n",
        "\n",
        "trainer.state.log_history\n",
        "train_loss = []\n",
        "for elem in trainer.state.log_history:\n",
        "    if 'loss' in elem.keys():\n",
        "        train_loss.append(elem['loss'])\n",
        "\n",
        "steps = range(1, len(train_loss) + 1)\n",
        "\n",
        "# Plot the training loss curve\n",
        "plt.figure(figsize=(10, 5))\n",
        "plt.plot(steps, train_loss, linestyle='-', color='b')\n",
        "plt.xlabel('Step')\n",
        "plt.ylabel('Training Loss')\n",
        "plt.title('Training Loss Curve')\n",
        "plt.grid(True)\n",
        "plt.show()"
      ],
      "metadata": {
        "colab": {
          "base_uri": "https://localhost:8080/",
          "height": 487
        },
        "id": "wGvyXj-2ZEiN",
        "outputId": "7dd7de3f-77a5-4e85-c8bc-0b2f8ca3851b"
      },
      "execution_count": 18,
      "outputs": [
        {
          "output_type": "display_data",
          "data": {
            "text/plain": [
              "<Figure size 1000x500 with 1 Axes>"
            ],
            "image/png": "[encoded data removed]"
          },
          "metadata": {}
        }
      ]
    },
    {
      "cell_type": "code",
      "execution_count": 10,
      "metadata": {
        "id": "PtcC6x1-Skof"
      },
      "outputs": [],
      "source": [
        "# Saving the trainer stats\n",
        "with open(\"trainer_stats.json\", \"w\") as f:\n",
        "    json.dump(trainer_stats, f, indent=4)"
      ]
    },
    {
      "cell_type": "code",
      "execution_count": null,
      "metadata": {
        "id": "-1HtsRpVnHTj",
        "colab": {
          "base_uri": "https://localhost:8080/",
          "height": 66,
          "referenced_widgets": [
            "12ebf12c737f43b29611ef288af03cab",
            "9b51ede3310a43fd838df4044aa6bcbf",
            "604b6940354443f1ad1ec8708948c2a4",
            "2929064b7b604cf7b6f3d8069b29fe90",
            "a7cb43a3706a4f798bd405b2f97aec97",
            "b43aad76062e42bca2c3205dd7c75100",
            "2cf558660d8a453d92b44bf8933714a3",
            "d4695b1fc275420ea886abf502d46e78",
            "ca1936e3b9e54b4c9552545b4be6220e",
            "0ee81f010364495da9a2b3c8404ff036",
            "7b33c081f0e549dcaad49733f3698f52"
          ]
        },
        "outputId": "3ceea6c7-b643-42e0-fcf8-4d441754bd05"
      },
      "outputs": [
        {
          "output_type": "display_data",
          "data": {
            "text/plain": [
              "README.md:   0%|          | 0.00/599 [00:00<?, ?B/s]"
            ],
            "application/vnd.jupyter.widget-view+json": {
              "version_major": 2,
              "version_minor": 0,
              "model_id": "12ebf12c737f43b29611ef288af03cab"
            }
          },
          "metadata": {}
        },
        {
          "output_type": "stream",
          "name": "stdout",
          "text": [
            "Saved model to https://huggingface.co/llama-3-8b-Instruct-bnb-4bit-medical\n"
          ]
        }
      ],
      "source": [
        "# Locally saving the model and pushing it to the Hugging Face Hub (only LoRA adapters)\n",
        "model.save_pretrained(config.get(\"model_config\").get(\"finetuned_model\"))\n",
        "model.push_to_hub(config.get(\"model_config\").get(\"finetuned_model\"), tokenizer = tokenizer)"
      ]
    },
    {
      "cell_type": "code",
      "execution_count": null,
      "metadata": {
        "colab": {
          "base_uri": "https://localhost:8080/",
          "height": 929
        },
        "id": "xyRAnzjkSkog",
        "outputId": "684130a3-a032-443a-d950-aee1e6245204"
      },
      "outputs": [
        {
          "output_type": "stream",
          "name": "stderr",
          "text": [
            "Unsloth: You have 1 CPUs. Using `safe_serialization` is 10x slower.\n",
            "We shall switch to Pytorch saving, which will take 3 minutes and not 30 minutes.\n",
            "To force `safe_serialization`, set it to `None` instead.\n",
            "Unsloth: Kaggle/Colab has limited disk space. We need to delete the downloaded\n",
            "model which will save 4-16GB of disk space, allowing you to save on Kaggle/Colab.\n",
            "Unsloth: Will remove a cached repo with size 5.7G\n"
          ]
        },
        {
          "output_type": "stream",
          "name": "stdout",
          "text": [
            "Unsloth: Merging 4bit and LoRA weights to 16bit...\n",
            "Unsloth: Will use up to 6.5 out of 12.67 RAM for saving.\n"
          ]
        },
        {
          "output_type": "stream",
          "name": "stderr",
          "text": [
            " 34%|███▍      | 11/32 [00:00<00:01, 13.64it/s]We will save to Disk and not RAM now.\n",
            "100%|██████████| 32/32 [00:54<00:00,  1.71s/it]\n"
          ]
        },
        {
          "output_type": "stream",
          "name": "stdout",
          "text": [
            "Unsloth: Saving tokenizer... Done.\n",
            "Unsloth: Saving model... This might take 5 minutes for Llama-7b...\n",
            "Unsloth: Saving llama-3-8b-Instruct-bnb-4bit-medical/pytorch_model-00001-of-00004.bin...\n",
            "Unsloth: Saving llama-3-8b-Instruct-bnb-4bit-medical/pytorch_model-00002-of-00004.bin...\n",
            "Unsloth: Saving llama-3-8b-Instruct-bnb-4bit-medical/pytorch_model-00003-of-00004.bin...\n",
            "Unsloth: Saving llama-3-8b-Instruct-bnb-4bit-medical/pytorch_model-00004-of-00004.bin...\n",
            "Done.\n",
            "Unsloth: Merging 4bit and LoRA weights to 16bit...\n",
            "Unsloth: Will use up to 6.43 out of 12.67 RAM for saving.\n"
          ]
        },
        {
          "output_type": "stream",
          "name": "stderr",
          "text": [
            "100%|██████████| 32/32 [02:07<00:00,  3.97s/it]\n"
          ]
        },
        {
          "output_type": "stream",
          "name": "stdout",
          "text": [
            "Unsloth: Saving tokenizer... Done.\n",
            "Unsloth: Saving model... This might take 5 minutes for Llama-7b...\n",
            "Unsloth: Saving llama-3-8b-Instruct-bnb-4bit-medical/pytorch_model-00001-of-00004.bin...\n",
            "Unsloth: Saving llama-3-8b-Instruct-bnb-4bit-medical/pytorch_model-00002-of-00004.bin...\n",
            "Unsloth: Saving llama-3-8b-Instruct-bnb-4bit-medical/pytorch_model-00003-of-00004.bin...\n",
            "Unsloth: Saving llama-3-8b-Instruct-bnb-4bit-medical/pytorch_model-00004-of-00004.bin...\n",
            "Done.\n",
            "Saved merged model to https://huggingface.co/None/llama-3-8b-Instruct-bnb-4bit-medical\n"
          ]
        },
        {
          "output_type": "error",
          "ename": "RuntimeError",
          "evalue": "Unsloth: Merging into 4bit will cause your model to lose accuracy if you plan\nto merge to GGUF or others later on. I suggest you to do this as a final step\nif you're planning to do multiple saves.\nIf you are certain, change `save_method` to `merged_4bit_forced`.",
          "traceback": [
            "\u001b[0;31m---------------------------------------------------------------------------\u001b[0m",
            "\u001b[0;31mRuntimeError\u001b[0m                              Traceback (most recent call last)",
            "\u001b[0;32m<ipython-input-12-8c8f7e08130b>\u001b[0m in \u001b[0;36m<cell line: 5>\u001b[0;34m()\u001b[0m\n\u001b[1;32m      3\u001b[0m \u001b[0mmodel\u001b[0m\u001b[0;34m.\u001b[0m\u001b[0mpush_to_hub_merged\u001b[0m\u001b[0;34m(\u001b[0m\u001b[0mconfig\u001b[0m\u001b[0;34m.\u001b[0m\u001b[0mget\u001b[0m\u001b[0;34m(\u001b[0m\u001b[0;34m\"model_config\"\u001b[0m\u001b[0;34m)\u001b[0m\u001b[0;34m.\u001b[0m\u001b[0mget\u001b[0m\u001b[0;34m(\u001b[0m\u001b[0;34m\"finetuned_model\"\u001b[0m\u001b[0;34m)\u001b[0m\u001b[0;34m,\u001b[0m \u001b[0mtokenizer\u001b[0m\u001b[0;34m,\u001b[0m \u001b[0msave_method\u001b[0m \u001b[0;34m=\u001b[0m \u001b[0;34m\"merged_16bit\"\u001b[0m\u001b[0;34m)\u001b[0m\u001b[0;34m\u001b[0m\u001b[0;34m\u001b[0m\u001b[0m\n\u001b[1;32m      4\u001b[0m \u001b[0;34m\u001b[0m\u001b[0m\n\u001b[0;32m----> 5\u001b[0;31m \u001b[0mmodel\u001b[0m\u001b[0;34m.\u001b[0m\u001b[0msave_pretrained_merged\u001b[0m\u001b[0;34m(\u001b[0m\u001b[0mconfig\u001b[0m\u001b[0;34m.\u001b[0m\u001b[0mget\u001b[0m\u001b[0;34m(\u001b[0m\u001b[0;34m\"model_config\"\u001b[0m\u001b[0;34m)\u001b[0m\u001b[0;34m.\u001b[0m\u001b[0mget\u001b[0m\u001b[0;34m(\u001b[0m\u001b[0;34m\"finetuned_model\"\u001b[0m\u001b[0;34m)\u001b[0m\u001b[0;34m,\u001b[0m \u001b[0mtokenizer\u001b[0m\u001b[0;34m,\u001b[0m \u001b[0msave_method\u001b[0m \u001b[0;34m=\u001b[0m \u001b[0;34m\"merged_4bit\"\u001b[0m\u001b[0;34m,\u001b[0m\u001b[0;34m)\u001b[0m\u001b[0;34m\u001b[0m\u001b[0;34m\u001b[0m\u001b[0m\n\u001b[0m\u001b[1;32m      6\u001b[0m \u001b[0mmodel\u001b[0m\u001b[0;34m.\u001b[0m\u001b[0mpush_to_hub_merged\u001b[0m\u001b[0;34m(\u001b[0m\u001b[0mconfig\u001b[0m\u001b[0;34m.\u001b[0m\u001b[0mget\u001b[0m\u001b[0;34m(\u001b[0m\u001b[0;34m\"model_config\"\u001b[0m\u001b[0;34m)\u001b[0m\u001b[0;34m.\u001b[0m\u001b[0mget\u001b[0m\u001b[0;34m(\u001b[0m\u001b[0;34m\"finetuned_model\"\u001b[0m\u001b[0;34m)\u001b[0m\u001b[0;34m,\u001b[0m \u001b[0mtokenizer\u001b[0m\u001b[0;34m,\u001b[0m \u001b[0msave_method\u001b[0m \u001b[0;34m=\u001b[0m \u001b[0;34m\"merged_4bit\"\u001b[0m\u001b[0;34m)\u001b[0m\u001b[0;34m\u001b[0m\u001b[0;34m\u001b[0m\u001b[0m\n\u001b[1;32m      7\u001b[0m \u001b[0;34m\u001b[0m\u001b[0m\n",
            "\u001b[0;32m/usr/local/lib/python3.10/dist-packages/unsloth/save.py\u001b[0m in \u001b[0;36munsloth_save_pretrained_merged\u001b[0;34m(self, save_directory, tokenizer, save_method, push_to_hub, token, is_main_process, state_dict, save_function, max_shard_size, safe_serialization, variant, save_peft_format, tags, temporary_location, maximum_memory_usage)\u001b[0m\n\u001b[1;32m   1110\u001b[0m     \u001b[0marguments\u001b[0m\u001b[0;34m[\u001b[0m\u001b[0;34m\"model\"\u001b[0m\u001b[0;34m]\u001b[0m \u001b[0;34m=\u001b[0m \u001b[0mself\u001b[0m\u001b[0;34m\u001b[0m\u001b[0;34m\u001b[0m\u001b[0m\n\u001b[1;32m   1111\u001b[0m     \u001b[0;32mdel\u001b[0m \u001b[0marguments\u001b[0m\u001b[0;34m[\u001b[0m\u001b[0;34m\"self\"\u001b[0m\u001b[0;34m]\u001b[0m\u001b[0;34m\u001b[0m\u001b[0;34m\u001b[0m\u001b[0m\n\u001b[0;32m-> 1112\u001b[0;31m     \u001b[0munsloth_save_model\u001b[0m\u001b[0;34m(\u001b[0m\u001b[0;34m**\u001b[0m\u001b[0marguments\u001b[0m\u001b[0;34m)\u001b[0m\u001b[0;34m\u001b[0m\u001b[0;34m\u001b[0m\u001b[0m\n\u001b[0m\u001b[1;32m   1113\u001b[0m     \u001b[0;32mfor\u001b[0m \u001b[0m_\u001b[0m \u001b[0;32min\u001b[0m \u001b[0mrange\u001b[0m\u001b[0;34m(\u001b[0m\u001b[0;36m3\u001b[0m\u001b[0;34m)\u001b[0m\u001b[0;34m:\u001b[0m\u001b[0;34m\u001b[0m\u001b[0;34m\u001b[0m\u001b[0m\n\u001b[1;32m   1114\u001b[0m         \u001b[0mgc\u001b[0m\u001b[0;34m.\u001b[0m\u001b[0mcollect\u001b[0m\u001b[0;34m(\u001b[0m\u001b[0;34m)\u001b[0m\u001b[0;34m\u001b[0m\u001b[0;34m\u001b[0m\u001b[0m\n",
            "\u001b[0;32m/usr/local/lib/python3.10/dist-packages/torch/utils/_contextlib.py\u001b[0m in \u001b[0;36mdecorate_context\u001b[0;34m(*args, **kwargs)\u001b[0m\n\u001b[1;32m    113\u001b[0m     \u001b[0;32mdef\u001b[0m \u001b[0mdecorate_context\u001b[0m\u001b[0;34m(\u001b[0m\u001b[0;34m*\u001b[0m\u001b[0margs\u001b[0m\u001b[0;34m,\u001b[0m \u001b[0;34m**\u001b[0m\u001b[0mkwargs\u001b[0m\u001b[0;34m)\u001b[0m\u001b[0;34m:\u001b[0m\u001b[0;34m\u001b[0m\u001b[0;34m\u001b[0m\u001b[0m\n\u001b[1;32m    114\u001b[0m         \u001b[0;32mwith\u001b[0m \u001b[0mctx_factory\u001b[0m\u001b[0;34m(\u001b[0m\u001b[0;34m)\u001b[0m\u001b[0;34m:\u001b[0m\u001b[0;34m\u001b[0m\u001b[0;34m\u001b[0m\u001b[0m\n\u001b[0;32m--> 115\u001b[0;31m             \u001b[0;32mreturn\u001b[0m \u001b[0mfunc\u001b[0m\u001b[0;34m(\u001b[0m\u001b[0;34m*\u001b[0m\u001b[0margs\u001b[0m\u001b[0;34m,\u001b[0m \u001b[0;34m**\u001b[0m\u001b[0mkwargs\u001b[0m\u001b[0;34m)\u001b[0m\u001b[0;34m\u001b[0m\u001b[0;34m\u001b[0m\u001b[0m\n\u001b[0m\u001b[1;32m    116\u001b[0m \u001b[0;34m\u001b[0m\u001b[0m\n\u001b[1;32m    117\u001b[0m     \u001b[0;32mreturn\u001b[0m \u001b[0mdecorate_context\u001b[0m\u001b[0;34m\u001b[0m\u001b[0;34m\u001b[0m\u001b[0m\n",
            "\u001b[0;32m/usr/local/lib/python3.10/dist-packages/unsloth/save.py\u001b[0m in \u001b[0;36munsloth_save_model\u001b[0;34m(model, tokenizer, save_directory, save_method, push_to_hub, token, is_main_process, state_dict, save_function, max_shard_size, safe_serialization, variant, save_peft_format, use_temp_dir, commit_message, private, create_pr, revision, commit_description, tags, temporary_location, maximum_memory_usage)\u001b[0m\n\u001b[1;32m    221\u001b[0m \u001b[0;34m\u001b[0m\u001b[0m\n\u001b[1;32m    222\u001b[0m     \u001b[0;32mif\u001b[0m \u001b[0msave_method\u001b[0m \u001b[0;34m==\u001b[0m \u001b[0;34m\"merged_4bit\"\u001b[0m\u001b[0;34m:\u001b[0m\u001b[0;34m\u001b[0m\u001b[0;34m\u001b[0m\u001b[0m\n\u001b[0;32m--> 223\u001b[0;31m         raise RuntimeError(\n\u001b[0m\u001b[1;32m    224\u001b[0m             \u001b[0;34m\"Unsloth: Merging into 4bit will cause your model to lose accuracy if you plan\\n\"\u001b[0m\u001b[0;31m\\\u001b[0m\u001b[0;34m\u001b[0m\u001b[0;34m\u001b[0m\u001b[0m\n\u001b[1;32m    225\u001b[0m             \u001b[0;34m\"to merge to GGUF or others later on. I suggest you to do this as a final step\\n\"\u001b[0m\u001b[0;31m\\\u001b[0m\u001b[0;34m\u001b[0m\u001b[0;34m\u001b[0m\u001b[0m\n",
            "\u001b[0;31mRuntimeError\u001b[0m: Unsloth: Merging into 4bit will cause your model to lose accuracy if you plan\nto merge to GGUF or others later on. I suggest you to do this as a final step\nif you're planning to do multiple saves.\nIf you are certain, change `save_method` to `merged_4bit_forced`."
          ]
        }
      ],
      "source": [
        "# Saving the model using merged_16bit(float16), merged_4bit(int4) or quantization options(q8_0, q4_k_m, q5_k_m)...\n",
        "model.save_pretrained_merged(config.get(\"model_config\").get(\"finetuned_model\"), tokenizer, save_method = \"merged_16bit\",)\n",
        "model.push_to_hub_merged(config.get(\"model_config\").get(\"finetuned_model\"), tokenizer, save_method = \"merged_16bit\")\n",
        "\n",
        "model.save_pretrained_merged(config.get(\"model_config\").get(\"finetuned_model\"), tokenizer, save_method = \"merged_4bit\",)\n",
        "model.push_to_hub_merged(config.get(\"model_config\").get(\"finetuned_model\"), tokenizer, save_method = \"merged_4bit\")\n",
        "\n",
        "model.save_pretrained_gguf(config.get(\"model_config\").get(\"finetuned_model\"), tokenizer)\n",
        "model.push_to_hub_gguf(config.get(\"model_config\").get(\"finetuned_model\"), tokenizer)\n",
        "\n",
        "model.save_pretrained_gguf(config.get(\"model_config\").get(\"finetuned_model\"), tokenizer, quantization_method = \"f16\")\n",
        "model.push_to_hub_gguf(config.get(\"model_config\").get(\"finetuned_model\"), tokenizer, quantization_method = \"f16\")\n",
        "\n",
        "model.save_pretrained_gguf(config.get(\"model_config\").get(\"finetuned_model\"), tokenizer, quantization_method = \"q4_k_m\")\n",
        "model.push_to_hub_gguf(config.get(\"model_config\").get(\"finetuned_model\"), tokenizer, quantization_method = \"q4_k_m\")"
      ]
    },
    {
      "cell_type": "code",
      "execution_count": null,
      "metadata": {
        "colab": {
          "base_uri": "https://localhost:8080/",
          "height": 269,
          "referenced_widgets": [
            "c95baf14982d469c8e3d4c409b884607",
            "4662209e451c41f4818c0f6bac7b2921",
            "ca8f66628f904f349dbe9c72457aeab3",
            "9f51b675b3b645899a75fde3b42f3b65",
            "156d82db796543678e8b5bed0abdd383",
            "f258abfb856d4127b3beb7d9757ab4ed",
            "a31b8ebc48f6422e891541688cc9a031",
            "40537fa12f574136950755a5ab65d50b",
            "226285bc1c944ed8832e209f168aab7f",
            "bac6c7dbfb0341978756171985c20a7f",
            "0609773817514d649f3b027501d09ad1",
            "ea0511369fbc4d24924d94c30f53d714",
            "0b5da2b43f704d318e211c1289d6c9c7",
            "3cf8ac5435e74f84b94eb7779a8dbaf9",
            "03da15e961f94d2cbb27c5bd52cb3fad",
            "9ebcc646e7c94ec48a5819caadd67a90",
            "b0b7db87475841e79bbe8a21f65c5728",
            "2c96c31bc0b34374835e1773ef915791",
            "35898f7957274b95bb2017116fb42edb",
            "658514339867450f93e2121a50ae8c5b",
            "6391029607924233910ab0c597fbc001",
            "77765a375d3b4c75b4731c0839af9501",
            "c428e2dcaf04458d9bc3de122665e302",
            "decba0c45549457b991863a1f8ec17f3",
            "7798c1aa29d445338272127b0ddf0f83",
            "f09a2be2f84a423cade6a401d30898d3",
            "0c42d03101ef476aad0dc55ddf01d73b",
            "1268cc9160ad481caa00d11a609ff138",
            "42bce03bcda64bf380a839846736ee4f",
            "b41b2137a09a4a93acbd1b5222ecccf6",
            "bf1b092d3a634d4bb6eea3b57dd121ad",
            "087ee9ee4bc945258aaf34570a9a657a",
            "c11c7cccaf30428b8a9d9a4157978de9"
          ]
        },
        "id": "ozVcalyP_JLs",
        "outputId": "322270fb-65bd-4b92-baac-7cc15eabe85a"
      },
      "outputs": [
        {
          "output_type": "stream",
          "name": "stdout",
          "text": [
            "==((====))==  Unsloth: Fast Llama patching release 2024.5\n",
            "   \\\\   /|    GPU: Tesla T4. Max memory: 14.748 GB. Platform = Linux.\n",
            "O^O/ \\_/ \\    Pytorch: 2.3.0+cu121. CUDA = 7.5. CUDA Toolkit = 12.1.\n",
            "\\        /    Bfloat16 = FALSE. Xformers = 0.0.26.post1. FA = False.\n",
            " \"-____-\"     Free Apache license: http://github.com/unslothai/unsloth\n"
          ]
        },
        {
          "output_type": "display_data",
          "data": {
            "text/plain": [
              "config.json:   0%|          | 0.00/1.15k [00:00<?, ?B/s]"
            ],
            "application/vnd.jupyter.widget-view+json": {
              "version_major": 2,
              "version_minor": 0,
              "model_id": "c95baf14982d469c8e3d4c409b884607"
            }
          },
          "metadata": {}
        },
        {
          "output_type": "display_data",
          "data": {
            "text/plain": [
              "model.safetensors:   0%|          | 0.00/5.70G [00:00<?, ?B/s]"
            ],
            "application/vnd.jupyter.widget-view+json": {
              "version_major": 2,
              "version_minor": 0,
              "model_id": "ea0511369fbc4d24924d94c30f53d714"
            }
          },
          "metadata": {}
        },
        {
          "output_type": "display_data",
          "data": {
            "text/plain": [
              "generation_config.json:   0%|          | 0.00/131 [00:00<?, ?B/s]"
            ],
            "application/vnd.jupyter.widget-view+json": {
              "version_major": 2,
              "version_minor": 0,
              "model_id": "c428e2dcaf04458d9bc3de122665e302"
            }
          },
          "metadata": {}
        },
        {
          "output_type": "stream",
          "name": "stderr",
          "text": [
            "Special tokens have been added in the vocabulary, make sure the associated word embeddings are fine-tuned or trained.\n",
            "Setting `pad_token_id` to `eos_token_id`:128001 for open-end generation.\n"
          ]
        },
        {
          "output_type": "execute_result",
          "data": {
            "text/plain": [
              "[\"system Answer the question truthfully, you are a medical professional.user This is the question: Can you provide an overview of the lung's squamous cell carcinoma?assistant Squamous cell carcinoma of the lung is a type of non-small cell lung cancer.\"]"
            ]
          },
          "metadata": {},
          "execution_count": 13
        }
      ],
      "source": [
        "# Loading the fine-tuned model and the tokenizer for inference\n",
        "model, tokenizer = FastLanguageModel.from_pretrained(\n",
        "        model_name = config.get(\"model_config\").get(\"finetuned_model\"),\n",
        "        max_seq_length = config.get(\"model_config\").get(\"max_seq_length\"),\n",
        "        dtype = config.get(\"model_config\").get(\"dtype\"),\n",
        "        load_in_4bit = config.get(\"model_config\").get(\"load_in_4bit\"),\n",
        "    )\n",
        "\n",
        "# Using FastLanguageModel for fast inference\n",
        "FastLanguageModel.for_inference(model)\n",
        "\n",
        "# Tokenizing the input and generating the output\n",
        "inputs = tokenizer(\n",
        "[\n",
        "    \"<|start_header_id|>system<|end_header_id|> Answer the question truthfully, you are a medical professional.<|eot_id|><|start_header_id|>user<|end_header_id|> This is the question: Can you provide an overview of the lung's squamous cell carcinoma?<|eot_id|>\"\n",
        "], return_tensors = \"pt\").to(\"cuda\")\n",
        "outputs = model.generate(**inputs, max_new_tokens = 256, use_cache = True)\n",
        "tokenizer.batch_decode(outputs, skip_special_tokens = True)"
      ]
    },
    {
      "cell_type": "code",
      "source": [
        "inputs = tokenizer(\n",
        "[\n",
        "    \"<|start_header_id|>system<|end_header_id|> Answer the question truthfully, you are a medical professional.<|eot_id|><|start_header_id|>user<|end_header_id|> This is the question: Can you provide an overview of the lung's squamous cell carcinoma?<|eot_id|>\"\n",
        "], return_tensors = \"pt\").to(\"cuda\")\n",
        "outputs = model.generate(**inputs, max_new_tokens = 500, use_cache = True)\n",
        "tokenizer.batch_decode(outputs, skip_special_tokens = True)"
      ],
      "metadata": {
        "colab": {
          "base_uri": "https://localhost:8080/"
        },
        "id": "D7gA_N-7iDFp",
        "outputId": "7c4df5cd-e743-47de-9435-357f1f5ad732"
      },
      "execution_count": null,
      "outputs": [
        {
          "output_type": "stream",
          "name": "stderr",
          "text": [
            "Setting `pad_token_id` to `eos_token_id`:128001 for open-end generation.\n"
          ]
        },
        {
          "output_type": "execute_result",
          "data": {
            "text/plain": [
              "[\"system Answer the question truthfully, you are a medical professional.user This is the question: Can you provide an overview of the lung's squamous cell carcinoma?assistant Squamous cell carcinoma of the lung is a type of non-small cell lung cancer.\"]"
            ]
          },
          "metadata": {},
          "execution_count": 16
        }
      ]
    },
    {
      "cell_type": "code",
      "source": [
        "!pip install bert-score"
      ],
      "metadata": {
        "colab": {
          "base_uri": "https://localhost:8080/"
        },
        "id": "lndh_idIkOUR",
        "outputId": "a11c49cf-2364-4281-a0a8-b686de87302e"
      },
      "execution_count": null,
      "outputs": [
        {
          "output_type": "stream",
          "name": "stdout",
          "text": [
            "Collecting bert-score\n",
            "  Downloading bert_score-0.3.13-py3-none-any.whl (61 kB)\n",
            "\u001b[2K     \u001b[90m━━━━━━━━━━━━━━━━━━━━━━━━━━━━━━━━━━━━━━━━\u001b[0m \u001b[32m61.1/61.1 kB\u001b[0m \u001b[31m905.2 kB/s\u001b[0m eta \u001b[36m0:00:00\u001b[0m\n",
            "\u001b[?25hRequirement already satisfied: torch>=1.0.0 in /usr/local/lib/python3.10/dist-packages (from bert-score) (2.3.0+cu121)\n",
            "Requirement already satisfied: pandas>=1.0.1 in /usr/local/lib/python3.10/dist-packages (from bert-score) (2.0.3)\n",
            "Requirement already satisfied: transformers>=3.0.0 in /usr/local/lib/python3.10/dist-packages (from bert-score) (4.41.1)\n",
            "Requirement already satisfied: numpy in /usr/local/lib/python3.10/dist-packages (from bert-score) (1.25.2)\n",
            "Requirement already satisfied: requests in /usr/local/lib/python3.10/dist-packages (from bert-score) (2.31.0)\n",
            "Requirement already satisfied: tqdm>=4.31.1 in /usr/local/lib/python3.10/dist-packages (from bert-score) (4.66.4)\n",
            "Requirement already satisfied: matplotlib in /usr/local/lib/python3.10/dist-packages (from bert-score) (3.7.1)\n",
            "Requirement already satisfied: packaging>=20.9 in /usr/local/lib/python3.10/dist-packages (from bert-score) (24.0)\n",
            "Requirement already satisfied: python-dateutil>=2.8.2 in /usr/local/lib/python3.10/dist-packages (from pandas>=1.0.1->bert-score) (2.8.2)\n",
            "Requirement already satisfied: pytz>=2020.1 in /usr/local/lib/python3.10/dist-packages (from pandas>=1.0.1->bert-score) (2023.4)\n",
            "Requirement already satisfied: tzdata>=2022.1 in /usr/local/lib/python3.10/dist-packages (from pandas>=1.0.1->bert-score) (2024.1)\n",
            "Requirement already satisfied: filelock in /usr/local/lib/python3.10/dist-packages (from torch>=1.0.0->bert-score) (3.14.0)\n",
            "Requirement already satisfied: typing-extensions>=4.8.0 in /usr/local/lib/python3.10/dist-packages (from torch>=1.0.0->bert-score) (4.11.0)\n",
            "Requirement already satisfied: sympy in /usr/local/lib/python3.10/dist-packages (from torch>=1.0.0->bert-score) (1.12)\n",
            "Requirement already satisfied: networkx in /usr/local/lib/python3.10/dist-packages (from torch>=1.0.0->bert-score) (3.3)\n",
            "Requirement already satisfied: jinja2 in /usr/local/lib/python3.10/dist-packages (from torch>=1.0.0->bert-score) (3.1.4)\n",
            "Requirement already satisfied: fsspec in /usr/local/lib/python3.10/dist-packages (from torch>=1.0.0->bert-score) (2023.6.0)\n",
            "Collecting nvidia-cuda-nvrtc-cu12==12.1.105 (from torch>=1.0.0->bert-score)\n",
            "  Using cached nvidia_cuda_nvrtc_cu12-12.1.105-py3-none-manylinux1_x86_64.whl (23.7 MB)\n",
            "Collecting nvidia-cuda-runtime-cu12==12.1.105 (from torch>=1.0.0->bert-score)\n",
            "  Using cached nvidia_cuda_runtime_cu12-12.1.105-py3-none-manylinux1_x86_64.whl (823 kB)\n",
            "Collecting nvidia-cuda-cupti-cu12==12.1.105 (from torch>=1.0.0->bert-score)\n",
            "  Using cached nvidia_cuda_cupti_cu12-12.1.105-py3-none-manylinux1_x86_64.whl (14.1 MB)\n",
            "Collecting nvidia-cudnn-cu12==8.9.2.26 (from torch>=1.0.0->bert-score)\n",
            "  Using cached nvidia_cudnn_cu12-8.9.2.26-py3-none-manylinux1_x86_64.whl (731.7 MB)\n",
            "Collecting nvidia-cublas-cu12==12.1.3.1 (from torch>=1.0.0->bert-score)\n",
            "  Using cached nvidia_cublas_cu12-12.1.3.1-py3-none-manylinux1_x86_64.whl (410.6 MB)\n",
            "Collecting nvidia-cufft-cu12==11.0.2.54 (from torch>=1.0.0->bert-score)\n",
            "  Using cached nvidia_cufft_cu12-11.0.2.54-py3-none-manylinux1_x86_64.whl (121.6 MB)\n",
            "Collecting nvidia-curand-cu12==10.3.2.106 (from torch>=1.0.0->bert-score)\n",
            "  Using cached nvidia_curand_cu12-10.3.2.106-py3-none-manylinux1_x86_64.whl (56.5 MB)\n",
            "Collecting nvidia-cusolver-cu12==11.4.5.107 (from torch>=1.0.0->bert-score)\n",
            "  Using cached nvidia_cusolver_cu12-11.4.5.107-py3-none-manylinux1_x86_64.whl (124.2 MB)\n",
            "Collecting nvidia-cusparse-cu12==12.1.0.106 (from torch>=1.0.0->bert-score)\n",
            "  Using cached nvidia_cusparse_cu12-12.1.0.106-py3-none-manylinux1_x86_64.whl (196.0 MB)\n",
            "Collecting nvidia-nccl-cu12==2.20.5 (from torch>=1.0.0->bert-score)\n",
            "  Using cached nvidia_nccl_cu12-2.20.5-py3-none-manylinux2014_x86_64.whl (176.2 MB)\n",
            "Collecting nvidia-nvtx-cu12==12.1.105 (from torch>=1.0.0->bert-score)\n",
            "  Using cached nvidia_nvtx_cu12-12.1.105-py3-none-manylinux1_x86_64.whl (99 kB)\n",
            "Requirement already satisfied: triton==2.3.0 in /usr/local/lib/python3.10/dist-packages (from torch>=1.0.0->bert-score) (2.3.0)\n",
            "Collecting nvidia-nvjitlink-cu12 (from nvidia-cusolver-cu12==11.4.5.107->torch>=1.0.0->bert-score)\n",
            "  Downloading nvidia_nvjitlink_cu12-12.5.40-py3-none-manylinux2014_x86_64.whl (21.3 MB)\n",
            "\u001b[2K     \u001b[90m━━━━━━━━━━━━━━━━━━━━━━━━━━━━━━━━━━━━━━━━\u001b[0m \u001b[32m21.3/21.3 MB\u001b[0m \u001b[31m50.5 MB/s\u001b[0m eta \u001b[36m0:00:00\u001b[0m\n",
            "\u001b[?25hRequirement already satisfied: huggingface-hub<1.0,>=0.23.0 in /usr/local/lib/python3.10/dist-packages (from transformers>=3.0.0->bert-score) (0.23.1)\n",
            "Requirement already satisfied: pyyaml>=5.1 in /usr/local/lib/python3.10/dist-packages (from transformers>=3.0.0->bert-score) (6.0.1)\n",
            "Requirement already satisfied: regex!=2019.12.17 in /usr/local/lib/python3.10/dist-packages (from transformers>=3.0.0->bert-score) (2024.5.15)\n",
            "Requirement already satisfied: tokenizers<0.20,>=0.19 in /usr/local/lib/python3.10/dist-packages (from transformers>=3.0.0->bert-score) (0.19.1)\n",
            "Requirement already satisfied: safetensors>=0.4.1 in /usr/local/lib/python3.10/dist-packages (from transformers>=3.0.0->bert-score) (0.4.3)\n",
            "Requirement already satisfied: contourpy>=1.0.1 in /usr/local/lib/python3.10/dist-packages (from matplotlib->bert-score) (1.2.1)\n",
            "Requirement already satisfied: cycler>=0.10 in /usr/local/lib/python3.10/dist-packages (from matplotlib->bert-score) (0.12.1)\n",
            "Requirement already satisfied: fonttools>=4.22.0 in /usr/local/lib/python3.10/dist-packages (from matplotlib->bert-score) (4.51.0)\n",
            "Requirement already satisfied: kiwisolver>=1.0.1 in /usr/local/lib/python3.10/dist-packages (from matplotlib->bert-score) (1.4.5)\n",
            "Requirement already satisfied: pillow>=6.2.0 in /usr/local/lib/python3.10/dist-packages (from matplotlib->bert-score) (9.4.0)\n",
            "Requirement already satisfied: pyparsing>=2.3.1 in /usr/local/lib/python3.10/dist-packages (from matplotlib->bert-score) (3.1.2)\n",
            "Requirement already satisfied: charset-normalizer<4,>=2 in /usr/local/lib/python3.10/dist-packages (from requests->bert-score) (3.3.2)\n",
            "Requirement already satisfied: idna<4,>=2.5 in /usr/local/lib/python3.10/dist-packages (from requests->bert-score) (3.7)\n",
            "Requirement already satisfied: urllib3<3,>=1.21.1 in /usr/local/lib/python3.10/dist-packages (from requests->bert-score) (2.0.7)\n",
            "Requirement already satisfied: certifi>=2017.4.17 in /usr/local/lib/python3.10/dist-packages (from requests->bert-score) (2024.2.2)\n",
            "Requirement already satisfied: six>=1.5 in /usr/local/lib/python3.10/dist-packages (from python-dateutil>=2.8.2->pandas>=1.0.1->bert-score) (1.16.0)\n",
            "Requirement already satisfied: MarkupSafe>=2.0 in /usr/local/lib/python3.10/dist-packages (from jinja2->torch>=1.0.0->bert-score) (2.1.5)\n",
            "Requirement already satisfied: mpmath>=0.19 in /usr/local/lib/python3.10/dist-packages (from sympy->torch>=1.0.0->bert-score) (1.3.0)\n",
            "Installing collected packages: nvidia-nvtx-cu12, nvidia-nvjitlink-cu12, nvidia-nccl-cu12, nvidia-curand-cu12, nvidia-cufft-cu12, nvidia-cuda-runtime-cu12, nvidia-cuda-nvrtc-cu12, nvidia-cuda-cupti-cu12, nvidia-cublas-cu12, nvidia-cusparse-cu12, nvidia-cudnn-cu12, nvidia-cusolver-cu12, bert-score\n",
            "Successfully installed bert-score-0.3.13 nvidia-cublas-cu12-12.1.3.1 nvidia-cuda-cupti-cu12-12.1.105 nvidia-cuda-nvrtc-cu12-12.1.105 nvidia-cuda-runtime-cu12-12.1.105 nvidia-cudnn-cu12-8.9.2.26 nvidia-cufft-cu12-11.0.2.54 nvidia-curand-cu12-10.3.2.106 nvidia-cusolver-cu12-11.4.5.107 nvidia-cusparse-cu12-12.1.0.106 nvidia-nccl-cu12-2.20.5 nvidia-nvjitlink-cu12-12.5.40 nvidia-nvtx-cu12-12.1.105\n"
          ]
        }
      ]
    },
    {
      "cell_type": "code",
      "source": [
        "import json\n",
        "from transformers import AutoTokenizer, AutoModelForCausalLM\n",
        "import torch\n",
        "from bert_score import score\n",
        "import matplotlib.pyplot as plt\n",
        "\n",
        "# Function to get model response\n",
        "def get_model_response(question):\n",
        "    prompt = f\"<|start_header_id|>system<|end_header_id|> Answer the question truthfully, you are a medical professional.<|eot_id|><|start_header_id|>user<|end_header_id|> This is the question: {question} <|eot_id|>\"\n",
        "    inputs = tokenizer([prompt], return_tensors=\"pt\").to(\"cuda\")\n",
        "    outputs = model.generate(**inputs, max_new_tokens=500, use_cache=True)\n",
        "    return tokenizer.batch_decode(outputs, skip_special_tokens=True)[0]\n",
        "\n",
        "# Load JSON data from file\n",
        "with open('ehealthforumQAs.json', 'r') as file:\n",
        "    data = json.load(file)\n",
        "\n",
        "precision_scores = []\n",
        "recall_scores = []\n",
        "f1_scores = []\n",
        "\n",
        "# Process each question in the JSON data\n",
        "for entry in data:\n",
        "    question = entry[\"question\"]\n",
        "    expected_answer = entry[\"answer\"]\n",
        "\n",
        "    # Get the model response\n",
        "    generated_answer = get_model_response(question)\n",
        "\n",
        "    # Compute BERTScore\n",
        "    P, R, F1 = score([generated_answer], [expected_answer], lang=\"en\", model_type=\"bert-base-uncased\")\n",
        "\n",
        "    print(f\"Question: {question}\")\n",
        "    print(f\"Expected Answer: {expected_answer}\")\n",
        "    print(f\"Generated Answer: {generated_answer}\")\n",
        "    print(f\"BERTScore - Precision: {P.mean().item()}, Recall: {R.mean().item()}, F1: {F1.mean().item()}\\n\")\n",
        "\n",
        "    # Append scores to respective lists\n",
        "    precision_scores.append(P.mean().item())\n",
        "    recall_scores.append(R.mean().item())\n",
        "    f1_scores.append(F1.mean().item())\n",
        "\n",
        "# Calculate average scores\n",
        "avg_precision = sum(precision_scores) / len(precision_scores)\n",
        "avg_recall = sum(recall_scores) / len(recall_scores)\n",
        "avg_f1 = sum(f1_scores) / len(f1_scores)\n",
        "\n",
        "# Plotting graphs\n",
        "scores = [avg_precision, avg_recall, avg_f1]\n",
        "metrics = [\"Precision\", \"Recall\", \"F1 Score\"]\n",
        "\n",
        "plt.bar(metrics, scores, color=['blue', 'green', 'orange'])\n",
        "plt.xlabel('Metrics')\n",
        "plt.ylabel('Average Score')\n",
        "plt.title('Average BERTScore Metrics')\n",
        "plt.show()\n"
      ],
      "metadata": {
        "colab": {
          "base_uri": "https://localhost:8080/",
          "height": 1000
        },
        "id": "e7oTh8lSkNpf",
        "outputId": "52391d77-f65f-49cc-ebfb-1375f64234d5"
      },
      "execution_count": null,
      "outputs": [
        {
          "output_type": "stream",
          "name": "stderr",
          "text": [
            "Setting `pad_token_id` to `eos_token_id`:128001 for open-end generation.\n",
            "Setting `pad_token_id` to `eos_token_id`:128001 for open-end generation.\n"
          ]
        },
        {
          "output_type": "stream",
          "name": "stdout",
          "text": [
            "Question: how do i stop smoking now\n",
            "Expected Answer: stopping smoking is about will power and being steadfast. you can stop safely by having bupropion or nicotine patch cover initially in consult with a doctor. contact an addiction clinic near you. wishing you best of health thanks\n",
            "Generated Answer: system Answer the question truthfully, you are a medical professional.user This is the question: how do i stop smoking now assistant Smoking cessation is the most effective way to prevent lung cancer.\n",
            "BERTScore - Precision: 0.4795856475830078, Recall: 0.4700198173522949, F1: 0.47475454211235046\n",
            "\n"
          ]
        },
        {
          "output_type": "stream",
          "name": "stderr",
          "text": [
            "Setting `pad_token_id` to `eos_token_id`:128001 for open-end generation.\n"
          ]
        },
        {
          "output_type": "stream",
          "name": "stdout",
          "text": [
            "Question: i had a tubaligation 4 years ago and also have a minor case of endometriosis i am only 27 and my period stopped completely 3 months ago no more spotting in between nothing i am not stressed no change in daily habits diet weight nothing all urine pregnancy tests have been negative what could be wrong with me?\n",
            "Expected Answer: hello this sounds quite unfamiliar that due to no reason at this age you have no cycle for last three months. pregnancy is surely a remote possibility as there was a tubal ligation. the endometriosis is also unlikely could cause stoppage of cycle. you definitely need some hormonal tests like thyroid or prolactin to know the balance inside as well as an withdrawal bleeding. meet your doctor for an evaluation.\n",
            "Generated Answer: system Answer the question truthfully, you are a medical professional.user This is the question: i had a tubaligation 4 years ago and also have a minor case of endometriosis i am only 27 and my period stopped completely 3 months ago no more spotting in between nothing i am not stressed no change in daily habits diet weight nothing all urine pregnancy tests have been negative what could be wrong with me? assistant There are several possible causes of amenorrhea in women with a history of tubal ligation and endometriosis. These include: \r\n",
            "Hormonal imbalance: Tubal ligation can cause hormonal imbalance in women. Hormonal imbalance can cause amenorrhea. Endometriosis can also cause hormonal imbalance. Hormonal imbalance can cause amenorrhea. \r\n",
            "Pregnancy: Although the patient has had negative urine pregnancy tests, it is still possible that she is pregnant. Pregnancy can cause amenorrhea. \r\n",
            "Pituitary gland tumor: Pituitary gland tumor can cause amenorrhea. Pituitary gland tumor can also cause hormonal imbalance. Hormonal imbalance can cause amenorrhea. \r\n",
            "Hypothalamic amenorrhea: Hypothalamic amenorrhea is a condition in which the hypothalamus does not produce enough hormones to stimulate the pituitary gland to produce hormones that stimulate the ovaries to produce estrogen. Hypothalamic amenorrhea can cause amenorrhea. Hypothalamic amenorrhea can also cause hormonal imbalance. Hormonal imbalance can cause amenorrhea. \r\n",
            "Premature ovarian failure: Premature ovarian failure is a condition in which the ovaries stop producing estrogen before the age of 40. Premature ovarian failure can cause amenorrhea. Premature ovarian failure can also cause hormonal imbalance. Hormonal imbalance can cause amenorrhea. \r\n",
            "Adrenal gland tumor: Adrenal gland tumor can cause amenorrhea. Adrenal gland tumor can also cause hormonal imbalance. Hormonal imbalance can cause amenorrhea. \r\n",
            "Thyroid gland tumor: Thyroid gland tumor can cause amenorrhea. Thyroid gland tumor can also cause hormonal imbalance. Hormonal imbalance can cause amenorrhea. \r\n",
            "Cushing's syndrome: Cushing's syndrome is a condition in which the adrenal glands produce too much cortisol. Cushing's syndrome can cause amenorrhea. Cushing's syndrome can also cause hormonal imbalance. Hormonal imbalance can cause amenorrhea. \r\n",
            "Polycystic ovary syndrome: Polycystic ovary syndrome is a condition in which the ovaries produce too much androgen. Polycystic ovary syndrome can cause amenorrhea. Polycystic ovary syndrome can also cause hormonal imbalance. Hormonal imbalance can cause amenorrhea. \r\n",
            "Hypopituitarism: Hypopituitarism is a condition in which the pituitary gland does\n",
            "BERTScore - Precision: 0.45202553272247314, Recall: 0.5249160528182983, F1: 0.48575156927108765\n",
            "\n"
          ]
        },
        {
          "output_type": "stream",
          "name": "stderr",
          "text": [
            "Setting `pad_token_id` to `eos_token_id`:128001 for open-end generation.\n"
          ]
        },
        {
          "output_type": "stream",
          "name": "stdout",
          "text": [
            "Question: could extra caffeine consumption be a cause of mild unilateral breast tenderness?\n",
            "Expected Answer: extra caffeine can cause gastric discomfort the pain of which can be felt at one side of breast mostly left side but right also is possible and some times whole chest. get evaluated for any local pathology like mastitis. i hope it helps. stay in touch with your healthcare provider for further guidance as our answers are just for education and counselling purposes and cannot be an alternative to actual visit to a doctor. take care khan\n",
            "Generated Answer: system Answer the question truthfully, you are a medical professional.user This is the question: could extra caffeine consumption be a cause of mild unilateral breast tenderness? assistant There are no established guidelines for the management of breast tenderness.\n",
            "BERTScore - Precision: 0.5294378399848938, Recall: 0.47853389382362366, F1: 0.5027005076408386\n",
            "\n"
          ]
        },
        {
          "output_type": "stream",
          "name": "stderr",
          "text": [
            "Setting `pad_token_id` to `eos_token_id`:128001 for open-end generation.\n"
          ]
        },
        {
          "output_type": "stream",
          "name": "stdout",
          "text": [
            "Question: hello- i am a 24 year old female 5\"4 & 115 lb & was diagnosed with pcos at 19. i've always been active & extremely healthy. spironolactone & an iud helped with acne & pain but in 2013 i had an ovarian torsion requiring surgery & they saved my right ovary. i began having hair loss from telogen effogen & reoccurant yeast infections- i was diagnosed as pre-diabetic & cut sugar our from my already low sugar diet. fast forward to january of this year i went to the er due to pain from another torsion on the right side & again the ovary was saved. i was put on ortho tricyclen lo & still have my iud & take the spironolactone but had horribly painful cysts last month which brought me to the er but with no torsion they did nothing. the pain has been intermitten since & is getting more severe. it feels like ice cubes in my ovaries & warm water/electic shocks down my thighs. i had the hpv vaccine but my last pap showed up irregular & the biopsy of cysts got lost. any thoughts on what happening?\n",
            "Expected Answer: hello thanks for submitting your question here. as per the description you have undergone repeated surgery for ovarian torsion where the ovary is preserved. this sounds a bit different as in torsion it is a dictum to remove the whole ovary. now as you are having recurrent pain from the ovaries you need an obg consultation right now. there may be possibility of endometriosis which might present with similar feature. you need to have the biopsy of previous operation and only after few blood tests and clinical examination; a definite opinion can be formed. sincerely dr bhattacharyya\n",
            "Generated Answer: system Answer the question truthfully, you are a medical professional.user This is the question: hello- i am a 24 year old female 5\"4 & 115 lb & was diagnosed with pcos at 19. i've always been active & extremely healthy. spironolactone & an iud helped with acne & pain but in 2013 i had an ovarian torsion requiring surgery & they saved my right ovary. i began having hair loss from telogen effogen & reoccurant yeast infections- i was diagnosed as pre-diabetic & cut sugar our from my already low sugar diet. fast forward to january of this year i went to the er due to pain from another torsion on the right side & again the ovary was saved. i was put on ortho tricyclen lo & still have my iud & take the spironolactone but had horribly painful cysts last month which brought me to the er but with no torsion they did nothing. the pain has been intermitten since & is getting more severe. it feels like ice cubes in my ovaries & warm water/electic shocks down my thighs. i had the hpv vaccine but my last pap showed up irregular & the biopsy of cysts got lost. any thoughts on what happening? assistant There are no established guidelines for the prevention of ovarian torsion.\n",
            "BERTScore - Precision: 0.5089997053146362, Recall: 0.5664175748825073, F1: 0.5361758470535278\n",
            "\n"
          ]
        },
        {
          "output_type": "stream",
          "name": "stderr",
          "text": [
            "Setting `pad_token_id` to `eos_token_id`:128001 for open-end generation.\n"
          ]
        },
        {
          "output_type": "stream",
          "name": "stdout",
          "text": [
            "Question: i was wanting to know if you could tell me if its possible for a woman to go through all their pregnancy without knowing they are pregnant and have periods and ngative pregnancy tests? iwas watching the show called \"i didnt know i was pregnant\" and wanted to know how real and accurate this show is and how somthing like that could happen?\n",
            "Expected Answer: i am glad to help you out. this is not possible scientifically for a woman not to know and still be pregnant throughout the pregnancy. it is also not possible for the periods to continue and still be pregnant. the confirmation can be done by doing a urine pregnancy test or an ultrasound abdomen. the story of âi didnât know i was pregnantâ seems more like a fiction and less like a reality. i sincerely hope that helps. take care.\n",
            "Generated Answer: system Answer the question truthfully, you are a medical professional.user This is the question: i was wanting to know if you could tell me if its possible for a woman to go through all their pregnancy without knowing they are pregnant and have periods and ngative pregnancy tests? iwas watching the show called \"i didnt know i was pregnant\" and wanted to know how real and accurate this show is and how somthing like that could happen? assistant The show \"I Didn't Know I Was Pregnant\" is a reality TV show that airs on TLC. The show features women who were unaware they were pregnant until they gave birth. The show is a mix of documentary and reality TV, and it is not scripted. The women featured on the show are real people who were unaware they were pregnant until they gave birth. The show is a mix of documentary and reality TV, and it is not scripted. The women featured on the show are real people who were unaware they were pregnant until they gave birth.\n",
            "BERTScore - Precision: 0.5163719058036804, Recall: 0.5889819264411926, F1: 0.5502920746803284\n",
            "\n"
          ]
        },
        {
          "output_type": "stream",
          "name": "stderr",
          "text": [
            "Setting `pad_token_id` to `eos_token_id`:128001 for open-end generation.\n"
          ]
        },
        {
          "output_type": "stream",
          "name": "stdout",
          "text": [
            "Question: i have been taking methadose and oxycotin illeagely for over a year now. i am now trying to quit. the withdrawls are the worst thing i have ever experienced. so i keep going back to get more. i have no insurance and i dont have the money to go to the e. r. is there any way i can ease the pain so i can get my life back in order. please help i dont know what to do.\n",
            "Expected Answer: you are not alone. you should consider expert help from medical professionals who specialize in drug treatment. there are specialists who can counsel you during your detoxification from narcotics and provide medical assistance during this process. also you can call a drug or alcohol helpline to identify treatment centers in your area. treatment centers medically intake patients for as long as is necessary for you to understand the disease of drug addiction learn preventative measures to counter the disease and develop belief that there is life after methadone and oxycotin. further you may need the support of your friends family and a 12-step support group to fully recover from your addiction. simply to recover from addiction you need a willingness to change your life and the humility to start to take suggestions. to save your life you can take action now.\n",
            "Generated Answer: system Answer the question truthfully, you are a medical professional.user This is the question: i have been taking methadose and oxycotin illeagely for over a year now. i am now trying to quit. the withdrawls are the worst thing i have ever experienced. so i keep going back to get more. i have no insurance and i dont have the money to go to the e. r. is there any way i can ease the pain so i can get my life back in order. please help i dont know what to do. assistant I am not a medical professional. If you are experiencing withdrawal symptoms, please seek medical attention.\n",
            "BERTScore - Precision: 0.5026642680168152, Recall: 0.5133740901947021, F1: 0.507962703704834\n",
            "\n"
          ]
        },
        {
          "output_type": "stream",
          "name": "stderr",
          "text": [
            "Setting `pad_token_id` to `eos_token_id`:128001 for open-end generation.\n"
          ]
        },
        {
          "output_type": "stream",
          "name": "stdout",
          "text": [
            "Question: i need help i drink every night and think that it has something to do with my personal life and the way i deal with things. i used to love my job and the banter now they are making me feel down and worthless. my husband has been doing this for a while now and i really need some help to stop other people making me feel so useless and worthless.\n",
            "Expected Answer: it is difficult to analyse your situation without a physical examination and a psychiatric complete history. you might definitely benefit by consulting a psychiatrist who can help you properly in dealing with your problems and prescribe you medications if needed.\n",
            "Generated Answer: system Answer the question truthfully, you are a medical professional.user This is the question: i need help i drink every night and think that it has something to do with my personal life and the way i deal with things. i used to love my job and the banter now they are making me feel down and worthless. my husband has been doing this for a while now and i really need some help to stop other people making me feel so useless and worthless. assistant It is important to recognize that you are not alone in this struggle. There are many people who have been in your shoes and have come out on top. It is important to remember that you are not defined by your job or your drinking. You are a person with many talents and abilities. It is important to remember that you are worthy of love and respect, regardless of your job or your drinking.\n",
            "BERTScore - Precision: 0.44256848096847534, Recall: 0.5190743803977966, F1: 0.4777781069278717\n",
            "\n"
          ]
        },
        {
          "output_type": "stream",
          "name": "stderr",
          "text": [
            "Setting `pad_token_id` to `eos_token_id`:128001 for open-end generation.\n"
          ]
        },
        {
          "output_type": "stream",
          "name": "stdout",
          "text": [
            "Question: i have had a lot of trouble getting off of narcotics (percocet and morphine my knee surgeon would give me the percocet and my family dr would give me the morphine) but this time i have actually done it. my last time using it was on new years eve. physically i am fine. mentally though i keep getting cravings for it and i try to figure out how to get more. (surgeon said if i need some go to my family doctor. family doctor would not give me anymore due to asking for refills too soon after getting a rx. ) i then tell myself \"no\" and then remind myself how far i have come. my question is: how long will it take for the mental withdrawl to go away? i am getting scared that i may given into one of those cravings and go to a hospital to get some. any suggestions on how to deal with this would be greatly appreciated.\n",
            "Expected Answer: given the description you could be experiencing mental dependency on narcotics. it doesnât seem that you are physically dependent on narcotics currently. in time if you donât stop abusing narcotics you may develop physical dependence of the drugs. mental and emotional dependence on drugs is defined as a need for narcotics to achieve pleasure. physically dependent addicts require narcotics to stay alive. you can ask for expert help from a mental health doctor for drug addiction treatment. many former addicts have also found a way to keep the \"mental withdrawal\" in control by joining support groups like narcotics anonymous or alcoholics anonymous. these groups advocate complete lifestyle and belief change in order to recover from addiction. you can visit their websites at www. na. org or www. alcoholics-anonymous. org to look for a meeting near you.\n",
            "Generated Answer: system Answer the question truthfully, you are a medical professional.user This is the question: i have had a lot of trouble getting off of narcotics (percocet and morphine my knee surgeon would give me the percocet and my family dr would give me the morphine) but this time i have actually done it. my last time using it was on new years eve. physically i am fine. mentally though i keep getting cravings for it and i try to figure out how to get more. (surgeon said if i need some go to my family doctor. family doctor would not give me anymore due to asking for refills too soon after getting a rx. ) i then tell myself \"no\" and then remind myself how far i have come. my question is: how long will it take for the mental withdrawl to go away? i am getting scared that i may given into one of those cravings and go to a hospital to get some. any suggestions on how to deal with this would be greatly appreciated. assistant Congratulations on your progress! It's understandable that you're concerned about the mental withdrawal symptoms. The good news is that they are temporary and will subside with time. The duration of mental withdrawal symptoms can vary from person to person, but generally, they can last anywhere from a few weeks to several months.\r\n",
            "Here are some tips to help you cope with mental withdrawal symptoms:\r\n",
            "1. Stay positive: Remind yourself of your progress and how far you've come. Celebrate your small victories and acknowledge your hard work.\r\n",
            "2. Stay active: Engage in physical activities that you enjoy, such as walking, running, swimming, or yoga. Exercise can help reduce stress and anxiety.\r\n",
            "3. Stay connected: Reach out to friends and family members who support you. Join a support group or online community to connect with others who are going through similar experiences.\r\n",
            "4. Stay focused: Keep your mind occupied with work, hobbies, or other activities that bring you joy. Avoid dwelling on negative thoughts or emotions.\r\n",
            "5. Stay patient: Remember that mental withdrawal symptoms are temporary and will subside with time. Be patient and don't give in to cravings.\r\n",
            "6. Seek professional help: If you're struggling with severe mental withdrawal symptoms or if you're having trouble managing your cravings, consider seeking professional help. A therapist or counselor can help you develop coping strategies and provide support during this challenging time.\r\n",
            "7. Stay informed: Educate yourself about the risks and consequences of relapse. Learn about the signs and symptoms of relapse and how to prevent it.\r\n",
            "8. Stay committed: Remind yourself why you wanted to stop using drugs in the first place. Stay committed to your goals and remember that you're stronger than your addiction.\r\n",
            "9. Stay hopeful: Keep a positive outlook and remember that you're not alone. There are many resources available to help you overcome your addiction and achieve a healthier, happier life.\r\n",
            "10. Stay grateful: Practice gratitude by focusing on the good things in your life. Keep a gratitude journal to help you stay positive and focused on the good things.\r\n",
            "\r\n",
            "Remember, overcoming addiction is a journey, and it's okay to take it one day at a time. Stay strong, stay focused, and stay committed to your goals.\n",
            "BERTScore - Precision: 0.4828810393810272, Recall: 0.5614036917686462, F1: 0.5191901922225952\n",
            "\n"
          ]
        },
        {
          "output_type": "stream",
          "name": "stderr",
          "text": [
            "Setting `pad_token_id` to `eos_token_id`:128001 for open-end generation.\n"
          ]
        },
        {
          "output_type": "stream",
          "name": "stdout",
          "text": [
            "Question: hi. my name is roberto writing from italy. i write here because i'd have a question i can't resolve in my hometown. let me introduce me: i'm a karate black belt and i like to study anatomy in order to be as more effective as i can. my question is about windpipe's rings resistance to pressure and/or strikes. in short i'd like to know how much it takes to crush/to flat trachea's cartilages with a sharp strike to the cervical part of the throat. thankyou for your attention and patience.\n",
            "Expected Answer: it does not take much force at all to crush the larynx. crushing the human throat takes roughly that same amount of pressure as crushing an empty soda container. this is why a move such as a throat gouge should never be used in a fight. the only time this kind of move should be used is if it is life or death. a hit to the throat can easily kill a person and is not to joked with. i hope this clears your doubts.\n",
            "Generated Answer: system Answer the question truthfully, you are a medical professional.user This is the question: hi. my name is roberto writing from italy. i write here because i'd have a question i can't resolve in my hometown. let me introduce me: i'm a karate black belt and i like to study anatomy in order to be as more effective as i can. my question is about windpipe's rings resistance to pressure and/or strikes. in short i'd like to know how much it takes to crush/to flat trachea's cartilages with a sharp strike to the cervical part of the throat. thankyou for your attention and patience. assistant I cannot provide information on how to cause harm to the human body.\n",
            "BERTScore - Precision: 0.46241557598114014, Recall: 0.5070222616195679, F1: 0.4836926758289337\n",
            "\n"
          ]
        },
        {
          "output_type": "stream",
          "name": "stderr",
          "text": [
            "Setting `pad_token_id` to `eos_token_id`:128001 for open-end generation.\n"
          ]
        },
        {
          "output_type": "stream",
          "name": "stdout",
          "text": [
            "Question: the stool color is black (not loose) - is the black color of stool due to any of the above medicines? being holiday can not consult doctor instantly\n",
            "Expected Answer: medicines that contain iron like tonoferon usually causes black stool.\n",
            "Generated Answer: system Answer the question truthfully, you are a medical professional.user This is the question: the stool color is black (not loose) - is the black color of stool due to any of the above medicines? being holiday can not consult doctor instantly assistant There are no specific treatments for black stools.\n",
            "BERTScore - Precision: 0.38447532057762146, Recall: 0.4856562316417694, F1: 0.4291829764842987\n",
            "\n"
          ]
        },
        {
          "output_type": "stream",
          "name": "stderr",
          "text": [
            "Setting `pad_token_id` to `eos_token_id`:128001 for open-end generation.\n"
          ]
        },
        {
          "output_type": "stream",
          "name": "stdout",
          "text": [
            "Question: why is it that the medical profession is so behind the times when it comes to considering the feelings of husbands as it pertains to their wive's medical care. i just recently learned about the exams my wife has been subjected to on a yearly basis (at least one of the following: pelvic exam pap smear breast exam). it depresses and angers me that a male physician can perform those exams without my consent. meanwhile the same doctor over the course of more than 10 years has never asked me to remove anything more than my shirt while she is asked to strip down every time she sees him. i think without the consent of both partners in a marriage that it should be illegal for an opposite sex health care professional to perform invasive exams of this nature. we're not talking about an emergency here and i feel that he has caused irreparable damage to our marriage and has taken something from me that i can't ever get back. what is your take on this?\n",
            "Expected Answer: you are right but the body is not yours. its your wife decision plus a doctor's eyes are never perverted. they ccan't see an appealing body all they look for is a trouble if any. thats it. it's called patient doctor relationship you are not even a patient. medical ethics don't even let you in here. if you feel this way discuss it with your wife persuade her to get a female examiner. tou can't do that. get some couple therapy sessions if you can't figure it out. in us it works this way. had you been in some non us state or a muslim one it would have been not possible with out your consent. but free country right. i hope it helps. visit our health centre for further guidance. take care\n",
            "Generated Answer: system Answer the question truthfully, you are a medical professional.user This is the question: why is it that the medical profession is so behind the times when it comes to considering the feelings of husbands as it pertains to their wive's medical care. i just recently learned about the exams my wife has been subjected to on a yearly basis (at least one of the following: pelvic exam pap smear breast exam). it depresses and angers me that a male physician can perform those exams without my consent. meanwhile the same doctor over the course of more than 10 years has never asked me to remove anything more than my shirt while she is asked to strip down every time she sees him. i think without the consent of both partners in a marriage that it should be illegal for an opposite sex health care professional to perform invasive exams of this nature. we're not talking about an emergency here and i feel that he has caused irreparable damage to our marriage and has taken something from me that i can't ever get back. what is your take on this? assistant It is important to note that the medical profession is not behind the times in considering the feelings of husbands as it pertains to their wive's medical care. In fact, the medical profession has been working to improve the communication between patients and their healthcare providers. The American Medical Association (AMA) has developed a patient-centered care model that emphasizes the importance of patient communication and patient-centered care. The AMA has also developed a patient-centered care model that emphasizes the importance of patient communication and patient-centered care.\n",
            "BERTScore - Precision: 0.4537413716316223, Recall: 0.5158259272575378, F1: 0.48279592394828796\n",
            "\n"
          ]
        },
        {
          "output_type": "stream",
          "name": "stderr",
          "text": [
            "Setting `pad_token_id` to `eos_token_id`:128001 for open-end generation.\n"
          ]
        },
        {
          "output_type": "stream",
          "name": "stdout",
          "text": [
            "Question: is it best to start on sinemet or \"hold off\".\n",
            "Expected Answer: sinemet is a combination of levodopa and carbidopa. this medicine is used for treating parkinsonâs disease. the choice of medicine(s) and dosage is strongly individual. you can consult your neurologist on whether or not to start sinemet or wait and hold off.\n",
            "Generated Answer: system Answer the question truthfully, you are a medical professional.user This is the question: is it best to start on sinemet or \"hold off\". assistant There is no evidence to support the use of Sinemet in the treatment of Parkinson's disease.\n",
            "BERTScore - Precision: 0.5629273056983948, Recall: 0.5514472723007202, F1: 0.5571281313896179\n",
            "\n"
          ]
        },
        {
          "output_type": "stream",
          "name": "stderr",
          "text": [
            "Setting `pad_token_id` to `eos_token_id`:128001 for open-end generation.\n"
          ]
        },
        {
          "output_type": "stream",
          "name": "stdout",
          "text": [
            "Question: i may need diagnostic testing and this time i have a trail period before i can get my health insurance. i would be a self-pay pt and fear the cost of such tests. if i go to an emergency room can i convince them to order mris cts without insurance if i am concerned? i am putting this off for as long as i can right now.\n",
            "Expected Answer: you need to confirm with your insurance provider regarding coverage of investigation and consultation charges during your trial period. if these investigations are covered by your insurance provider during the trial period then these would be done for you during your visit to emergency. if these investigations are required to be done immediately then the doctors in the emergency room will get these done (as based on your examination findings and current health status) and you need to pay for them yourself in case your insurance provider does not cover these. you need not have to convince them to get these done. take care.\n",
            "Generated Answer: system Answer the question truthfully, you are a medical professional.user This is the question: i may need diagnostic testing and this time i have a trail period before i can get my health insurance. i would be a self-pay pt and fear the cost of such tests. if i go to an emergency room can i convince them to order mris cts without insurance if i am concerned? i am putting this off for as long as i can right now. assistant If you are experiencing symptoms that are concerning to you, it is best to seek medical attention. If you are unable to afford the tests, you may want to consider the following options:\r\n",
            "\r\n",
            "1. Contact your local hospital or emergency room and ask if they have any financial assistance programs or sliding scale fees.\r\n",
            "2. Contact your local health department and ask if they have any resources or programs that may be able to help you pay for the tests.\r\n",
            "3. Contact your local non-profit organizations that provide financial assistance for medical care.\r\n",
            "4. Contact your local community clinics and ask if they have any financial assistance programs or sliding scale fees.\r\n",
            "5. Contact your local medical schools and ask if they have any programs that may be able to help you pay for the tests.\r\n",
            "6. Contact your local hospitals and ask if they have any financial assistance programs or sliding scale fees.\r\n",
            "7. Contact your local non-profit organizations that provide financial assistance for medical care.\r\n",
            "8. Contact your local community clinics and ask if they have any financial assistance programs or sliding scale fees.\r\n",
            "9. Contact your local medical schools and ask if they have any programs that may be able to help you pay for the tests.\r\n",
            "10. Contact your local hospitals and ask if they have any financial assistance programs or sliding scale fees.\r\n",
            "11. Contact your local non-profit organizations that provide financial assistance for medical care.\r\n",
            "12. Contact your local community clinics and ask if they have any financial assistance programs or sliding scale fees.\r\n",
            "13. Contact your local medical schools and ask if they have any programs that may be able to help you pay for the tests.\r\n",
            "14. Contact your local hospitals and ask if they have any financial assistance programs or sliding scale fees.\r\n",
            "15. Contact your local non-profit organizations that provide financial assistance for medical care.\r\n",
            "16. Contact your local community clinics and ask if they have any financial assistance programs or sliding scale fees.\r\n",
            "17. Contact your local medical schools and ask if they have any programs that may be able to help you pay for the tests.\r\n",
            "18. Contact your local hospitals and ask if they have any financial assistance programs or sliding scale fees.\r\n",
            "19. Contact your local non-profit organizations that provide financial assistance for medical care.\r\n",
            "20. Contact your local community clinics and ask if they have any financial assistance programs or sliding scale fees.\r\n",
            "21. Contact your local medical schools and ask if they have any programs that may be able to help you pay for the tests.\r\n",
            "22. Contact your local hospitals and ask if they have any financial assistance\n",
            "BERTScore - Precision: 0.4754621684551239, Recall: 0.5678082704544067, F1: 0.517548143863678\n",
            "\n"
          ]
        },
        {
          "output_type": "stream",
          "name": "stderr",
          "text": [
            "Setting `pad_token_id` to `eos_token_id`:128001 for open-end generation.\n"
          ]
        },
        {
          "output_type": "stream",
          "name": "stdout",
          "text": [
            "Question: its been since august 15 2012 and i have had issues. the incision in my bellybutton keeps spliting open infection. my dr. told me no it is not infection! did nothing! everything i try to eat even (one) bite. it feels like a rubber band is snapping inside! when i sleep on my left side everything on the right settles i feel something moving! there is an egg sized (? ) in the center between my navel and ribs. what could possibly cause the snapping feeling and what could possibly be moving inside me? kind of freaked out especially when my dr. who is a ta says nothing is wrong. i was 110 when this all began i am under 100 lbs i am 5ft 5in and nothing tastes good smells good and i'm nausious all the time.\n",
            "Expected Answer: it seems you are suffering from reflux and gastritis which is a common issue after gall bladder removal. regarding the abnormal feeling it requires a clinical examination to comment regarding the exact cause. it might be that the incision site is healing which can cause some hardening of the involved and surrounding region. the simple measures that are likely to help you are- 1. certain foods such as cauliflower broccoli cabbage brussels sprouts and legumes (beans) may cause bloating and gassiness. 2. dietary fiber may lessen symptoms. you should drink plenty of water and avoid soda which may cause gas and abdominal discomfort. 3. you can use some over the counter drugs like pepto bismol or tums for symptomatic relief. consider visiting the treating surgeon once for evaluation. take care!\n",
            "Generated Answer: system Answer the question truthfully, you are a medical professional.user This is the question: its been since august 15 2012 and i have had issues. the incision in my bellybutton keeps spliting open infection. my dr. told me no it is not infection! did nothing! everything i try to eat even (one) bite. it feels like a rubber band is snapping inside! when i sleep on my left side everything on the right settles i feel something moving! there is an egg sized (? ) in the center between my navel and ribs. what could possibly cause the snapping feeling and what could possibly be moving inside me? kind of freaked out especially when my dr. who is a ta says nothing is wrong. i was 110 when this all began i am under 100 lbs i am 5ft 5in and nothing tastes good smells good and i'm nausious all the time. assistant I am not a medical professional. I can provide you with some general information about the symptoms you are experiencing.  The symptoms you are describing are not uncommon after a laparoscopic surgery. The symptoms you are experiencing are usually related to the surgery and the recovery process. The symptoms you are experiencing are usually related to the surgery and the recovery process.  The symptoms you are experiencing are usually related to the surgery and the recovery process. The symptoms you are experiencing are usually related to the surgery and the recovery process.\n",
            "BERTScore - Precision: 0.49587640166282654, Recall: 0.5076561570167542, F1: 0.5016971230506897\n",
            "\n"
          ]
        },
        {
          "output_type": "stream",
          "name": "stderr",
          "text": [
            "Setting `pad_token_id` to `eos_token_id`:128001 for open-end generation.\n"
          ]
        },
        {
          "output_type": "stream",
          "name": "stdout",
          "text": [
            "Question: hello i've had an endoscopic sinus surgery some days ago. my doctor didn't gave me any specific guidance and i've had sex with my wife from the 2nd day after surgery. i saw some websites which prohibited patients from strenuous activities as sex so i was wondering if it is so harmful? and if yes why? or it will just cause bleeding from sinuses? i have some kind of headaches now and i'm really worried so any help is so appreciated! thanks in advance for your attention!\n",
            "Expected Answer: yes after the surgery any strenous activty including intercourse is to be avoided for a week to avoid any pressure in the sinuses as it can lead to bleeding. relax yourself as headache which is moderate in intensity could be present in some patients for several weeks following surgery. if you notice any other symptom as severe pain bleeding fever decrease in vision double vision then consider visiting your treating doctor immediately. avoid blowing your nose also for a week. take care!\n",
            "Generated Answer: system Answer the question truthfully, you are a medical professional.user This is the question: hello i've had an endoscopic sinus surgery some days ago. my doctor didn't gave me any specific guidance and i've had sex with my wife from the 2nd day after surgery. i saw some websites which prohibited patients from strenuous activities as sex so i was wondering if it is so harmful? and if yes why? or it will just cause bleeding from sinuses? i have some kind of headaches now and i'm really worried so any help is so appreciated! thanks in advance for your attention! assistant It is generally recommended to avoid sexual activity for at least 2 weeks after endoscopic sinus surgery.\n",
            "BERTScore - Precision: 0.5108652710914612, Recall: 0.5677709579467773, F1: 0.5378170609474182\n",
            "\n"
          ]
        },
        {
          "output_type": "stream",
          "name": "stderr",
          "text": [
            "Setting `pad_token_id` to `eos_token_id`:128001 for open-end generation.\n"
          ]
        },
        {
          "output_type": "stream",
          "name": "stdout",
          "text": [
            "Question: abortion benefits\n",
            "Expected Answer: abortion the clinical way of stopping an unplanned/unprepared/unhealthy pregnancy.\n",
            "Generated Answer: system Answer the question truthfully, you are a medical professional.user This is the question: abortion benefits assistant There are no benefits to abortion.\n",
            "BERTScore - Precision: 0.4019319415092468, Recall: 0.39064449071884155, F1: 0.3962078392505646\n",
            "\n"
          ]
        },
        {
          "output_type": "stream",
          "name": "stderr",
          "text": [
            "Setting `pad_token_id` to `eos_token_id`:128001 for open-end generation.\n"
          ]
        },
        {
          "output_type": "stream",
          "name": "stdout",
          "text": [
            "Question: i had a surgical-abortion a year ago now am pregnant again but this time iam thinking of having a medical-abortion is my medical-abortion going to have any trouble because i had a surgical abortion a year ago?\n",
            "Expected Answer: the term medical abortion is used when a medicine is given in order to perform a chemically induced abortion. the results are better if the medication is given earlier. there are various medications that might be used. most of the women would abort within hours but it can also take up to several weeks to complete the abortion. the complications are usually rare. anyway a prolonged bleeding might occur that will need a suction. most doctors and researcher agree that a prior surgical abortion is not a contraindication for a medical abortion. however the medical abortion has to be advised and led by a doctor after a complete examination of the woman.\n",
            "Generated Answer: system Answer the question truthfully, you are a medical professional.user This is the question: i had a surgical-abortion a year ago now am pregnant again but this time iam thinking of having a medical-abortion is my medical-abortion going to have any trouble because i had a surgical abortion a year ago? assistant There are no known complications associated with medical abortion in women who have had a previous surgical abortion.\n",
            "BERTScore - Precision: 0.5254705548286438, Recall: 0.5156731605529785, F1: 0.5205258131027222\n",
            "\n"
          ]
        },
        {
          "output_type": "stream",
          "name": "stderr",
          "text": [
            "Setting `pad_token_id` to `eos_token_id`:128001 for open-end generation.\n"
          ]
        },
        {
          "output_type": "stream",
          "name": "stdout",
          "text": [
            "Question: how i loose my waight\n",
            "Expected Answer: obesity needs to be documented first by calculating the bmi i. e the body mass index if obesity is present a lipid profile should also be done along with crp/esr to prevent atherosclerosis progression. thyroid profile should also be done as part of the workup. limiting caloric intake division into small meals increasing dry fiber intake and regular exercise can be applied as part of daily routine to have a controlled reduction in weight. please consult a nutritionist regarding your daily diet so that he/she may alter it according to your preference as much as possible. wishing you best of health thanks\n",
            "Generated Answer: system Answer the question truthfully, you are a medical professional.user This is the question: how i loose my waight assistant There are many ways to lose weight. Here are some tips that may help: 1. Eat a healthy diet. A diet that is high in fruits, vegetables, whole grains, and lean protein can help you lose weight. 2. Exercise regularly. Exercise can help you burn calories and build muscle. 3. Get enough sleep. Sleep deprivation can increase your appetite and make it harder to lose weight. 4. Reduce your stress levels. Stress can increase your appetite and make it harder to lose weight. 5. Drink plenty of water. Drinking water can help you feel full and reduce your appetite.\n",
            "BERTScore - Precision: 0.5169427394866943, Recall: 0.47795554995536804, F1: 0.4966852366924286\n",
            "\n"
          ]
        },
        {
          "output_type": "stream",
          "name": "stderr",
          "text": [
            "Setting `pad_token_id` to `eos_token_id`:128001 for open-end generation.\n"
          ]
        },
        {
          "output_type": "stream",
          "name": "stdout",
          "text": [
            "Question: i am very concerned about my girlfriend's weight. she is 21 years old 5'5\" and 249lbs. she has gained almost 60lbs in the last two years. i also know for a fact that she was less than 140lbs when she was sixteen and this gaining seems to be way out of control. i am very worried because she seems so tired she is out of shape avoid stairs - if we have to use the stairs she is always out of breath. as i write i am very worried but i don't know what to do or how this weight will affect her. i've never been overweight myself but always heard about how difficult and harmful it is. given her recent weight gain what is the risk factors for her? if she goes to her doctor will the doctor mention her weight? because most 21 year old girls wouldn't get out of breath by just walking some stairs right.\n",
            "Expected Answer: yes you are right. the four main causes which need to be ruled out in her case are anemia low thyroid function diabetes and polycystic ovary. if these are ruled out then other causes like hormonal disorders kidney heart and liver disorders need to be ruled out. please take her to a doctor and tell about her symptoms. the doctor will look into these causes. hope this helps. take care!\n",
            "Generated Answer: system Answer the question truthfully, you are a medical professional.user This is the question: i am very concerned about my girlfriend's weight. she is 21 years old 5'5\" and 249lbs. she has gained almost 60lbs in the last two years. i also know for a fact that she was less than 140lbs when she was sixteen and this gaining seems to be way out of control. i am very worried because she seems so tired she is out of shape avoid stairs - if we have to use the stairs she is always out of breath. as i write i am very worried but i don't know what to do or how this weight will affect her. i've never been overweight myself but always heard about how difficult and harmful it is. given her recent weight gain what is the risk factors for her? if she goes to her doctor will the doctor mention her weight? because most 21 year old girls wouldn't get out of breath by just walking some stairs right. assistant It is important to note that the BMI is not a perfect measure of health. However, it is a useful tool for identifying individuals who are at risk for health problems. The BMI is calculated by dividing the weight in kilograms by the square of the height in meters. The BMI is then classified into the following categories: underweight (BMI < 18.5), normal weight (BMI = 18.5-24.9), overweight (BMI = 25-29.9), and obese (BMI ≥ 30).\n",
            "BERTScore - Precision: 0.4131007194519043, Recall: 0.5052318572998047, F1: 0.4545447826385498\n",
            "\n"
          ]
        },
        {
          "output_type": "stream",
          "name": "stderr",
          "text": [
            "Setting `pad_token_id` to `eos_token_id`:128001 for open-end generation.\n"
          ]
        },
        {
          "output_type": "stream",
          "name": "stdout",
          "text": [
            "Question: is there a way to get monolids? (naturally)\n",
            "Expected Answer: monolid or mono eyelid or epicanthic fold (technical term) is a single eyelid instead of double eyelids. this pattern of eyelids is usually a genetic inheritence (by birth) and there is no other way to acquire it naturally. epicanthic fold or monolid is believed to have evolved in order to provide defense from the extreme cold and extreme light that occur in eurasian arctic and northern regions. they also protect eyes against dust in areas of deserts such as of northern china and mongolia and some parts of africa. monolid is seen naturally in - - mongoloid asians - europeans (scandinavians poles germans the irish and british. ) and - africans you can consult a cosmetic surgeon and seek a opinion if you are interested in it. i hope this helps.\n",
            "Generated Answer: system Answer the question truthfully, you are a medical professional.user This is the question: is there a way to get monolids? (naturally) assistant Monolid surgery is a cosmetic procedure that is used to create a crease in the eyelid.\n",
            "BERTScore - Precision: 0.5383198857307434, Recall: 0.4539063572883606, F1: 0.49252238869667053\n",
            "\n"
          ]
        },
        {
          "output_type": "stream",
          "name": "stderr",
          "text": [
            "Setting `pad_token_id` to `eos_token_id`:128001 for open-end generation.\n"
          ]
        },
        {
          "output_type": "stream",
          "name": "stdout",
          "text": [
            "Question: hi there! i am a 20 year old girl with extremely large breasts. since i was 12 years old and hit puberty my breasts have always been above average. at that age i wore a 36c and have continued to go up since then. i now wear a 34ff after being properly fitted. my question relates to whether or not i will be covered. i suffer from back pain and shoulder pain including debilitating spasms and have since developed mild scoliosis. i am in almost constant pain from my back or shoulders and in order to exercise i need to wear at least 3 bras usually 2 sports bras and 1 regular one. in everyday life i have to wear two bras and because of this i have deep lines on my sides shoulders and back from the straps and have to put cream on the raw skin. i also want to know what the chances are i will be able to breast feed and whether or not i can have this surgery now or do i need to wait until i'm older? thanks so much\n",
            "Expected Answer: whether your surgery will be covered depends on whether your insurance company pays for this procedure and what their criteria for medical necessity are. consult with a board certified plastic surgeon with proper training and experience in breast reduction surgery. they would be more helpful in assisting you.\n",
            "Generated Answer: system Answer the question truthfully, you are a medical professional.user This is the question: hi there! i am a 20 year old girl with extremely large breasts. since i was 12 years old and hit puberty my breasts have always been above average. at that age i wore a 36c and have continued to go up since then. i now wear a 34ff after being properly fitted. my question relates to whether or not i will be covered. i suffer from back pain and shoulder pain including debilitating spasms and have since developed mild scoliosis. i am in almost constant pain from my back or shoulders and in order to exercise i need to wear at least 3 bras usually 2 sports bras and 1 regular one. in everyday life i have to wear two bras and because of this i have deep lines on my sides shoulders and back from the straps and have to put cream on the raw skin. i also want to know what the chances are i will be able to breast feed and whether or not i can have this surgery now or do i need to wait until i'm older? thanks so much assistant There are no established guidelines for the management of breast hypertrophy.\n",
            "BERTScore - Precision: 0.42316630482673645, Recall: 0.5565166473388672, F1: 0.4807659685611725\n",
            "\n"
          ]
        },
        {
          "output_type": "stream",
          "name": "stderr",
          "text": [
            "Setting `pad_token_id` to `eos_token_id`:128001 for open-end generation.\n"
          ]
        },
        {
          "output_type": "stream",
          "name": "stdout",
          "text": [
            "Question: i'm factor v laiden and was wondering if it's safe for me to start taking borage oil? i've been researching online and have not been able to get any information on this topic.\n",
            "Expected Answer: hi thank you for contacting ehf. borage oil in preliminary research has been shown to potentiate the effect of warfarin which you must be on since you are factor v leiden patient. thus please avoid the use of it to prevent the interaction. also don't forget to do your scheduled inr dr. khan.\n",
            "Generated Answer: system Answer the question truthfully, you are a medical professional.user This is the question: i'm factor v laiden and was wondering if it's safe for me to start taking borage oil? i've been researching online and have not been able to get any information on this topic. assistant Borage oil is generally considered safe for use in the recommended dietary amounts. However, it may cause some side effects, such as stomach upset, diarrhea, and allergic reactions.\n",
            "BERTScore - Precision: 0.4770348072052002, Recall: 0.5192781090736389, F1: 0.4972608983516693\n",
            "\n"
          ]
        },
        {
          "output_type": "stream",
          "name": "stderr",
          "text": [
            "Setting `pad_token_id` to `eos_token_id`:128001 for open-end generation.\n"
          ]
        },
        {
          "output_type": "stream",
          "name": "stdout",
          "text": [
            "Question: how can i control the lipomo. i have many nos. oflipomo in my body. pls advse\n",
            "Expected Answer: hello and welcome to ehealth forum! what you describe as âmultiple lipomoâ is probably âlipomasâ. the exact cause of lipomas isn't known. lipomas tend to run in families as hereditary familial lipomatosis so genetic factors play a role in some cases. sometimes lipomas occur after an injury but it cannot be said for sure whether they are caused by the trauma or whether they were accidently detected after injury. coming back to your question it is difficult to say how to control it as the cause is not known. since you have many of them there is a chance that it runs in your family. this is a benign tumor (not cancerous) and hence generally left as it is. hope this helps. take care!\n",
            "Generated Answer: system Answer the question truthfully, you are a medical professional.user This is the question: how can i control the lipomo. i have many nos. oflipomo in my body. pls advse assistant Lipomas are benign tumors that do not require treatment. However, if the lipoma is painful or if it is growing rapidly, it may be removed surgically.\n",
            "BERTScore - Precision: 0.5838322639465332, Recall: 0.5267478227615356, F1: 0.553822934627533\n",
            "\n"
          ]
        },
        {
          "output_type": "stream",
          "name": "stderr",
          "text": [
            "Setting `pad_token_id` to `eos_token_id`:128001 for open-end generation.\n"
          ]
        },
        {
          "output_type": "stream",
          "name": "stdout",
          "text": [
            "Question: how well homeopathic medicine such as rescue remedy or aconitum works for anxiety? any side effects? my therapist recommended to me but i'm still not sure.\n",
            "Expected Answer: sorry i am an allopathic doctor and do not have any idea about homeopathic medications. but usually homeopathic medicines do not cause any severe side effects if taken accordingly as recommended and one medicine might work on different indications with different doses and recommendations. take care!\n",
            "Generated Answer: system Answer the question truthfully, you are a medical professional.user This is the question: how well homeopathic medicine such as rescue remedy or aconitum works for anxiety? any side effects? my therapist recommended to me but i'm still not sure. assistant Rescue Remedy is a homeopathic remedy that is used to treat anxiety and stress. It is a combination of five homeopathic remedies: Aconitum, Arnica, Gelsemium, Impatiens, and Belladonna. It is available in various forms such as tablets, liquid, and spray. Rescue Remedy is used to treat anxiety and stress caused by various factors such as work, school, or personal problems. It is also used to treat anxiety caused by medical conditions such as heart disease, diabetes, and cancer. Rescue Remedy is also used to treat anxiety caused by substance abuse. Rescue Remedy is also used to treat anxiety caused by withdrawal from drugs. Rescue Remedy is also used to treat anxiety caused by withdrawal from alcohol. Rescue Remedy is also used to treat anxiety caused by withdrawal from nicotine. Rescue Remedy is also used to treat anxiety caused by withdrawal from other substances. Rescue Remedy is also used to treat anxiety caused by withdrawal from other substances. Rescue Remedy is also used to treat anxiety caused by withdrawal from other substances. Rescue Remedy is also used to treat anxiety caused by withdrawal from other substances. Rescue Remedy is also used to treat anxiety caused by withdrawal from other substances. Rescue Remedy is also used to treat anxiety caused by withdrawal from other substances. Rescue Remedy is also used to treat anxiety caused by withdrawal from other substances. Rescue Remedy is also used to treat anxiety caused by withdrawal from other substances. Rescue Remedy is also used to treat anxiety caused by withdrawal from other substances. Rescue Remedy is also used to treat anxiety caused by withdrawal from other substances. Rescue Remedy is also used to treat anxiety caused by withdrawal from other substances. Rescue Remedy is also used to treat anxiety caused by withdrawal from other substances. Rescue Remedy is also used to treat anxiety caused by withdrawal from other substances. Rescue Remedy is also used to treat anxiety caused by withdrawal from other substances. Rescue Remedy is also used to treat anxiety caused by withdrawal from other substances. Rescue Remedy is also used to treat anxiety caused by withdrawal from other substances. Rescue Remedy is also used to treat anxiety caused by withdrawal from other substances. Rescue Remedy is also used to treat anxiety caused by withdrawal from other substances. Rescue Remedy is also used to treat anxiety caused by withdrawal from other substances. Rescue Remedy is also used to treat anxiety caused by withdrawal from other substances. Rescue Remedy is also used to treat anxiety caused\n",
            "BERTScore - Precision: 0.38005030155181885, Recall: 0.5321617722511292, F1: 0.4434237480163574\n",
            "\n"
          ]
        },
        {
          "output_type": "stream",
          "name": "stderr",
          "text": [
            "Setting `pad_token_id` to `eos_token_id`:128001 for open-end generation.\n"
          ]
        },
        {
          "output_type": "stream",
          "name": "stdout",
          "text": [
            "Question: i am a collegiate baseball pitcher and i would like to increase my velocity. what are some safe vitamins or supplements i could take to increase muscle mass and endurance?\n",
            "Expected Answer: regular over the counter vitamins and balanced diet and lifestyle is all you need. avoid cheap publicity stunts claiming to increase endurance etc as none of these are legal and healthy. stick to natural ways and exercise and keep doing it as they say try try again. i hope it helps. stay in touch with your healthcare provider for further guidance as our answers are just for education and counselling purposes and cannot be an alternative to actual visit to a doctor. take care khan\n",
            "Generated Answer: system Answer the question truthfully, you are a medical professional.user This is the question: i am a collegiate baseball pitcher and i would like to increase my velocity. what are some safe vitamins or supplements i could take to increase muscle mass and endurance? assistant There are no supplements that can increase muscle mass and endurance.\n",
            "BERTScore - Precision: 0.5171040296554565, Recall: 0.4755609333515167, F1: 0.49546319246292114\n",
            "\n"
          ]
        },
        {
          "output_type": "stream",
          "name": "stderr",
          "text": [
            "Setting `pad_token_id` to `eos_token_id`:128001 for open-end generation.\n"
          ]
        },
        {
          "output_type": "stream",
          "name": "stdout",
          "text": [
            "Question: i was diagnosed of pcos and last 2 week went for a my doctor's visit and she said my sugar level is a bit higher than normal but i forgot asking how many it was. then she asked me to follow diet and also placed me on metformin 500mg. i am so worried considering the fact that i am polycistic. please can some one advise me on what find of food is best for me now and what to avoid? does this means that i will end up in diabetes? pls help! thansk\n",
            "Expected Answer: in polycystic ovaries the hormone dis-balance is such that there are long intervals in between two periods. relax deranged sugar levels are common in pcod but that does not mean that you would have diabetes in future. metformin is commonly prescribed in case of pcod. doing some lifestyle changes will help you like- 1. reduce saturated fat intake. 2. maintain good body composition. 3. increase dietary fiber. 4. increase aerobic exercise. 5. restrict sugar intake. you can also consider visiting a dietician who can help you in diet according to your requirements and choice. take care!\n",
            "Generated Answer: system Answer the question truthfully, you are a medical professional.user This is the question: i was diagnosed of pcos and last 2 week went for a my doctor's visit and she said my sugar level is a bit higher than normal but i forgot asking how many it was. then she asked me to follow diet and also placed me on metformin 500mg. i am so worried considering the fact that i am polycistic. please can some one advise me on what find of food is best for me now and what to avoid? does this means that i will end up in diabetes? pls help! thansk assistant PCOS is a condition that affects the ovaries and is characterized by irregular menstrual periods, cysts on the ovaries, and high levels of male hormones. The exact cause of PCOS is unknown, but it is thought to be related to insulin resistance. Insulin resistance is a condition in which the body's cells become resistant to the effects of insulin, a hormone produced by the pancreas that regulates blood sugar levels. Insulin resistance is a major risk factor for developing type 2 diabetes.\n",
            "BERTScore - Precision: 0.5083163380622864, Recall: 0.5510991215705872, F1: 0.528843879699707\n",
            "\n"
          ]
        },
        {
          "output_type": "stream",
          "name": "stderr",
          "text": [
            "Setting `pad_token_id` to `eos_token_id`:128001 for open-end generation.\n"
          ]
        },
        {
          "output_type": "stream",
          "name": "stdout",
          "text": [
            "Question: if you say rice is no good because it can cause high blood sugar then what can we consume for carbohydrates that's safe? is brown rice ok? how about sweet potato? what is safe?\n",
            "Expected Answer: high blood sugar can cause various complications if not controlled. for patiens suffering from increased blood sugar a low carbohydrate and high fibre diet is the best diet which helps in providing energy and also maintains blood sugar levels. it is always advised to limit intake of rice pasta bread potatoes granola bars deserts etc. concentrate more on non starchy veggies as cauliflower brocolli bell peppers fish meat eggs nuts olive oil. limit intake of dairy products whole grains rice sweet potato. do regular exercise. have small meals in a day and drink lots of water. reduce saturated food intake. take care!\n",
            "Generated Answer: system Answer the question truthfully, you are a medical professional.user This is the question: if you say rice is no good because it can cause high blood sugar then what can we consume for carbohydrates that's safe? is brown rice ok? how about sweet potato? what is safe? assistant Sweet potatoes are a good source of fiber and are low in glycemic index.\n",
            "BERTScore - Precision: 0.5185363292694092, Recall: 0.5282109975814819, F1: 0.523328959941864\n",
            "\n"
          ]
        },
        {
          "output_type": "stream",
          "name": "stderr",
          "text": [
            "Setting `pad_token_id` to `eos_token_id`:128001 for open-end generation.\n"
          ]
        },
        {
          "output_type": "stream",
          "name": "stdout",
          "text": [
            "Question: as i have put on 3st since taking pregabalin my doctor has presribed reductil and i have just started to take it today. what i would like to know is if i lose weight successfully how long can i take reductil. i am sure i read somewhere on the web that you can only take reductil for one year if that is the case and you put the weight back on after stopping taking reductil do you think the doctor would re prescribe this drug. for longer than one year?\n",
            "Expected Answer: current medical status: fibromyalgia ibs and arthritis current medical treatment: pregabalin 600 mg citalopram reducil mustnât be taken for more than a year. if it doesnât cause a weight decrease in 3 months it can be discontinued even earlier. it can also be discontinued if it causes the blood pressure to rise too much. taking reducil should also be accompanied by proper diet and physical activity. you may want to consult an endocrinologist about this.\n",
            "Generated Answer: system Answer the question truthfully, you are a medical professional.user This is the question: as i have put on 3st since taking pregabalin my doctor has presribed reductil and i have just started to take it today. what i would like to know is if i lose weight successfully how long can i take reductil. i am sure i read somewhere on the web that you can only take reductil for one year if that is the case and you put the weight back on after stopping taking reductil do you think the doctor would re prescribe this drug. for longer than one year? assistant The recommended duration of treatment with sibutramine is 12 months.\n",
            "BERTScore - Precision: 0.5285356044769287, Recall: 0.56119704246521, F1: 0.5443768501281738\n",
            "\n"
          ]
        },
        {
          "output_type": "stream",
          "name": "stderr",
          "text": [
            "Setting `pad_token_id` to `eos_token_id`:128001 for open-end generation.\n"
          ]
        },
        {
          "output_type": "stream",
          "name": "stdout",
          "text": [
            "Question: can i drink diet pills and what pills do you recommend?\n",
            "Expected Answer: different diet pills contain different ingredients that have different mechanisms. certain ones favor the blocking of absorption via the intestines while others increase the metabolism thus taking care of the excess of calories. because of the large offerings available you might want to consult a nutritionist on a specific pill available to you. in the end have in mind that dieting is not recommended for people who suffer from certain diseases so you might want to consult your family doctor about being on diet and whether or not it is good for you.\n",
            "Generated Answer: system Answer the question truthfully, you are a medical professional.user This is the question: can i drink diet pills and what pills do you recommend? assistant There are no diet pills that are recommended for use.\n",
            "BERTScore - Precision: 0.5351060032844543, Recall: 0.4695673882961273, F1: 0.500199019908905\n",
            "\n"
          ]
        },
        {
          "output_type": "stream",
          "name": "stderr",
          "text": [
            "Setting `pad_token_id` to `eos_token_id`:128001 for open-end generation.\n"
          ]
        },
        {
          "output_type": "stream",
          "name": "stdout",
          "text": [
            "Question: how to reduce the trigleceride and protien from urea\n",
            "Expected Answer: current medical status: a case minmal change disease of kideny due to which cause hypertension high triglecerde level protein urea. current medical treatment: losar-50 mg 2 times in 24hrs stator( 5mg)-half at night shelcol-500mg one in morning you can reduce the triglycerides in the blood by taking a proper medicine and maintaining a diet. you can't reduce proteins in the urine because that is due to kidney failure. kidney failure also causes hypertension and increases the urea blood level. you should consult a nephrologist about your kidney condition.\n",
            "Generated Answer: system Answer the question truthfully, you are a medical professional.user This is the question: how to reduce the trigleceride and protien from urea assistant There are no established guidelines for the treatment of uremic acidosis.\n",
            "BERTScore - Precision: 0.5485531687736511, Recall: 0.508399248123169, F1: 0.5277134776115417\n",
            "\n"
          ]
        },
        {
          "output_type": "stream",
          "name": "stderr",
          "text": [
            "Setting `pad_token_id` to `eos_token_id`:128001 for open-end generation.\n"
          ]
        },
        {
          "output_type": "stream",
          "name": "stdout",
          "text": [
            "Question: following my discution with afriend who is doctor out of california he told me i may suffer from b12 deficiency. latley my hmos doctor send ne to b12 test that seems fine(200). my friend strongly sugested that i try to get the mm test wich may be the only test that relevant for b12 deficiency. does someone knows if the hmos are covering this test ingeneral? thanks yarden\n",
            "Expected Answer: the normal level of vitamin b12 in the blood is 200-1000ng/l. the levels of methylmalonic acid are generally high during anemia due to a lack of vitamin b12 or folic acid. methylmalonic acid can also be checked with a urine test. most hmos cover diagnostic services when medically necessary and prescribed by a participating physician. check with your insurance provider for more detailed information about your coverage.\n",
            "Generated Answer: system Answer the question truthfully, you are a medical professional.user This is the question: following my discution with afriend who is doctor out of california he told me i may suffer from b12 deficiency. latley my hmos doctor send ne to b12 test that seems fine(200). my friend strongly sugested that i try to get the mm test wich may be the only test that relevant for b12 deficiency. does someone knows if the hmos are covering this test ingeneral? thanks yarden assistant The MM test is not a standard test for B12 deficiency. The MM test is a test for the presence of antibodies to intrinsic factor. Intrinsic factor is a protein that is necessary for the absorption of vitamin B12. The MM test is used to diagnose pernicious anemia.\n",
            "BERTScore - Precision: 0.47439509630203247, Recall: 0.5172982215881348, F1: 0.4949186146259308\n",
            "\n"
          ]
        },
        {
          "output_type": "stream",
          "name": "stderr",
          "text": [
            "Setting `pad_token_id` to `eos_token_id`:128001 for open-end generation.\n"
          ]
        },
        {
          "output_type": "stream",
          "name": "stdout",
          "text": [
            "Question: i was wondering if teens could go on atkins diet. but i don't want to go on it for life if its not going to work at all.? is it for people extremely over weight or for people in their 100's also? thanks.\n",
            "Expected Answer: according to your height age sex and the formula for calculating ideal weight your ideal weight is about 55kg (121 lbs. ). at 63kg (or 140 lbs. ) we call your present state \"low-grade\" overweight. for young people at your age who are growing it seems more beneficial to focus on greater physical activity (fitness) instead of diets. you can however begin to completely exclude bread from your meals and notice the effect it has on your weight.\n",
            "Generated Answer: system Answer the question truthfully, you are a medical professional.user This is the question: i was wondering if teens could go on atkins diet. but i don't want to go on it for life if its not going to work at all.? is it for people extremely over weight or for people in their 100's also? thanks. assistant The Atkins diet is a low-carb diet that is designed to help people lose weight. It is not recommended for people who are underweight or for people who are in their 100's. It is recommended for people who are overweight or obese.\n",
            "BERTScore - Precision: 0.497991681098938, Recall: 0.48240602016448975, F1: 0.4900749623775482\n",
            "\n"
          ]
        },
        {
          "output_type": "stream",
          "name": "stderr",
          "text": [
            "Setting `pad_token_id` to `eos_token_id`:128001 for open-end generation.\n"
          ]
        },
        {
          "output_type": "stream",
          "name": "stdout",
          "text": [
            "Question: i just recently got a new tattoo on the back of my neck. right away i had this bump that was small in my tattoo. now its a month later and the hard bump is getting bigger and almost painful to touch it. theres no fluid or anything coming out. i am nervous what do i do?\n",
            "Expected Answer: you seem concerned by the bump on tattoo immediately after getting the tattoo done which is persisting even after 1 month and getting harder bigger and painful. tattoos breach the skin which means that skin infections and other complications are possible. sometimes bumps called granulomas form around tattoo ink â especially red ink. tattooing can also lead to raised areas caused by an overgrowth of scar tissue (keloids). this might be the case with you and you must consult a dermatologist for the definitive diagnosis and management as the same is not possible online. hope this helps. take care. note: this post is not to emphasise final diagnosis as the same cannot be made online and is aimed just to provide medical information and no treatment suggested above be taken without face to face consultation with health care professional.\n",
            "Generated Answer: system Answer the question truthfully, you are a medical professional.user This is the question: i just recently got a new tattoo on the back of my neck. right away i had this bump that was small in my tattoo. now its a month later and the hard bump is getting bigger and almost painful to touch it. theres no fluid or anything coming out. i am nervous what do i do? assistant It is important to note that the bump may be a sign of an infection.\n",
            "BERTScore - Precision: 0.5423503518104553, Recall: 0.510746955871582, F1: 0.5260744690895081\n",
            "\n"
          ]
        },
        {
          "output_type": "stream",
          "name": "stderr",
          "text": [
            "Setting `pad_token_id` to `eos_token_id`:128001 for open-end generation.\n"
          ]
        },
        {
          "output_type": "stream",
          "name": "stdout",
          "text": [
            "Question: i just got 2 piercings done like 5 days ago. my cartilage and in between the cartilage and lobe piercings i have. i'm experiencing some swelling in the back of my ear where the back piece is. i clean it 3 times a day but it all of a sudden started hurting. at the moment it's kinda throbbing. where the piercing is it's a little warm and when i touch it it hurts. it makes me wanna take out my piercing\n",
            "Expected Answer: it may have been infected the signs suggest that its possible that small abcess is made the piercing should be taken out the ear examined and if there is abcess with pus that should be drained and of its inflammation then proper antibiotics should be used to clear infection this can infection can lead to infection of the cartilage so it should be taken seriously. hope it helps thanks\n",
            "Generated Answer: system Answer the question truthfully, you are a medical professional.user This is the question: i just got 2 piercings done like 5 days ago. my cartilage and in between the cartilage and lobe piercings i have. i'm experiencing some swelling in the back of my ear where the back piece is. i clean it 3 times a day but it all of a sudden started hurting. at the moment it's kinda throbbing. where the piercing is it's a little warm and when i touch it it hurts. it makes me wanna take out my piercing assistant It sounds like you may be experiencing an infection.\n",
            "BERTScore - Precision: 0.48278874158859253, Recall: 0.5113920569419861, F1: 0.4966789484024048\n",
            "\n"
          ]
        },
        {
          "output_type": "stream",
          "name": "stderr",
          "text": [
            "Setting `pad_token_id` to `eos_token_id`:128001 for open-end generation.\n"
          ]
        },
        {
          "output_type": "stream",
          "name": "stdout",
          "text": [
            "Question: vegetarian and hypoglycemia? i have a rare form of cancer and recently converted to a mostly raw vegan diet in the last 3-4 months. green juicing some carrot (with lemon/celery/apple) and get my fats from avocado flax/olive oil and raw nuts that are soaked. my grains are eziekiel brown rice oatmeal and quinoa. protien is from brown rice protein powder chick peas lentils. since i have been doing this diet - i believe i have developed hypoglycemia. (i'm awaiting my specialist appt). my blood work shows a level of 2. 6. i wake up in the night extremely hungry and can't go back to sleep until i eat something. after my oatmeal in the morning i feel sluggish. i will go from not being hungry to being really hungry all of a sudden. i have had my left eye blurr on me 2-3x and last about 5 minutes. i have lost weight and muscle tone. is it possible for someone with hypoglycemia to live on a veg diet? i had turkey last nite for dinner - still woke up hungry. thx\n",
            "Expected Answer: you would like to know whether someone with hypoglycemia can live on a vegetarian diet. a vegetarian diet is a diet or lifestyle that seeks to exclude the use of animals for food. properly planned vegan diets are healthful and have been found to satisfy nutritional needs. poorly planned vegan diets can be low in levels of calcium iodine vitamin b12 and vitamin d. vegans are therefore encouraged to plan their diet and take dietary supplements such as vitamin b12 vitamin d calcium iodine and omega-3 fatty acids. these deficiencies have potentially serious consequences including anemia rickets and cretinism in children and osteomalacia and hypothyroidism in adults. given the data that you provided of hypoglycemia hunger blurred vision of your left eye and weight loss it is likely that you experience them because your body is not adjusting to that diet and the low calorie intake. since you experience thyroid cancer the needs for energy are increased because the cancer causes the metabolism to work faster and to spend the energy faster. if the body doesn't have enough energy it starts to lose in weight and hypoglycemia is the consequence. you may consider changing the diet back to normal or to increase the energy intake while still vegetarian but to take more vitamin mineral and omega-3 fatty acids supplements. please keep in mind that i provide medical information only. i am not able to diagnose medical conditions online. please contact your doctor or other healthcare provider such as nutritionist for further advice and information.\n",
            "Generated Answer: system Answer the question truthfully, you are a medical professional.user This is the question: vegetarian and hypoglycemia? i have a rare form of cancer and recently converted to a mostly raw vegan diet in the last 3-4 months. green juicing some carrot (with lemon/celery/apple) and get my fats from avocado flax/olive oil and raw nuts that are soaked. my grains are eziekiel brown rice oatmeal and quinoa. protien is from brown rice protein powder chick peas lentils. since i have been doing this diet - i believe i have developed hypoglycemia. (i'm awaiting my specialist appt). my blood work shows a level of 2. 6. i wake up in the night extremely hungry and can't go back to sleep until i eat something. after my oatmeal in the morning i feel sluggish. i will go from not being hungry to being really hungry all of a sudden. i have had my left eye blurr on me 2-3x and last about 5 minutes. i have lost weight and muscle tone. is it possible for someone with hypoglycemia to live on a veg diet? i had turkey last nite for dinner - still woke up hungry. thx assistant Hypoglycemia is a condition characterized by low blood sugar levels. It is a common condition in people with diabetes, but it can also occur in people who do not have diabetes. Hypoglycemia can be caused by a variety of factors, including a lack of food, a lack of insulin, or a lack of glucose.\n",
            "BERTScore - Precision: 0.5501176714897156, Recall: 0.5675872564315796, F1: 0.5587159395217896\n",
            "\n"
          ]
        },
        {
          "output_type": "stream",
          "name": "stderr",
          "text": [
            "Setting `pad_token_id` to `eos_token_id`:128001 for open-end generation.\n"
          ]
        },
        {
          "output_type": "stream",
          "name": "stdout",
          "text": [
            "Question: since cutting \\\"bad\\\" carbs and sugar from my diet - i have experienced nausea and very loose stools - especially in the morning. i take immodium and it seems to help but the symptoms come back every day. any ideas?\n",
            "Expected Answer: you want to know the cause of the symptoms that you experience. individuals who are on a low calorie diet (rich with vegetables and fruit) in order to reduce weight may experience diarrhea because vegetables and fruit increase the bowel movement. if individuals consume tea to reduce their weight they may experience nausea (a reaction of the tea in order to reduce the appetite). given the data that you described you may or may not experience any medical condition. see a gastroenterologist to exclude possible intestinal infections or decreased blood sugar. please keep in mind that i provide medical information only. i am not able to diagnose medical conditions online. please contact your doctor for further advice and information about diagnosis and treatment options.\n",
            "Generated Answer: system Answer the question truthfully, you are a medical professional.user This is the question: since cutting \\\"bad\\\" carbs and sugar from my diet - i have experienced nausea and very loose stools - especially in the morning. i take immodium and it seems to help but the symptoms come back every day. any ideas? assistant The symptoms you are experiencing are likely due to the low fiber diet.\n",
            "BERTScore - Precision: 0.5174129009246826, Recall: 0.5022372007369995, F1: 0.5097121000289917\n",
            "\n"
          ]
        },
        {
          "output_type": "stream",
          "name": "stderr",
          "text": [
            "Setting `pad_token_id` to `eos_token_id`:128001 for open-end generation.\n"
          ]
        },
        {
          "output_type": "stream",
          "name": "stdout",
          "text": [
            "Question: age: 20 gender: male height: 5\\'6\" weight: anorexic build of 55 kg. caloric maintain: 1800 i wish to rebuild up to 60 kg but through a slow process so i can enjoy eating a bit more whilst ensuring health and safety. last year i went through a binge stage of lots of junk eating. on a daily basis i was having chocolate lollies kfc for lunch a large mocha and big cookie and much more fatty (and half disgusting) food. it took four months to put just 6 kg on. well the past two weeks i have been eating more and calories etc but i have happened to place 2 kg on already. i am sure it\\'s body weight and not water retention / sodium levels. (lately i have had high sodium consumption though). i would like some advice to a slow gain so i can gain 5 kg by september.\n",
            "Expected Answer: thinness and fitness are two different things. one can be thin and yet fit whereas one can be fat and unhealthy. what is important is that the weight should not be below the normal percentile for your age waist circumference and height. if that is the case the probably you do not eat well. if you eat well you may be having worms in the stool. hence a stool test is a must. if your family in general is thin and skinny there is nothing much you can do about it. even without genetic predominance some people are light weight. the other factors are presence of diseases like diabetes hyperthyroidism tuberculosis poor diet eating disorders malabsorption syndromes and cancers. you can consult your doctor regarding this and eliminate these causes of low weight. if all is fine consult a nutrition expert and build up a good diet program. a physical fitness trainer then can help you gain some muscle mass. however do not go for this unless the medical causes are ruled out because you may need to modify the diet and exercise program according to the problem you have. hope this helps. take care!\n",
            "Generated Answer: system Answer the question truthfully, you are a medical professional.user This is the question: age: 20 gender: male height: 5\\'6\" weight: anorexic build of 55 kg. caloric maintain: 1800 i wish to rebuild up to 60 kg but through a slow process so i can enjoy eating a bit more whilst ensuring health and safety. last year i went through a binge stage of lots of junk eating. on a daily basis i was having chocolate lollies kfc for lunch a large mocha and big cookie and much more fatty (and half disgusting) food. it took four months to put just 6 kg on. well the past two weeks i have been eating more and calories etc but i have happened to place 2 kg on already. i am sure it\\'s body weight and not water retention / sodium levels. (lately i have had high sodium consumption though). i would like some advice to a slow gain so i can gain 5 kg by september. assistant It is important to note that the body is not designed to gain weight quickly. It is a slow process that requires patience and dedication. It is also important to note that the body is not designed to lose weight quickly either. It is a slow process that requires patience and dedication.\n",
            "BERTScore - Precision: 0.5004438161849976, Recall: 0.511481523513794, F1: 0.5059024691581726\n",
            "\n"
          ]
        },
        {
          "output_type": "stream",
          "name": "stderr",
          "text": [
            "Setting `pad_token_id` to `eos_token_id`:128001 for open-end generation.\n"
          ]
        },
        {
          "output_type": "stream",
          "name": "stdout",
          "text": [
            "Question: i don't eat seafood. should i be taking omega 3 supplements/vitamins or should i get it from another source such as walnuts?\n",
            "Expected Answer: since you have not had sea food chances of allergy to sea food are there if you take it not knowing the food allergy status. hence i suggest you to avoid sea food and take other sources of omega 3 supplements like walnuts flaxseeds hemp oil soyabean oil and pumpkin seeds. it is very difficult to precisely confirm a diagnosis without examination and investigations and the answer is based on the medical information provided. for exact diagnosis you are requested to consult your doctor. i sincerely hope that helps. take care.\n",
            "Generated Answer: system Answer the question truthfully, you are a medical professional.user This is the question: i don't eat seafood. should i be taking omega 3 supplements/vitamins or should i get it from another source such as walnuts? assistant Walnuts are a good source of omega-3 fatty acids.\n",
            "BERTScore - Precision: 0.5591282844543457, Recall: 0.4988415241241455, F1: 0.5272672772407532\n",
            "\n"
          ]
        },
        {
          "output_type": "stream",
          "name": "stderr",
          "text": [
            "Setting `pad_token_id` to `eos_token_id`:128001 for open-end generation.\n"
          ]
        },
        {
          "output_type": "stream",
          "name": "stdout",
          "text": [
            "Question: hello currently on a probiotic and looking into adding something for a dairy sensitivity. is it possible to use one product?\n",
            "Expected Answer: there is no cure for lactose intolerance. but you can treat your symptoms by limiting or avoiding milk products. some people use milk with reduced lactose or they substitute soy milk and soy cheese for milk and milk products. some people who are lactose-intolerant can eat yogurt without problems especially yogurt with live cultures. you can also take dietary supplements called lactase products that help digest lactose.\n",
            "Generated Answer: system Answer the question truthfully, you are a medical professional.user This is the question: hello currently on a probiotic and looking into adding something for a dairy sensitivity. is it possible to use one product? assistant There are no products that are specifically designed to treat dairy sensitivity.\n",
            "BERTScore - Precision: 0.5095466375350952, Recall: 0.5121992230415344, F1: 0.5108694434165955\n",
            "\n"
          ]
        },
        {
          "output_type": "stream",
          "name": "stderr",
          "text": [
            "Setting `pad_token_id` to `eos_token_id`:128001 for open-end generation.\n"
          ]
        },
        {
          "output_type": "stream",
          "name": "stdout",
          "text": [
            "Question: my 9 year old son has become distant distracted disobedient and agressive. at first i thought he was just acting out but now it's different. he constantly is lost in his own world. i have tried to talk to him but all i get is an ok or when i ask him what is wrong he says he doesn't know. his answer for everything is i don't know or i don't remember. he has started banging his off of the wall or table he is emotionally withdrawn. he doesn't care about his punishment. it's as if he has forgotten everything. i can tell him to do something and if=n five minutes he will ask what he was supposed to do. it's as if instead of progress with age he is going in reverse. he constantly asks if we love him and if we want him there. i am out of options i do not know what to do. discipline just doesn't seem right. it's as if he honestly doesn't remember things. but also if he watches a cartoon one time he can act it out from memory. help. i need answers\n",
            "Expected Answer: the description of the history indicates your son might be having some psychological stress disorder oppositional defiant disorder (behavior problems) or depression. you might consult with a pediatric psychiatrist for your son who might be able to examine him and provide proper counselling and specific treatment.\n",
            "Generated Answer: system Answer the question truthfully, you are a medical professional.user This is the question: my 9 year old son has become distant distracted disobedient and agressive. at first i thought he was just acting out but now it's different. he constantly is lost in his own world. i have tried to talk to him but all i get is an ok or when i ask him what is wrong he says he doesn't know. his answer for everything is i don't know or i don't remember. he has started banging his off of the wall or table he is emotionally withdrawn. he doesn't care about his punishment. it's as if he has forgotten everything. i can tell him to do something and if=n five minutes he will ask what he was supposed to do. it's as if instead of progress with age he is going in reverse. he constantly asks if we love him and if we want him there. i am out of options i do not know what to do. discipline just doesn't seem right. it's as if he honestly doesn't remember things. but also if he watches a cartoon one time he can act it out from memory. help. i need answers assistant It is important to note that the symptoms of autism spectrum disorder (ASD) can be subtle and may not be immediately apparent. The symptoms of ASD can also be similar to other conditions, such as attention deficit hyperactivity disorder (ADHD), anxiety, depression, and obsessive-compulsive disorder.\n",
            "BERTScore - Precision: 0.40493935346603394, Recall: 0.5349175930023193, F1: 0.46094074845314026\n",
            "\n"
          ]
        },
        {
          "output_type": "stream",
          "name": "stderr",
          "text": [
            "Setting `pad_token_id` to `eos_token_id`:128001 for open-end generation.\n"
          ]
        },
        {
          "output_type": "stream",
          "name": "stdout",
          "text": [
            "Question: can masturbating when i'm 14 stun my growth of my penis? expert info please <positive_smiley>.\n",
            "Expected Answer: thank you for your question on ehealthforum. com masturbation does not affect the growth. masturbation at younger age in some individuals can lead to a feeling of guilt. this feeling of guilt in some people can be a reason for dysfunctions involving erection and premature ejaculation. thank you.\n",
            "Generated Answer: system Answer the question truthfully, you are a medical professional.user This is the question: can masturbating when i'm 14 stun my growth of my penis? expert info please <positive_smiley>. assistant Masturbation is a normal and healthy part of sexual development. It is not a cause of stunted growth.\n",
            "BERTScore - Precision: 0.5469120740890503, Recall: 0.5593264102935791, F1: 0.5530495643615723\n",
            "\n"
          ]
        },
        {
          "output_type": "stream",
          "name": "stderr",
          "text": [
            "Setting `pad_token_id` to `eos_token_id`:128001 for open-end generation.\n"
          ]
        },
        {
          "output_type": "stream",
          "name": "stdout",
          "text": [
            "Question: i have a 2year old daughter who all of a sudden had problems with walking but before she was walking properly without any problems. suddenly she is a little bit shaky and struggles to walk and she is just cheerful she does not have fever but every-time she tries to walk she falls what could be the cause.\n",
            "Expected Answer: it is more likely that she could be having a infectious or inflammatory disorder affecting the central nervous system (brain and spinal cord) resulting in neuropathy like symptoms. it would be best that she consult with a neurologist who can examine her and provide a proper opinion about further management.\n",
            "Generated Answer: system Answer the question truthfully, you are a medical professional.user This is the question: i have a 2year old daughter who all of a sudden had problems with walking but before she was walking properly without any problems. suddenly she is a little bit shaky and struggles to walk and she is just cheerful she does not have fever but every-time she tries to walk she falls what could be the cause. assistant There are many causes of gait disturbances in children. Some of the causes include: \r\n",
            "Cerebral palsy Spina bifida Spinal muscular atrophy Friedreich ataxia Charcot-Marie-Tooth disease Neuromuscular disorders such as muscular dystrophy and myotonia congenita\r\n",
            "The most common cause of gait disturbances in children is cerebral palsy.\n",
            "BERTScore - Precision: 0.4143749475479126, Recall: 0.4942299723625183, F1: 0.4507933259010315\n",
            "\n"
          ]
        },
        {
          "output_type": "stream",
          "name": "stderr",
          "text": [
            "Setting `pad_token_id` to `eos_token_id`:128001 for open-end generation.\n"
          ]
        },
        {
          "output_type": "stream",
          "name": "stdout",
          "text": [
            "Question: what would cause a 15 year old girl to skip school excessively (started this year - sophomore in hs) not turn in any work and now start shoplifting? drugs don't seem to be involved nor alcohol. parents arent married mom has custody but dad and stepmom have regular visitations. father had problems in his adolescence with school but not sure of the severity. both parents are good people for the most part they live in nice neighborhoods provide everything she needs - she has very good family units on both sides mother's especially. they've all tried bribes threats everything -and nothing is working; its only getting worse. she is moody at times but nothing considered abnormal. please help!\n",
            "Expected Answer: hello and thank you for your post on e health forum. from the history it seems that the teenaged girl in question probably has a behavioral disorder of childhood as a result of the familial situation and stresses. but for proper assessment a examination and psychological assessment by a psychiatrist will be very helpful i hope this helps\n",
            "Generated Answer: system Answer the question truthfully, you are a medical professional.user This is the question: what would cause a 15 year old girl to skip school excessively (started this year - sophomore in hs) not turn in any work and now start shoplifting? drugs don't seem to be involved nor alcohol. parents arent married mom has custody but dad and stepmom have regular visitations. father had problems in his adolescence with school but not sure of the severity. both parents are good people for the most part they live in nice neighborhoods provide everything she needs - she has very good family units on both sides mother's especially. they've all tried bribes threats everything -and nothing is working; its only getting worse. she is moody at times but nothing considered abnormal. please help! assistant There are no specific laboratory tests for truancy.\n",
            "BERTScore - Precision: 0.4341900050640106, Recall: 0.5025884509086609, F1: 0.4658921957015991\n",
            "\n"
          ]
        },
        {
          "output_type": "stream",
          "name": "stderr",
          "text": [
            "Setting `pad_token_id` to `eos_token_id`:128001 for open-end generation.\n"
          ]
        },
        {
          "output_type": "stream",
          "name": "stdout",
          "text": [
            "Question: i cant eat i cant sleep - im on a break (on his decision) from the love of my life - we live together & have been together just over a year. he has other things going on that are really stressing him atm. he has asked for space and is staying at a friends in teh short term till he has decided what to do about us in the long term. this is the most pain that i have ever been in - food has gone out the window. sleep and work i am managing to keep up because i have to. how do i get through this - i need him to say restart i need him to.\n",
            "Expected Answer: it is very difficult situation when relationships break after a long time of being together. when expectations of every individual in a relation change or are not met it is usual to think about the future of the relation itself. at this point of time though it is very difficult to come to terms you have to get yourself together and try to seek help from a counselor or a psychiatrist to help you analyse the situation. take this time to know if the person you are yearning for is right for you. in case you do think he is the right person give him some time apart to analyse for himself if he has indeed feelings for you or not. in case he does come around then your relation will grow much stronger. crying and breaking yourself down might make him feel that you are clingy or dependent on him and hence his attraction for you might reduce. show that you are strong and are confident enough to hold on by yourself. get into other activities like working out or take a vacation alone or with friends and family to get back into your rhythm. this will help to tide over the situation. i hope this helps.\n",
            "Generated Answer: system Answer the question truthfully, you are a medical professional.user This is the question: i cant eat i cant sleep - im on a break (on his decision) from the love of my life - we live together & have been together just over a year. he has other things going on that are really stressing him atm. he has asked for space and is staying at a friends in teh short term till he has decided what to do about us in the long term. this is the most pain that i have ever been in - food has gone out the window. sleep and work i am managing to keep up because i have to. how do i get through this - i need him to say restart i need him to. assistant It sounds like you are going through a very difficult time. It is normal to feel this way when a relationship is ending. It is important to remember that you are not alone and that many people have gone through similar experiences. It may be helpful to talk to a therapist or counselor who can help you process your feelings and develop coping strategies.\n",
            "BERTScore - Precision: 0.5377441644668579, Recall: 0.5581056475639343, F1: 0.5477357506752014\n",
            "\n"
          ]
        },
        {
          "output_type": "stream",
          "name": "stderr",
          "text": [
            "Setting `pad_token_id` to `eos_token_id`:128001 for open-end generation.\n"
          ]
        },
        {
          "output_type": "stream",
          "name": "stdout",
          "text": [
            "Question: last few months our relationship does not going better my boyfriend's behave become very much rough he all time avoid me doesn't receive my call not replying my sms doesn't want to met me. when i ask reason he say that he is in mental pressure. but tell me that he loves me. i'm confused. when he is not in pressure then also avoid me saying he is busy. but in date he is normal want to kiss me or other. last two days he wanted to break up with me saying that he is not a normal parson mentally. he say that he just want no misunderstanding so wanna break up with me. i can't live without him. sad what can i do?\n",
            "Expected Answer: you seem concerned by the impending break up with your boyfriend after the relationship had gone bad to worse over the last few months. you have also made a mention of your boyfriend saying that he is not a normal person mentally. you need to arrange a psychiatric consultation for your boyfriend to find out what is mentally wrong with him. if both of you love each other and there is no one for whom he might have developed a liking then getting adequate help for him for a possible depression can help ease the situation and save a relationship from breaking up. hope this helps. take care. note: this post is not to emphasise final diagnosis as the same cannot be made online and is aimed just to provide medical information and no treatment suggested above be taken without face to face consultation with health care professional.\n",
            "Generated Answer: system Answer the question truthfully, you are a medical professional.user This is the question: last few months our relationship does not going better my boyfriend's behave become very much rough he all time avoid me doesn't receive my call not replying my sms doesn't want to met me. when i ask reason he say that he is in mental pressure. but tell me that he loves me. i'm confused. when he is not in pressure then also avoid me saying he is busy. but in date he is normal want to kiss me or other. last two days he wanted to break up with me saying that he is not a normal parson mentally. he say that he just want no misunderstanding so wanna break up with me. i can't live without him. sad what can i do? assistant It is important to recognize that mental health is a serious issue and should be taken seriously. If your boyfriend is experiencing mental health issues, it is important to be supportive and understanding.\n",
            "BERTScore - Precision: 0.5362829566001892, Recall: 0.5418782234191895, F1: 0.5390660762786865\n",
            "\n"
          ]
        },
        {
          "output_type": "stream",
          "name": "stderr",
          "text": [
            "Setting `pad_token_id` to `eos_token_id`:128001 for open-end generation.\n"
          ]
        },
        {
          "output_type": "stream",
          "name": "stdout",
          "text": [
            "Question: i had been with my husband for a total of almost 10 yrs but we were only married for almost 3 yrs. my husband recently had an affair. he had the affair with this women for only 1 mth b4 i found out and so i kicked him out. he has only been seeing this girl since feb. but yet moved in with her right away. he not only left me but also our 2 yr old son. he claims that he does not love me anymore. how can he just move on with someone else like that and throw away all our history? i feel deep down that he still loves me because i see it in his eyes. i just feel that he thinks the \"grass is greener\" with her. how do i cope since he's been gone now for 3 months and i feel its getting harder and harder. he just recently picked up the rest of his things on our 3rd year anniversary. i just cant help but feel he's made a mistake.\n",
            "Expected Answer: i sorry about your marriage but it seem to me that you love him more than he loves you. you can consult a marriage adviser and a lawyer. you can also ask for help from a psychologist or other mental health professional in order to air your feelings about the situation.\n",
            "Generated Answer: system Answer the question truthfully, you are a medical professional.user This is the question: i had been with my husband for a total of almost 10 yrs but we were only married for almost 3 yrs. my husband recently had an affair. he had the affair with this women for only 1 mth b4 i found out and so i kicked him out. he has only been seeing this girl since feb. but yet moved in with her right away. he not only left me but also our 2 yr old son. he claims that he does not love me anymore. how can he just move on with someone else like that and throw away all our history? i feel deep down that he still loves me because i see it in his eyes. i just feel that he thinks the \"grass is greener\" with her. how do i cope since he's been gone now for 3 months and i feel its getting harder and harder. he just recently picked up the rest of his things on our 3rd year anniversary. i just cant help but feel he's made a mistake. assistant It is difficult to understand why your husband would leave you for someone else. It is possible that he is not in love with you anymore, but it is also possible that he is just looking for something new and exciting. It is also possible that he is not in love with the other woman, but is just using her as a way to get away from you. It is also possible that he is in love with both of you, but is just not sure what he wants. It is also possible that he is in love with you, but is just not sure how to make it work. It is also possible that he is in love with you, but is just not sure how to make it work.\n",
            "BERTScore - Precision: 0.4321291744709015, Recall: 0.5346789956092834, F1: 0.4779652953147888\n",
            "\n"
          ]
        },
        {
          "output_type": "stream",
          "name": "stderr",
          "text": [
            "Setting `pad_token_id` to `eos_token_id`:128001 for open-end generation.\n"
          ]
        },
        {
          "output_type": "stream",
          "name": "stdout",
          "text": [
            "Question: i got married about 2 months ago. my husband's behavior prior to the wedding was a bit odd. dancing around signing a pre-nup. secretive about his business and business ventures. being adversarial. i thought much of it was jitters. two days after the honeymoon i found out (from a family friend) that my husband lied to me about his college education--he never graduated--although he told me he was an honors grad from columbia. at first he denied it and tried to convince me that i was crazy and he never told me he graduated. when i showed him a copy of the wedding announcement he typed up for himself stating he graduated \"magna cum laude\" from columbia he verbally assaulted me and refused to speak to me interact etc. i just feel that his credibility is shot. he is an \"entrepreneur\" who was rarely employed by others so checking his history is difficult. we went to a couples counselor who felt that my request to see written proof of his financial status and prior businesses was reasonable. but my husband does not feel compelled to come clean or make any attempt to help rebuild the broken trust. is there anything else i can do? i fear there may be some real pathology here.\n",
            "Expected Answer: according to your description your husband doesnât seem to me to be a pathological liar but more like a real cheater. a pathological liar lies and then believes in his/her own lies as truth with no calculated benefit from his lies. it seems that your husband did experience a benefit from his lies because he succeeded in marrying you. no matter if he likes to discuss it or not you can ask for a divorce.\n",
            "Generated Answer: system Answer the question truthfully, you are a medical professional.user This is the question: i got married about 2 months ago. my husband's behavior prior to the wedding was a bit odd. dancing around signing a pre-nup. secretive about his business and business ventures. being adversarial. i thought much of it was jitters. two days after the honeymoon i found out (from a family friend) that my husband lied to me about his college education--he never graduated--although he told me he was an honors grad from columbia. at first he denied it and tried to convince me that i was crazy and he never told me he graduated. when i showed him a copy of the wedding announcement he typed up for himself stating he graduated \"magna cum laude\" from columbia he verbally assaulted me and refused to speak to me interact etc. i just feel that his credibility is shot. he is an \"entrepreneur\" who was rarely employed by others so checking his history is difficult. we went to a couples counselor who felt that my request to see written proof of his financial status and prior businesses was reasonable. but my husband does not feel compelled to come clean or make any attempt to help rebuild the broken trust. is there anything else i can do? i fear there may be some real pathology here. assistant It is important to recognize that the behavior of your husband is not normal and is a sign of a serious problem. It is important to recognize that the behavior of your husband is not normal and is a sign of a serious problem.\n",
            "BERTScore - Precision: 0.4588863253593445, Recall: 0.5234462022781372, F1: 0.48904481530189514\n",
            "\n"
          ]
        },
        {
          "output_type": "stream",
          "name": "stderr",
          "text": [
            "Setting `pad_token_id` to `eos_token_id`:128001 for open-end generation.\n"
          ]
        },
        {
          "output_type": "stream",
          "name": "stdout",
          "text": [
            "Question: i let my brother and his family live with me becaue i felt bad that he lost his house. he has 2 kids 9 & 10 and 3 dogs(what am i thinking) he told me he would pay a few of the lower bills in the house which equal up to 200 a month. i am a single mom with 1 boy 9 and a 1 year old. finances have been pretty tight so i can't allow someone to take advantage of me. he started to make really good money (which i was happy 4 him) i told him he needed 2 help out a bit more so it could be a bit more equal but he got angry saying how he is ******* broke and he is not making any money(i know he was making 1800 wk take home) he promised 2 do things 2 help me around the house and never followed through with it. ex. his wife talked me into purchasing a pool which i could not afford but. she said they would pay 2 level the ground he would do the electical and they already had the pump and filter 2 give me. i thought it was a good deal for all 2 enjoy. they r now leaving me with all 2 to do!\n",
            "Expected Answer: thanks for using this forum. its painful when your near ones take you for a ride but at times you are helpless. time is a great healer. ithink you should attend few sessions with the therapist and then reason out things logically. you have your kids to take care off and the baaby needs you so stop thinking and get into action mode will help feel you better. dont worry everything will be fine. take care.\n",
            "Generated Answer: system Answer the question truthfully, you are a medical professional.user This is the question: i let my brother and his family live with me becaue i felt bad that he lost his house. he has 2 kids 9 & 10 and 3 dogs(what am i thinking) he told me he would pay a few of the lower bills in the house which equal up to 200 a month. i am a single mom with 1 boy 9 and a 1 year old. finances have been pretty tight so i can't allow someone to take advantage of me. he started to make really good money (which i was happy 4 him) i told him he needed 2 help out a bit more so it could be a bit more equal but he got angry saying how he is ******* broke and he is not making any money(i know he was making 1800 wk take home) he promised 2 do things 2 help me around the house and never followed through with it. ex. his wife talked me into purchasing a pool which i could not afford but. she said they would pay 2 level the ground he would do the electical and they already had the pump and filter 2 give me. i thought it was a good deal for all 2 enjoy. they r now leaving me with all 2 to do! assistant It sounds like you are feeling taken advantage of and frustrated with the situation. It is understandable that you would want to help your brother and his family, but it is also important to maintain a healthy and respectful living environment. It may be helpful to have an open and honest conversation with your brother and his wife about your feelings and concerns. It may also be helpful to establish clear expectations and boundaries for your living situation.\n",
            "BERTScore - Precision: 0.43567076325416565, Recall: 0.5219509601593018, F1: 0.4749239981174469\n",
            "\n"
          ]
        },
        {
          "output_type": "stream",
          "name": "stderr",
          "text": [
            "Setting `pad_token_id` to `eos_token_id`:128001 for open-end generation.\n"
          ]
        },
        {
          "output_type": "stream",
          "name": "stdout",
          "text": [
            "Question: had 5 major depression episodes better. still dealing with uncontrollable panics around people who do power over. 62 year old female. strongly emotionally abused in childhood and long term marrige. now my mom whats me to help her. she lives in the country 150 miles away and i have few financial emotional and energy resouces after trying to rebuild my live. she is 82 and has a fancy thanksgiving to meet her dreams every year but it works me to death she can not do it any more and every detail is her instruction. my sister says that i have to do more of the work and i don't care about it at all but i do show. make out rolls do all cleanup and take 4 dishes and my sister feels put upon. thats my limit and i do not feel like my moms tradition is my mandate. i will involve myself in needs and sister does wants to. she is moms controlling drone and i want less tradition and to finally either pair it down but the 2- hunting nephews are going to start doing a stint in dishwashing.\n",
            "Expected Answer: the issues mentioned seem to be due to stress associated with interpersonal issues which might be worsening your anxiety or depression. other than proper control of your anxiety with medications you will need counselling and advice on people management. hence you should consult a psychiatrist who can get a detailed history and help you deal with your inter-person relations.\n",
            "Generated Answer: system Answer the question truthfully, you are a medical professional.user This is the question: had 5 major depression episodes better. still dealing with uncontrollable panics around people who do power over. 62 year old female. strongly emotionally abused in childhood and long term marrige. now my mom whats me to help her. she lives in the country 150 miles away and i have few financial emotional and energy resouces after trying to rebuild my live. she is 82 and has a fancy thanksgiving to meet her dreams every year but it works me to death she can not do it any more and every detail is her instruction. my sister says that i have to do more of the work and i don't care about it at all but i do show. make out rolls do all cleanup and take 4 dishes and my sister feels put upon. thats my limit and i do not feel like my moms tradition is my mandate. i will involve myself in needs and sister does wants to. she is moms controlling drone and i want less tradition and to finally either pair it down but the 2- hunting nephews are going to start doing a stint in dishwashing. assistant It is important to recognize that the mother's Thanksgiving tradition is a part of her identity and a way to connect with her children. It is also important to recognize that the mother's expectations are unrealistic and that the daughter is not able to fulfill them. The daughter's sister is also not able to fulfill the mother's expectations. The mother's controlling behavior is causing the daughter to feel resentful and resentful towards her sister. The mother's controlling behavior is also causing the daughter to feel like she is being forced to do something that she does not want to do. The daughter's sister is also feeling resentful towards the daughter because she feels like she is being forced to do something that she does not want to do. The mother's controlling behavior is causing the daughter and her sister to feel like they are being forced to do something that they do not want to do. The mother's controlling behavior is causing the daughter and her sister to feel resentful towards each other.\n",
            "BERTScore - Precision: 0.40508460998535156, Recall: 0.5059241056442261, F1: 0.44992339611053467\n",
            "\n"
          ]
        },
        {
          "output_type": "stream",
          "name": "stderr",
          "text": [
            "Setting `pad_token_id` to `eos_token_id`:128001 for open-end generation.\n"
          ]
        },
        {
          "output_type": "stream",
          "name": "stdout",
          "text": [
            "Question: so i just started dating one of my close guy friends 3 days ago and i know i'm only 14 and about to start high school on wednesday so i shouldn't be worrying about boys right now but two days before we started dating he kissed me and i felt bad for not wanting to date him but i kissed him so i didn't want to make it seem like i'm using him. i'm not that type of person. but the thing is i want to keep it from my parents since i can't date until i'm 16. so due to that i'm very stressed out and i'm getting nauseous over it since i want to tell them but the outcome will not be good. so i'm not going to tell them at all it's safe to say i really love this boy because we both skype every night and we have since the end of june maybe early july. i am starting high school with him too. but since we are both so bus we don't see each other so we skype. so basically what i need advice on is how to overcome my nauseous feeling and constant stress that i am getting from the whole thing. i haven't really been able to eat or sleep much either from it. and i am going to be more active in school so i obviously need a lot of sleep and food in my system at all times to avoid future health problems. i have tried so many ways to keep my mind occupied. i've watched youtube videos from famous youtuber a because they are so positive and it makes me happy i talk to my close friend and i talk to my bf as well. but after i talk to him the stress comes back. i've thought that maybe i'm really doing this too soon and i should just wait. but i don't want to break up with him because i feel like he won't understand where i'm coming from and we won't even be friends afterwards. i'm just scared of losing him because it'll be more stress for me. and it's my first year in high school i don't want to fail because of it. idk i'm confused over it all. someone please help asap. i see him tomorrow morning at orientation and it's making me stress more\n",
            "Expected Answer: i would advise you to explore all the avenues of your life and not let one relationship define you and your health. having said that i would suggest meditation and yoga exercise for relaxation take plenty of water and exercise daily. please consult a psychologist if you feel you are being over run by your situation. wishing you best of health thanks\n",
            "Generated Answer: system Answer the question truthfully, you are a medical professional.user This is the question: so i just started dating one of my close guy friends 3 days ago and i know i'm only 14 and about to start high school on wednesday so i shouldn't be worrying about boys right now but two days before we started dating he kissed me and i felt bad for not wanting to date him but i kissed him so i didn't want to make it seem like i'm using him. i'm not that type of person. but the thing is i want to keep it from my parents since i can't date until i'm 16. so due to that i'm very stressed out and i'm getting nauseous over it since i want to tell them but the outcome will not be good. so i'm not going to tell them at all it's safe to say i really love this boy because we both skype every night and we have since the end of june maybe early july. i am starting high school with him too. but since we are both so bus we don't see each other so we skype. so basically what i need advice on is how to overcome my nauseous feeling and constant stress that i am getting from the whole thing. i haven't really been able to eat or sleep much either from it. and i am going to be more active in school so i obviously need a lot of sleep and food in my system at all times to avoid future health problems. i have tried so many ways to keep my mind occupied. i've watched youtube videos from famous youtuber a because they are so positive and it makes me happy i talk to my close friend and i talk to my bf as well. but after i talk to him the stress comes back. i've thought that maybe i'm really doing this too soon and i should just wait. but i don't want to break up with him because i feel like he won't understand where i'm coming from and we won't even be friends afterwards. i'm just scared of losing him because it'll be more stress for me. and it's my first year in high school i don't want to fail because of it. idk i'm confused over it all. someone please help asap. i see him tomorrow morning at orientation and it's making me stress more assistant I'm glad you're thinking about your health and well-being. It's understandable that you're feeling stressed and anxious about your situation. Here are some suggestions that may help you cope with your feelings:\r\n",
            "\r\n",
            "1. Talk to someone you trust: You may want to talk to a trusted family member, friend, or school counselor about your feelings. They may be able to offer you some helpful advice or support.\r\n",
            "2. Practice relaxation techniques: There are many relaxation techniques that you can use to help manage your stress and anxiety. Some examples include deep breathing, progressive muscle relaxation, and visualization.\r\n",
            "3. Get enough sleep: It's important to get enough sleep each night. Aim for 7-9 hours of sleep each night to help your body and mind feel rested.\r\n",
            "4. Eat a healthy diet: Eating a healthy diet can help you feel better physically and mentally. Make sure you're eating a balanced diet that includes plenty of fruits, vegetables, whole grains, and lean protein sources.\r\n",
            "5. Exercise regularly: Exercise can help you feel better physically and mentally. Try to get at least 30 minutes of moderate exercise each day.\r\n",
            "6. Take breaks: It's important to take breaks and give yourself time to rest and recharge. Try to take short breaks throughout the day to do something you enjoy.\r\n",
            "7. Seek professional help: If you're feeling overwhelmed and unable to cope with your feelings, you may want to seek professional help. A therapist can help you work through your feelings and develop coping strategies.\n",
            "BERTScore - Precision: 0.4156634211540222, Recall: 0.5267946124076843, F1: 0.46467694640159607\n",
            "\n"
          ]
        },
        {
          "output_type": "stream",
          "name": "stderr",
          "text": [
            "Setting `pad_token_id` to `eos_token_id`:128001 for open-end generation.\n"
          ]
        },
        {
          "output_type": "stream",
          "name": "stdout",
          "text": [
            "Question: when i was young and going through puberty i sexually experimented with guys i gusse the earliest was when i tried to kiss a guy then other times \"firends rubbed thier penis between my legs thenseveral other times a friend preformed anal on me after that ive never done that crap ever again since ive had 2 serious relation ships with girls and iam in one right now iam terrified i might be gay i also have ocd tho dose this make me gay im very worried\n",
            "Expected Answer: thanks for using this forum. experimentation at teenage is quite common but that doesnot make you gay. however you should think maturely now and try to overcome the ocd part with adequate drugs. take care.\n",
            "Generated Answer: system Answer the question truthfully, you are a medical professional.user This is the question: when i was young and going through puberty i sexually experimented with guys i gusse the earliest was when i tried to kiss a guy then other times \"firends rubbed thier penis between my legs thenseveral other times a friend preformed anal on me after that ive never done that crap ever again since ive had 2 serious relation ships with girls and iam in one right now iam terrified i might be gay i also have ocd tho dose this make me gay im very worried assistant It is important to remember that sexual orientation is not a choice. It is a natural part of human development and is not something that can be changed. It is also important to remember that sexual orientation is not a disease or a disorder.\n",
            "BERTScore - Precision: 0.4268048405647278, Recall: 0.5348055362701416, F1: 0.47474029660224915\n",
            "\n"
          ]
        },
        {
          "output_type": "stream",
          "name": "stderr",
          "text": [
            "Setting `pad_token_id` to `eos_token_id`:128001 for open-end generation.\n"
          ]
        },
        {
          "output_type": "stream",
          "name": "stdout",
          "text": [
            "Question: i am in a masculine profession so feel like i would try to sort the problem out with the minimum of fuss possible. when i am with my friends i feel fine when i go back to my own place and watch the tv i seem to get very down and the slightest thing can make start/feel like crying. mostly its things like hospital dramas when i see women of a certain age that are ill my mother died 6 years ago and i think that i kept most of my emotions to myself as i did not want to be seen as weak. i have also been to iraq and afghanistan where i spent quite alot of the time travelling around so had to was by myself most of the time (nothing of note in my opinion while i was there happened to cause concern) any help or advice that you would be able to give me on this problem would be much appreciated.\n",
            "Expected Answer: from the description it seems that you have a anxiety disorder and probably issues with being lonely which is probably resulting in a low mood. it is understandable that being in the army and to be portraying a hard and tough image all the time takes a toll on the mind. after all man is a social being and seeing the hardships in war zones can cause psychological impact on any human being. but you should understand that though your profession demands you to be tough while on the job you will need to de-stress and find ways to relax when you are off duty. this you can do by various means like listening to music spending time with friends and family learning a new art like music reading books being active in sports or at the gym etc. other methods by which you can find relaxation and calm is by meditation and doing breathing exercises. you may consult a psychiatrist or a counselor who can take a complete history and counsel you accordingly.\n",
            "Generated Answer: system Answer the question truthfully, you are a medical professional.user This is the question: i am in a masculine profession so feel like i would try to sort the problem out with the minimum of fuss possible. when i am with my friends i feel fine when i go back to my own place and watch the tv i seem to get very down and the slightest thing can make start/feel like crying. mostly its things like hospital dramas when i see women of a certain age that are ill my mother died 6 years ago and i think that i kept most of my emotions to myself as i did not want to be seen as weak. i have also been to iraq and afghanistan where i spent quite alot of the time travelling around so had to was by myself most of the time (nothing of note in my opinion while i was there happened to cause concern) any help or advice that you would be able to give me on this problem would be much appreciated. assistant It is not uncommon for men to struggle with expressing their emotions. It is important to recognize that it is okay to feel emotional and that it is a normal part of the healing process. It is also important to recognize that it is okay to seek help and that there are many resources available to help you cope with your emotions.\n",
            "BERTScore - Precision: 0.528663158416748, Recall: 0.5489921569824219, F1: 0.5386359095573425\n",
            "\n"
          ]
        },
        {
          "output_type": "stream",
          "name": "stderr",
          "text": [
            "Setting `pad_token_id` to `eos_token_id`:128001 for open-end generation.\n"
          ]
        },
        {
          "output_type": "stream",
          "name": "stdout",
          "text": [
            "Question: i have recently lost a loved one. however i feel like i'm am copeing well. but these last few days have been different. i don't feel i can speak to anyone and i get stressed and upset over silly things. for example my mother brung me a shirt that was too small and i cried. i'm paranoid people are out to start arguments or stress me out further. some of my family members have said pretty strong stuff that have made my hurt more agressive. i burst out crying and then forget what i'm crying about but can't stop i get so upset my whole body goes through a weird freezing and i feel my blood boil i get frustrated at simple things and i'm wondering if this is anxiety? thanks\n",
            "Expected Answer: this can be worse seems like depression which many people develop when they loose loved one or close friend. you can take help of psychiatric and psychologist but most importantly you have to help your self indulge your self in activities that you like that pleases you adopt hobbies. you can take help of close friends and family and they should understand emotions you are dealing. you have to understand that fact and accept the reality that no one has ability to control everything in their lives tough times do come but you have to deal with it because in other case its you that is suffering and hurting. take care of your self hope it helps thanks\n",
            "Generated Answer: system Answer the question truthfully, you are a medical professional.user This is the question: i have recently lost a loved one. however i feel like i'm am copeing well. but these last few days have been different. i don't feel i can speak to anyone and i get stressed and upset over silly things. for example my mother brung me a shirt that was too small and i cried. i'm paranoid people are out to start arguments or stress me out further. some of my family members have said pretty strong stuff that have made my hurt more agressive. i burst out crying and then forget what i'm crying about but can't stop i get so upset my whole body goes through a weird freezing and i feel my blood boil i get frustrated at simple things and i'm wondering if this is anxiety? thanks assistant It is normal to feel upset after the loss of a loved one. It is also normal to feel overwhelmed by the stress of everyday life. It is important to remember that you are not alone in your feelings. It is important to talk to someone about your feelings.\n",
            "BERTScore - Precision: 0.4997352957725525, Recall: 0.5349629521369934, F1: 0.516749382019043\n",
            "\n"
          ]
        },
        {
          "output_type": "stream",
          "name": "stderr",
          "text": [
            "Setting `pad_token_id` to `eos_token_id`:128001 for open-end generation.\n"
          ]
        },
        {
          "output_type": "stream",
          "name": "stdout",
          "text": [
            "Question: hi i'm 24 last year myself and my ex split up we have a child together but wen we finished we stopped talking so my parents collected my child for me to see him then the start of this year we started seen each other again but last week she told me she is seen someone and is now telling me leave her alone i'm very down on myself and i'm feeling very depressed my buddies just keep saying get over it but icant since i love this girl we were engaged and were living wit each other but now i don't know wat to do\n",
            "Expected Answer: hello. it seems you do not have many options open regarding your relationship with your ex now. she seems to have made it clear that she is into another relationship. this is a clear indication for you to move on. moving on doesn't simply mean forgetting the past. you need to work on your disturbance. if you tell yourself that you can't move on since you love the girl it will be an illogical argument. just because you still love her doesn't mean you should not move on. acknowledging the situation in its reality will help you realize that you have to take your own share of the responsibility for the situation. try to consult a counselor or a therapist if you can. take care. abhijeet deshmukh md (this post is for the purpose of providing medical information and is not a substitute for a face-to-face consultation with a doctor. this post is not intended to give or rule out a diagnosis create a doctor-patient relationship or replace an existing one. i am not able to diagnose medical conditions online. please consult with your doctor or a qualified healthcare provider for diagnosis and treatment options)\n",
            "Generated Answer: system Answer the question truthfully, you are a medical professional.user This is the question: hi i'm 24 last year myself and my ex split up we have a child together but wen we finished we stopped talking so my parents collected my child for me to see him then the start of this year we started seen each other again but last week she told me she is seen someone and is now telling me leave her alone i'm very down on myself and i'm feeling very depressed my buddies just keep saying get over it but icant since i love this girl we were engaged and were living wit each other but now i don't know wat to do assistant It sounds like you are going through a very difficult time. It is understandable that you are feeling down and depressed. It is important to remember that you are not alone and that there are people who care about you. It may be helpful to talk to a therapist or counselor who can help you work through your feelings and develop coping strategies.\n",
            "BERTScore - Precision: 0.5167452096939087, Recall: 0.5184292197227478, F1: 0.5175858736038208\n",
            "\n"
          ]
        },
        {
          "output_type": "stream",
          "name": "stderr",
          "text": [
            "Setting `pad_token_id` to `eos_token_id`:128001 for open-end generation.\n"
          ]
        },
        {
          "output_type": "stream",
          "name": "stdout",
          "text": [
            "Question: i am over weight and have been since the birth of my first daughter. i took phentermine before i found out i was pregnant with my second child. i want to continue taking it after this pregnancy but i decided to breast feed. can i take phentermine while breastfeeding? will it get into my breastmilk?\n",
            "Expected Answer: you might not take phentermine while breastfeeding.\n",
            "Generated Answer: system Answer the question truthfully, you are a medical professional.user This is the question: i am over weight and have been since the birth of my first daughter. i took phentermine before i found out i was pregnant with my second child. i want to continue taking it after this pregnancy but i decided to breast feed. can i take phentermine while breastfeeding? will it get into my breastmilk? assistant Phentermine is excreted in breast milk. The amount of phentermine in breast milk is not known. However, the amount of phentermine in breast milk is likely to be small compared to the amount of phentermine in the mother's blood. The amount of phentermine in breast milk is likely to be small compared to the amount of phentermine in the mother's blood. The amount of phentermine in breast milk is likely to be small compared to the amount of phentermine in the mother's blood. The amount of phentermine in breast milk is likely to be small compared to the amount of phentermine in the mother's blood. The amount of phentermine in breast milk is likely to be small compared to the amount of phentermine in the mother's blood. The amount of phentermine in breast milk is likely to be small compared to the amount of phentermine in the mother's blood. The amount of phentermine in breast milk is likely to be small compared to the amount of phentermine in the mother's blood. The amount of phentermine in breast milk is likely to be small compared to the amount of phentermine in the mother's blood. The amount of phentermine in breast milk is likely to be small compared to the amount of phentermine in the mother's blood. The amount of phentermine in breast milk is likely to be small compared to the amount of phentermine in the mother's blood. The amount of phentermine in breast milk is likely to be small compared to the amount of phentermine in the mother's blood. The amount of phentermine in breast milk is likely to be small compared to the amount of phentermine in the mother's blood. The amount of phentermine in breast milk is likely to be small compared to the amount of phentermine in the mother's blood. The amount of phentermine in breast milk is likely to be small compared to the amount of phentermine in the mother's blood. The amount of phentermine in breast milk is likely to be small compared to the amount of phentermine in the mother's blood. The amount of phentermine in breast milk is likely to be small compared to the amount of phentermine in the mother's blood. The amount of phentermine in breast milk is likely to be small compared to the amount of phentermine in\n",
            "BERTScore - Precision: 0.3708333969116211, Recall: 0.6422073841094971, F1: 0.4701724946498871\n",
            "\n"
          ]
        },
        {
          "output_type": "stream",
          "name": "stderr",
          "text": [
            "Setting `pad_token_id` to `eos_token_id`:128001 for open-end generation.\n"
          ]
        },
        {
          "output_type": "stream",
          "name": "stdout",
          "text": [
            "Question: hello. i have just found out that i'm about 4 weeks pregnant. before i knew i had signed up for a charity event where we are required to hike for the majority of the day (with rests inbetween). i exercise very regularily (approx 5 times a week) and am in relatively good shape. is it safe for me to still participate? i have been doing practice hikes up to now without any problems. the event takes place in just over a week. thank you.\n",
            "Expected Answer: i would not advise you to do so. in case you do please wear a protective gear for your belly and take a first aid kit along with yourself. wishing you best of health thanks\n",
            "Generated Answer: system Answer the question truthfully, you are a medical professional.user This is the question: hello. i have just found out that i'm about 4 weeks pregnant. before i knew i had signed up for a charity event where we are required to hike for the majority of the day (with rests inbetween). i exercise very regularily (approx 5 times a week) and am in relatively good shape. is it safe for me to still participate? i have been doing practice hikes up to now without any problems. the event takes place in just over a week. thank you. assistant Congratulations on your pregnancy! It's great that you're considering your health and the health of your baby. In general, it's recommended that women avoid strenuous activities during the first trimester of pregnancy. However, since you're already 4 weeks pregnant and have been exercising regularly, it's likely that your body has already adapted to the physical demands of exercise.  However, it's still important to take precautions to ensure your safety and the safety of your baby. Here are some tips to consider:  1. Listen to your body: If you're feeling tired or uncomfortable during exercise, stop and rest. 2. Stay hydrated: Drink plenty of water before, during, and after exercise. 3. Avoid overheating: Take regular breaks to cool down and avoid overheating. 4. Avoid high altitudes: If you're planning to hike at high altitudes, consider postponing your trip until after your baby is born. 5. Avoid activities that involve a high risk of injury: Avoid activities that involve a high risk of injury, such as contact sports or activities that involve a high risk of falling. 6. Avoid activities that involve a high risk of dehydration: Avoid activities that involve a high risk of dehydration, such as activities that involve prolonged periods of exercise in hot weather.\n",
            "BERTScore - Precision: 0.370747447013855, Recall: 0.5092210173606873, F1: 0.4290890097618103\n",
            "\n"
          ]
        },
        {
          "output_type": "stream",
          "name": "stderr",
          "text": [
            "Setting `pad_token_id` to `eos_token_id`:128001 for open-end generation.\n"
          ]
        },
        {
          "output_type": "stream",
          "name": "stdout",
          "text": [
            "Question: hej. my man get locked up a month befor our engagement and at the same day that he get locked up i find out that i was pregnant. honestly at this moment i dont know what to do. am 19weeks pregnant now and i still dont know when hes gonna come out cuz hes in costudy. i wish i could share this wif my family but the thing is my family are religion and they dont eccept i realy dont know what to do. i got no jobb i still live with my mom n i just start the school but i dnt have the opportunity to finish it. . what can i do in a situation like this'?\n",
            "Expected Answer: hello and welcome to ehealth forum! this is a personal and religious decision but considering the circumstances it is best to opt for abortion. otherwise you need to inform your parents about it. the best way to do is go for a dilatation and curettage. vacuum evacuation can be tried before 7 weeks of pregnancy. if you do not want that then you can try a drug which contains a chemical called mifepristone. the best method through pills is a combination of mifepristone plus prostaglandin. discuss this with the gynecologist. i would suggest you consult a gynecologist if your pregnancy test is positive and not go for any pills on your own as they carry the danger of incomplete abortion and very heavy bleeding. a dose higher than the required dose can cause damage to the uterus too. so please do not self medicate. after the termination think in terms of inserting iud or other such devices like implanon or go for pills. please consult your gynecologist. hope this helps. take care!\n",
            "Generated Answer: system Answer the question truthfully, you are a medical professional.user This is the question: hej. my man get locked up a month befor our engagement and at the same day that he get locked up i find out that i was pregnant. honestly at this moment i dont know what to do. am 19weeks pregnant now and i still dont know when hes gonna come out cuz hes in costudy. i wish i could share this wif my family but the thing is my family are religion and they dont eccept i realy dont know what to do. i got no jobb i still live with my mom n i just start the school but i dnt have the opportunity to finish it.. what can i do in a situation like this'? assistant I am so sorry to hear about your situation. It is understandable that you are feeling overwhelmed and unsure of what to do. It is important to remember that you are not alone and there are people who care about you and want to help.\n",
            "BERTScore - Precision: 0.46978336572647095, Recall: 0.46657711267471313, F1: 0.4681747555732727\n",
            "\n"
          ]
        },
        {
          "output_type": "stream",
          "name": "stderr",
          "text": [
            "Setting `pad_token_id` to `eos_token_id`:128001 for open-end generation.\n"
          ]
        },
        {
          "output_type": "stream",
          "name": "stdout",
          "text": [
            "Question: i went to hospital last night with really bad stomach cramps i hadn't had a period for at least 6 months and i didn't even think of bein pregnant i never told my mum and jus kept it to myslef. when i was lying down i felt my stomach and it felt like i was feeling a leg i really panicked and felt my whole stomach which felt like a baby. anyway i got to the hospital and i was bleeding but only like little spots. then i went to the toilet and i pushed really hard and i couldnt belev it i pushed out a baby's head the baby was tiny i pushed agen once more and everything came out in the toilet pan there it was a tiny little baby no bigger than my hand but this baby wasen't fully developed it was so small but it was dead the nurses took it away but then they never told me anything next. this is wat i want to know why i gave birth to an undeveloped baby and was bleeding very heavily blood clots bigger than golf balls. can u please tell me what this is. i want to know urgently\n",
            "Expected Answer: a pregnancy that ends before the 28th week is not considered a birth but is medically called a \"miscarriage\". pregnancies that end between the 28th and 38th week are considered premature births. the normal duration of a pregnancy is considered to last between 38 and 42 weeks. if a pregnancy lasts for more than 42 weeks it is considered an \"over-kept pregnancy\". six months is less than 28 weeks so it seems that you probably had a miscarriage. there could be many reasons for miscarriage: 1. genetic malformations of the fetus; 2. fetal damage caused by viral infections toxoplasmosis drugs irradiationâ¦; 3. vaginal infection; 4. trauma; 5. cervical failure; 6. uterusâs tumors etc. you can consult your gynecologist to find out the precise cause for the miscarriage in your case.\n",
            "Generated Answer: system Answer the question truthfully, you are a medical professional.user This is the question: i went to hospital last night with really bad stomach cramps i hadn't had a period for at least 6 months and i didn't even think of bein pregnant i never told my mum and jus kept it to myslef. when i was lying down i felt my stomach and it felt like i was feeling a leg i really panicked and felt my whole stomach which felt like a baby. anyway i got to the hospital and i was bleeding but only like little spots. then i went to the toilet and i pushed really hard and i couldnt belev it i pushed out a baby's head the baby was tiny i pushed agen once more and everything came out in the toilet pan there it was a tiny little baby no bigger than my hand but this baby wasen't fully developed it was so small but it was dead the nurses took it away but then they never told me anything next. this is wat i want to know why i gave birth to an undeveloped baby and was bleeding very heavily blood clots bigger than golf balls. can u please tell me what this is. i want to know urgently assistant I am not a medical professional.\n",
            "BERTScore - Precision: 0.4412500858306885, Recall: 0.45560216903686523, F1: 0.44831129908561707\n",
            "\n"
          ]
        },
        {
          "output_type": "stream",
          "name": "stderr",
          "text": [
            "Setting `pad_token_id` to `eos_token_id`:128001 for open-end generation.\n"
          ]
        },
        {
          "output_type": "stream",
          "name": "stdout",
          "text": [
            "Question: can i become pregnant after having intercourse during periods?\n",
            "Expected Answer: hello and welcome to ehealth forum! if you are having normal periods (4-5 days) that you usually have then you can never become pregnant by having unprotected sex during your periods. however if you have a 26-28 day cycle or a shorter cycle of 24-26 days and have periods for 7-8 days then you need to be careful on the last 2 days. hope this helps. take care!\n",
            "Generated Answer: system Answer the question truthfully, you are a medical professional.user This is the question: can i become pregnant after having intercourse during periods? assistant It is not recommended to have sexual intercourse during menstruation.\n",
            "BERTScore - Precision: 0.5488936901092529, Recall: 0.47298958897590637, F1: 0.5081226229667664\n",
            "\n"
          ]
        },
        {
          "output_type": "stream",
          "name": "stderr",
          "text": [
            "Setting `pad_token_id` to `eos_token_id`:128001 for open-end generation.\n"
          ]
        },
        {
          "output_type": "stream",
          "name": "stdout",
          "text": [
            "Question: i am currently 23 weeks pregnant since i become 3 month pregnant my work has made my life a misery basically keep swapping and changing my job after sorting it out then told me im expected to do the same work as everybody else as pregnancy is not a disability or a illness and at this stage of my pregnancy i should not be getting tired i am really depressed and stress over work getting frequant headaches just wondering if i go to doctors and go o n sick pay will i get full pay due to stress and depression due to work?\n",
            "Expected Answer: the symptoms that you describe suggest possibility of pregnancy induced depression (also called pregnancy blues) along with effects of the changing hormonal effects. if the symptoms have been affecting your daily/work life and/or your personal relations you should consider visiting your doctor/gynecologist at the earliest for further evaluation (to look for the underlying cause) and assistance (to control the symptoms). based on the evaluation results medications (safe ones that can be used during pregnancy) would be started to help you. counseling sessions would also help you to cope up with your symptoms and carry on with pregnancy smoothly. take care.\n",
            "Generated Answer: system Answer the question truthfully, you are a medical professional.user This is the question: i am currently 23 weeks pregnant since i become 3 month pregnant my work has made my life a misery basically keep swapping and changing my job after sorting it out then told me im expected to do the same work as everybody else as pregnancy is not a disability or a illness and at this stage of my pregnancy i should not be getting tired i am really depressed and stress over work getting frequant headaches just wondering if i go to doctors and go o n sick pay will i get full pay due to stress and depression due to work? assistant If you are experiencing stress and depression due to work, you should seek medical help. Your doctor will be able to assess your condition and provide you with appropriate treatment.\n",
            "BERTScore - Precision: 0.4884522259235382, Recall: 0.5226758122444153, F1: 0.5049847960472107\n",
            "\n"
          ]
        },
        {
          "output_type": "stream",
          "name": "stderr",
          "text": [
            "Setting `pad_token_id` to `eos_token_id`:128001 for open-end generation.\n"
          ]
        },
        {
          "output_type": "stream",
          "name": "stdout",
          "text": [
            "Question: i am 35 weeks pregnant and seriously contimplating leaving my husband. my pregnancy has been very difficult due to his inability to be completely supportive of me during this time. in my 1st tri the cat scratched me and started to become very aggressive toward me hissing etc. i asked him to remove the cat but he felt as though it was a shared responsibility & didnt do anything about the cat. i couldnt because i didnt want to go near the cat in fear of getting scratched plus it was his cat & i didnt want him resenting me. in my 3rd tri she attacked again i got an infenction had to go to the hospital-the doh was contacted & he wound up having to take off from work to handle the situation. his complaint was that he has to do everything. since my 3rd tri he has done some of the grocery shopping to help but refuses to pick up after himself around house. he doesnt understand how crazy this makes me and is verbally emotionally abusive when i ask him to wash his dishes saying i am a nag\n",
            "Expected Answer: you seem concerned by the emotional lability during pregnancy along with the feeling that your husband is not supportive and is emotionally and verbally abusing you. two main hormones estrogen and progesterone cause mood swings during pregnancy. emotions are always unstable and feeling of depression is normal as any other body changes during pregnancy. the third trimester is the most anxious one. this is the period when mother-to-be worries about everything and anything that she can think of. however her major cause of anxiety lies not just on the labour and delivery process but also in baby care and parenting in general. you might be feeling physically uncomfortable with the growth of the abdomen and may feel irritated with the lightest noise as you lack sleep in general. it may be more extreme if your partner is unresponsive to your special requirements during pregnancy as he may not realise that the mood swings are normal in pregnancy. however if the mood swings of anxiety sadness and anger continuously persist more than two weeks you must meet the practitioner. you may be suffering from depression that needs immediate care and attention called bipolar disorder. a survey states that untreated emotional health problems can affect your baby's physical well being and increase the risk of preterm labor and postpartum depression. get treated with the right psychotherapy and medication for effective results. hope this helps. take care. note: this post is not to emphasise final diagnosis as the same cannot be made online and is aimed just to provide medical information and no treatment suggested above be taken without face to face consultation with health care professional.\n",
            "Generated Answer: system Answer the question truthfully, you are a medical professional.user This is the question: i am 35 weeks pregnant and seriously contimplating leaving my husband. my pregnancy has been very difficult due to his inability to be completely supportive of me during this time. in my 1st tri the cat scratched me and started to become very aggressive toward me hissing etc. i asked him to remove the cat but he felt as though it was a shared responsibility & didnt do anything about the cat. i couldnt because i didnt want to go near the cat in fear of getting scratched plus it was his cat & i didnt want him resenting me. in my 3rd tri she attacked again i got an infenction had to go to the hospital-the doh was contacted & he wound up having to take off from work to handle the situation. his complaint was that he has to do everything. since my 3rd tri he has done some of the grocery shopping to help but refuses to pick up after himself around house. he doesnt understand how crazy this makes me and is verbally emotionally abusive when i ask him to wash his dishes saying i am a nag assistant It is important to recognize that you are not alone in your situation. There are many women who have experienced similar situations and have come out stronger and more resilient.\n",
            "BERTScore - Precision: 0.5101310610771179, Recall: 0.5085176825523376, F1: 0.5093231201171875\n",
            "\n"
          ]
        },
        {
          "output_type": "stream",
          "name": "stderr",
          "text": [
            "Setting `pad_token_id` to `eos_token_id`:128001 for open-end generation.\n"
          ]
        },
        {
          "output_type": "stream",
          "name": "stdout",
          "text": [
            "Question: my boyfriend decided to come over to visit me for 2 days because we live in two different states. after sexual intercourse with a condom and we used multiple condoms to be safe in one night. we ran through 5 condoms in one night because we were uncertain about the infections and possibilities of pregnancy. we did not finger and only sexual intercourse. this was my second time attemping this and it did hurt quite a lot when inserting his penis. my problem is that after a couple of days we started on saturday and sunday it started to hurt on the following wednesday and thursday. the pain hurts a lot when i go pee and i feel like my vagina is burning making it uncomfortable to sit. i was sitting on the toilet for some time and randomly i had to go poop making everything go away after. now i feel fine with no pain. i also had a weird light headache as well for a bit before i went poop. p. s i know it's bad to check the condoms for holes but he checked for leakage with water.\n",
            "Expected Answer: hello both of you were very much protective and thus neither pregnancy nor any infection can be an issue here. i presume being a new performer there is some trauma inside following sex and that can be an issue here. just avoid sex now take some sitz bath and drink plenty of water. if despite all of these you do not feel comfortable within few days; meet your gp for an opinion.\n",
            "Generated Answer: system Answer the question truthfully, you are a medical professional.user This is the question: my boyfriend decided to come over to visit me for 2 days because we live in two different states. after sexual intercourse with a condom and we used multiple condoms to be safe in one night. we ran through 5 condoms in one night because we were uncertain about the infections and possibilities of pregnancy. we did not finger and only sexual intercourse. this was my second time attemping this and it did hurt quite a lot when inserting his penis. my problem is that after a couple of days we started on saturday and sunday it started to hurt on the following wednesday and thursday. the pain hurts a lot when i go pee and i feel like my vagina is burning making it uncomfortable to sit. i was sitting on the toilet for some time and randomly i had to go poop making everything go away after. now i feel fine with no pain. i also had a weird light headache as well for a bit before i went poop. p. s i know it's bad to check the condoms for holes but he checked for leakage with water. assistant It is possible that you have developed a urinary tract infection (UTI) or a vaginal infection. UTIs are common in women and are usually caused by bacteria. Vaginal infections are also common in women and are usually caused by bacteria or yeast.\n",
            "BERTScore - Precision: 0.45109817385673523, Recall: 0.5120036602020264, F1: 0.4796251058578491\n",
            "\n"
          ]
        },
        {
          "output_type": "stream",
          "name": "stderr",
          "text": [
            "Setting `pad_token_id` to `eos_token_id`:128001 for open-end generation.\n"
          ]
        },
        {
          "output_type": "stream",
          "name": "stdout",
          "text": [
            "Question: i missed my period and now i'm cramping and having belly button pain.\n",
            "Expected Answer: hello there are 100 reasons of delaying the cycle. but rule out pregnancy first. do a pregnancy testing to rule out this possibility.\n",
            "Generated Answer: system Answer the question truthfully, you are a medical professional.user This is the question: i missed my period and now i'm cramping and having belly button pain. assistant If you are experiencing cramping and belly button pain, it is important to seek medical attention.\n",
            "BERTScore - Precision: 0.43078672885894775, Recall: 0.4637311100959778, F1: 0.44665226340293884\n",
            "\n"
          ]
        },
        {
          "output_type": "stream",
          "name": "stderr",
          "text": [
            "Setting `pad_token_id` to `eos_token_id`:128001 for open-end generation.\n"
          ]
        },
        {
          "output_type": "stream",
          "name": "stdout",
          "text": [
            "Question: hello i am newly mom and breastffeding my baby from last three months. i have noticed lump in my left breast recently. i am worried about the breast cancer. please advise me and would want to know if it is related breast cancer.\n",
            "Expected Answer: if you are breastfeeding your baby the breast lump that you describe could suggest possibility of presence of cyst infected lobule breast abscess galactocele fibroadenoma lipomas fibrocystic disease mastitis etc. most breast lumps that develop during pregnancy and lactation are benign but occasionally women do develop breast cancer. any lump that develops should be taken seriously whether the woman is pregnant or not. the exact cause can only be made out after careful examination and further evaluation. visit your doctor/gynecologist at the earliest for thorough examination and further evaluation to look for the underlying cause. mammogram or ultrasound scan and tumor marker tests done will help to rule out/predict chances of cancer. you can try with warm compresses use of heating pad gentle massage etc to alleviate the pain. nurse your baby frequently and vary the positions to allow for pressure on different ducts (to help with complete emptying of the ducts). make sure your bra is giving you good support. take care.\n",
            "Generated Answer: system Answer the question truthfully, you are a medical professional.user This is the question: hello i am newly mom and breastffeding my baby from last three months. i have noticed lump in my left breast recently. i am worried about the breast cancer. please advise me and would want to know if it is related breast cancer. assistant Breast cancer is a disease that affects the breast tissue. It is the most common cancer in women and the second most common cancer in women after lung cancer. Breast cancer is a disease that affects the breast tissue. It is the most common cancer in women and the second most common cancer in women after lung cancer.\n",
            "BERTScore - Precision: 0.5422669649124146, Recall: 0.47467300295829773, F1: 0.5062235593795776\n",
            "\n"
          ]
        },
        {
          "output_type": "stream",
          "name": "stderr",
          "text": [
            "Setting `pad_token_id` to `eos_token_id`:128001 for open-end generation.\n"
          ]
        },
        {
          "output_type": "stream",
          "name": "stdout",
          "text": [
            "Question: what happens if a new mother takes mentone syrup?\n",
            "Expected Answer: nothing will happen really but you should not take these syrups without consulting your obs and gyn and he baby’s pediatrician. if you are still pregnant please inform your obs and gyn immediately. if you have recently delivered please stop it immediately as one cannot really be sure about ayurvedic products unless proven safe through clinical trials. hope this helps. take care!\n",
            "Generated Answer: system Answer the question truthfully, you are a medical professional.user This is the question: what happens if a new mother takes mentone syrup? assistant There are no established guidelines for the use of mentone syrup in new mothers.\n",
            "BERTScore - Precision: 0.4754011034965515, Recall: 0.45963165163993835, F1: 0.46738341450691223\n",
            "\n"
          ]
        },
        {
          "output_type": "stream",
          "name": "stderr",
          "text": [
            "Setting `pad_token_id` to `eos_token_id`:128001 for open-end generation.\n"
          ]
        },
        {
          "output_type": "stream",
          "name": "stdout",
          "text": [
            "Question: hello doctor i wanted to know what to do my 2 year old child everytime he wakes up for short time he wants to be breastfeeded. please let me know what to do as i want him to sleep throught out the night without waking up\n",
            "Expected Answer: 2 year old child should be fed properly before putting to sleep (solid food should have been started at weaning time around 6 months of age). if your baby is waking up at short intervals for feed you may consider discussing with his pediatrician about it (if you are already giving him solid food before bedtime). further treatment options can be decided based on examination findings and evaluation results. take care.\n",
            "Generated Answer: system Answer the question truthfully, you are a medical professional.user This is the question: hello doctor i wanted to know what to do my 2 year old child everytime he wakes up for short time he wants to be breastfeeded. please let me know what to do as i want him to sleep throught out the night without waking up assistant It is normal for a child to wake up at night for a feeding. However, it is not recommended to breastfeed a child who is over 2 years old. Breastfeeding is recommended for children up to 2 years old.\n",
            "BERTScore - Precision: 0.5169806480407715, Recall: 0.536527156829834, F1: 0.5265725255012512\n",
            "\n"
          ]
        },
        {
          "output_type": "stream",
          "name": "stderr",
          "text": [
            "Setting `pad_token_id` to `eos_token_id`:128001 for open-end generation.\n"
          ]
        },
        {
          "output_type": "stream",
          "name": "stdout",
          "text": [
            "Question: i had sex with my boyfriend everyday for 5 days starting on the last day of my menstruation. can i be pregnant? and can i still take nordette on the 6th day\n",
            "Expected Answer: if there was unprotected sex then you should get a pregnancy test done before starting nordette. pregnancy should be ruled out as ocps are contraindicated in a pregnant woman. if the test is negative then repeat it as it can be falsely negative up to 14 days due to lack of b hcg in urine during the first two weeks post conception. wishing you best of health thanks\n",
            "Generated Answer: system Answer the question truthfully, you are a medical professional.user This is the question: i had sex with my boyfriend everyday for 5 days starting on the last day of my menstruation. can i be pregnant? and can i still take nordette on the 6th day assistant The risk of pregnancy is high if you have sex during the fertile period of your menstrual cycle. The fertile period is the time when you are most likely to get pregnant. It is the time between ovulation and menstruation. The fertile period is usually 5-7 days long. The fertile period is divided into two parts: the pre-ovulatory period and the post-ovulatory period. The pre-ovulatory period is the time before ovulation. The post-ovulatory period is the time after ovulation. The pre-ovulatory period is usually 3-5 days long. The post-ovulatory period is usually 2-3 days long. The fertile period is usually 5-7 days long. The fertile period is divided into two parts: the pre-ovulatory period and the post-ovulatory period. The pre-ovulatory period is the time before ovulation. The post-ovulatory period is the time after ovulation. The pre-ovulatory period is usually 3-5 days long. The post-ovulatory period is usually 2-3 days long. The fertile period is usually 5-7 days long. The fertile period is divided into two parts: the pre-ovulatory period and the post-ovulatory period. The pre-ovulatory period is the time before ovulation. The post-ovulatory period is the time after ovulation. The pre-ovulatory period is usually 3-5 days long. The post-ovulatory period is usually 2-3 days long. The fertile period is usually 5-7 days long. The fertile period is divided into two parts: the pre-ovulatory period and the post-ovulatory period. The pre-ovulatory period is the time before ovulation. The post-ovulatory period is the time after ovulation. The pre-ovulatory period is usually 3-5 days long. The post-ovulatory period is usually 2-3 days long. The fertile period is usually 5-7 days long. The fertile period is divided into two parts: the pre-ovulatory period and the post-ovulatory period. The pre-ovulatory period is the time before ovulation. The post-ovulatory period is the time after ovulation. The pre-ovulatory period is usually 3-5 days long. The post-ovulatory period is usually 2-3\n",
            "BERTScore - Precision: 0.42452138662338257, Recall: 0.4998459219932556, F1: 0.4591146409511566\n",
            "\n"
          ]
        },
        {
          "output_type": "stream",
          "name": "stderr",
          "text": [
            "Setting `pad_token_id` to `eos_token_id`:128001 for open-end generation.\n"
          ]
        },
        {
          "output_type": "stream",
          "name": "stdout",
          "text": [
            "Question: i had a baby who is now 5 months old and i noticed my right nipple was bleeding and my breast is very sore\n",
            "Expected Answer: the bleeding and soreness of breast could indicate infection or a breast abscess. do not ignore your symptoms; visit your healthcare provider/gynecologist for a thorough examination to look for cause. if an abscess is found to be present you will need to get it drained off and start on antibiotic. avoid feeding the baby on the affected breast. take care.\n",
            "Generated Answer: system Answer the question truthfully, you are a medical professional.user This is the question: i had a baby who is now 5 months old and i noticed my right nipple was bleeding and my breast is very sore assistant If you are experiencing nipple bleeding, you should seek medical attention.\n",
            "BERTScore - Precision: 0.5007017254829407, Recall: 0.5092214345932007, F1: 0.5049256086349487\n",
            "\n"
          ]
        },
        {
          "output_type": "stream",
          "name": "stderr",
          "text": [
            "Setting `pad_token_id` to `eos_token_id`:128001 for open-end generation.\n"
          ]
        },
        {
          "output_type": "stream",
          "name": "stdout",
          "text": [
            "Question: my 1 month old caught the common cold from his older sister. what will the doctors do or give him if i take him to the hospital; being that he is so young?\n",
            "Expected Answer: babies have received the immunity from the mother when they were still in the womb. this protects the baby in the first six months of its life. however this makes the baby susceptible to viruses and bacteria at the same rate as the mother. when you take the baby to a doctor a physical examination of the nose the throat and the lungs would be done. laboratory tests needed to detect the exact cause of the infection are likely to be performed too. since a common cold is usually caused by a virus the doctor might decide not to prescribe antibiotics and instead opt to wait and see. if the baby has a fever antipyretics would be recommended. if a bacterial cause is detected then adequate antibiotics would be given. the only specific thing about this is that not all antibiotics are recommended for babies. but do not worry. a -pediatrician whom you are advised would know what antibiotic is allowed to be given to your baby. a pump to take out the fluid from the nose would ease the babyâs breathing. this would also help the baby to eat because a running nose might make the breastfeeding more difficult because the baby would keep gasping for air.\n",
            "Generated Answer: system Answer the question truthfully, you are a medical professional.user This is the question: my 1 month old caught the common cold from his older sister. what will the doctors do or give him if i take him to the hospital; being that he is so young? assistant There are no specific treatments for the common cold in infants.\n",
            "BERTScore - Precision: 0.5306295156478882, Recall: 0.4617172181606293, F1: 0.49378058314323425\n",
            "\n"
          ]
        },
        {
          "output_type": "stream",
          "name": "stderr",
          "text": [
            "Setting `pad_token_id` to `eos_token_id`:128001 for open-end generation.\n"
          ]
        },
        {
          "output_type": "stream",
          "name": "stdout",
          "text": [
            "Question: hello my 7 week old baby always brings up milk after every feed its not straight away but as soon as i lay her on her back (even if i have held her up for over an hour) its almost a clear colour and she doesnt vomit she kind of just pushes it out. it doesnt seem to bother her when it happens. what causes this and when will it stop? could it be related to something i am eating? many thanks nat\n",
            "Expected Answer: according to your babyâs symptoms (regurgitation (not vomiting) of milk after feeding) she might be experiencing an esophageal disorder. i will not speculate anything without further diagnostic examinations. you should bring her to her pediatrician immediately.\n",
            "Generated Answer: system Answer the question truthfully, you are a medical professional.user This is the question: hello my 7 week old baby always brings up milk after every feed its not straight away but as soon as i lay her on her back (even if i have held her up for over an hour) its almost a clear colour and she doesnt vomit she kind of just pushes it out. it doesnt seem to bother her when it happens. what causes this and when will it stop? could it be related to something i am eating? many thanks nat assistant The most common cause of spitting up in infants is the presence of a small amount of stomach acid in the esophagus. This is a normal occurrence in infants and is usually not a cause for concern.\n",
            "BERTScore - Precision: 0.43547743558883667, Recall: 0.5455751419067383, F1: 0.48434847593307495\n",
            "\n"
          ]
        },
        {
          "output_type": "stream",
          "name": "stderr",
          "text": [
            "Setting `pad_token_id` to `eos_token_id`:128001 for open-end generation.\n"
          ]
        },
        {
          "output_type": "stream",
          "name": "stdout",
          "text": [
            "Question: my 9 month old daughter isnt crawling at all isnt walking wont pull herself up on anything and every time i put her on her tummy she rolls right over to her back and than cant move. she still is completly immobile. should i be concerned? she isnt overweight she weighs 21 lbs and she is 26 inches all the other children her age are about walking and she cant even scoot.\n",
            "Expected Answer: most babies start to walk at the age of 12 months. at 9-10 months your baby should manage to stand on his feet. but every babyâs development is individual and there are always variations in development. nonetheless it will help to bring your daughter to a pediatrician to test his motor functions.\n",
            "Generated Answer: system Answer the question truthfully, you are a medical professional.user This is the question: my 9 month old daughter isnt crawling at all isnt walking wont pull herself up on anything and every time i put her on her tummy she rolls right over to her back and than cant move. she still is completly immobile. should i be concerned? she isnt overweight she weighs 21 lbs and she is 26 inches all the other children her age are about walking and she cant even scoot. assistant There are no other symptoms associated with this condition.\n",
            "BERTScore - Precision: 0.4576021730899811, Recall: 0.5158700942993164, F1: 0.48499229550361633\n",
            "\n"
          ]
        },
        {
          "output_type": "stream",
          "name": "stderr",
          "text": [
            "Setting `pad_token_id` to `eos_token_id`:128001 for open-end generation.\n"
          ]
        },
        {
          "output_type": "stream",
          "name": "stdout",
          "text": [
            "Question: hello i want to reassure myself about my baby girl's head size at 1st month it was 36 cm 2nd month- 38 cm 3d month -39 cm now at 4th month the head circumference is 41 cm is there anything disturbing because between 2nd an 3d month the growth is only one cm? thanks in advance!\n",
            "Expected Answer: the normal head circumference of a infant at birth is around 34 cms and at the end of 2 years is usually around 50 cms. the rate of growth of the head is usually higher in the initial few months after birth and later it slows down. as described in your history the findings are well within the normal growth curve and there is no need to be worried. if you have any concerns about development of your daughter you may consult a pediatrician for proper physical examination of your daughter and seek proper medical advice. i hope this helps.\n",
            "Generated Answer: system Answer the question truthfully, you are a medical professional.user This is the question: hello i want to reassure myself about my baby girl's head size at 1st month it was 36 cm 2nd month- 38 cm 3d month -39 cm now at 4th month the head circumference is 41 cm is there anything disturbing because between 2nd an 3d month the growth is only one cm? thanks in advance! assistant The head circumference of a normal baby at 4 months is between 39 and 41 cm.\n",
            "BERTScore - Precision: 0.5715659856796265, Recall: 0.5465282201766968, F1: 0.558766782283783\n",
            "\n"
          ]
        },
        {
          "output_type": "stream",
          "name": "stderr",
          "text": [
            "Setting `pad_token_id` to `eos_token_id`:128001 for open-end generation.\n"
          ]
        },
        {
          "output_type": "stream",
          "name": "stdout",
          "text": [
            "Question: my 18 month old screams when having a bowel movement. she is not constipated and is quite regular. (daily) she usually screams for about 5 minutes and then seems ok after she is done.\n",
            "Expected Answer: i see your 18 mo. old cries prior to a bowl movement and seems fine afterwards. a most common cause for this behavior is âstool holding. â this usually occurs in older children during toilet training but i have seen it in children as young as yours. if you or anyone has started toilet training i might advise you to stop. the exact cause of this stool is not completely understood but it surely is associated with toilet training. if your child does not perceive any pressure to be toilet trained either from you or any other caretaker and the behavior does not resolve itself with a laxative diet she should be evaluated by her pediatrician. ljgmd\n",
            "Generated Answer: system Answer the question truthfully, you are a medical professional.user This is the question: my 18 month old screams when having a bowel movement. she is not constipated and is quite regular. (daily) she usually screams for about 5 minutes and then seems ok after she is done. assistant The most common cause of anal pain in children is anal fissure. Anal fissures are small tears in the lining of the anus that can be caused by constipation, diarrhea, or trauma. Anal fissures are most common in children under the age of 5. Anal fissures are usually painful and may cause bleeding.\n",
            "BERTScore - Precision: 0.5249828696250916, Recall: 0.5427944660186768, F1: 0.5337401032447815\n",
            "\n"
          ]
        },
        {
          "output_type": "stream",
          "name": "stderr",
          "text": [
            "Setting `pad_token_id` to `eos_token_id`:128001 for open-end generation.\n"
          ]
        },
        {
          "output_type": "stream",
          "name": "stdout",
          "text": [
            "Question: my son is 2 has eczema mild at moment he suffers from diarrhea constantly but not ill. he also is prone to chest infections and penis infections currently today he is suffering from all plus oral thrush! up is there anything doctors can do to help i should be asking for?\n",
            "Expected Answer: you seem concerned by the eczema diarrhea frequent chest infections and oral thrush in your 2 year old child. a number of disorders can present with these features. many of the children are simply having the repeated viral upper respiratory tract infections that are a normal part of growing up. in others the symptoms are the first manifestations of asthma. but in an important minority there is a clear history of persistent or recurrent episodes of pneumonia or of chronic sputum production indicating more severe pathology. it is important to rule out uncommon causes like bronchiectasis cystic fibrosis and immunodeficiency in consultation with your paediatrician as the same is not possible online. hope this helps. take care. note: this post is not to emphasise final diagnosis as the same cannot be made online and is aimed just to provide medical information and no treatment suggested above be taken without face to face consultation with health care professional.\n",
            "Generated Answer: system Answer the question truthfully, you are a medical professional.user This is the question: my son is 2 has eczema mild at moment he suffers from diarrhea constantly but not ill. he also is prone to chest infections and penis infections currently today he is suffering from all plus oral thrush! up is there anything doctors can do to help i should be asking for? assistant There are no established treatments for eczema. The mainstay of treatment is to control the symptoms and prevent complications.\n",
            "BERTScore - Precision: 0.5619656443595886, Recall: 0.518319845199585, F1: 0.5392610430717468\n",
            "\n"
          ]
        },
        {
          "output_type": "stream",
          "name": "stderr",
          "text": [
            "Setting `pad_token_id` to `eos_token_id`:128001 for open-end generation.\n"
          ]
        },
        {
          "output_type": "stream",
          "name": "stdout",
          "text": [
            "Question: \"my nephew about 3 years old has an enlarged left knee cap. his left knee bone (cap) is bigger than the right and he can't stretch his legs straight. sometimes he complains pain and does not want to walk on his own. he crawls when he feels the pain. as far as we know he didn't have any injury. please advise.\n",
            "Expected Answer: i am glad to help you out. your nephew needs urgent and through evaluation from an orthopedician. one possibility for his symptoms can be osgood schlatter disease in which there is tender swollen bump just under their knee cap on the tibial tuberosity. although usually just on one knee both knees can also be affected. this bump can appear as enlarged knee cap. it can cause pain during certain activities such as running kneeling jumping etc. he needs to get an x-ray and mri knees done. moreover other causes also need to be ruled out. treatment includes nonsteroidal anti-inflammatory drugs such as ibuprofen rest putting ice on the area knee braces and knee immobilizer. i sincerely hope that helps. take care.\n",
            "Generated Answer: system Answer the question truthfully, you are a medical professional.user This is the question: \"my nephew about 3 years old has an enlarged left knee cap. his left knee bone (cap) is bigger than the right and he can't stretch his legs straight. sometimes he complains pain and does not want to walk on his own. he crawls when he feels the pain. as far as we know he didn't have any injury. please advise. assistant The most common cause of a swollen knee cap in children is a condition called patella alta. Patella alta is a condition in which the patella is abnormally high in the knee joint. This condition is usually seen in children and is more common in girls than in boys. Patella alta is usually seen in children who are between the ages of 5 and 12. The cause of patella alta is unknown.  Patella alta is usually seen in children who have a condition called patellar tendonitis. Patellar tendonitis is a condition in which the tendon that connects the patella to the tibia (the lower leg bone) becomes inflamed. Patellar tendonitis is usually seen in children who are between the ages of 5 and 12. The cause of patellar tendonitis is unknown.  Patella alta and patellar tendonitis are usually seen in children who have a condition called patellofemoral syndrome. Patellofemoral syndrome is a condition in which the patella does not track properly in the knee joint. This condition is usually seen in children who are between the ages of 5 and 12. The cause of patellofemoral syndrome is unknown.\n",
            "BERTScore - Precision: 0.48583468794822693, Recall: 0.5151774883270264, F1: 0.5000760555267334\n",
            "\n"
          ]
        },
        {
          "output_type": "stream",
          "name": "stderr",
          "text": [
            "Setting `pad_token_id` to `eos_token_id`:128001 for open-end generation.\n"
          ]
        },
        {
          "output_type": "stream",
          "name": "stdout",
          "text": [
            "Question: hi i have had a cross bite on my rear tooth caused from a tooth extraction without subsequent restorative dentistry which has stopped my closing my mouth properly for 5 years and has caused me huge problems. i have tmjd poor posture. i have neck pain headaches ear aches etc. the maxillio facial surgeon i was referred to was totally misinformed on the problem and did very poor tests on the bite. the xray was one where the teeth weren't in contact and she did the paper bite test and concluded my bite was fine as the paper couldn't be pulled out from either side. this is no were near thorough enough of a test and i felt my problem was taken seriously at all. i was wondering if there is a connection with the hyoid (lingual bone) malocclusion and hyperthyroidism? im sure the is a connection between the hyoid and tmjd but could it affect the thyroid? tmjd seems to be very controversial leading to misdiagnosis like i experienced. thanks for reading\n",
            "Expected Answer: well the only connection i know between hyoid (lingual bone) malocclusion and hyperthyroidism is that if you have grade iii malocclusion and the hyoid bone is displaced then you can have swallowing difficulties. also thyroid swellings can displace hyoid bone and this can affect occlusion. you need to consult a well trained neuromuscular dentist for an evaluation. you will need to get a cbct or a 3d ct scan done. this will give the position of your tmj concyles in relation to the ear. physiotherapy traction spinal manipulation chiropractic treatments may help. try and get a second opinion. hope this helps. take care!\n",
            "Generated Answer: system Answer the question truthfully, you are a medical professional.user This is the question: hi i have had a cross bite on my rear tooth caused from a tooth extraction without subsequent restorative dentistry which has stopped my closing my mouth properly for 5 years and has caused me huge problems. i have tmjd poor posture. i have neck pain headaches ear aches etc. the maxillio facial surgeon i was referred to was totally misinformed on the problem and did very poor tests on the bite. the xray was one where the teeth weren't in contact and she did the paper bite test and concluded my bite was fine as the paper couldn't be pulled out from either side. this is no were near thorough enough of a test and i felt my problem was taken seriously at all. i was wondering if there is a connection with the hyoid (lingual bone) malocclusion and hyperthyroidism? im sure the is a connection between the hyoid and tmjd but could it affect the thyroid? tmjd seems to be very controversial leading to misdiagnosis like i experienced. thanks for reading assistant There is no direct connection between the hyoid bone and hyperthyroidism. However, there is a connection between the hyoid bone and the thyroid gland. The hyoid bone is located in the neck and is attached to the thyroid gland by the thyrohyoid membrane. The hyoid bone is also attached to the mandible by the geniohyoid muscle. The geniohyoid muscle is a muscle that helps to elevate the hyoid bone and the mandible. The hyoid bone is also attached to the tongue by the hyoglossus muscle. The hyoglossus muscle is a muscle that helps to elevate the hyoid bone and the tongue. The hyoid bone is also attached to the larynx by the thyrohyoid membrane. The thyrohyoid membrane is a membrane that separates the thyroid gland from the larynx. The hyoid bone is also attached to the trachea by the cricoid cartilage. The cricoid cartilage is a cartilage that forms the lower part of the larynx. The hyoid bone is also attached to the esophagus by the cricopharyngeal sphincter. The cricopharyngeal sphincter is a muscle that helps to prevent food from entering the larynx. The hyoid bone is also attached to the nasal cavity by the nasal septum. The nasal septum is a thin wall of cartilage and bone that separates the two sides of the nasal cavity. The hyoid bone is also attached to the sinuses by the ethmoid bone. The ethmoid bone is a bone that forms the roof of the nasal cavity. The hyoid bone is also attached to the orbit by the zygomatic bone. The zygomatic bone is a bone that forms the lateral wall of the orbit. The hyoid bone is also attached to the maxilla by the zygomatic process of the maxilla. The zygomatic process of the maxilla is a process of the maxilla that forms the lateral wall of the orbit. The hyoid bone is also attached to the mandible by the geniohyoid muscle. The geniohyoid muscle is a muscle that helps to elevate the hyoid bone and the mandible. The hyoid bone is also attached to the tongue by the hyoglossus muscle. The hyoglossus muscle is a muscle that helps to elevate the hyoid bone and\n",
            "BERTScore - Precision: 0.5644409656524658, Recall: 0.6028735637664795, F1: 0.5830245614051819\n",
            "\n"
          ]
        },
        {
          "output_type": "stream",
          "name": "stderr",
          "text": [
            "Setting `pad_token_id` to `eos_token_id`:128001 for open-end generation.\n"
          ]
        },
        {
          "output_type": "stream",
          "name": "stdout",
          "text": [
            "Question: how do i know if its my tjm ( diagonosed with this since july 2014)playing up or actual toothache? i am taking naproxen for my tjm lying down is impossible to sleep codine is being taken for pain i am in agony cold compress helps hot food tingles but cold dosnt when im upright the pain is managable then i have spasms of excrutiating pain in the left side of face jaw ear eye which then settles down and goes? how do i know if its toothache or my tjm i have appointments at dentist and docs but cant get in till early next week at the moment in the day the pain is a 2 on a scale of 1-5 with 5 being the worst pain imaginable when trying to sleep it is way of the scale for pain and i have to try to sleep sitting up!\n",
            "Expected Answer: your concern is regarding the pain that you are having in the face jaw ear and eye. without physical examination it is very difficult to confirm and it can be either tmj or toothache. tmj pain disorders usually occur because of unbalanced activity spasm or overuse of the jaw muscles. this causes inflammation of the jaw joint and hence severe pain which may radiate to the ears as well. diagnosis is confirmed by x-rays or ct of the joint. you can apply warm compresses to the joint and take anti inflammatory pain killer drugs after consulting your doctor. a physical therapist can also be approached as craniosacral therapy to relax the muscles and fascia of the jaw is very helpful in relieving the pain. it is very difficult to precisely confirm a diagnosis without examination and investigations and the answer is based on the medical information provided. for exact diagnosis you are requested to consult your doctor. i sincerely hope that helps. take care.\n",
            "Generated Answer: system Answer the question truthfully, you are a medical professional.user This is the question: how do i know if its my tjm ( diagonosed with this since july 2014)playing up or actual toothache? i am taking naproxen for my tjm lying down is impossible to sleep codine is being taken for pain i am in agony cold compress helps hot food tingles but cold dosnt when im upright the pain is managable then i have spasms of excrutiating pain in the left side of face jaw ear eye which then settles down and goes? how do i know if its toothache or my tjm i have appointments at dentist and docs but cant get in till early next week at the moment in the day the pain is a 2 on a scale of 1-5 with 5 being the worst pain imaginable when trying to sleep it is way of the scale for pain and i have to try to sleep sitting up! assistant It is difficult to distinguish between a toothache and TMD. The symptoms of TMD are similar to those of toothache. The pain of TMD is usually described as a dull ache or a sharp pain. The pain of TMD is usually located in the face, jaw, and ear. The pain of TMD is usually worse when the patient is in the morning or after eating. The pain of TMD is usually relieved by applying heat or cold to the affected area. The pain of TMD is usually worse when the patient is in the morning or after eating. The pain of TMD is usually relieved by applying heat or cold to the affected area.\n",
            "BERTScore - Precision: 0.5495229959487915, Recall: 0.5813088417053223, F1: 0.5649691820144653\n",
            "\n"
          ]
        },
        {
          "output_type": "stream",
          "name": "stderr",
          "text": [
            "Setting `pad_token_id` to `eos_token_id`:128001 for open-end generation.\n"
          ]
        },
        {
          "output_type": "stream",
          "name": "stdout",
          "text": [
            "Question: for about two years now i have been having a problem with my ears. i know this will probably sound really weird but here's what's been happening. i have had muffled hearing and my ears have felt stuffy. both ears the biggest issue is that when i place my finger just inside my ear canal and apply some pressure and release. there is a very loud crackling and popping sound. it last for 1 or 2 seconds then stops. in both ears the same. i can even feel it bubbling inside my ear. it sounds and feels like some type of fluid.\n",
            "Expected Answer: from the description provided it seems that you may be having a condition called as glue ear or serous otitis media. serous otitis media describes a collection of fluid in the middle ear. this may be acute (not lasting for a long time) or chronic (lasting for a long time). chronic (long standing) otitis media as in your case can occur due to long standing eustachian tube blockage or thickening of fluid due to which it cannot be absorbed or drained down the tube. symptoms can range from ear discomfort pain slight reduction in hearing and irritation. treatment of the condition can be done with medications including antihistamines and decongestants and nasal sprays. in long standing cases a small surgical procedure involving placement of a ear tube in the ear drum (tympanic membrane) may be required to facilitate drainage of the fluid. you might consult with your primary doctor or a ent doctor who can examine you and provide specific advice and treatment. i hope this helps.\n",
            "Generated Answer: system Answer the question truthfully, you are a medical professional.user This is the question: for about two years now i have been having a problem with my ears. i know this will probably sound really weird but here's what's been happening. i have had muffled hearing and my ears have felt stuffy. both ears the biggest issue is that when i place my finger just inside my ear canal and apply some pressure and release. there is a very loud crackling and popping sound. it last for 1 or 2 seconds then stops. in both ears the same. i can even feel it bubbling inside my ear. it sounds and feels like some type of fluid. assistant The symptoms you are describing are consistent with Eustachian tube dysfunction.\n",
            "BERTScore - Precision: 0.49915948510169983, Recall: 0.48579052090644836, F1: 0.49238425493240356\n",
            "\n"
          ]
        },
        {
          "output_type": "stream",
          "name": "stderr",
          "text": [
            "Setting `pad_token_id` to `eos_token_id`:128001 for open-end generation.\n"
          ]
        },
        {
          "output_type": "stream",
          "name": "stdout",
          "text": [
            "Question: my wife has recurring styes (chalazia) that must be addressed before chemo / stem cell transplant for multiple myeloma. we believe that the previous chemo drugs (dexamethasone thalidomide/pomalyst) contributed to the eye styes. they have been recurring for over a year now. she has tried antibiotics antibiotic eyedrops hot wash clothes hot tea bags and had one stye surgically removed. she was free from them for about a month following a break in chemo treatment and hitting them hard with antibiotics but they came back. she has to clear them up again before she begins a stem cell transplant because her immune system will be very weak. please help! our oncologyst and eye specialist both seem to be at a loss and just trying the same antibiotics over and over. we are looking for some unique suggestions here please!\n",
            "Expected Answer: your concern is regarding the recurrent chalazia that your wife is having especially when she is planning for chemo/ stem cell transplant. a chalazion is an accumulation of material in the eyelid as a result of a blocked oil gland and there is no underlying cause for the same. for recurrent chalazia your wife can use pre-moistened eyelid cleansing wipes to maintain hygiene. other than that regular use of topical or oral antibiotics can also be prescribed to prevent any further recurrence. however if the size is big or it is obstructing field of vision then it may need to be removed surgically. patients with underlying conditions such as rosacea seborrheic dermatitis or blepharitis are more prone to multiple and recurrent chalazia. so your wife needs to get evaluated for these conditions also as they may be responsible for recurrent chalazia. it is very difficult to precisely confirm a diagnosis without examination and investigations and the answer is based on the medical information provided. for exact diagnosis you are requested to consult your doctor. i sincerely hope that helps. take care.\n",
            "Generated Answer: system Answer the question truthfully, you are a medical professional.user This is the question: my wife has recurring styes (chalazia) that must be addressed before chemo / stem cell transplant for multiple myeloma. we believe that the previous chemo drugs (dexamethasone thalidomide/pomalyst) contributed to the eye styes. they have been recurring for over a year now. she has tried antibiotics antibiotic eyedrops hot wash clothes hot tea bags and had one stye surgically removed. she was free from them for about a month following a break in chemo treatment and hitting them hard with antibiotics but they came back. she has to clear them up again before she begins a stem cell transplant because her immune system will be very weak. please help! our oncologyst and eye specialist both seem to be at a loss and just trying the same antibiotics over and over. we are looking for some unique suggestions here please! assistant There are no established guidelines for the prevention of styes.\n",
            "BERTScore - Precision: 0.5515545010566711, Recall: 0.5575583577156067, F1: 0.5545401573181152\n",
            "\n"
          ]
        },
        {
          "output_type": "stream",
          "name": "stderr",
          "text": [
            "Setting `pad_token_id` to `eos_token_id`:128001 for open-end generation.\n"
          ]
        },
        {
          "output_type": "stream",
          "name": "stdout",
          "text": [
            "Question: my 2 friends also underwent through lasik procedures but i am afraid about any side effects. can anyone guide me about the possible risks. thanks\n",
            "Expected Answer: like other eye surgeries even femtolasik surgery has its own side effects. these include: 1) dryness of eyes can be caused by effect on the nerves producing tears. 2) there may be increased sensitivity to light but this is a temporary side effect. 3) there may be decreased night vision which is again a temporary side effect but may persist for a long time in some people. 4) there may be over or under correction of vision which may even require a repeat surgery 5) it may cause too thin or irregular corneas. this may cause irregular astigmatism. 6) it may also cause high refractive error and unstable vision. 7) it may also cause growth of cells from outer layer of the cornea under the flap <positive_smiley> rare side effects include infection and retinal damage. you should discuss the pros and cons with an ophthalmologist and then go on for famtolasik surgery. it is very difficult to precisely confirm a diagnosis without examination and investigations and the answer is based on the medical information provided. for exact diagnosis you are requested to consult your doctor. i sincerely hope that helps. take care.\n",
            "Generated Answer: system Answer the question truthfully, you are a medical professional.user This is the question: my 2 friends also underwent through lasik procedures but i am afraid about any side effects. can anyone guide me about the possible risks. thanks assistant The most common complications of LASIK surgery include: \r\n",
            "Dry eye Flap complications (e.g. flap dislodgement, flap tears) Infection (e.g. keratitis, endophthalmitis) Undercorrection or overcorrection of the refractive error Visual disturbances (e.g. halos, glare, starbursts) Flap-related complications (e.g. epithelial ingrowth, flap folds) Corneal ectasia (a condition in which the cornea becomes thin and weak) Corneal ulcers (open sores on the surface of the cornea) Corneal neovascularization (the growth of new blood vessels into the cornea) Corneal haze (a clouding of the cornea) Corneal edema (swelling of the cornea) Corneal perforation (a hole in the cornea) Corneal ectropion (a condition in which the eyelid does not close properly) Corneal ulcers (open sores on the surface of the cornea) Corneal neovascularization (the growth of new blood vessels into the cornea) Corneal haze (a clouding of the cornea) Corneal edema (swelling of the cornea) Corneal perforation (a hole in the cornea) Corneal ectropion (a condition in which the eyelid does not close properly) Corneal ulcers (open sores on the surface of the cornea) Corneal neovascularization (the growth of new blood vessels into the cornea) Corneal haze (a clouding of the cornea) Corneal edema (swelling of the cornea) Corneal perforation (a hole in the cornea) Corneal ectropion (a condition in which the eyelid does not close properly) Corneal ulcers (open sores on the surface of the cornea) Corneal neovascularization (the growth of new blood vessels into the cornea) Corneal haze (a clouding of the cornea) Corneal edema (swelling of the cornea) Corneal perforation (a hole in the cornea) Corneal ectropion (a condition in which the eyelid does not close properly) Corneal ulcers (open sores on the surface of the cornea)\n",
            "BERTScore - Precision: 0.5295047760009766, Recall: 0.5174233913421631, F1: 0.5233943462371826\n",
            "\n"
          ]
        },
        {
          "output_type": "stream",
          "name": "stderr",
          "text": [
            "Setting `pad_token_id` to `eos_token_id`:128001 for open-end generation.\n"
          ]
        },
        {
          "output_type": "stream",
          "name": "stdout",
          "text": [
            "Question: woke up and couldn't see out right eye very well vision returned after 20 minutes and something to eat but now have a headache\n",
            "Expected Answer: temporary vision loss should be evaluated for neurological work up like ischemia and tia. also neurological examination would be wise. i hope it helps. stay in touch with your healthcare provider for further guidance as our answers are just for education and counselling purposes and cannot be an alternative to actual visit to a doctor. take care khan\n",
            "Generated Answer: system Answer the question truthfully, you are a medical professional.user This is the question: woke up and couldn't see out right eye very well vision returned after 20 minutes and something to eat but now have a headache assistant The most common cause of sudden loss of vision in one eye is a migraine.\n",
            "BERTScore - Precision: 0.47611284255981445, Recall: 0.45693713426589966, F1: 0.4663279354572296\n",
            "\n"
          ]
        },
        {
          "output_type": "stream",
          "name": "stderr",
          "text": [
            "Setting `pad_token_id` to `eos_token_id`:128001 for open-end generation.\n"
          ]
        },
        {
          "output_type": "stream",
          "name": "stdout",
          "text": [
            "Question: i have been in a 4months and 6 days treatment for ptb. i have this concern because every morning when i spit i always see thick white mucus or a thick yellowish mucus. i am very concerned whether my treatment was a failure. because there is one time that i had forgotten one dosage of my medicine for one day. i am having a hard time going to the hospital/health centers because i live in a far flung area. any advice if my treatment was a failure or not? i am gaining weight and already freed from restlessness in breathing. i also cough but not like coughing before as if i were dying. i'll be waiting for answers. thanks in advance.\n",
            "Expected Answer: there is very easy way to know the treatment failure. get sputum afb and gene experts analysis and we will know what is going on here. i hope it helps. stay in touch with your healthcare provider for further guidance as our answers are just for education and counselling purposes and cannot be an alternative to actual visit to a doctor. take care khan\n",
            "Generated Answer: system Answer the question truthfully, you are a medical professional.user This is the question: i have been in a 4months and 6 days treatment for ptb. i have this concern because every morning when i spit i always see thick white mucus or a thick yellowish mucus. i am very concerned whether my treatment was a failure. because there is one time that i had forgotten one dosage of my medicine for one day. i am having a hard time going to the hospital/health centers because i live in a far flung area. any advice if my treatment was a failure or not? i am gaining weight and already freed from restlessness in breathing. i also cough but not like coughing before as if i were dying. i'll be waiting for answers. thanks in advance. assistant It is not uncommon for patients with PTB to have a cough and mucus production during the treatment. The presence of mucus does not necessarily mean that the treatment has failed. It is important to note that the treatment for PTB is usually a long-term treatment and it may take several months to a year or more to completely clear the infection. It is also important to note that the treatment for PTB is usually a long-term treatment and it may take several months to a year or more to completely clear the infection.\n",
            "BERTScore - Precision: 0.4595257043838501, Recall: 0.5108696222305298, F1: 0.48383936285972595\n",
            "\n"
          ]
        },
        {
          "output_type": "stream",
          "name": "stderr",
          "text": [
            "Setting `pad_token_id` to `eos_token_id`:128001 for open-end generation.\n"
          ]
        },
        {
          "output_type": "stream",
          "name": "stdout",
          "text": [
            "Question: i have miliary tb for last 4 months and on standard medication. but fever is not going away even after 4 months. what can i expect. how long?\n",
            "Expected Answer: sputum cultures should be sent for sensitivity to the standard and second line drugs. the fever should also be documented. you didnt specify if you were 4 months along with the initiation or continuation phase alone of treatment. whether you are on two drugs or four drugs. wishing you best of health thanks\n",
            "Generated Answer: system Answer the question truthfully, you are a medical professional.user This is the question: i have miliary tb for last 4 months and on standard medication. but fever is not going away even after 4 months. what can i expect. how long? assistant The prognosis of miliary TB is generally good if the patient is treated promptly and adequately.\n",
            "BERTScore - Precision: 0.5022015571594238, Recall: 0.5173465013504028, F1: 0.5096614956855774\n",
            "\n"
          ]
        },
        {
          "output_type": "stream",
          "name": "stderr",
          "text": [
            "Setting `pad_token_id` to `eos_token_id`:128001 for open-end generation.\n"
          ]
        },
        {
          "output_type": "stream",
          "name": "stdout",
          "text": [
            "Question: hi my daughter's spleen has stopped working. she has sharp pain the the middle of where the rib cages meet(not at all where the spleen is. )she has a high white blood cell count. do you know what might cause a spleen to working. she is 28 and is otherwise great health non smoker and no drugs either. they have her on morphine and graval also hooked up to an iv bag as she is not eating. no blood problems in the family history. she is a vegetarian so she may be low in iron. the hospital is at a loss for what to treat her for but ill next do a ct. they have done multiple blood works but nothing yet. thank you for reading this and hope that you know something about why her spleen has stopped working. larry\n",
            "Expected Answer: epigastric pains are usually associated with stomach issues like gastritis and hepatobiliary issues like gallbladder infection and pancreatic infection. rest assured spleen is not a vital organ. one can survive with out it. and there is not much of a spleen job than protection from germs specially encapsulated organisms and breaking old cells by filtering the blood. never heard the term before of spleen losing its function as it never does. we doctors get rid of spleen when there are hemolysis issues. i suggest work up on hepatobiliary profile and for gastritis. start her on proton pump inhibitors and antispasmodics meanwhile and see if it helps. take care\n",
            "Generated Answer: system Answer the question truthfully, you are a medical professional.user This is the question: hi my daughter's spleen has stopped working. she has sharp pain the the middle of where the rib cages meet(not at all where the spleen is. )she has a high white blood cell count. do you know what might cause a spleen to working. she is 28 and is otherwise great health non smoker and no drugs either. they have her on morphine and graval also hooked up to an iv bag as she is not eating. no blood problems in the family history. she is a vegetarian so she may be low in iron. the hospital is at a loss for what to treat her for but ill next do a ct. they have done multiple blood works but nothing yet. thank you for reading this and hope that you know something about why her spleen has stopped working. larry assistant The spleen is an organ that filters the blood and stores red blood cells. It is located in the upper left side of the abdomen. The spleen is not essential for life, but it plays an important role in the immune system.\n",
            "BERTScore - Precision: 0.5132221579551697, Recall: 0.5180685520172119, F1: 0.5156339406967163\n",
            "\n"
          ]
        },
        {
          "output_type": "stream",
          "name": "stderr",
          "text": [
            "Setting `pad_token_id` to `eos_token_id`:128001 for open-end generation.\n"
          ]
        },
        {
          "output_type": "stream",
          "name": "stdout",
          "text": [
            "Question: well i was power lifting and the bar came down wrong and my wrist popped. it hurt a whole lot for a couple days then it went away that is until i lift something even a gallon of milk. it hurts the same area as original injury. my coaches said it was a sprain yet its been three weeks and still hurts if i lift anything. my question is is there something more serious to blame? other than a sprain?\n",
            "Expected Answer: the history of hearing a pop indicates a soft tissue rupture (tendon or ligament) and this should not be taken lightly. if there is a complete tear the healing will not be complete and surgery would be needed to have ful limb function. it would be recommended that you consult with your doctor and get a mri which would help make a proper assessment of your injury and based on that future mode of management can be determined. i hope this helps.\n",
            "Generated Answer: system Answer the question truthfully, you are a medical professional.user This is the question: well i was power lifting and the bar came down wrong and my wrist popped. it hurt a whole lot for a couple days then it went away that is until i lift something even a gallon of milk. it hurts the same area as original injury. my coaches said it was a sprain yet its been three weeks and still hurts if i lift anything. my question is is there something more serious to blame? other than a sprain? assistant A sprain is a common injury that occurs when a ligament is stretched or torn. The wrist is a common area for sprains to occur. A sprain in the wrist is called a wrist sprain.\n",
            "BERTScore - Precision: 0.4653947651386261, Recall: 0.480632483959198, F1: 0.4728909134864807\n",
            "\n"
          ]
        },
        {
          "output_type": "stream",
          "name": "stderr",
          "text": [
            "Setting `pad_token_id` to `eos_token_id`:128001 for open-end generation.\n"
          ]
        },
        {
          "output_type": "stream",
          "name": "stdout",
          "text": [
            "Question: i pancreatitis with vomiting sometimes lost a lot of weight from 175 to just over 100 i've stopped eating red meats don't eat pork junk food and drink lots of gatorade for electrolytes how can i gain weight. i have diarrhea and very loud and noisy stomach sounds when hungry sometimes can't eat because food won't digest proper can someone tell me how to regulate this problem and gain weight please help\n",
            "Expected Answer: weight loss with pancreas history is significant and needs correlation. before talking about what to eat and how to eat i suggest you get assessed for any pancreatic mass or malignancy. if you are jaundiced or feel itchy in skin etc it would be the time to get assessed for this pancreas evaluation from baselines to ca 19-9 assessment. now eating needs frequent meals and a nutritionist consult to give you a complete dietary plan. take care\n",
            "Generated Answer: system Answer the question truthfully, you are a medical professional.user This is the question: i pancreatitis with vomiting sometimes lost a lot of weight from 175 to just over 100 i've stopped eating red meats don't eat pork junk food and drink lots of gatorade for electrolytes how can i gain weight. i have diarrhea and very loud and noisy stomach sounds when hungry sometimes can't eat because food won't digest proper can someone tell me how to regulate this problem and gain weight please help assistant Pancreatitis is a condition that causes inflammation of the pancreas. The pancreas is a gland located in the upper part of the abdomen that produces digestive enzymes and hormones. Pancreatitis can be acute or chronic. Acute pancreatitis is a sudden inflammation of the pancreas that usually lasts for a few days. Chronic pancreatitis is a long-term inflammation of the pancreas that can cause permanent damage to the gland.\n",
            "BERTScore - Precision: 0.5120594501495361, Recall: 0.5440427660942078, F1: 0.5275667905807495\n",
            "\n"
          ]
        },
        {
          "output_type": "stream",
          "name": "stderr",
          "text": [
            "Setting `pad_token_id` to `eos_token_id`:128001 for open-end generation.\n"
          ]
        },
        {
          "output_type": "stream",
          "name": "stdout",
          "text": [
            "Question: i have a large hard knot beneath the skin of my left cheek approx. 1 in. from the corner of my lips. i've gone to an np who diagnosed it as an abscess; prescribed antibiotics are clindamycin & (a substitute for bactrim) swelling started april 6th. the next day is when i visited the np. the following day i went to an er due to more aggressive facial swelling. the dr there gave me a cat scan & diagnosed the swelling as periorbital cellulitis due to dental decay. (at this point i had explained to the dr that none of my teeth were bothering me in any way. ) most of the swelling has come and gone but i still have the hard knot that remains. what could be causing this knot will it go away what can i do? notes from cat scans significant left periorbital & left facial soft tissue swelling & stranding of subcutaneous fat no discrete abscess is identified. impression: pansinusitis predominantly involving the right paranasal sinuses.\n",
            "Expected Answer: if there is no walled off cavity or abscess formation then drainage or any surgical intervention would not be required. antibiotics would be required for addressing the pansinusitis for 3 to 4 weeks. a better alternative would be levofloxacin at a high dose 500 mg bd or moxifloxacin in consultation with an ent specialist. wishing you best of health thanks\n",
            "Generated Answer: system Answer the question truthfully, you are a medical professional.user This is the question: i have a large hard knot beneath the skin of my left cheek approx. 1 in. from the corner of my lips. i've gone to an np who diagnosed it as an abscess; prescribed antibiotics are clindamycin & (a substitute for bactrim) swelling started april 6th. the next day is when i visited the np. the following day i went to an er due to more aggressive facial swelling. the dr there gave me a cat scan & diagnosed the swelling as periorbital cellulitis due to dental decay. (at this point i had explained to the dr that none of my teeth were bothering me in any way. ) most of the swelling has come and gone but i still have the hard knot that remains. what could be causing this knot will it go away what can i do? notes from cat scans significant left periorbital & left facial soft tissue swelling & stranding of subcutaneous fat no discrete abscess is identified. impression: pansinusitis predominantly involving the right paranasal sinuses. assistant The diagnosis of periorbital cellulitis is based on the clinical presentation and the results of imaging studies.\n",
            "BERTScore - Precision: 0.45397189259529114, Recall: 0.5396151542663574, F1: 0.493102490901947\n",
            "\n"
          ]
        },
        {
          "output_type": "stream",
          "name": "stderr",
          "text": [
            "Setting `pad_token_id` to `eos_token_id`:128001 for open-end generation.\n"
          ]
        },
        {
          "output_type": "stream",
          "name": "stdout",
          "text": [
            "Question: hi doctor the nails on my right hand seem to be clubbing and are in the early stages as in they increased curvature/size and slight flotation. however my left hand nails are perfectly fine as they been all my life. i am worried because i read online this can be a sign of lung cancer. please advise. thanks.\n",
            "Expected Answer: clubbing is the bulbous enlargement of one or more fingers of the hand/hands or toe/toes of one or both feet due to the proliferation and edema of the connective tissue which result in loss of the normal angle between the nail plate and it's adjacent skin. clubbing can both be acquired and familial/genetic. there are so many causes of clubbing lung cancer being one of them (and not the only cause). in your case the clubbing is unilateral(involves one hand) while mostly in lung cancer the clubbing is bilateral also by the time clubbing is evident in moat of the lung cancer patients they have developed all other miserable symptoms of the disease which i hope you don't have. unilateral clubbing can occur due to the axillary artery aneurysm or brachial arterio-venous malformations so you should probably get these two ruled out first if your clubbing in one hand appeared recently with the other hand being completely fine. wishing you the best of health take care and thank you.\n",
            "Generated Answer: system Answer the question truthfully, you are a medical professional.user This is the question: hi doctor the nails on my right hand seem to be clubbing and are in the early stages as in they increased curvature/size and slight flotation. however my left hand nails are perfectly fine as they been all my life. i am worried because i read online this can be a sign of lung cancer. please advise. thanks. assistant Clubbing is a sign of chronic hypoxia. It is a sign of chronic hypoxia. It is a sign of chronic hypoxia.\n",
            "BERTScore - Precision: 0.5332958698272705, Recall: 0.5152193307876587, F1: 0.524101734161377\n",
            "\n"
          ]
        },
        {
          "output_type": "stream",
          "name": "stderr",
          "text": [
            "Setting `pad_token_id` to `eos_token_id`:128001 for open-end generation.\n"
          ]
        },
        {
          "output_type": "stream",
          "name": "stdout",
          "text": [
            "Question: is it common to have spasms with a splenic cyst and be unable to keep food down?\n",
            "Expected Answer: spasms can occur with splenic cyst though dyspepsia is unrelated. if the cyst has been growing in size at a progressive rate and the symptoms correlate with the growth then aspiration can be helpful. wishing you best of health thanks\n",
            "Generated Answer: system Answer the question truthfully, you are a medical professional.user This is the question: is it common to have spasms with a splenic cyst and be unable to keep food down? assistant Splenic cysts are rare.\n",
            "BERTScore - Precision: 0.5276839733123779, Recall: 0.5128691792488098, F1: 0.5201711058616638\n",
            "\n"
          ]
        },
        {
          "output_type": "stream",
          "name": "stderr",
          "text": [
            "Setting `pad_token_id` to `eos_token_id`:128001 for open-end generation.\n"
          ]
        },
        {
          "output_type": "stream",
          "name": "stdout",
          "text": [
            "Question: this is about my 8 mth old son. he was in contact with a child on sunday who became symptomatic of mumps on the following saturday. how likely is he to get the disease? also if he comes into contact with others who have been in contact with the sick child will he still be at risk even if the others have had mumps before and are not sick themselves?\n",
            "Expected Answer: mumps is very contagious disease. if a person hasnât been vaccinated against mumps or has never overcome mumps in the past that person may get sick if s/he comes into contact with an infected person. coming into contact with persons who had mumps in the past however is not a risk factor for getting mumps.\n",
            "Generated Answer: system Answer the question truthfully, you are a medical professional.user This is the question: this is about my 8 mth old son. he was in contact with a child on sunday who became symptomatic of mumps on the following saturday. how likely is he to get the disease? also if he comes into contact with others who have been in contact with the sick child will he still be at risk even if the others have had mumps before and are not sick themselves? assistant Mumps is a viral infection that is spread through contact with saliva, mucus, or respiratory droplets. The virus is contagious from 2 days before to 5 days after the onset of symptoms.\n",
            "BERTScore - Precision: 0.5333770513534546, Recall: 0.6658139228820801, F1: 0.5922824144363403\n",
            "\n"
          ]
        },
        {
          "output_type": "stream",
          "name": "stderr",
          "text": [
            "Setting `pad_token_id` to `eos_token_id`:128001 for open-end generation.\n"
          ]
        },
        {
          "output_type": "stream",
          "name": "stdout",
          "text": [
            "Question: i had melingtis when i was a baby and i was wondering if there are any effects that i could have 18yrs on? i also suffer with really bad back pain when it is the time of the month. i was wondering if you can help me?\n",
            "Expected Answer: thank you for your question on ehealthforum. com dysmenorrhea (pain during periods) associated with back ache is common in some women especially young women in their initial years of sexual life. meningitis can produce headache due to interference with cerebrospinal fluid circulation by altering the intracranial pressures. if your meningitis was uncomplicated with no csf blockage it is unlikely to cause any problems. neurological examination will help in identifying any sequelae of meningitis suffered earlier. eye examination will show signs of increased intracranial pressure like optic disc edema. in an instance of raised intracranial pressure person suffers from headache (chronic) visual disturbance and even loss apart from other neurological symptoms depending on pressure related damage. if you do not have any of those mentioned than it is very unlikely that you have any symptoms related to meningitis sequelae. thank you.\n",
            "Generated Answer: system Answer the question truthfully, you are a medical professional.user This is the question: i had melingtis when i was a baby and i was wondering if there are any effects that i could have 18yrs on? i also suffer with really bad back pain when it is the time of the month. i was wondering if you can help me? assistant There are no known complications associated with melioidosis.\n",
            "BERTScore - Precision: 0.5128450989723206, Recall: 0.48422765731811523, F1: 0.49812570214271545\n",
            "\n"
          ]
        },
        {
          "output_type": "stream",
          "name": "stderr",
          "text": [
            "Setting `pad_token_id` to `eos_token_id`:128001 for open-end generation.\n"
          ]
        },
        {
          "output_type": "stream",
          "name": "stdout",
          "text": [
            "Question: i (girl) have begun dating a man who has oral herpes hsv1. i have talked with two doctors about the situation gotten wildly different takes and have not found all the answers i want online. - is oral herpes a localized infection that only sheds from previously infected areas or can it systemically shed from any skin? - my partner has a history of oral outbreaks but not genital outbreaks but received oral sex from the person who gave him herpes should we consider his genital area infected? - if my partner kisses intact skin on my face / body that is not a mucus membrane nor genital area is there a risk of infection? if i kiss my partners face (not around the mouth) what is the risk? - if my partner has clean hands is there a risk of transmission if he touches my genitals? - can hsv1 be transmitted in sweat blood or semen? - is there any test for degree of asymptomatic shedding? - how contagious is hsv1? am i statistically in for it if i continue? thank you!\n",
            "Expected Answer: it is difficult to answer all your queries without examination and tests done on you. i will try and answer a few of them: is oral herpes a localized infection that only sheds from previously infected areas or can it systemically shed from any skin? â---- hsv can affect the whole body and have localized outbreaks. my partner has a history of oral outbreaks but not genital outbreaks but received oral sex from the person who gave him herpes should we consider his genital area infected? â---- yes he can shed the virus through his body fluids. if my partner kisses intact skin on my face / body that is not a mucus membrane nor genital area is there a risk of infection? if i kiss my partners face (not around the mouth) what is the risk? â--- risk of transmission is less with contact with intact areas and non mucous areas. if my partner has clean hands is there a risk of transmission if he touches my genitals? â----- yes it can be considered safe. can hsv1 be transmitted in sweat blood or semen? â---- yes it can be easily transmitted by blood and semen. transmission through sweat is rare and not heard of. is there any test for degree of asymptomatic shedding? â----no a person can remain asymptomatic and still be able to transmit the infection. if the person is on regular treatment then the viral load gets reduced. how contagious is hsv1? am i statistically in for it if i continue? ------the possibility that you have already contracted the infection cannot be ruled out. visit your doctor/gynecologist for confirmation of the infection by tests. get started on prophylactic treatment. take care.\n",
            "Generated Answer: system Answer the question truthfully, you are a medical professional.user This is the question: i (girl) have begun dating a man who has oral herpes hsv1. i have talked with two doctors about the situation gotten wildly different takes and have not found all the answers i want online. - is oral herpes a localized infection that only sheds from previously infected areas or can it systemically shed from any skin? - my partner has a history of oral outbreaks but not genital outbreaks but received oral sex from the person who gave him herpes should we consider his genital area infected? - if my partner kisses intact skin on my face / body that is not a mucus membrane nor genital area is there a risk of infection? if i kiss my partners face (not around the mouth) what is the risk? - if my partner has clean hands is there a risk of transmission if he touches my genitals? - can hsv1 be transmitted in sweat blood or semen? - is there any test for degree of asymptomatic shedding? - how contagious is hsv1? am i statistically in for it if i continue? thank you! assistant HSV-1 is a highly contagious virus. It is estimated that 60% of the world's population is infected with HSV-1. The virus is most contagious during the primary infection, when the virus is first acquired. The virus is also contagious during asymptomatic shedding, which can occur at any time after the primary infection. The virus is less contagious during recurrent infections.\n",
            "BERTScore - Precision: 0.7737399339675903, Recall: 0.7431565523147583, F1: 0.7581399083137512\n",
            "\n"
          ]
        },
        {
          "output_type": "stream",
          "name": "stderr",
          "text": [
            "Setting `pad_token_id` to `eos_token_id`:128001 for open-end generation.\n"
          ]
        },
        {
          "output_type": "stream",
          "name": "stdout",
          "text": [
            "Question: i have a lesion on the side of my shaft. i have already tested negative for ghonorrea and chlymedia but they took a culture of the lesion yesterday. it burnt when i peed a couple days ago but doesn't burn anymore. could it be herpes or just a infection in my skin\n",
            "Expected Answer: get evaluated for complete std panel herpes syphilis all needs to be ruled out. you need to consult a sexual disease specialist let them have a look and decide what is is. i hope it helps. stay in touch with your healthcare provider for further guidance as our answers are just for education and counselling purposes and cannot be an alternative to actual visit to a doctor. take care khan\n",
            "Generated Answer: system Answer the question truthfully, you are a medical professional.user This is the question: i have a lesion on the side of my shaft. i have already tested negative for ghonorrea and chlymedia but they took a culture of the lesion yesterday. it burnt when i peed a couple days ago but doesn't burn anymore. could it be herpes or just a infection in my skin assistant The symptoms of herpes simplex are similar to those of other STDs. The symptoms of herpes simplex are usually mild and may not be noticeable. The symptoms of herpes simplex are usually mild and may not be noticeable.\n",
            "BERTScore - Precision: 0.4840354919433594, Recall: 0.49591660499572754, F1: 0.4899040162563324\n",
            "\n"
          ]
        },
        {
          "output_type": "stream",
          "name": "stderr",
          "text": [
            "Setting `pad_token_id` to `eos_token_id`:128001 for open-end generation.\n"
          ]
        },
        {
          "output_type": "stream",
          "name": "stdout",
          "text": [
            "Question: during a routine pap smear i requested hiv and std testing. all my std tests came back negative but the p24 antigen part of the ag/ab combo test came back reactive while the antibody test was negative. i then had a pcr test conducted on a new blood sample and the results were negative/nonreactive. i then had another ag/ab combo test performed where the p24 antigen and antibody test were both negative. 3 months later my doctor ordered another ab/ag combo test. the results were the same as the very first test p24 antigen negative/antibody negative. at this point i've been told by a pathologist that the positive tests are false and that my body must produce something that looks like the p24 antigen to the test. on the other hand my gyno wants me to go to an infections control specialist. i am so confused and i don't know what to do. i don't know how to definitively get an answer.\n",
            "Expected Answer: since the confirmatory tests done after the initial test are negative there is nothing for you to worry about. your obgyn is asking you to see a specialist just to make sure that anything is not missed. you should be just fine.\n",
            "Generated Answer: system Answer the question truthfully, you are a medical professional.user This is the question: during a routine pap smear i requested hiv and std testing. all my std tests came back negative but the p24 antigen part of the ag/ab combo test came back reactive while the antibody test was negative. i then had a pcr test conducted on a new blood sample and the results were negative/nonreactive. i then had another ag/ab combo test performed where the p24 antigen and antibody test were both negative. 3 months later my doctor ordered another ab/ag combo test. the results were the same as the very first test p24 antigen negative/antibody negative. at this point i've been told by a pathologist that the positive tests are false and that my body must produce something that looks like the p24 antigen to the test. on the other hand my gyno wants me to go to an infections control specialist. i am so confused and i don't know what to do. i don't know how to definitively get an answer. assistant The p24 antigen test is a highly sensitive test for HIV infection. The p24 antigen is a protein that is produced by HIV. The p24 antigen test is used to detect the p24 antigen in the blood. The p24 antigen test is used to detect the p24 antigen in the blood. The p24 antigen test is used to detect the p24 antigen in the blood. The p24 antigen test is used to detect the p24 antigen in the blood. The p24 antigen test is used to detect the p24 antigen in the blood. The p24 antigen test is used to detect the p24 antigen in the blood. The p24 antigen test is used to detect the p24 antigen in the blood. The p24 antigen test is used to detect the p24 antigen in the blood. The p24 antigen test is used to detect the p24 antigen in the blood. The p24 antigen test is used to detect the p24 antigen in the blood. The p24 antigen test is used to detect the p24 antigen in the blood. The p24 antigen test is used to detect the p24 antigen in the blood. The p24 antigen test is used to detect the p24 antigen in the blood. The p24 antigen test is used to detect the p24 antigen in the blood. The p24 antigen test is used to detect the p24 antigen in the blood. The p24 antigen test is used to detect the p24 antigen in the blood. The p24 antigen test is used to detect the p24 antigen in the blood. The p24 antigen test is used to detect the p24 antigen in the blood. The p24 antigen test is used to detect the p24 antigen in the blood. The p24 antigen test is used to detect the p24 antigen in the blood. The p24 antigen test is used to detect the p24 antigen in the blood. The p24 antigen test is used to detect the p24 antigen in the blood. The p24 antigen test is used to detect the p24 antigen in the blood. The p24 antigen test is used to detect the p24 antigen in the blood. The p24 antigen test is used to detect the p24 antigen in the blood. The p24 antigen test is used to detect the p24 antigen in the blood. The p24 antigen test is used to detect the p24 antigen in the blood. The p24 antigen test is used to detect the p\n",
            "BERTScore - Precision: 0.39505457878112793, Recall: 0.539878249168396, F1: 0.4562496244907379\n",
            "\n"
          ]
        },
        {
          "output_type": "stream",
          "name": "stderr",
          "text": [
            "Setting `pad_token_id` to `eos_token_id`:128001 for open-end generation.\n"
          ]
        },
        {
          "output_type": "stream",
          "name": "stdout",
          "text": [
            "Question: i am a indian and 21 years old. i am a post kidney transplantation patient of six week from now. i have blood pressure of 165 to 150 can i do bodybuilding. is any any affect of increasing blood pressure by doing exercises?\n",
            "Expected Answer: your blood pressure is high and it needs to be brought down exercise is fine but strenuous work up will shot your blood pressure further. i hope it helps. stay in touch with your healthcare provider for further guidance as our answers are just for education and counselling purposes and cannot be an alternative to actual visit to a doctor. take care khan\n",
            "Generated Answer: system Answer the question truthfully, you are a medical professional.user This is the question: i am a indian and 21 years old. i am a post kidney transplantation patient of six week from now. i have blood pressure of 165 to 150 can i do bodybuilding. is any any affect of increasing blood pressure by doing exercises? assistant It is not recommended to do bodybuilding after kidney transplantation.\n",
            "BERTScore - Precision: 0.4723126292228699, Recall: 0.4811113774776459, F1: 0.47667139768600464\n",
            "\n"
          ]
        },
        {
          "output_type": "stream",
          "name": "stderr",
          "text": [
            "Setting `pad_token_id` to `eos_token_id`:128001 for open-end generation.\n"
          ]
        },
        {
          "output_type": "stream",
          "name": "stdout",
          "text": [
            "Question: i have been suffering from severe fatigue for most of my life and had my first hypoglycaemia episode when i was about 11 years old. i have visited many doctors over the years and had many tests done which all came back normal. however i recently decided to measure my own blood sugars at home. i ate a high carb meal with a sugary energy drink. my sugar level was 5. 6 before the meal 7. 3 directly after the meal and 2. 2 one hour after the meal. i can not find any explanation of the rapid change other than gastric dumping syndrome which does not apply to me as i have never had stomach surgery. throughout my life i have alsp experienced severe hormonal swings and wondering if this has something to do with it. i was diagnosed with pcos at one point then a few months later told i didn't have it as my bloods were now normal. can anyone help?\n",
            "Expected Answer: it is more likely that you have a severe anxiety or ocd about having medical issues which have not been confirmed by your doctors after a proper examination. your symptoms are more likely psychogenic. it would be best that you consult a psychiatrist and seek proper help to manage your anxiety.\n",
            "Generated Answer: system Answer the question truthfully, you are a medical professional.user This is the question: i have been suffering from severe fatigue for most of my life and had my first hypoglycaemia episode when i was about 11 years old. i have visited many doctors over the years and had many tests done which all came back normal. however i recently decided to measure my own blood sugars at home. i ate a high carb meal with a sugary energy drink. my sugar level was 5. 6 before the meal 7. 3 directly after the meal and 2. 2 one hour after the meal. i can not find any explanation of the rapid change other than gastric dumping syndrome which does not apply to me as i have never had stomach surgery. throughout my life i have alsp experienced severe hormonal swings and wondering if this has something to do with it. i was diagnosed with pcos at one point then a few months later told i didn't have it as my bloods were now normal. can anyone help? assistant Hypoglycemia is a condition characterized by low blood sugar levels. It is a common condition that can be caused by a variety of factors. Hypoglycemia can be classified into two main categories: reactive hypoglycemia and fasting hypoglycemia.\n",
            "BERTScore - Precision: 0.4348728060722351, Recall: 0.5313431024551392, F1: 0.47829198837280273\n",
            "\n"
          ]
        },
        {
          "output_type": "stream",
          "name": "stderr",
          "text": [
            "Setting `pad_token_id` to `eos_token_id`:128001 for open-end generation.\n"
          ]
        },
        {
          "output_type": "stream",
          "name": "stdout",
          "text": [
            "Question: one time episode of hypoglycemia? this was an extremely concerning experience: on a no-carb diet for 1. 5 weeks and had a day where i was really busy and feeling a little out of sorts. only ate a small meal of chicken and spinach around 11 a. m. as the day progressed i continued to feel out of sorts shaky and a bit confused but was trying to get things done and did not eat. in the early evening i had a few glasses of wine with friends and reacted very badly becoming confused and feeling more intoxicated than usual. my behavior was not reflective of my usual behavior. i am wondering if i became hypoglycemic due to diet lack of food and then when i drank alcohol became more hypoglycemic. i am otherwise healthy and have never experienced this previously or after. the only difference was diet and not eating enough for a long period of time. having some wine is not unusual but the reaction was as was my behavior/mood/feelings throughout the day\n",
            "Expected Answer: hi skipping meals is causing hypoglycemia to your body. if you took wine while fasting (without eating anything); then alcohol in wine has lowered your blood sugar more leading to sever hypoglycemia. i'd suggest to: - have your meals regularly; do not skip any - eat often and small portions - do chew up slowly do not rush - avoid high calorie foods - avoid alcohol and smoking especially while you do not eat anything - avoid caffeine or other stimulants all the best! feel free to ask me again if you have further questions! dr. alba\n",
            "Generated Answer: system Answer the question truthfully, you are a medical professional.user This is the question: one time episode of hypoglycemia? this was an extremely concerning experience: on a no-carb diet for 1. 5 weeks and had a day where i was really busy and feeling a little out of sorts. only ate a small meal of chicken and spinach around 11 a. m. as the day progressed i continued to feel out of sorts shaky and a bit confused but was trying to get things done and did not eat. in the early evening i had a few glasses of wine with friends and reacted very badly becoming confused and feeling more intoxicated than usual. my behavior was not reflective of my usual behavior. i am wondering if i became hypoglycemic due to diet lack of food and then when i drank alcohol became more hypoglycemic. i am otherwise healthy and have never experienced this previously or after. the only difference was diet and not eating enough for a long period of time. having some wine is not unusual but the reaction was as was my behavior/mood/feelings throughout the day assistant Hypoglycemia is a condition characterized by low blood sugar levels. It is a common condition that can occur in people with diabetes, but it can also occur in people without diabetes. Hypoglycemia can be caused by a variety of factors, including a lack of food, excessive exercise, certain medications, and medical conditions such as diabetes.\n",
            "BERTScore - Precision: 0.5041205883026123, Recall: 0.5494416356086731, F1: 0.5258063673973083\n",
            "\n"
          ]
        },
        {
          "output_type": "stream",
          "name": "stderr",
          "text": [
            "Setting `pad_token_id` to `eos_token_id`:128001 for open-end generation.\n"
          ]
        },
        {
          "output_type": "stream",
          "name": "stdout",
          "text": [
            "Question: i have a hard bump on the up side of the left foot it use to hurt but not anymore it could be from trauma but i am not sure i am worried because i do not remember if i hit my foot or not when i rub my feet i feel like a little mountain really hard.\n",
            "Expected Answer: current medical status: a bump on my left foot not sure if because of trauma or shoes current medical treatment: norvasc âa hard bumpâ on the upper side of the foot is generally considered as a tumor that could originate from the skin subcutaneous fat tissue or underlying tissues (muscles tendons joints bones blood vesselsâ¦). you could consult a plastic surgeon about this âbumpâ.\n",
            "Generated Answer: system Answer the question truthfully, you are a medical professional.user This is the question: i have a hard bump on the up side of the left foot it use to hurt but not anymore it could be from trauma but i am not sure i am worried because i do not remember if i hit my foot or not when i rub my feet i feel like a little mountain really hard. assistant A bump on the top of the foot can be caused by a variety of factors.  The most common cause of a bump on the top of the foot is a bunion.  A bunion is a bony bump that forms on the joint at the base of the big toe.  It is usually caused by wearing shoes that are too tight.  A bunion can cause pain and discomfort in the foot.  It can also cause difficulty walking.  A bunion can be treated with surgery.  Surgery can remove the bony bump and realign the joint.  Surgery can also remove the bony bump and realign the joint.  Surgery can also remove the bony bump and realign the joint.  Surgery can also remove the bony bump and realign the joint.  Surgery can also remove the bony bump and realign the joint.  Surgery can also remove the bony bump and realign the joint.  Surgery can also remove the bony bump and realign the joint.  Surgery can also remove the bony bump and realign the joint.  Surgery can also remove the bony bump and realign the joint.  Surgery can also remove the bony bump and realign the joint.  Surgery can also remove the bony bump and realign the joint.  Surgery can also remove the bony bump and realign the joint.  Surgery can also remove the bony bump and realign the joint.  Surgery can also remove the bony bump and realign the joint.  Surgery can also remove the bony bump and realign the joint.  Surgery can also remove the bony bump and realign the joint.  Surgery can also remove the bony bump and realign the joint.  Surgery can also remove the bony bump and realign the joint.  Surgery can also remove the bony bump and realign the joint.  Surgery can also remove the bony bump and realign the joint.  Surgery can also remove the bony bump and realign the joint.  Surgery can also remove the bony bump and realign the joint.  Surgery can also remove the bony bump and realign the joint.  Surgery can also remove the bony bump and realign the joint.  Surgery can also remove the bony bump and realign the joint.  Surgery can also remove the bony bump and realign the joint.  Surgery can also remove the\n",
            "BERTScore - Precision: 0.4326089024543762, Recall: 0.5252922773361206, F1: 0.4744667410850525\n",
            "\n"
          ]
        },
        {
          "output_type": "stream",
          "name": "stderr",
          "text": [
            "Setting `pad_token_id` to `eos_token_id`:128001 for open-end generation.\n"
          ]
        },
        {
          "output_type": "stream",
          "name": "stdout",
          "text": [
            "Question: 20 male very active fit. a month ago i started having bowel issues stool started coming out very thin and not solid i didn't have a problem going just was not solid and was thin also have been very tired in general and fatigued in the traps and shoulders went to the doctors and he treated for infection he said my thyroid gland was a bit swollen and thought it was infected also tested for underactive thyroid over active thyroid overactive immune system and all of it came back negative he put me on prednisone for the overactive immune system he thought i had but i felt worse i am still having the problems except i visited a friend in ny about 2 weeks after this started and when i went there i was fine normal stool consistency no fatigue i went again the next week same thing i felt fine and was normal. everytime i come back to my house my symptoms get worse lately it seems im having a hard time going to the bathroom in general and not as much comes out what could this be? help\n",
            "Expected Answer: one possibility for your symptoms is of irritable bowel syndrome. it is a chronic gastrointestinal disorder of unknown cause. common symptoms include abdominal cramping or pain bloating and gassiness and altered bowel habits(alternate constipation or loose stools). treatment includes addition of more fiber in your diet cessation of smoking and taking stress antispasmodic medicines antidiarrheal medicines antidepressants and new medicines like alosetron and tegaserod). my sincere advice is to consult a physician/ gastroenterologist. it is very difficult to precisely confirm a diagnosis without examination and investigations and the answer is based on the medical information provided. for exact diagnosis you are requested to consult your doctor. i sincerely hope that helps. take care.\n",
            "Generated Answer: system Answer the question truthfully, you are a medical professional.user This is the question: 20 male very active fit. a month ago i started having bowel issues stool started coming out very thin and not solid i didn't have a problem going just was not solid and was thin also have been very tired in general and fatigued in the traps and shoulders went to the doctors and he treated for infection he said my thyroid gland was a bit swollen and thought it was infected also tested for underactive thyroid over active thyroid overactive immune system and all of it came back negative he put me on prednisone for the overactive immune system he thought i had but i felt worse i am still having the problems except i visited a friend in ny about 2 weeks after this started and when i went there i was fine normal stool consistency no fatigue i went again the next week same thing i felt fine and was normal. everytime i come back to my house my symptoms get worse lately it seems im having a hard time going to the bathroom in general and not as much comes out what could this be? help assistant The symptoms you are describing are consistent with irritable bowel syndrome (IBS). IBS is a chronic condition that affects the large intestine. It is characterized by abdominal pain, bloating, and changes in bowel movements. The symptoms of IBS can be divided into two main categories: constipation and diarrhea.\n",
            "BERTScore - Precision: 0.4844375252723694, Recall: 0.5461181402206421, F1: 0.513431966304779\n",
            "\n"
          ]
        },
        {
          "output_type": "stream",
          "name": "stderr",
          "text": [
            "Setting `pad_token_id` to `eos_token_id`:128001 for open-end generation.\n"
          ]
        },
        {
          "output_type": "stream",
          "name": "stdout",
          "text": [
            "Question: i started getting symptoms 6 years ago when i turned 41- migraines vision problems tremors anemia memory issues joint arthritis and spur growth. before this i was a healthy construction worker who never saw the doctor. initial ana tests were quite elevated and my doctor referred me to a rheumatologist. several tests and rheumatologists later i was written off and the diagnosis was termed as fibromyalgia. now new tests reveal kidney disease- no diabetes or high blood pressure. is it possible to have lupus with symptoms but not showing in blood tests?\n",
            "Expected Answer: with every thing normal i dont think its is lupus and fibromyalgia fits the description. supportive care with pain killers is advised. low doses of tricyclic antidepressants work like charm. i hope it helps. stay in touch with your healthcare provider for further guidance as our answers are just for education and counselling purposes and cannot be an alternative to actual visit to a doctor. take care khan\n",
            "Generated Answer: system Answer the question truthfully, you are a medical professional.user This is the question: i started getting symptoms 6 years ago when i turned 41- migraines vision problems tremors anemia memory issues joint arthritis and spur growth. before this i was a healthy construction worker who never saw the doctor. initial ana tests were quite elevated and my doctor referred me to a rheumatologist. several tests and rheumatologists later i was written off and the diagnosis was termed as fibromyalgia. now new tests reveal kidney disease- no diabetes or high blood pressure. is it possible to have lupus with symptoms but not showing in blood tests? assistant Lupus is a chronic autoimmune disease that can affect many different body systems. It is characterized by the production of abnormal antibodies that attack the body's own tissues and organs. Lupus can cause a wide range of symptoms, including joint pain, fever, fatigue, skin rashes, and kidney problems. Lupus can also cause problems with the nervous system, heart, lungs, and other organs.\n",
            "BERTScore - Precision: 0.457707941532135, Recall: 0.4992527365684509, F1: 0.4775785505771637\n",
            "\n"
          ]
        },
        {
          "output_type": "stream",
          "name": "stderr",
          "text": [
            "Setting `pad_token_id` to `eos_token_id`:128001 for open-end generation.\n"
          ]
        },
        {
          "output_type": "stream",
          "name": "stdout",
          "text": [
            "Question: i have a meningitis last 2 years i just want to know whats the side effect of this after treament? is there any pssible to back again my bacteria\n",
            "Expected Answer: hi thanks for using the ehealth forum for your query. you seem concerned by the post meningitic sequelae or after effects of meningitis and the possibility of recurrence. most people who get meningitis survive often without any after effects but sometimes these diseases cause a range of disabilities and problems that can alter people's lives. after effects may be temporary or permanent physical or emotional. these include- 1) memory loss / difficulty retaining information / lack of concentration 2) clumsiness / co-ordination problems 3) residual headaches 4) deafness / hearing problems / tinnitus / dizziness loss of balance 5) learning difficulties (ranging from temporary learning deficiencies to long term mental impairment) 6) epilepsy / seizures (fits) 7) weakness paralysis or spasms of part of body (if permanent sometimes called cerebral palsy) <positive_smiley> speech problems 9) loss of sight/changes in sight. viral meningitis usually has a tendency for recurrence e. g. herpes simplex type ii meningitis. hope this helps. take care. note: this answer is not intended as and does not substitute for medical advice - the information presented is for patient education only. please see your personal physician for further evaluation of your individual case.\n",
            "Generated Answer: system Answer the question truthfully, you are a medical professional.user This is the question: i have a meningitis last 2 years i just want to know whats the side effect of this after treament? is there any pssible to back again my bacteria assistant There are no known side effects of meningitis treatment.\n",
            "BERTScore - Precision: 0.5055794715881348, Recall: 0.4142416715621948, F1: 0.45537567138671875\n",
            "\n"
          ]
        },
        {
          "output_type": "stream",
          "name": "stderr",
          "text": [
            "Setting `pad_token_id` to `eos_token_id`:128001 for open-end generation.\n"
          ]
        },
        {
          "output_type": "stream",
          "name": "stdout",
          "text": [
            "Question: my son who is 15 has a bad case of chicken pocks though i am a little concerned as he has a lot of pain in his neck which looks a little swollen at the back and behind his ears seems swollen too. he says he also has shooting pains in his head and feels dizzy. is this normal in teens who have chicken pocks or is this something else? he doesnt seem himself and has not much of appetite either. is this common with chicken pocks as my two younger children have just recovered without any of these symptoms.\n",
            "Expected Answer: you seem concerned by the swollen neck with pain and swelling behind the ears as well. you have also made a mention of shooting pains in the head along with the feeling of dizziness and a suggested diagnosis of chickenpox. older children teenagers and young adults are likely to have more severe cases of chicken pox than young children. they usually have more sores run a temperature for longer and may experience some nausea. initial symptoms of chicken pox are usually ignored. one may have slight nasal congestion a loss in appetite or one may feel tired or run down. these symptoms may occur for a day or two before other manifestations of chicken pox. most children with chickenpox act sick with symptoms such as a fever headache tummy ache or loss of appetite for a day or two before breaking out in the classic pox rash. the outcome is generally excellent in uncomplicated cases. encephalitis pneumonia and other invasive bacterial infections are serious but rare complications of chickenpox. in your son's case the second possibility is of measles which shall also be ruled out in consultation with your personal physician. hope this helps. take care. note: this post is not to emphasise final diagnosis as the same cannot be made online and is aimed just to provide medical information and no treatment suggested above be taken without face to face consultation with health care professional.\n",
            "Generated Answer: system Answer the question truthfully, you are a medical professional.user This is the question: my son who is 15 has a bad case of chicken pocks though i am a little concerned as he has a lot of pain in his neck which looks a little swollen at the back and behind his ears seems swollen too. he says he also has shooting pains in his head and feels dizzy. is this normal in teens who have chicken pocks or is this something else? he doesnt seem himself and has not much of appetite either. is this common with chicken pocks as my two younger children have just recovered without any of these symptoms. assistant Chickenpox is a viral infection that is caused by the varicella-zoster virus. It is a common childhood illness that is characterized by a rash and fever. The rash is usually accompanied by itching and is most commonly seen on the trunk and face. The rash is usually self-limiting and resolves on its own within 7-10 days.\n",
            "BERTScore - Precision: 0.589702844619751, Recall: 0.5677118897438049, F1: 0.5784984827041626\n",
            "\n"
          ]
        },
        {
          "output_type": "stream",
          "name": "stderr",
          "text": [
            "Setting `pad_token_id` to `eos_token_id`:128001 for open-end generation.\n"
          ]
        },
        {
          "output_type": "stream",
          "name": "stdout",
          "text": [
            "Question: right side of neck swollen and both sides of face in front of both ears are swollen as well. i was told it might be my salivary gland. do you think i could have mumps\n",
            "Expected Answer: the location of the lumps might indicate inflammation of salivary glands. whether it is caused by mumps can not be told without additional tests. mumps is an infection disease in which virus causes salivary glands to swell. the location is in front of the angle of the lower jaw. usually the glands swell on both sides. however mumps start with some not specific symptoms such as fever for up to 48 hours prior to the swelling of the glands. since the condition is caused by a virus nothing can be done. it lasts for 7 to 10 days. you should have in mind that in men there is a possibility that the testicles might swell too. this condition is considered serious because it can cause infertility. therefore lying in bed and rest during the illness is recommendable.\n",
            "Generated Answer: system Answer the question truthfully, you are a medical professional.user This is the question: right side of neck swollen and both sides of face in front of both ears are swollen as well. i was told it might be my salivary gland. do you think i could have mumps assistant Mumps is a viral infection that causes swelling of the salivary glands.\n",
            "BERTScore - Precision: 0.5801664590835571, Recall: 0.5283823609352112, F1: 0.5530648827552795\n",
            "\n"
          ]
        },
        {
          "output_type": "stream",
          "name": "stderr",
          "text": [
            "Setting `pad_token_id` to `eos_token_id`:128001 for open-end generation.\n"
          ]
        },
        {
          "output_type": "stream",
          "name": "stdout",
          "text": [
            "Question: my son was suspected of cf last year but a sweat test was normal. we are not sure though as we have recently heard you can still carry the gene and get it later as a kid and that he should have gene testing. he is small for age and we have had him to an ent and immunologist for this nose/throat clearing that is sometimes all day long. he did have a few sinus infections and tried many many meds to dry him up and shrink nasal passages but they did nothing. just had him there yesterday and once again lot's of thick clear junk in his nose per the dr. do you think we should bother getting tested?\n",
            "Expected Answer: you wrote: list of other diseases conditions or injuries and their treatment: chronic ear infectons - pe tubes x2 adneoidectomy gtube for poor feeding/weight gain short stature (still monitoring) behavioral issues stooling/withholding issues diagnosis that has been suggested: failure to thrive adhd or possibble bipolar short stature current medical treatment: mirolax prevacid play therapy 1x per week weekly trips to cleveland clinic feeding clinic chronic sinusitis is present during cystic fibrosis but it is not the major manifestation of the condition. cystic fibrosis mainly manifests with lung infections gastro-intestinal disorders endocrine disorders etc. if your childâs medical problems are due to cystic fibrosis the sweat-test would be positive; since is not cystic fibrosis is not likely. you can performe the genetic testing it is probable that the defective gene wonât be idnetified.\n",
            "Generated Answer: system Answer the question truthfully, you are a medical professional.user This is the question: my son was suspected of cf last year but a sweat test was normal. we are not sure though as we have recently heard you can still carry the gene and get it later as a kid and that he should have gene testing. he is small for age and we have had him to an ent and immunologist for this nose/throat clearing that is sometimes all day long. he did have a few sinus infections and tried many many meds to dry him up and shrink nasal passages but they did nothing. just had him there yesterday and once again lot's of thick clear junk in his nose per the dr. do you think we should bother getting tested? assistant The diagnosis of cystic fibrosis is based on the clinical presentation, physical examination, and laboratory findings. The diagnosis of cystic fibrosis is confirmed by the sweat test.\n",
            "BERTScore - Precision: 0.5212627649307251, Recall: 0.5309236645698547, F1: 0.5260488390922546\n",
            "\n"
          ]
        },
        {
          "output_type": "stream",
          "name": "stderr",
          "text": [
            "Setting `pad_token_id` to `eos_token_id`:128001 for open-end generation.\n"
          ]
        },
        {
          "output_type": "stream",
          "name": "stdout",
          "text": [
            "Question: hello am 22 years old and i have type 2diabet i wanted to sign for a new gym which use electric vibes to improve heart pulses and fasten the process of loosing weight i wanted to know if it is dangerous for me knowing that 20min of this sports equals 4 h of normal one thanks\n",
            "Expected Answer: there is no harm in signing up to a gym or trying some machine that helps in losing weight via mechanical vibration. as long as it does not have harmful radiations. i hope it helps. stay in touch with your healthcare provider for further guidance as our answers are just for education and counselling purposes and cannot be an alternative to actual visit to a doctor. take care khan\n",
            "Generated Answer: system Answer the question truthfully, you are a medical professional.user This is the question: hello am 22 years old and i have type 2diabet i wanted to sign for a new gym which use electric vibes to improve heart pulses and fasten the process of loosing weight i wanted to know if it is dangerous for me knowing that 20min of this sports equals 4 h of normal one thanks assistant There are no contraindications for the use of EMS in patients with type 2 diabetes.\n",
            "BERTScore - Precision: 0.4894404411315918, Recall: 0.5222856998443604, F1: 0.5053299069404602\n",
            "\n"
          ]
        },
        {
          "output_type": "stream",
          "name": "stderr",
          "text": [
            "Setting `pad_token_id` to `eos_token_id`:128001 for open-end generation.\n"
          ]
        },
        {
          "output_type": "stream",
          "name": "stdout",
          "text": [
            "Question: i'm having extreme pain inside mouth right behind top molar. the tooth in crooked and i was told by a dentist that it was fine a month ago. i went in with pain and swollen lymph node on left side. gave me antibiotic and sent me on my way. now not even a month later i'm in more pain and pretty sure i have infection. the tooth and guk do not hurt at all. its the area right behind it like the cheek or jaw i don't know. it hurts to eat or drink. i have no fever and don't feel sick other then the pain and under me jaw on neck is a little tender. i started myself on 300 mg clindamycin 3 times a day. started friday and dentist is closed today. please help do you think this is because of my wisdom tooth. i'm terrified i have a jaw infection or something.\n",
            "Expected Answer: starting clindamycin on ones own is not wise. this pain could be mere from wisdom tooth eruption. painkillers were alone enough talk to your dentist and let them sort it out. i hope it helps. stay in touch with your healthcare provider for further guidance as our answers are just for education and counselling purposes and cannot be an alternative to actual visit to a doctor. take care khan\n",
            "Generated Answer: system Answer the question truthfully, you are a medical professional.user This is the question: i'm having extreme pain inside mouth right behind top molar. the tooth in crooked and i was told by a dentist that it was fine a month ago. i went in with pain and swollen lymph node on left side. gave me antibiotic and sent me on my way. now not even a month later i'm in more pain and pretty sure i have infection. the tooth and guk do not hurt at all. its the area right behind it like the cheek or jaw i don't know. it hurts to eat or drink. i have no fever and don't feel sick other then the pain and under me jaw on neck is a little tender. i started myself on 300 mg clindamycin 3 times a day. started friday and dentist is closed today. please help do you think this is because of my wisdom tooth. i'm terrified i have a jaw infection or something. assistant It is possible that you have a periapical abscess or a periapical granuloma.\n",
            "BERTScore - Precision: 0.47267580032348633, Recall: 0.5278618335723877, F1: 0.4987469017505646\n",
            "\n"
          ]
        },
        {
          "output_type": "stream",
          "name": "stderr",
          "text": [
            "Setting `pad_token_id` to `eos_token_id`:128001 for open-end generation.\n"
          ]
        },
        {
          "output_type": "stream",
          "name": "stdout",
          "text": [
            "Question: hi i have an enquiry mostly every morning when i wake up and look in a mirror i see bright white marks on my front two teeth. they do dissapear after 3-4 hours but then again next morning they re-appear. i always think for some reason that its cos i sleep with my mouth open and breathe in from my mouth. could you please tell me why these marks appear and how i could prevent the white marks from appearing every morning. thanks in anticipation<positive_smiley>\n",
            "Expected Answer: i do not know what might be causing the bright white marks on your front two teeth. to get more information you can ask this of your dentist. when you sleep with an open mouth you are probably experiencing a problem with the air passage through the nose. this might be caused by inflammation polyps or septum deviation. you can go to an ent-specialist for a rhinoscopy to investigate your tendency to sleep with an open mouth.\n",
            "Generated Answer: system Answer the question truthfully, you are a medical professional.user This is the question: hi i have an enquiry mostly every morning when i wake up and look in a mirror i see bright white marks on my front two teeth. they do dissapear after 3-4 hours but then again next morning they re-appear. i always think for some reason that its cos i sleep with my mouth open and breathe in from my mouth. could you please tell me why these marks appear and how i could prevent the white marks from appearing every morning. thanks in anticipation<positive_smiley> assistant The white marks on your front teeth are likely to be caused by the presence of plaque. Plaque is a sticky film of bacteria that forms on your teeth and gums. It is a common cause of tooth decay and gum disease.\n",
            "BERTScore - Precision: 0.5314698219299316, Recall: 0.5877549648284912, F1: 0.5581971406936646\n",
            "\n"
          ]
        },
        {
          "output_type": "stream",
          "name": "stderr",
          "text": [
            "Setting `pad_token_id` to `eos_token_id`:128001 for open-end generation.\n"
          ]
        },
        {
          "output_type": "stream",
          "name": "stdout",
          "text": [
            "Question: i got a grade 2 injury too my calf muscle and i have been off it for two weeks and still cannot walk is this normal or should i go back to the doctors iam working in 5 days and need to be walking by then is there any way to speed up the healing process or any thing i can where to allow me to walk on it. also iam 19 years old and have been on the crutches for the two weeks\n",
            "Expected Answer: healing takes a couple of weeks till full recovery so its alright if you cant walk for a while due to pain and inflammation there. hang in there stay compliant to pain killers keep limbs elevated and hope for the best. i hope it helps. stay in touch with your healthcare provider for further guidance as our answers are just for education and counselling purposes and cannot be an alternative to actual visit to a doctor. take care khan\n",
            "Generated Answer: system Answer the question truthfully, you are a medical professional.user This is the question: i got a grade 2 injury too my calf muscle and i have been off it for two weeks and still cannot walk is this normal or should i go back to the doctors iam working in 5 days and need to be walking by then is there any way to speed up the healing process or any thing i can where to allow me to walk on it. also iam 19 years old and have been on the crutches for the two weeks assistant Grade 2 calf muscle injury is a partial tear of the muscle. It is a common injury in athletes and individuals who participate in sports that involve running, jumping, and quick changes of direction. The injury is usually caused by a sudden, forceful contraction of the muscle. The symptoms of a grade 2 calf muscle injury include pain, swelling, and bruising in the calf. The pain is usually felt in the calf and may radiate down to the ankle. The pain is usually worse with activity and may be relieved with rest. The swelling and bruising may be present in the calf and may be worse with activity. The symptoms of a grade 2 calf muscle injury usually begin within 24 hours of the injury and may last for several days.\n",
            "BERTScore - Precision: 0.4608372747898102, Recall: 0.5261372327804565, F1: 0.49132707715034485\n",
            "\n"
          ]
        },
        {
          "output_type": "stream",
          "name": "stderr",
          "text": [
            "Setting `pad_token_id` to `eos_token_id`:128001 for open-end generation.\n"
          ]
        },
        {
          "output_type": "stream",
          "name": "stdout",
          "text": [
            "Question: my family doctor and i have concluded (yesterday) after various tests and trials of other things over the last 1. 5 years that i have fibromyalgia. the symptoms coincidentally (or not) started when menopause started for me (i'm 54). i have been on hrt for one year and it has relieved the hot flashes but not the body/muscle pain and sleep problems. since all otc nsaids and arthritis type creams don't help he prescribed voltaren gel and to continue with all of the alternative therapies i'm trying: yoga walking monthly visit to chiropractor acupuncture and massage and meditation. he said to try the gel for 4 weeks and if that didn't work for me he'd prescribe nortriptyline for sleep/pain. do you agree with his assessment/plan? he didn't think diet had any impact do you agree? i am trying to eat a more plant based diet. any suggestions you have would be most welcome. thank you!\n",
            "Expected Answer: your doctor is doing the right thing. nsaids trial is standard procedure with concomitant alternative therapies. if not responding then addition of antidepressants like nortriptyline is standard choice and wise one. do as directed by your doctor. visit our fibromyalgia health center for further guidance. i hope it helps. stay in touch with your healthcare provider for further guidance as our answers are just for education and counselling purposes and can not be an alternative to actual visit to a doctor. take care khan\n",
            "Generated Answer: system Answer the question truthfully, you are a medical professional.user This is the question: my family doctor and i have concluded (yesterday) after various tests and trials of other things over the last 1. 5 years that i have fibromyalgia. the symptoms coincidentally (or not) started when menopause started for me (i'm 54). i have been on hrt for one year and it has relieved the hot flashes but not the body/muscle pain and sleep problems. since all otc nsaids and arthritis type creams don't help he prescribed voltaren gel and to continue with all of the alternative therapies i'm trying: yoga walking monthly visit to chiropractor acupuncture and massage and meditation. he said to try the gel for 4 weeks and if that didn't work for me he'd prescribe nortriptyline for sleep/pain. do you agree with his assessment/plan? he didn't think diet had any impact do you agree? i am trying to eat a more plant based diet. any suggestions you have would be most welcome. thank you! assistant There is no established treatment for fibromyalgia. The goal of treatment is to reduce the symptoms. The treatment of fibromyalgia is usually based on the severity of the symptoms. The treatment of fibromyalgia is usually based on the severity of the symptoms. The treatment of fibromyalgia is usually based on the severity of the symptoms. The treatment of fibromyalgia is usually based on the severity of the symptoms. The treatment of fibromyalgia is usually based on the severity of the symptoms. The treatment of fibromyalgia is usually based on the severity of the symptoms. The treatment of fibromyalgia is usually based on the severity of the symptoms. The treatment of fibromyalgia is usually based on the severity of the symptoms. The treatment of fibromyalgia is usually based on the severity of the symptoms. The treatment of fibromyalgia is usually based on the severity of the symptoms. The treatment of fibromyalgia is usually based on the severity of the symptoms. The treatment of fibromyalgia is usually based on the severity of the symptoms. The treatment of fibromyalgia is usually based on the severity of the symptoms. The treatment of fibromyalgia is usually based on the severity of the symptoms. The treatment of fibromyalgia is usually based on the severity of the symptoms. The treatment of fibromyalgia is usually based on the severity of the symptoms. The treatment of fibromyalgia is usually based on the severity of the symptoms. The treatment of fibromyalgia is usually based on the severity of the symptoms. The treatment of fibromyalgia is usually based on the severity of the symptoms. The treatment of fibromyalgia is usually based on the severity of the symptoms. The treatment of fibromyalgia is usually based on the severity of the symptoms. The treatment of fibromyalgia is usually based on the severity of the symptoms. The treatment of fibromyalgia is usually based on the severity of the symptoms. The treatment of fibromyalgia is usually based on the severity of the symptoms. The treatment of fibromyalgia is usually based on the severity of the symptoms. The treatment of fibromyalgia is usually based on the severity of the symptoms. The treatment of fibromyalgia is usually based on the severity of the symptoms. The treatment of fibromyalgia is usually based on the severity of the symptoms.\n",
            "BERTScore - Precision: 0.49595776200294495, Recall: 0.5521610975265503, F1: 0.5225525498390198\n",
            "\n"
          ]
        },
        {
          "output_type": "stream",
          "name": "stderr",
          "text": [
            "Setting `pad_token_id` to `eos_token_id`:128001 for open-end generation.\n"
          ]
        },
        {
          "output_type": "stream",
          "name": "stdout",
          "text": [
            "Question: i was doing some weight lifting yesterday at a gym where i live and i was doing some leg press lifts and my right foot is hurting a ton on the bottom whenever i flex it; especially when i point it outward. it is painful when i walk and aches when i sit for a while. it goes from below my toes to just above my heel. i'm in a lot of pain when i walk and it hurts.\n",
            "Expected Answer: get evaluated it might have resulted for lifting weights and leg pressing exercises. rest for a while take some tylenol and some muscle relaxant and see if it helps. i hope it helps. stay in touch with your healthcare provider for further guidance as our answers are just for education and counselling purposes and cannot be an alternative to actual visit to a doctor. take care khan\n",
            "Generated Answer: system Answer the question truthfully, you are a medical professional.user This is the question: i was doing some weight lifting yesterday at a gym where i live and i was doing some leg press lifts and my right foot is hurting a ton on the bottom whenever i flex it; especially when i point it outward. it is painful when i walk and aches when i sit for a while. it goes from below my toes to just above my heel. i'm in a lot of pain when i walk and it hurts. assistant It is possible that you have a stress fracture in your calcaneus.\n",
            "BERTScore - Precision: 0.47797247767448425, Recall: 0.49793100357055664, F1: 0.4877476096153259\n",
            "\n"
          ]
        },
        {
          "output_type": "stream",
          "name": "stderr",
          "text": [
            "Setting `pad_token_id` to `eos_token_id`:128001 for open-end generation.\n"
          ]
        },
        {
          "output_type": "stream",
          "name": "stdout",
          "text": [
            "Question: hi i am 21 year old male and my outer edge of eyebrows are thinning badly with bald spots i am also losing a lot of my eyelashes. as well as thinning hair on all parts of head not in male pattern baldness forum. i would like to know what could possibly be wrong. thank you.\n",
            "Expected Answer: hair loss (alopecia) is a disorder in which the hair falls out from skin areas where it is usually present such as the scalp and body. hair loss can be caused due to multiple factors including genetic factors diet endocrine abnormalities systemic illnesses drug intake and hair shaft abnormalities. in your case since you are having generalised hair thinning on your scalp without any bald spots you may be having androgenetic alopecia or trichodystrophy. treatment of androgenetic alopecia can be done with topical medications like minoxidil or finasteride. conditions that result in trichodystrophy and fragile hair can include exposure to excessive sunlight hair care techniques (such as hot combing and blow drying) and chemical processes (including coloring straightening and perming). avoiding such procedures or sunlight exposure should be the main stay. gentle hair care and use of hair shampoos and conditioners (leave on) can help prevent further damage. regrowth of hair can occur within few months provided repeated damage does not occur. it would be recommended that you consult a dermatologist or a hair specialist and seek additional guidance and proper advice for proper hair care. i hope this helps.\n",
            "Generated Answer: system Answer the question truthfully, you are a medical professional.user This is the question: hi i am 21 year old male and my outer edge of eyebrows are thinning badly with bald spots i am also losing a lot of my eyelashes. as well as thinning hair on all parts of head not in male pattern baldness forum. i would like to know what could possibly be wrong. thank you. assistant There are many causes of thinning eyebrows and eyelashes. Some of the causes include: \r\n",
            "Alopecia areata Alopecia universalis Androgenetic alopecia (male pattern baldness) Blepharitis (inflammation of the eyelids) Chemotherapy Chemotherapy-induced alopecia Cicatricial alopecia (scarring alopecia) Congenital conditions (e.g. ectodermal dysplasia) Dermatitis (skin inflammation) Endocrine disorders (e.g. hypothyroidism) Genetic conditions (e.g. trichorrhexis nodosa) Hormonal imbalances (e.g. hypogonadism) Infections (e.g. folliculitis) Inflammatory conditions (e.g. psoriasis) Medications (e.g. minoxidil) Nutritional deficiencies (e.g. iron deficiency) Radiation therapy Thyroid disorders (e.g. hypothyroidism) Traction alopecia (hair loss due to tight hairstyles)\n",
            "BERTScore - Precision: 0.5706863403320312, Recall: 0.5643338561058044, F1: 0.5674923062324524\n",
            "\n"
          ]
        },
        {
          "output_type": "stream",
          "name": "stderr",
          "text": [
            "Setting `pad_token_id` to `eos_token_id`:128001 for open-end generation.\n"
          ]
        },
        {
          "output_type": "stream",
          "name": "stdout",
          "text": [
            "Question: i have a very bad hair condition. my hair is very scanty and thin. each of my hair strands is thin. i am a non vegetarian and i eat good amount of egg and fish. wash my hair daily due to oil formation and faint smell. my hair is just a little longer from my shoulder and looks awful when i tie my hair or try out different hair style due to which i leave my hair loose all the time. my scalp can now be visible too. i trim my hair once in 3 months. is there any way my hair get a little thicker and longer. i have tried out couple of remedies but proved unworthy. i am really worried about this. can you please give me some suggestions or prescribe any kind of pills or sort any remedies.\n",
            "Expected Answer: the most probable cause of your hair issues could be due to pcod (polycystic ovarian disease). the most common pattern of hair involvement in pcod is male pattern baldness thinning of hair and dandruff. you may consult with your obgyn for continued and proper treatment of your ovarian cysts. in case you had genetically thin hair by birth you cannot increase the thickness of the hair but a well-balanced diet that includes plenty of growth-promoting protein and iron can make a difference eating a healthy diet (rich in vitamin e b complex vitamins and high protein content) will help you will grow stronger and healthier hair. examples - seafoods like salmon chicken and turkey oysters eggs low-fat dairy products like skim milk and yogurt ground flaxseed dark green leafy vegetables carrots beans and legumes (kidney beans lentils etc) nuts (walnuts cashews pecas and almonds) whole grain products (bread fortified cereals etc).\n",
            "Generated Answer: system Answer the question truthfully, you are a medical professional.user This is the question: i have a very bad hair condition. my hair is very scanty and thin. each of my hair strands is thin. i am a non vegetarian and i eat good amount of egg and fish. wash my hair daily due to oil formation and faint smell. my hair is just a little longer from my shoulder and looks awful when i tie my hair or try out different hair style due to which i leave my hair loose all the time. my scalp can now be visible too. i trim my hair once in 3 months. is there any way my hair get a little thicker and longer. i have tried out couple of remedies but proved unworthy. i am really worried about this. can you please give me some suggestions or prescribe any kind of pills or sort any remedies. assistant Hair loss is a common problem in both men and women. It can be caused by a variety of factors such as hormonal imbalance, nutritional deficiencies, stress, genetics, and certain medical conditions. Hair loss can be classified into two main categories: androgenetic alopecia and alopecia areata. Androgenetic alopecia is the most common form of hair loss and is caused by the conversion of testosterone to dihydrotestosterone (DHT). DHT causes hair follicles to shrink and eventually stop producing hair. Alopecia areata is an autoimmune disease that causes hair loss. It is characterized by the sudden loss of hair from the scalp, eyebrows, eyelashes, and other areas of the body. The hair loss is usually patchy and can be accompanied by itching and redness of the scalp.\n",
            "BERTScore - Precision: 0.5058488845825195, Recall: 0.5176294445991516, F1: 0.5116714239120483\n",
            "\n"
          ]
        },
        {
          "output_type": "stream",
          "name": "stderr",
          "text": [
            "Setting `pad_token_id` to `eos_token_id`:128001 for open-end generation.\n"
          ]
        },
        {
          "output_type": "stream",
          "name": "stdout",
          "text": [
            "Question: im currently 18. 4 weeks pregnant. afp results came back 1:41 chance of trisomy 18. at the 12 week ultrasound baby had grown on time from the 9 week ultrasound and had a wide open hand and at the 16 week ultrasound baby was in time head normal size compared to body and hands wide open with that does it seem to have it? also my mom had spina bifida so is it possible i carry the gene and it will always be positive?\n",
            "Expected Answer: if your baby’s growth has been fine for the gestational age then it would suggest that baby has been doing pretty well. if a hand/hands of your baby are open on an ultrasound it is a great indication that it is not trisomy18. babies with trisomy18 cannot open their hands normally. if worried you may consider getting another ultrasound scan done to thoroughly look for other features or markers suggestive of chromosomal abnormalities. getting amniocentesis done would also help to confirm or rule out genetic problems in baby. discuss with your treating doctor/gynecologist or genetic specialist for further clarification and assistance. take care.\n",
            "Generated Answer: system Answer the question truthfully, you are a medical professional.user This is the question: im currently 18. 4 weeks pregnant. afp results came back 1:41 chance of trisomy 18. at the 12 week ultrasound baby had grown on time from the 9 week ultrasound and had a wide open hand and at the 16 week ultrasound baby was in time head normal size compared to body and hands wide open with that does it seem to have it? also my mom had spina bifida so is it possible i carry the gene and it will always be positive? assistant Trisomy 18 is a chromosomal disorder that occurs when a person is born with an extra copy of chromosome 18. This condition is also known as Edwards syndrome. The extra copy of chromosome 18 causes delays in development and other health problems.  The signs and symptoms of trisomy 18 vary widely among affected individuals. Many people with this condition have severe intellectual disability and delayed development. They may have distinctive facial features, including a small head, a wide mouth, and a small jaw.  Most people with trisomy 18 have heart defects. They may also have abnormalities of the kidneys, urinary tract, and digestive system.  Some people with trisomy 18 have a condition called congenital heart disease with atrioventricular canal defect. This condition is characterized by a hole in the wall between the upper and lower chambers of the heart (atrioventricular canal).  People with trisomy 18 often have a condition called clubfoot, which is a foot deformity that causes the foot to be twisted inward.  Most people with trisomy 18 do not survive beyond the first year of life.\n",
            "BERTScore - Precision: 0.49919286370277405, Recall: 0.5304189324378967, F1: 0.5143324136734009\n",
            "\n"
          ]
        },
        {
          "output_type": "stream",
          "name": "stderr",
          "text": [
            "Setting `pad_token_id` to `eos_token_id`:128001 for open-end generation.\n"
          ]
        },
        {
          "output_type": "stream",
          "name": "stdout",
          "text": [
            "Question: my friend's 23 years old recently he started suffering from hardhips breathing and a sting-like feeling below his heart but this only occurs at night and it's getting worse. should he be afraid of potential heart attacks or not? and what are the possible causes please? thank you very much\n",
            "Expected Answer: a cardiac cause for chest discomfort and pain should be ruled out primarily. one should have a very low threshold for it. a baseline ekg should be done just to be on the safe side. based on your description its unlikely to be a cardiac cause. if the chest pain is involving chest wall tenderness then costochondritis is the likely cause and would only require nsaids like ibuprofen for treatment. wishing you best of health thanks\n",
            "Generated Answer: system Answer the question truthfully, you are a medical professional.user This is the question: my friend's 23 years old recently he started suffering from hardhips breathing and a sting-like feeling below his heart but this only occurs at night and it's getting worse. should he be afraid of potential heart attacks or not? and what are the possible causes please? thank you very much assistant Angina pectoris is a symptom of coronary artery disease. It is a condition in which the heart muscle does not get enough oxygen. Angina pectoris is a symptom of coronary artery disease. It is a condition in which the heart muscle does not get enough oxygen.\n",
            "BERTScore - Precision: 0.47128161787986755, Recall: 0.5040449500083923, F1: 0.48711299896240234\n",
            "\n"
          ]
        },
        {
          "output_type": "stream",
          "name": "stderr",
          "text": [
            "Setting `pad_token_id` to `eos_token_id`:128001 for open-end generation.\n"
          ]
        },
        {
          "output_type": "stream",
          "name": "stdout",
          "text": [
            "Question: hi there i have extremely bright yellowy orangey mucus and have been recovering from a flu / cold any ideas what it could be\n",
            "Expected Answer: your concern is regarding the bright yellow or orange snot during cold. since you are recovering from a cold the yellow thick mucus is due to your body fighting off the infection. it is bright yellow at first which changes to dark yellow a few days later. orange colored or red colored phlegm can be due to presence of blood in the mucus which may be due to frequent nose blowing or slight bleeding of the blood vessels during cold. however if the red color persists for many days or there is any frank bleeding then it needs evaluation. persistence of yellow color should rule out presence of sinus infection or sinusitis. steam inhalation is quite useful in both the cases. it is very difficult to precisely confirm a diagnosis without examination and investigations and the answer is based on the medical information provided. for exact diagnosis you are requested to consult your doctor. i sincerely hope that helps. take care.\n",
            "Generated Answer: system Answer the question truthfully, you are a medical professional.user This is the question: hi there i have extremely bright yellowy orangey mucus and have been recovering from a flu / cold any ideas what it could be assistant The most common cause of yellow or green mucus is a viral infection.\n",
            "BERTScore - Precision: 0.5628864765167236, Recall: 0.5008277297019958, F1: 0.530046820640564\n",
            "\n"
          ]
        },
        {
          "output_type": "stream",
          "name": "stderr",
          "text": [
            "Setting `pad_token_id` to `eos_token_id`:128001 for open-end generation.\n"
          ]
        },
        {
          "output_type": "stream",
          "name": "stdout",
          "text": [
            "Question: i had a pretty bad case of appendicitis almost 2 years ago. i had no fever or nausea. i was eating fine. my white blood cell count was normal. and the pain was dull at first. about 3-4 weeks later the pain became intense. if i laid on my stomach stretching my abdomen it was about a 7-8 on the pain scale. i had emergency appendectomy after an ultrasound showed an inflamed appendix. the surgeon told me it had not ruptured but was very infected and my body had walled off the infection and in 40 years i was his second case of a similar situation. this was a pretty dramatic operation. 4 nights in the hospital an infiltrated vein and 6 months of c diff after. about 2 weeks ago i started noticing a similar pain. lower right side near mcburney's point. it's a warm throbbing sensation maybe 3-4 on the pain scale at its worse. does this sound like possible stump appendicitis? i am very worried as i have no current insurance and my first operation cost almost 40k including c diff treatment.\n",
            "Expected Answer: this can be related to postoperative adhesion formation. bed rest fluids pain medications e. g nsaids spasmolytics etc will cool off a moderate case. however if it recurs and persists with signs and symptoms of intestinal obstruction then surgical lysis of the adhesion may be required. its unlikely to a remains of the sort you pointed too if the appendectomy was conducted successfully. wishing you best of health thanks\n",
            "Generated Answer: system Answer the question truthfully, you are a medical professional.user This is the question: i had a pretty bad case of appendicitis almost 2 years ago. i had no fever or nausea. i was eating fine. my white blood cell count was normal. and the pain was dull at first. about 3-4 weeks later the pain became intense. if i laid on my stomach stretching my abdomen it was about a 7-8 on the pain scale. i had emergency appendectomy after an ultrasound showed an inflamed appendix. the surgeon told me it had not ruptured but was very infected and my body had walled off the infection and in 40 years i was his second case of a similar situation. this was a pretty dramatic operation. 4 nights in the hospital an infiltrated vein and 6 months of c diff after. about 2 weeks ago i started noticing a similar pain. lower right side near mcburney's point. it's a warm throbbing sensation maybe 3-4 on the pain scale at its worse. does this sound like possible stump appendicitis? i am very worried as i have no current insurance and my first operation cost almost 40k including c diff treatment. assistant The diagnosis of stump appendicitis is based on the clinical presentation and the history of the patient. The diagnosis is confirmed by imaging studies such as CT scan or ultrasound.\n",
            "BERTScore - Precision: 0.457896888256073, Recall: 0.5111406445503235, F1: 0.4830560088157654\n",
            "\n"
          ]
        },
        {
          "output_type": "stream",
          "name": "stderr",
          "text": [
            "Setting `pad_token_id` to `eos_token_id`:128001 for open-end generation.\n"
          ]
        },
        {
          "output_type": "stream",
          "name": "stdout",
          "text": [
            "Question: hello! i'm 22 and i have a back pain when sitting localized in the middle part of my back especially under left blade and sometimes between both blades (like the muscles was tense all the time). the pain is harder when i drive car - searing strong pain including large part of my back). the pain appeared about 4 years ago and firsty it was gentle (so i thought i can eliminate it with exercises). i sit at a computer about 8 hours a day but i do breaks to exercise and move. but when i don't do any break for some hours after standing up and twisting my spine left and right my spine joints \"shoot\". the pain becomes stronger while i do a deep breath. the neurosurgeon (with very good opinions) told that my spine is ok and my back are straight so there is no need to do mri. he addressed me to the physiotherapist. at the beginning the physiotherapist suspected the \"ankylosing spondylitis\" but after next visits he rather ruled this out. the massages and exercises didn't help even worse <negative_smiley>\n",
            "Expected Answer: i believe with normal conservative measures not helping there is no harm in taking an mri however posture rehab is mandatory and long rides are not wise. i would suggest to have a complete neurological correlation to rule out any nerve compression and see how it goes. i hope it helps. stay in touch with your healthcare provider for further guidance as our answers are just for education and counselling purposes and cannot be an alternative to actual visit to a doctor. take care khan\n",
            "Generated Answer: system Answer the question truthfully, you are a medical professional.user This is the question: hello! i'm 22 and i have a back pain when sitting localized in the middle part of my back especially under left blade and sometimes between both blades (like the muscles was tense all the time). the pain is harder when i drive car - searing strong pain including large part of my back). the pain appeared about 4 years ago and firsty it was gentle (so i thought i can eliminate it with exercises). i sit at a computer about 8 hours a day but i do breaks to exercise and move. but when i don't do any break for some hours after standing up and twisting my spine left and right my spine joints \"shoot\". the pain becomes stronger while i do a deep breath. the neurosurgeon (with very good opinions) told that my spine is ok and my back are straight so there is no need to do mri. he addressed me to the physiotherapist. at the beginning the physiotherapist suspected the \"ankylosing spondylitis\" but after next visits he rather ruled this out. the massages and exercises didn't help even worse <negative_smiley> assistant There are no specific laboratory tests for the diagnosis of thoracic back pain.\n",
            "BERTScore - Precision: 0.452914834022522, Recall: 0.5256808996200562, F1: 0.48659253120422363\n",
            "\n"
          ]
        },
        {
          "output_type": "stream",
          "name": "stderr",
          "text": [
            "Setting `pad_token_id` to `eos_token_id`:128001 for open-end generation.\n"
          ]
        },
        {
          "output_type": "stream",
          "name": "stdout",
          "text": [
            "Question: to whom it may concern: my son is 3 months old and he is on breastfeeding. in his blood analysis which was done in 30 january 2017 number of neutrophils was 0. 7/nl. after that we repeated blood test on 7 march 2017 and number of neutrophils was 1. 27/nl because of that result we did test again in 14 march 2017 and number was 0. 9<negative_smiley>nl. no other symptoms are revealed however according to pediatrician we did following tests: iga igm igg hiv b12 and copper in blood. currently we have only hiv result and it is negative. please tell me: is it possible in infants to have low number of neutrophils without any obvious reason and can it increase without any additional treatment and in what period of time? thank you in advance.\n",
            "Expected Answer: the most common form of neutropenia in infants and young children is transient neutropenia with or following a viral illness. it resolves itself within 2 weeks. if it lasts longer than that or the child is very ill then a full workup for neutropenia would be recommended. in infants aged 2 weeks to 1 year the lower limit of the normal neutrophil count is 1000/l. after the first year of life the lower limit is 1500/l as in adults. spontaneous recovery in such cases occurs by age 5 years and the mean duration of neutropenia is approximately 20 months. the clinical severity and frequency of infections rather than the severity of neutropenia would be used to determine the further management of the condition. hence you should continue to work with the treating doctors for appropriate medical advice. i hope this helps.\n",
            "Generated Answer: system Answer the question truthfully, you are a medical professional.user This is the question: to whom it may concern: my son is 3 months old and he is on breastfeeding. in his blood analysis which was done in 30 january 2017 number of neutrophils was 0. 7/nl. after that we repeated blood test on 7 march 2017 and number of neutrophils was 1. 27/nl because of that result we did test again in 14 march 2017 and number was 0. 9<negative_smiley>nl. no other symptoms are revealed however according to pediatrician we did following tests: iga igm igg hiv b12 and copper in blood. currently we have only hiv result and it is negative. please tell me: is it possible in infants to have low number of neutrophils without any obvious reason and can it increase without any additional treatment and in what period of time? thank you in advance. assistant Neutropenia in infants is a common condition. Neutropenia in infants is usually benign and self-limited. Neutropenia in infants is usually benign and self-limited. Neutropenia in infants is usually benign and self-limited. Neutropenia in infants is usually benign and self-limited. Neutropenia in infants is usually benign and self-limited. Neutropenia in infants is usually benign and self-limited. Neutropenia in infants is usually benign and self-limited. Neutropenia in infants is usually benign and self-limited. Neutropenia in infants is usually benign and self-limited. Neutropenia in infants is usually benign and self-limited. Neutropenia in infants is usually benign and self-limited. Neutropenia in infants is usually benign and self-limited. Neutropenia in infants is usually benign and self-limited. Neutropenia in infants is usually benign and self-limited. Neutropenia in infants is usually benign and self-limited. Neutropenia in infants is usually benign and self-limited. Neutropenia in infants is usually benign and self-limited. Neutropenia in infants is usually benign and self-limited. Neutropenia in infants is usually benign and self-limited. Neutropenia in infants is usually benign and self-limited. Neutropenia in infants is usually benign and self-limited. Neutropenia in infants is usually benign and self-limited. Neutropenia in infants is usually benign and self-limited. Neutropenia in infants is usually benign and self-limited. Neutropenia in infants is usually benign and self-limited. Neutropenia in infants is usually benign and self-limited. Neutropenia in infants is usually benign and self-limited. Neutropenia in infants is usually benign and self-limited. Neutropenia in infants is usually benign and self-limited. Neutropenia in infants is usually benign and self-limited. Neutropenia in infants is usually benign and self-limited. Neutropenia in infants is usually benign and self-limited. Neutropenia in infants is usually benign and self-limited. Neutropenia in infants is usually benign and self-limited. Neutropenia in infants is usually benign and\n",
            "BERTScore - Precision: 0.5575190782546997, Recall: 0.5830623507499695, F1: 0.5700047016143799\n",
            "\n"
          ]
        },
        {
          "output_type": "stream",
          "name": "stderr",
          "text": [
            "Setting `pad_token_id` to `eos_token_id`:128001 for open-end generation.\n"
          ]
        },
        {
          "output_type": "stream",
          "name": "stdout",
          "text": [
            "Question: 10 days ago i had my bile ducts replaced with my small intestine and removal of my gall bladder. i am so depressed reading all these etters. has this surgery ever been successful? i feel this surgery was a bad idea and my quality of my life is over. please give me some hope.\n",
            "Expected Answer: your concern is probably regarding the surgery for chronic pancreatitis i. e. whipple's procedure. there is acceptable alteration of lifestyle after the whipple operation. most patients are able to go back to their normal functional levels. many studies show that there is no statistical difference looking at physical abilities psychological issues social issues functional capabilities and disabilities when comparing whipple with the other surgeries like laparoscopic gall bladder removal. some of the long-term consequences of the whipple operation include the following: 1. mal-absorption: the pancreas produces enzymes required for digestion of food. in some patients removal of part of the pancreas during the whipple operation can lead to a diminished production of these enzymes. patients complain of bulky diarrhea type of stool that is very oily. long-term treatment with oral pancreatic enzyme supplementation usually provides relief from this problem. 2. alteration in diet: after the whipple operation it is generally recommended that the patients ingest smaller meals and snack between meals to allow better absorption of the food and to minimize symptoms of feeling of being bloated or getting too full. 3. loss of weight: it is common for patients to lose up to 5 to 10% of their body weight compared to their weight prior to their illness. the weight loss usually stabilizes very rapidly and most patients after a small amount of initial weight loss are able to maintain their weight and do well. hope this helps. take care. note: this post is not to emphasise final diagnosis as the same cannot be made online and is aimed just to provide medical information and no treatment suggested above be taken without face to face consultation with health care professional.\n",
            "Generated Answer: system Answer the question truthfully, you are a medical professional.user This is the question: 10 days ago i had my bile ducts replaced with my small intestine and removal of my gall bladder. i am so depressed reading all these etters. has this surgery ever been successful? i feel this surgery was a bad idea and my quality of my life is over. please give me some hope. assistant The success rate of the surgery is 80-90%.\n",
            "BERTScore - Precision: 0.5066475868225098, Recall: 0.44247445464134216, F1: 0.4723915159702301\n",
            "\n"
          ]
        },
        {
          "output_type": "stream",
          "name": "stderr",
          "text": [
            "Setting `pad_token_id` to `eos_token_id`:128001 for open-end generation.\n"
          ]
        },
        {
          "output_type": "stream",
          "name": "stdout",
          "text": [
            "Question: hi i am a 31 year old male. i have had a series of digestion problems after antibiotics for pheumonia in the beginning of the year. most of the symptoms have gone except for a werid experience when i put pressure with my hand below the rib cage i breath out slowly and i can feel and hear fluid being released from somewhere in that region there is no pain. is this normal?\n",
            "Expected Answer: in absence of major symptoms like fever loss of weight appetite bloody stools etc your symptoms could be due to irritable bowel syndrome (ibs). irritable bowel syndrome (ibs) is a chronic functional disorder characterized by cramping abdominal pain or discomfort with alterations in bowel habits (bloating constipation and diarrhea). these symptoms usually are present for at least 12 weeks in a patient during the previous one year and unfortunately the onset or subsidence cannot be predicted. most symptoms of ibs can be controlled with diet stress management and prescribed medications. it requires a proper examination and investigations results to give a precise diagnosis. kindly visit a physician for counselling and treatment. take care!\n",
            "Generated Answer: system Answer the question truthfully, you are a medical professional.user This is the question: hi i am a 31 year old male. i have had a series of digestion problems after antibiotics for pheumonia in the beginning of the year. most of the symptoms have gone except for a werid experience when i put pressure with my hand below the rib cage i breath out slowly and i can feel and hear fluid being released from somewhere in that region there is no pain. is this normal? assistant The symptoms you are describing are consistent with a subdiaphragmatic abscess.\n",
            "BERTScore - Precision: 0.47575753927230835, Recall: 0.4753006100654602, F1: 0.4755289554595947\n",
            "\n"
          ]
        },
        {
          "output_type": "stream",
          "name": "stderr",
          "text": [
            "Setting `pad_token_id` to `eos_token_id`:128001 for open-end generation.\n"
          ]
        },
        {
          "output_type": "stream",
          "name": "stdout",
          "text": [
            "Question: i would like to know about white stolls like milk what it would might be something to worry and that was 2 times already.\n",
            "Expected Answer: a billiary obstruction can cause white feces. a stoolâs color originates from the billiary pigment or bilirubin that is excreted through bile into the intestines. bilirubin turns into biliverdin and sterkobillin that give stool its typical color. an obstruction of the bile duct (choledocus) may be caused by a bile-stone or some type of tumor. laboratory analyses (direct bilirubin) an ultrasound scan a ct-scan an intravenous cholangiography and an endoscopic retrograde cholangio-pancreaticography (ercp) are diagnostic tools that will provide you with more information about the cause of the white stool or \"aholia\". you can consult an internist for more details.\n",
            "Generated Answer: system Answer the question truthfully, you are a medical professional.user This is the question: i would like to know about white stolls like milk what it would might be something to worry and that was 2 times already. assistant The most common cause of white stools is a lack of bile in the stool. This can be due to a blockage in the bile ducts or a lack of bile production in the liver.\n",
            "BERTScore - Precision: 0.52930748462677, Recall: 0.4657386243343353, F1: 0.49549248814582825\n",
            "\n"
          ]
        },
        {
          "output_type": "stream",
          "name": "stderr",
          "text": [
            "Setting `pad_token_id` to `eos_token_id`:128001 for open-end generation.\n"
          ]
        },
        {
          "output_type": "stream",
          "name": "stdout",
          "text": [
            "Question: i am 23 weeks now with fracture of tibia and fibula good formation of the bones was observed doctor had instructed full weight bearing but still on cast. the leg to be supported with a crutches how long do i still need to get back to my normal activities. i still feel pains and it get swollen after short distance cover or normal sitting on the chair. what can i do?\n",
            "Expected Answer: use crutches you can do all your activities with support. wait for the cast to remove. recovery time varies from 6 months to a year to 18 months. i hope it helps. stay in touch with your healthcare provider for further guidance as our answers are just for education and counselling purposes and cannot be an alternative to actual visit to a doctor. take care khan\n",
            "Generated Answer: system Answer the question truthfully, you are a medical professional.user This is the question: i am 23 weeks now with fracture of tibia and fibula good formation of the bones was observed doctor had instructed full weight bearing but still on cast. the leg to be supported with a crutches how long do i still need to get back to my normal activities. i still feel pains and it get swollen after short distance cover or normal sitting on the chair. what can i do? assistant The fracture of tibia and fibula is a serious injury and it requires a long period of recovery. The fracture of tibia and fibula is a serious injury and it requires a long period of recovery. The fracture of tibia and fibula is a serious injury and it requires a long period of recovery. The fracture of tibia and fibula is a serious injury and it requires a long period of recovery.\n",
            "BERTScore - Precision: 0.46160584688186646, Recall: 0.5188736915588379, F1: 0.4885673224925995\n",
            "\n"
          ]
        },
        {
          "output_type": "stream",
          "name": "stderr",
          "text": [
            "Setting `pad_token_id` to `eos_token_id`:128001 for open-end generation.\n"
          ]
        },
        {
          "output_type": "stream",
          "name": "stdout",
          "text": [
            "Question: i am 26 years old. i had met an motor-bike accident 1 year ago where i fracture my right leg. it was a kind of simple open compound fracture. surgery was done & nail/ rod were placed there. i have followed the doctor & do every things he said but bone healing doesn't occur. instead the nail start breaking after i start walking without crutches. the doctor added extra calcium supplements & waited further. but no changes. then i move to next hospital. after 8 month a prp injection was given saying it was a non-union & waited to see the reaction. no good changes. then after 11 month again surgery was done replacing the broken nail with another long & wider nail/rod. some changes were observed within 4 months. then dynamization of nailing along with prp inject was made recently. will it solve the problem? what are the chances? how long it will take to heal? can i walk without support as it has been 4 month already(except recent dynamization)?\n",
            "Expected Answer: the healing of a fractured bone depends on many factors. 1. type of fracture - compound fractures - take much longer to heal. 2. displaced bone fragments - if the bone edges and parts have been displaced then the risk of delayed union and nonunion increase. 3. infection - increases the healing time. 4. disruption of the blood flow to the fracture site - also hampers healing 5. malnutrition bone disorders also prolong the healing time. 6. early mobilization of the joint - before complete healing. in your case you have 2 or more factors which have caused the delay in your recovery. without first hand knowledge of your current condition examination of your xrays and a physical examination it would not be possible to give exact possibility of your prognosis. i am sorry about that. but platelet rich plasma (prp) does contain important cytokines and growth factors which when injected into a injured area helps to improve the rate of healing (bone formation in your case) and hence your recovery. as mentioned in your history you may already might have had some progress. hence if the fractured bone site heals completely (which will eventually happen in due time) - there is no doubt that you will be able to walk normally on the affected foot. i hope this helps.\n",
            "Generated Answer: system Answer the question truthfully, you are a medical professional.user This is the question: i am 26 years old. i had met an motor-bike accident 1 year ago where i fracture my right leg. it was a kind of simple open compound fracture. surgery was done & nail/ rod were placed there. i have followed the doctor & do every things he said but bone healing doesn't occur. instead the nail start breaking after i start walking without crutches. the doctor added extra calcium supplements & waited further. but no changes. then i move to next hospital. after 8 month a prp injection was given saying it was a non-union & waited to see the reaction. no good changes. then after 11 month again surgery was done replacing the broken nail with another long & wider nail/rod. some changes were observed within 4 months. then dynamization of nailing along with prp inject was made recently. will it solve the problem? what are the chances? how long it will take to heal? can i walk without support as it has been 4 month already(except recent dynamization)? assistant The prognosis for the healing of non-union is generally poor. The success rate of dynamization is around 70-80%. The healing rate of dynamization is around 50-60%. The healing rate of dynamization with PRP is around 80-90%. The healing rate of dynamization with PRP and bone graft is around 90-100%.\n",
            "BERTScore - Precision: 0.5137945413589478, Recall: 0.5347769260406494, F1: 0.5240758061408997\n",
            "\n"
          ]
        },
        {
          "output_type": "stream",
          "name": "stderr",
          "text": [
            "Setting `pad_token_id` to `eos_token_id`:128001 for open-end generation.\n"
          ]
        },
        {
          "output_type": "stream",
          "name": "stdout",
          "text": [
            "Question: hi doc is it advisable to use a therapy machine device to reduce stiffness for 17 month old baby?\n",
            "Expected Answer: you seem concerned about the stiffness in your 17 month old baby diagnosed with cerebral palsy. cerebral palsy hinders proper motor development due to which a child's movement and muscle coordination gets impaired. however there are a number of treatments that help a child overcome his disabilities. of all these physical therapy for cerebral palsy is of great help. a physical therapist is trained to improve muscle coordination and movement through exercise and other devices. positioning is done to reduce unwanted tone and to attain long stretches. for this purpose a number of devices like braces knee mobilisers pillows casts or splints may be used. the bobath treatment aims to improve posture and movement to enable more realistic functioning in daily life. through specialised ways of handling stiffness can be reduced muscle control against gravity increased and fluctuating muscle activity stabilised. depending on the severity of the condition the child may be better able to learn how to sit up use his/her hands to stand up to stand and to walk. ideally the treatment will be an integral part of the daily routine for that child. for example the way the child is picked up carried put down or positioned when sitting will enable parents/carers to enhance the child's ability and function. the aims of the treatment are goal-orientated and influenced by several factors such as the age of the child severity of their condition and their motivation. treatment is planned for each child via assessment. some of the areas that will be assessed are: â¢ the patterns of movement the child presents with; â¢ age-appropriate movements that the child may not be achieving or may find difficult; â¢ the child's present capabilities; â¢ examination of the child's posture in different situations and positions. once the child has been assessed a prioritized 'problem-solving' list will be formulated and then appropriate techniques used to address these areas. positioning is very important in bobath treatment. correct positioning helps improve movements. experience of different positions is necessary to improve overall body control and reduce the risk of unnecessary poor posture. handling a child using key points on the body allows the therapist to manipulate the child to correct their movements. help may be given with movements like chewing handling objects moving about sitting or lying down. even when a child is being carried using correct positioning and handling of 'key points' on the child's body is considered very important as this lets the child experience as far possible normal movement patterns. you may consult a physical therapist for more detailed assessment and the use of devices and machines. hope this helps. take care. note: this post is not to emphasise final diagnosis as the same cannot be made online and is aimed just to provide medical information and no treatment suggested above be taken without face to face consultation with health care professional.\n",
            "Generated Answer: system Answer the question truthfully, you are a medical professional.user This is the question: hi doc is it advisable to use a therapy machine device to reduce stiffness for 17 month old baby? assistant There are no established guidelines for the use of physical therapy in the management of spasticity in children.\n",
            "BERTScore - Precision: 0.5498644113540649, Recall: 0.43975621461868286, F1: 0.48868483304977417\n",
            "\n"
          ]
        },
        {
          "output_type": "stream",
          "name": "stderr",
          "text": [
            "Setting `pad_token_id` to `eos_token_id`:128001 for open-end generation.\n"
          ]
        },
        {
          "output_type": "stream",
          "name": "stdout",
          "text": [
            "Question: my brother is 23 years old and has severe cerebral palsy for the last few years he has been complaining of stomach pains but was not able to explain what sort of pains as he also has limited speech. about two years ago he became anaemic and was taken into hospital. while he was there he had an endoscopy and the test revealed that he had severe grade 3 erosive/ulcerative oesphagitis. to treat this he was given lansoprazole two years later he still has not recovered and he is still suffering from the same symptoms. the doctors have said that nothing can be done about it and to carry on taking the medication given. after reading an article about endoscopic fundoplication i am wondering whether my brother would benefit from this. i am very concerned as my brother is in a lot of pain which is also causing sleepless nights and now he seems to have developed laughter attacks which can go on for hoursâ¦doctors have not been able to diagnose this but the attack always occur when he is pain. i would be grateful if anyone could give any suggestions. thankyou dyer\n",
            "Expected Answer: it seems that you brother is experiencing gastro esophageal reflux disease (gerd). stomach acid goes up in to the esophagus causing erosive oesophagitis and ulcers. traditionally anti-acid medicines are used to relieve symptoms. although these can help ease the symptoms sometimes they are not a long-term cure. if not treated effectively an infant or adolescent can be reliant on anti acid medicines for long periods of time. because medication has not proven successful in the long-term the next option is a surgical procedure called 'nissen fundoplication'. this involves an operation on the abdomen through a reasonably large incision (unless performed via keyhole surgery 'laparoscopy). the top of the stomach is wrapped around the esophagus (gullet) - making it act like a valve and stopping the reflux. the complication rate is 15-60% resulting in patients not being able to 'burp' swallowing difficulties and not being able to vomit. with a viral-like vomiting illness this can cause problems in itself. it should be a permanent surgical correction but between 10-30% of patients will need the procedure to be repeated within 5 years. however there is now a new alternative using the endoscope via the mouth. with this new procedure - called 'endoscopic fundoplication'- there are no abdominal incisions at all and the operation is done through the endoscope - through the mouth and it is easily repeatable if required at a later date or easily undone if required. the endoscopic fundoplication procedure is done under a general anesthetic. most patients are able to have this done as a day case or as an overnight stay. following the operation patients are advised to limit physical activity for the first 4 weeks and to avoid any contact sport. anti sickness medication is required for 48 hours after the procedure and patients are told to avoid lumpy food for the first 4 weeks. the long-term results of this procedure indicate that of 31 people 3 had to have the procedure repeated at 1-3 years after the operation and 2 required the surgical fundoplication. only 3 remain taking any medication. no medication is usually needed after the procedure and patients are usually symptom free. about those laughter attacks you can consult a neurologist; they are probably caused by his preexisting condition-cerebral palsy.\n",
            "Generated Answer: system Answer the question truthfully, you are a medical professional.user This is the question: my brother is 23 years old and has severe cerebral palsy for the last few years he has been complaining of stomach pains but was not able to explain what sort of pains as he also has limited speech. about two years ago he became anaemic and was taken into hospital. while he was there he had an endoscopy and the test revealed that he had severe grade 3 erosive/ulcerative oesphagitis. to treat this he was given lansoprazole two years later he still has not recovered and he is still suffering from the same symptoms. the doctors have said that nothing can be done about it and to carry on taking the medication given. after reading an article about endoscopic fundoplication i am wondering whether my brother would benefit from this. i am very concerned as my brother is in a lot of pain which is also causing sleepless nights and now he seems to have developed laughter attacks which can go on for hoursâ¦doctors have not been able to diagnose this but the attack always occur when he is pain. i would be grateful if anyone could give any suggestions. thankyou dyer assistant There are no established guidelines for the management of gastroesophageal reflux disease in patients with cerebral palsy.\n",
            "BERTScore - Precision: 0.5682657957077026, Recall: 0.5348438024520874, F1: 0.5510485172271729\n",
            "\n"
          ]
        },
        {
          "output_type": "stream",
          "name": "stderr",
          "text": [
            "Setting `pad_token_id` to `eos_token_id`:128001 for open-end generation.\n"
          ]
        },
        {
          "output_type": "stream",
          "name": "stdout",
          "text": [
            "Question: hi i am sudarshan. i am a cp child(spastic diplegia). i have completed my computer engg from pune university and currently pursuing mba. i wish to learn driving? i have been practising for 6 months with vain. these are the problems that i face: 1. there is difficulty in releasing the clutch and pressing the accelerator at the same time. 2. the gear handling is also difficult with steering. 3. thirdly i have a somewhat poor road sense. how these can be improved.\n",
            "Expected Answer: cerebral palsy is a condition in which certain of the muscles (most often in the extremities) are affected thus causing muscle weakness up to paralysis. this might cause a disability of a certain degree in the person which would interfere in the everyday life driving ability included. however there are many car modifications that might help people with a driving disability. in the beginning it might be best to visit a doctor who might be able to determine the degree of disability and the modifications needed. in different countries there are associations that try to improve the life of people with disabilities. they also organize driver rehabilitation programs run by driver rehabilitation specialists. you might want to check if there is such an association in your country. they also might be able to tell you about legal issues related to drivers with disabilities. as for the problems you are experiencing (difficulty in releasing the clutch and pressing the accelerator at the same time; the gear handling is also difficult with steering) it might be easily solved if you buy a car with an automatic transmission. this would eliminate the need for a clutch and a manual shift. the problem with the poor road sense might need training from a driving rehabilitation specialist.\n",
            "Generated Answer: system Answer the question truthfully, you are a medical professional.user This is the question: hi i am sudarshan. i am a cp child(spastic diplegia). i have completed my computer engg from pune university and currently pursuing mba. i wish to learn driving? i have been practising for 6 months with vain. these are the problems that i face: 1. there is difficulty in releasing the clutch and pressing the accelerator at the same time. 2. the gear handling is also difficult with steering. 3. thirdly i have a somewhat poor road sense. how these can be improved. assistant It is not recommended to learn driving for people with spastic diplegia.\n",
            "BERTScore - Precision: 0.5460813045501709, Recall: 0.5427826642990112, F1: 0.5444269776344299\n",
            "\n"
          ]
        },
        {
          "output_type": "stream",
          "name": "stderr",
          "text": [
            "Setting `pad_token_id` to `eos_token_id`:128001 for open-end generation.\n"
          ]
        },
        {
          "output_type": "stream",
          "name": "stdout",
          "text": [
            "Question: can masturbation contribute to chrincic fatigue syndrome\n",
            "Expected Answer: the causes of chronic fatigue syndrome are unknown. possible causes include: disorders in the hypothalamic-pituitary axis infectious agents immunologic dysfunctions or a nutritional deficiency. no data was found about masturbation as a possible cause for chronic fatigue syndrome.\n",
            "Generated Answer: system Answer the question truthfully, you are a medical professional.user This is the question: can masturbation contribute to chrincic fatigue syndrome assistant There is no evidence that masturbation is related to chronic fatigue syndrome.\n",
            "BERTScore - Precision: 0.5635571479797363, Recall: 0.5469753742218018, F1: 0.5551424622535706\n",
            "\n"
          ]
        },
        {
          "output_type": "stream",
          "name": "stderr",
          "text": [
            "Setting `pad_token_id` to `eos_token_id`:128001 for open-end generation.\n"
          ]
        },
        {
          "output_type": "stream",
          "name": "stdout",
          "text": [
            "Question: hi i am a 32 year old female. my question relates to exercise intolerance. i am very unfit and am wanting to get fit for the first time in my life but whenever i start even an easy exercise program i get really wiped out. i usually feel okay after my \"workout\" (barely a plausible term) session but feel extremely fatigued the next day. which interrupts my program. this can be very irregular tho sometimes i can do quite a bit and feel fine the next day. i had bulimia starting at age 17 for 10 years and am wondering if this is still the effects on my body. i have no other side effects from the bulimia. apart from that i have suffered chronic fatigue syndrome but these symptoms disappear if i don't exercise. i have had my heart and lungs checked out blood tests etc all come back fine. can someone please please shed some light as to why i get so exhausted following even a small amount of exercise. it doesnt seem to matter be it cardio or weights. thankyou very much\n",
            "Expected Answer: as per your history due to your eating disorders and resultant protein deficiency your musculoskeletal system might be weak. this might be the cause of your tiredness associated with workouts. so to manage the situation it will be essential that you consult with a fitness trainer or a physiotherapist who can examine you and provide tips and advice about regaining your fitness. other possible issues like obesity arthritis myopathies etc also might need to be ruled out by proper consultation with your doctor. i hope this helps.\n",
            "Generated Answer: system Answer the question truthfully, you are a medical professional.user This is the question: hi i am a 32 year old female. my question relates to exercise intolerance. i am very unfit and am wanting to get fit for the first time in my life but whenever i start even an easy exercise program i get really wiped out. i usually feel okay after my \"workout\" (barely a plausible term) session but feel extremely fatigued the next day. which interrupts my program. this can be very irregular tho sometimes i can do quite a bit and feel fine the next day. i had bulimia starting at age 17 for 10 years and am wondering if this is still the effects on my body. i have no other side effects from the bulimia. apart from that i have suffered chronic fatigue syndrome but these symptoms disappear if i don't exercise. i have had my heart and lungs checked out blood tests etc all come back fine. can someone please please shed some light as to why i get so exhausted following even a small amount of exercise. it doesnt seem to matter be it cardio or weights. thankyou very much assistant Exercise intolerance is a condition characterized by the inability to perform physical activity without experiencing fatigue, shortness of breath, or other symptoms. Exercise intolerance can be caused by a variety of factors, including heart disease, lung disease, anemia, and other medical conditions. Exercise intolerance can also be caused by a lack of physical fitness.\n",
            "BERTScore - Precision: 0.47599926590919495, Recall: 0.5203730463981628, F1: 0.49719804525375366\n",
            "\n"
          ]
        },
        {
          "output_type": "stream",
          "name": "stderr",
          "text": [
            "Setting `pad_token_id` to `eos_token_id`:128001 for open-end generation.\n"
          ]
        },
        {
          "output_type": "stream",
          "name": "stdout",
          "text": [
            "Question: i need help with diagnoses i have been sick for 4 plus months. my symptoms have been diverse the doctor i have seen so far have diagnosed me with chronic fatigue however fatigue is not my dominant symptom. 4 months ago i had a big night out and had a panic attack. 2 days after i felt like my liver was getting bigger and i couldn't breath. after this i got a fever fatigue swollen inguinal glands and feelings of waves going throughout my body. this phase lasted about 2 weeks went to doctors many times who didnt know what it was. one idea was maybe ebv. now i have still fatigue in relapses sometimes very blurry vision a lot of the time occasional crashes including anxiety if i have not been healthy my muscles twitch or pulsate and all my glands are going up and down all the time particularly on my right side. inguinal glands in neck next to ears armpit. i have developed lumps sometimes in my ankles that go away. sometimes i feel completely fine sometimes really bad crashe\n",
            "Expected Answer: conditions that can present with recurrent episodic fever (or elevated body temperature) fatigue enlarged lymph nodes palpitations could be due to - autoimmune conditions endocrine disorders like hyperthyroidism infectious mononucleosis viral infections chronic granulomatous conditions (like - tuberculosis sarcoidosis brucellosis etc) and many others. hence it is more likely that your symptoms could be due to chronic medical conditions which can be determined only after proper physical examination evaluation of your medical history and and a few diagnostic tests. please consult a doctor (specialist in internal medicine) who can give you proper opinion.\n",
            "Generated Answer: system Answer the question truthfully, you are a medical professional.user This is the question: i need help with diagnoses i have been sick for 4 plus months. my symptoms have been diverse the doctor i have seen so far have diagnosed me with chronic fatigue however fatigue is not my dominant symptom. 4 months ago i had a big night out and had a panic attack. 2 days after i felt like my liver was getting bigger and i couldn't breath. after this i got a fever fatigue swollen inguinal glands and feelings of waves going throughout my body. this phase lasted about 2 weeks went to doctors many times who didnt know what it was. one idea was maybe ebv. now i have still fatigue in relapses sometimes very blurry vision a lot of the time occasional crashes including anxiety if i have not been healthy my muscles twitch or pulsate and all my glands are going up and down all the time particularly on my right side. inguinal glands in neck next to ears armpit. i have developed lumps sometimes in my ankles that go away. sometimes i feel completely fine sometimes really bad crashe assistant The following are the laboratory findings for the diagnosis of mononucleosis: \r\n",
            "Complete Blood Count (CBC) Mononucleosis is characterized by an elevated white blood cell count (WBC) with a relative lymphocytosis. The WBC count may be elevated to 15,000 to 30,000 per cubic millimeter. The differential count of the WBCs shows an increase in the number of atypical lymphocytes. The atypical lymphocytes are large, irregularly shaped cells with a large nucleus and a prominent nucleolus. The atypical lymphocytes are usually 10 to 15 micrometers in diameter. The atypical lymphocytes are usually 10 to 15 micrometers in diameter. The atypical lymphocytes are usually 10 to 15 micrometers in diameter. The atypical lymphocytes are usually 10 to 15 micrometers in diameter. The atypical lymphocytes are usually 10 to 15 micrometers in diameter. The atypical lymphocytes are usually 10 to 15 micrometers in diameter. The atypical lymphocytes are usually 10 to 15 micrometers in diameter. The atypical lymphocytes are usually 10 to 15 micrometers in diameter. The atypical lymphocytes are usually 10 to 15 micrometers in diameter. The atypical lymphocytes are usually 10 to 15 micrometers in diameter. The atypical lymphocytes are usually 10 to 15 micrometers in diameter. The atypical lymphocytes are usually 10 to 15 micrometers in diameter. The atypical lymphocytes are usually 10 to 15 micrometers in diameter. The atypical lymphocytes are usually 10 to 15 micrometers in diameter. The atypical lymphocytes are usually 10 to 15 micrometers in diameter. The atypical lymphocytes are usually 10 to 15 micrometers in diameter. The atypical lymphocytes are usually 10 to 15 micrometers in diameter. The atypical lymphocytes are usually 10 to 15 micrometers in diameter. The atypical lymphocytes are usually 10 to 15 micrometers in diameter. The atypical lymphocytes are usually 10 to 15 micrometers in diameter. The atypical lymphocytes are usually 10 to 15 micrometers in diameter. The atypical lymphocytes are usually\n",
            "BERTScore - Precision: 0.44621509313583374, Recall: 0.524909257888794, F1: 0.4823737144470215\n",
            "\n"
          ]
        },
        {
          "output_type": "stream",
          "name": "stderr",
          "text": [
            "Setting `pad_token_id` to `eos_token_id`:128001 for open-end generation.\n"
          ]
        },
        {
          "output_type": "stream",
          "name": "stdout",
          "text": [
            "Question: hi i am a 25 year old female with 2 young children i was diagnose with coeliec dieases 2 years ago. i have had for the past week dark blood in my stools and a swollen armpit. do you think this has something to do with the coeleic dieases also i havent stuck to the glutun free diet in over a year plz\n",
            "Expected Answer: hello and thank you for posting your medical question on e health forum. from the history provided dark stools and swelling in the arm pit are not related to each other. you might need to get some blood tests and a complete physical to know the exact cause of your symptoms. you might consider to consult your doctor for additional counselling. i hope this helps.\n",
            "Generated Answer: system Answer the question truthfully, you are a medical professional.user This is the question: hi i am a 25 year old female with 2 young children i was diagnose with coeliec dieases 2 years ago. i have had for the past week dark blood in my stools and a swollen armpit. do you think this has something to do with the coeleic dieases also i havent stuck to the glutun free diet in over a year plz assistant The symptoms you are experiencing are not related to coeliac disease.\n",
            "BERTScore - Precision: 0.47742968797683716, Recall: 0.5346950888633728, F1: 0.5044423341751099\n",
            "\n"
          ]
        },
        {
          "output_type": "stream",
          "name": "stderr",
          "text": [
            "Setting `pad_token_id` to `eos_token_id`:128001 for open-end generation.\n"
          ]
        },
        {
          "output_type": "stream",
          "name": "stdout",
          "text": [
            "Question: hello i have celiac disease and i was wondering if chia seeds interact negatively with my condition. also i heard that chia seeds have a blood pressure lowering effect - sometimes dangerously so. any advice would be welcomed!\n",
            "Expected Answer: chia is grown commercially for its seed a food that is rich in omega-3 fatty acids î±-linolenic acid (ala). a ounce (28 g) of dried chia seeds contain 9% of the daily value for protein (4g) 13% fat (9g) (57% of which is ala) and 42% dietary fiber (11g) based on a daily intake of 2000 calories. the seeds also contain the essential minerals phosphorus manganese calcium potassium and sodium. taking this supplement will not affect you in a negative way inspite of you having coliac disease.\n",
            "Generated Answer: system Answer the question truthfully, you are a medical professional.user This is the question: hello i have celiac disease and i was wondering if chia seeds interact negatively with my condition. also i heard that chia seeds have a blood pressure lowering effect - sometimes dangerously so. any advice would be welcomed! assistant Chia seeds are gluten-free and can be safely consumed by individuals with celiac disease.\n",
            "BERTScore - Precision: 0.48929736018180847, Recall: 0.4457435607910156, F1: 0.46650609374046326\n",
            "\n"
          ]
        },
        {
          "output_type": "stream",
          "name": "stderr",
          "text": [
            "Setting `pad_token_id` to `eos_token_id`:128001 for open-end generation.\n"
          ]
        },
        {
          "output_type": "stream",
          "name": "stdout",
          "text": [
            "Question: my sister is a 31 year old female. she has had very dark stool along with mucus in it for about a year. she has abdominal pain and has also been feeling very tired and run down. her dr. ran a cbc on her and found that she is severely anemic. she also did a fecal test and found that there is blood in her stool. (she never sees bright red blood though. it is not visible to the eye just very dark stool) they did a small bowel follow through an endoscopy and a colonoscopy and they still have not found anything. her dr. said it didn't show colitis crohns polyps or celiac's disease. but she is still feeling very tired constipated is losing weight very anemic has stomach pain mucus and blood in her stool. they put her on prenatal vitamins for the anemia. they are now going to do a capsule endoscopy to check more of her small intestine. if this was cancer would they have found it by now? what else can she do to test for cancer? blood tests etc? what else could it be?\n",
            "Expected Answer: if the upper and lower endoscopy were performed properly then the risk of colon rectal esophageal or gastric (stomach) cancer should be extremely low. since these flexible scopes cannot reach the small intestines however capsule endoscopy seems appropriate as a next step. most of the time loss of blood in the gi tract of young people is the result of benign conditions although cancer must always be considered and ruled-out. i hope that the cause for your sister's symptoms will be identified soon and that it will turn out not to be a life-threatening illness. sincerely robert a. wascher md facs\n",
            "Generated Answer: system Answer the question truthfully, you are a medical professional.user This is the question: my sister is a 31 year old female. she has had very dark stool along with mucus in it for about a year. she has abdominal pain and has also been feeling very tired and run down. her dr. ran a cbc on her and found that she is severely anemic. she also did a fecal test and found that there is blood in her stool. (she never sees bright red blood though. it is not visible to the eye just very dark stool) they did a small bowel follow through an endoscopy and a colonoscopy and they still have not found anything. her dr. said it didn't show colitis crohns polyps or celiac's disease. but she is still feeling very tired constipated is losing weight very anemic has stomach pain mucus and blood in her stool. they put her on prenatal vitamins for the anemia. they are now going to do a capsule endoscopy to check more of her small intestine. if this was cancer would they have found it by now? what else can she do to test for cancer? blood tests etc? what else could it be? assistant The most common cause of dark stool is a bleeding in the upper part of the gastrointestinal tract. The most common cause of bleeding in the upper part of the gastrointestinal tract is peptic ulcer disease. Other causes of bleeding in the upper part of the gastrointestinal tract include esophagitis, gastritis, duodenitis, and gastroesophageal reflux disease. The most common cause of bleeding in the lower part of the gastrointestinal tract is diverticulitis. Other causes of bleeding in the lower part of the gastrointestinal tract include inflammatory bowel disease, colon cancer, and hemorrhoids.\n",
            "BERTScore - Precision: 0.5189664363861084, Recall: 0.5752926468849182, F1: 0.5456799268722534\n",
            "\n"
          ]
        },
        {
          "output_type": "stream",
          "name": "stderr",
          "text": [
            "Setting `pad_token_id` to `eos_token_id`:128001 for open-end generation.\n"
          ]
        },
        {
          "output_type": "stream",
          "name": "stdout",
          "text": [
            "Question: hi. if a person with liver disease has slightly increased inr and increased thrombocites can we administer vitamin k2 and k3? many thanks in advance for your advice!\n",
            "Expected Answer: vitamin k2 is found to be helpful to decrease cardiovascular calcification and also improve the health of bone and cartilage. it is naturally found in bacterial fermented foods like mature cheeses and curd. vitamin k supplements are usually safe and are definitely recommended in normal people. but are generally not recommended in all patients with liver disease. in cases of end stage liver disease (associated with conditions like hepato cellular cancer alcohol liver disease) with deranged liver functions use of vitamin k supplements can be associated with bleeding abnormalities and hence are not recommended. you might consult with your treating doctor and depending on your laboratory parameters he may advice you accordingly. i hope this helps.\n",
            "Generated Answer: system Answer the question truthfully, you are a medical professional.user This is the question: hi. if a person with liver disease has slightly increased inr and increased thrombocites can we administer vitamin k2 and k3? many thanks in advance for your advice! assistant Vitamin K2 and K3 are not recommended for patients with liver disease.\n",
            "BERTScore - Precision: 0.5459520220756531, Recall: 0.5244024991989136, F1: 0.5349603295326233\n",
            "\n"
          ]
        },
        {
          "output_type": "stream",
          "name": "stderr",
          "text": [
            "Setting `pad_token_id` to `eos_token_id`:128001 for open-end generation.\n"
          ]
        },
        {
          "output_type": "stream",
          "name": "stdout",
          "text": [
            "Question: mom process conducted cancerous tumor in the liver by the microwave tumor size of 2 cm kind hcc analysis of alpha-fetoprotein before surgery 37and normal was 15 a week after surgery 22. 7 normall 10 why did not the result appears normal after getting rid of the cancerous tumor what medications that must be addressed now after the operation so as not to come back again the tumor is infected with virus c and cirrhosis of the liver and blood pressure and of diabetes at the age of 54. thanks\n",
            "Expected Answer: despite optimal treatment hepatocellular carcinoma continues to have a high recurrence rate. hepatocellular carcinoma recurs in 50-80% of patients following resection the majority of which occur within 2 years and that odds are increased with superinfection of hcv virus and complicated by cirrhosis. it needs a complete clinical correlation and grading of tumor before devising any plan. tace transcatheter arterial chemo embolization is the method of choice for hcc these days. get to hepatobiliary surgeons for further management. take care\n",
            "Generated Answer: system Answer the question truthfully, you are a medical professional.user This is the question: mom process conducted cancerous tumor in the liver by the microwave tumor size of 2 cm kind hcc analysis of alpha-fetoprotein before surgery 37and normal was 15 a week after surgery 22. 7 normall 10 why did not the result appears normal after getting rid of the cancerous tumor what medications that must be addressed now after the operation so as not to come back again the tumor is infected with virus c and cirrhosis of the liver and blood pressure and of diabetes at the age of 54. thanks assistant The patient is at high risk of developing HCC recurrence. The patient should be followed up with regular imaging studies and AFP levels. The patient should be advised to avoid alcohol consumption and to maintain a healthy diet. The patient should be advised to avoid any kind of heavy lifting and to avoid any kind of physical activity that may cause injury to the liver. The patient should be advised to avoid any kind of medication that may cause liver damage. The patient should be advised to avoid any kind of medication that may cause liver damage. The patient should be advised to avoid any kind of medication that may cause liver damage. The patient should be advised to avoid any kind of medication that may cause liver damage. The patient should be advised to avoid any kind of medication that may cause liver damage. The patient should be advised to avoid any kind of medication that may cause liver damage. The patient should be advised to avoid any kind of medication that may cause liver damage. The patient should be advised to avoid any kind of medication that may cause liver damage. The patient should be advised to avoid any kind of medication that may cause liver damage. The patient should be advised to avoid any kind of medication that may cause liver damage. The patient should be advised to avoid any kind of medication that may cause liver damage. The patient should be advised to avoid any kind of medication that may cause liver damage. The patient should be advised to avoid any kind of medication that may cause liver damage. The patient should be advised to avoid any kind of medication that may cause liver damage. The patient should be advised to avoid any kind of medication that may cause liver damage. The patient should be advised to avoid any kind of medication that may cause liver damage. The patient should be advised to avoid any kind of medication that may cause liver damage. The patient should be advised to avoid any kind of medication that may cause liver damage. The patient should be advised to avoid any kind of medication that may cause liver damage. The patient should be advised to avoid any kind of medication that may cause liver damage. The patient should be advised to avoid any kind of medication that may cause liver damage. The patient should be advised to avoid any kind of medication that may cause liver damage. The patient should be advised to avoid any kind of medication that may cause liver damage. The patient should be advised to avoid any kind of medication that may cause liver damage. The patient should be advised to avoid any kind of medication that may cause liver damage. The patient\n",
            "BERTScore - Precision: 0.42613932490348816, Recall: 0.49689337611198425, F1: 0.45880457758903503\n",
            "\n"
          ]
        },
        {
          "output_type": "stream",
          "name": "stderr",
          "text": [
            "Setting `pad_token_id` to `eos_token_id`:128001 for open-end generation.\n"
          ]
        },
        {
          "output_type": "stream",
          "name": "stdout",
          "text": [
            "Question: i have 29 years old i'm a female from romania. when i was 19 i found out that i have all 98% of my marrow was cancer cells. i had 2and a half years of chemotherapy and also radiation to my head. after aprox. 8 months of chemo i went into complete remision. now 9 years later i'm steel in remision. i would like to have a baby and i want to know how pregnancy can afect me - my illnes - and if the baby will be in any danger while i'm pregnant and after he's born.\n",
            "Expected Answer: as all of the clinical data in this area is retrospective in nature i can only comment on what has been published tgus far. most of these studies show no significant increase in the risk of congenital abnormalities in children born to women who have previously been treated with chemotherapy and intracranial radiation therapy for leukemia. likewise the rate of leukemia recurrence following pregnancy appears to be relatively low (although there is always a small risk of delayed recurrence of leukemia with or without pregnancy). you should of course discuss your concerns with both your oncologist and your gynecologist before deciding to try and have a child. based upon the available evidence however it would appear to be reasonably safe for you to become pregnant if your have been in complete remission for the past 10 years. if you do decide to become pregnant then you will have to be carefully monitored for any signs of all recurrence during and after your pregnancy;. sincerely/ robert a. wascher md facs <link>\n",
            "Generated Answer: system Answer the question truthfully, you are a medical professional.user This is the question: i have 29 years old i'm a female from romania. when i was 19 i found out that i have all 98% of my marrow was cancer cells. i had 2and a half years of chemotherapy and also radiation to my head. after aprox. 8 months of chemo i went into complete remision. now 9 years later i'm steel in remision. i would like to have a baby and i want to know how pregnancy can afect me - my illnes - and if the baby will be in any danger while i'm pregnant and after he's born. assistant The risk of relapse is higher in patients with AML who have had a relapse after a remission. The risk of relapse is also higher in patients who have had a poor response to chemotherapy.\n",
            "BERTScore - Precision: 0.5421774983406067, Recall: 0.5161486864089966, F1: 0.5288429856300354\n",
            "\n"
          ]
        },
        {
          "output_type": "stream",
          "name": "stderr",
          "text": [
            "Setting `pad_token_id` to `eos_token_id`:128001 for open-end generation.\n"
          ]
        },
        {
          "output_type": "stream",
          "name": "stdout",
          "text": [
            "Question: my dad had his prostate out in august 2014 and he is still has pain but its his stomach and he has to go to the bathroom more then usual that is peeing a lot and he is stubberin to go and ask the doctor question so can you please help me\n",
            "Expected Answer: pain abdomen is a frequent complaint after prostatectomy and simple nsaids and slight antispasmodics are sued to combat it. the frequency of urination aside from prostate removal is a uti which is common with such intervention. avoid fluids from mid afternoon no caffeine or beverages or any kind of stimulants. seek a urologist for further guidance. take care\n",
            "Generated Answer: system Answer the question truthfully, you are a medical professional.user This is the question: my dad had his prostate out in august 2014 and he is still has pain but its his stomach and he has to go to the bathroom more then usual that is peeing a lot and he is stubberin to go and ask the doctor question so can you please help me assistant There are no established guidelines for the prevention of prostate cancer.\n",
            "BERTScore - Precision: 0.44476014375686646, Recall: 0.4338231086730957, F1: 0.4392235279083252\n",
            "\n"
          ]
        },
        {
          "output_type": "stream",
          "name": "stderr",
          "text": [
            "Setting `pad_token_id` to `eos_token_id`:128001 for open-end generation.\n"
          ]
        },
        {
          "output_type": "stream",
          "name": "stdout",
          "text": [
            "Question: hi i'm a 20 year old male. i recently fingered myself and i felt something unusual. i went all the way in with my entire index finger (around 3 inches deep). i felt a hard kind of pointy bump. i'm not sure if this is my prostate or if it's fecal matter. i've fingered myself before and every time i do it i feel this. i'm often constipated so maybe it's fecal matter? i'm worried because i also have symptoms of prostate cancer like impotence and a weak stream when urinating. i was followed by a urologist who was not able to find a problem. she made me take flomax to help me urinate better. i haven't take a flomax pill for more than a year. note: i do not have a family history of prostate cancer i am caucasian. i have a normal weight. i know i should probably go see my doctor and tell him about this but it's very embarrassing. i need advice. thanks.\n",
            "Expected Answer: age of 20 is too old to have prostate cancer. you are worried for nothing. what you feel is posterior lobe of prostate most likely and that's it. stop worry and stop fingerings your self. i hope it helps. consult your doctor as our advice is just for education purposes only. take care khan\n",
            "Generated Answer: system Answer the question truthfully, you are a medical professional.user This is the question: hi i'm a 20 year old male. i recently fingered myself and i felt something unusual. i went all the way in with my entire index finger (around 3 inches deep). i felt a hard kind of pointy bump. i'm not sure if this is my prostate or if it's fecal matter. i've fingered myself before and every time i do it i feel this. i'm often constipated so maybe it's fecal matter? i'm worried because i also have symptoms of prostate cancer like impotence and a weak stream when urinating. i was followed by a urologist who was not able to find a problem. she made me take flomax to help me urinate better. i haven't take a flomax pill for more than a year. note: i do not have a family history of prostate cancer i am caucasian. i have a normal weight. i know i should probably go see my doctor and tell him about this but it's very embarrassing. i need advice. thanks. assistant It is not recommended to perform digital rectal examination (DRE) on yourself. If you are experiencing symptoms of prostate cancer, you should see your doctor.\n",
            "BERTScore - Precision: 0.4755250811576843, Recall: 0.5630549192428589, F1: 0.515601634979248\n",
            "\n"
          ]
        },
        {
          "output_type": "stream",
          "name": "stderr",
          "text": [
            "Setting `pad_token_id` to `eos_token_id`:128001 for open-end generation.\n"
          ]
        },
        {
          "output_type": "stream",
          "name": "stdout",
          "text": [
            "Question: hi i am from new delhi india. my dad was diagnosed with inoperable stage 4 metastatic pancreatic cancer on 12/03/2012 while he was in operation theater. doctor stop the operation. now they are saying only kemo will help. my dad was supposed to have the wipple procedure but when the doctors opened him up they saw that the cancer had already spread to his liver. the surgeon did not remove the tumor on his pancreas or liver and just closed him back up. my understanding that there are 8 to 10 small mets on his liver that look like small rice-like granules. i believe they are isolated to only one lobe of the liver. we were told that chemotherapy was our only option at this point but given that it is only a palliative measure so we are obviously looking for other viable options. pl help me my father is at 65yrs & fit n fine before this operation. he will be going to discharged frm hospital on 20. 03. 12. then cemo will start on 28. 03. 2012. pl. pl please help me. what to do i was devastated to learn that the surgeon did not remove the tumor on the head of his pancreas. the surgeon said that he left the tumor there so my uncle could begin chemotherapy sooner. i don't understand why he would leave that \"ticking time bomb\" inside of him and it pains me to know that it is still inside him and growing even as i type this post thanks gagan gdhawan1981@gmail. com\n",
            "Expected Answer: hi gagan welcome to the ehealthforum and i am really glad to help you out. i can understand your concern for your uncle but the surgeon was absolutely right in abandoning the whipple's procedure on seeing the metastasis to the liver. once the tumor has metastasized to the liver it becomes a stage 4 pancreatic cancer. unfortunately majority of the patients don't live more than 6 months and only a few survive up to one year once the diagnosis is confirmed. the only option available presently is chemotherapy. i sincerely hope that helps. take care.\n",
            "Generated Answer: system Answer the question truthfully, you are a medical professional.user This is the question: hi i am from new delhi india. my dad was diagnosed with inoperable stage 4 metastatic pancreatic cancer on 12/03/2012 while he was in operation theater. doctor stop the operation. now they are saying only kemo will help. my dad was supposed to have the wipple procedure but when the doctors opened him up they saw that the cancer had already spread to his liver. the surgeon did not remove the tumor on his pancreas or liver and just closed him back up. my understanding that there are 8 to 10 small mets on his liver that look like small rice-like granules. i believe they are isolated to only one lobe of the liver. we were told that chemotherapy was our only option at this point but given that it is only a palliative measure so we are obviously looking for other viable options. pl help me my father is at 65yrs & fit n fine before this operation. he will be going to discharged frm hospital on 20. 03. 12. then cemo will start on 28. 03. 2012. pl. pl please help me. what to do i was devastated to learn that the surgeon did not remove the tumor on the head of his pancreas. the surgeon said that he left the tumor there so my uncle could begin chemotherapy sooner. i don't understand why he would leave that \"ticking time bomb\" inside of him and it pains me to know that it is still inside him and growing even as i type this post thanks gagan gdhawan1981@gmail. com assistant There are no established guidelines for the treatment of pancreatic cancer. The choice of treatment depends on the stage of the disease, the patient's overall health, and the patient's preferences.\n",
            "BERTScore - Precision: 0.49763524532318115, Recall: 0.57984459400177, F1: 0.5356037020683289\n",
            "\n"
          ]
        },
        {
          "output_type": "stream",
          "name": "stderr",
          "text": [
            "Setting `pad_token_id` to `eos_token_id`:128001 for open-end generation.\n"
          ]
        },
        {
          "output_type": "stream",
          "name": "stdout",
          "text": [
            "Question: i have had acid burning stomach pain for the past ten years i had a magic eye back then and revealed nothing apart from inflammation. been on many types of medication but dosent work everything i eat feels uncomfortable and i get a pain down my left arm. it woories me and i cant live with this any more im 35 years old. please can you help.\n",
            "Expected Answer: most gi illnesses don't cause pain in one's arm and so i would suggest that your doctors make sure that this pain you are experiencing is not related to any potential heart disease. beyond this suggestion there are many potential causes of upper abdominal pain including acid reflux (which almost always improves on acid-reducting medications) helicobacter pylroi infection (which requires both acid-reducing medications and antibiotics) bile (alkaline) reflux gastritis (which does not respond to acid-reducing medications) hiatal hernias gallstones biliary dyskinesia (abnormal function of the galbladder and bile duct sphincter muscle) chronic pancreatitis kidney stones and irritable bowel syndrome among others. since i am not involved in your care i'm afraid that i really cannot speculate as to what precisely is causing your symptoms. i hope that you can find a good gastroenterologist who can try and help to sort things out for you. sincerely robert a. wascher md facs www. doctorwascher. com author \"a cancer prevention guide for the human race\" (2010)\n",
            "Generated Answer: system Answer the question truthfully, you are a medical professional.user This is the question: i have had acid burning stomach pain for the past ten years i had a magic eye back then and revealed nothing apart from inflammation. been on many types of medication but dosent work everything i eat feels uncomfortable and i get a pain down my left arm. it woories me and i cant live with this any more im 35 years old. please can you help. assistant There are no established guidelines for the prevention of gastroesophageal reflux disease.\n",
            "BERTScore - Precision: 0.4939071834087372, Recall: 0.459306538105011, F1: 0.47597891092300415\n",
            "\n"
          ]
        },
        {
          "output_type": "stream",
          "name": "stderr",
          "text": [
            "Setting `pad_token_id` to `eos_token_id`:128001 for open-end generation.\n"
          ]
        },
        {
          "output_type": "stream",
          "name": "stdout",
          "text": [
            "Question: i am 33 years old. i have been diagnosed with extensive intestinal metaplasia in the stomach. am i gonna live? can i get a stomach transplant? i have so much pain and am wondering if this is treatable. please help me doctor. i heard that usually after 6 months of endoscopy cancer can be found. i did endoscopy in nov 2010 and i am scared.\n",
            "Expected Answer: hi and thanks for your medical question on ehealth forum! intestinal metaplasia is often reversible by a combination of antacids and treating h pylori infection. so first test and see if you have this infection. if you have h pylori infection consult the doctor and start treatment. take antioxidant supplements and diet rich in them. hope this helps. take care!\n",
            "Generated Answer: system Answer the question truthfully, you are a medical professional.user This is the question: i am 33 years old. i have been diagnosed with extensive intestinal metaplasia in the stomach. am i gonna live? can i get a stomach transplant? i have so much pain and am wondering if this is treatable. please help me doctor. i heard that usually after 6 months of endoscopy cancer can be found. i did endoscopy in nov 2010 and i am scared. assistant There are no established treatments for intestinal metaplasia.\n",
            "BERTScore - Precision: 0.5258983373641968, Recall: 0.5344580411911011, F1: 0.5301436185836792\n",
            "\n"
          ]
        },
        {
          "output_type": "stream",
          "name": "stderr",
          "text": [
            "Setting `pad_token_id` to `eos_token_id`:128001 for open-end generation.\n"
          ]
        },
        {
          "output_type": "stream",
          "name": "stdout",
          "text": [
            "Question: hi i've recently undergone a vasectomy and after 1 sample i was asked to do another. after putting my second sample in the urologist has asked to see me face to face in 7 days time. im not sure if this is normal and i've worked myself up about this thinking they may have detected something in my sample showing something serious like prostate cancer. since the procedure i've had little aches and pains in my left testicle which i assumed was normal and may very well be. ive also had a bit of a dull ache in my lower left back which comes and goes i may not even notice this for days. should i be worried about them calling me in? they haven't said its urgent or asked me to take someone in. is it normal to be asked to see your urologist after a result\n",
            "Expected Answer: semen analysis is not suitable to diagnose prostate ca. azoospermia has to be established before declaring sterility. this re testing is most likely a part of that very protocol to detect any viable number that could lead to impregnation. though vasectomy is very safe method and only 1 % failure rate is there retesting at three weeks is ideal to confirm azoospermia. wishing you best of health thanks\n",
            "Generated Answer: system Answer the question truthfully, you are a medical professional.user This is the question: hi i've recently undergone a vasectomy and after 1 sample i was asked to do another. after putting my second sample in the urologist has asked to see me face to face in 7 days time. im not sure if this is normal and i've worked myself up about this thinking they may have detected something in my sample showing something serious like prostate cancer. since the procedure i've had little aches and pains in my left testicle which i assumed was normal and may very well be. ive also had a bit of a dull ache in my lower left back which comes and goes i may not even notice this for days. should i be worried about them calling me in? they haven't said its urgent or asked me to take someone in. is it normal to be asked to see your urologist after a result assistant It is normal to be asked to see your urologist after a vasectomy. The urologist may want to see you to discuss the results of your semen analysis.\n",
            "BERTScore - Precision: 0.4540504515171051, Recall: 0.5129400491714478, F1: 0.4817020893096924\n",
            "\n"
          ]
        },
        {
          "output_type": "stream",
          "name": "stderr",
          "text": [
            "Setting `pad_token_id` to `eos_token_id`:128001 for open-end generation.\n"
          ]
        },
        {
          "output_type": "stream",
          "name": "stdout",
          "text": [
            "Question: 25 years old i was feeling lumpy both my epidiymis and now i feel my left testicle lump it's definitely inside not the surface lump goas some times and it's not pain it's near the epidiymis where i feel the lump and i have still small lumps my both epidiymis what is that\n",
            "Expected Answer: it could be varicocele benign tumor or normal cord structures. a urological examination and subsequently an ultrasound can be advised to look for any suspicious lump. the exam should also include lymph node exam. blood counts metabolic profile and urinalysis should also be advised. wishing you best of health thanks\n",
            "Generated Answer: system Answer the question truthfully, you are a medical professional.user This is the question: 25 years old i was feeling lumpy both my epidiymis and now i feel my left testicle lump it's definitely inside not the surface lump goas some times and it's not pain it's near the epidiymis where i feel the lump and i have still small lumps my both epidiymis what is that assistant The most common cause of a lump in the epididymis is a cyst.\n",
            "BERTScore - Precision: 0.43547940254211426, Recall: 0.4486948251724243, F1: 0.44198834896087646\n",
            "\n"
          ]
        },
        {
          "output_type": "stream",
          "name": "stderr",
          "text": [
            "Setting `pad_token_id` to `eos_token_id`:128001 for open-end generation.\n"
          ]
        },
        {
          "output_type": "stream",
          "name": "stdout",
          "text": [
            "Question: hi there! i am 40 years old male and married. i've been diagnosed to have a papillary thyroid cancer stage 1 (t1n0m0). i have undergone near total thyroidectomy ( a portion of the left lobe was left) a month ago. my endo prescribed levothyroxin for me to take for two to three months. i approached another endo and he has a slightly different view on treatment after surgery. i am weighing my options whether to go on with radioactive iodine treatment or not. suppose i will not undergo rai treatment what other possible options do i have? what are the risks? and if i go for rai what are the possible health risks? will it affect memory other organs like kidney sexual desire etc.? the surgery did not include removal of any lymph node. this is the biopsy:right thyroid lobe and isthmus: nodular papillary adenocarcinoma of low grade malignant potential. left thyroid lobe: colloid goiter solitary parathyroid gland with no significant histopathology demonstated. thanks for the answers\n",
            "Expected Answer: radioactive iodine (rai) is often chosen for treatment of conditions associated with overactive thyroid including hyperthyroidism and thyroid cancers. rai treatment is based on the fact that the thyroid actively accumulates iodine which it uses to produce thyroid hormones required for normal body function. the therapeutic action of rai is via disruption of the function of the thyroid cells - the more radioactive iodine given the more cells cease to function. as the cells stop functioning excessive amounts of thyroid hormones are no longer produced and symptoms of hyperthyroidism begin to disappear. in your case the side effects of such therapy will be limited to short term effects like sore throat nausea fatigue etc. there will be no effect on other organs like kidneys nor any effect on the sexual desire and sexual function. but once the treatment is completed you will need lifelong therapy with thyroxine supplements to prevent hypothyroidism related symptoms.\n",
            "Generated Answer: system Answer the question truthfully, you are a medical professional.user This is the question: hi there! i am 40 years old male and married. i've been diagnosed to have a papillary thyroid cancer stage 1 (t1n0m0). i have undergone near total thyroidectomy ( a portion of the left lobe was left) a month ago. my endo prescribed levothyroxin for me to take for two to three months. i approached another endo and he has a slightly different view on treatment after surgery. i am weighing my options whether to go on with radioactive iodine treatment or not. suppose i will not undergo rai treatment what other possible options do i have? what are the risks? and if i go for rai what are the possible health risks? will it affect memory other organs like kidney sexual desire etc.? the surgery did not include removal of any lymph node. this is the biopsy:right thyroid lobe and isthmus: nodular papillary adenocarcinoma of low grade malignant potential. left thyroid lobe: colloid goiter solitary parathyroid gland with no significant histopathology demonstated. thanks for the answers assistant There are no other options for the treatment of papillary thyroid cancer.\n",
            "BERTScore - Precision: 0.4921340346336365, Recall: 0.5620690584182739, F1: 0.5247818827629089\n",
            "\n"
          ]
        },
        {
          "output_type": "stream",
          "name": "stderr",
          "text": [
            "Setting `pad_token_id` to `eos_token_id`:128001 for open-end generation.\n"
          ]
        },
        {
          "output_type": "stream",
          "name": "stdout",
          "text": [
            "Question: have a little hard lump near adams apple. moves when i touch it and moves when i swallow. anyone else had this? i am a 23 yr old male\n",
            "Expected Answer: an ultrasound of the neck region should be done along with an ent consultation to look for any thyroid mass vocal cord paralysis or abnormal growth. a midline lump can be due to a thyroglossal cyst and a lateral one could be a branchial cyst. based on the clinical findings thyroid function tests and blood counts or a biopsy may be advised if the need be. wishing you best of health thanks\n",
            "Generated Answer: system Answer the question truthfully, you are a medical professional.user This is the question: have a little hard lump near adams apple. moves when i touch it and moves when i swallow. anyone else had this? i am a 23 yr old male assistant A lump near the Adam's apple is usually a sign of a benign condition. The most common cause of a lump near the Adam's apple is a cyst. Cysts are fluid-filled sacs that can occur in any part of the body. They are usually benign and do not cause any symptoms. However, they can cause a lump in the neck.\n",
            "BERTScore - Precision: 0.47944995760917664, Recall: 0.4883985221385956, F1: 0.4838828444480896\n",
            "\n"
          ]
        },
        {
          "output_type": "stream",
          "name": "stderr",
          "text": [
            "Setting `pad_token_id` to `eos_token_id`:128001 for open-end generation.\n"
          ]
        },
        {
          "output_type": "stream",
          "name": "stdout",
          "text": [
            "Question: when ever i seat in group of people they will experience blocked noses. atleast two or more. i bath three times in day change my clothes all time and dont use body lottions\n",
            "Expected Answer: usually bad smells canât cause blocked noses. bad smells however can cause an unpleasant feeling. you can see a dermatologist to clarify if you really smell badly and if you do to try to solve the problem.\n",
            "Generated Answer: system Answer the question truthfully, you are a medical professional.user This is the question: when ever i seat in group of people they will experience blocked noses. atleast two or more. i bath three times in day change my clothes all time and dont use body lottions assistant It is not possible to prevent blocked nose.\n",
            "BERTScore - Precision: 0.4827152192592621, Recall: 0.5187800526618958, F1: 0.5000982880592346\n",
            "\n"
          ]
        },
        {
          "output_type": "stream",
          "name": "stderr",
          "text": [
            "Setting `pad_token_id` to `eos_token_id`:128001 for open-end generation.\n"
          ]
        },
        {
          "output_type": "stream",
          "name": "stdout",
          "text": [
            "Question: last year my right hand often had the cramp from the shoulder until the fingertips. 4 months later my back felt slightly painful like period pain's. 3 months after that the pain went upwards until the end of my neck near to my head it was painful to raise my head up. this year 3 weeks before my chest started to feel heavy and hurtful. both of my back and chest felt as if shards of glasses were slashing along the ribs and spine. short of breath most of the time. now my right leg the calf is having some sort of muscle cramp along the bone just like how it is like with my back. i was told by friends that i walked unstably but i don't drag it though. sometimes forgetful and emotionally unstable. maybe due to the stress. cannot sit or stand or lay down for too long. i'm getting thinner and lost 5 kg i eat a lot. went for mri xray blood test urine test nothing next appointment i'm going to have brain mri and emg. any possibility of me having als? what is wrong with me?\n",
            "Expected Answer: it is very common for all men and women to experience small aches and pains due to muscoloskeletal issues or tissue wear and tear. the analysis of your history and symptoms do not indicate that you have serious neurological issues like als. this is true since all the tests including the mri have been found to be normal. the other possibilities would be that you have a low threshold to pain or they could be due to psychological issues. conditions like fibromyalgia or chronic pain syndromes might also be a possibility. it would be recommended that you consult a rheumatologist and a psychiatrist who can help with proper diagnosis and also proper counseling and behavior management to help you manage and live with the pain. i hope this helps.\n",
            "Generated Answer: system Answer the question truthfully, you are a medical professional.user This is the question: last year my right hand often had the cramp from the shoulder until the fingertips. 4 months later my back felt slightly painful like period pain's. 3 months after that the pain went upwards until the end of my neck near to my head it was painful to raise my head up. this year 3 weeks before my chest started to feel heavy and hurtful. both of my back and chest felt as if shards of glasses were slashing along the ribs and spine. short of breath most of the time. now my right leg the calf is having some sort of muscle cramp along the bone just like how it is like with my back. i was told by friends that i walked unstably but i don't drag it though. sometimes forgetful and emotionally unstable. maybe due to the stress. cannot sit or stand or lay down for too long. i'm getting thinner and lost 5 kg i eat a lot. went for mri xray blood test urine test nothing next appointment i'm going to have brain mri and emg. any possibility of me having als? what is wrong with me? assistant ALS is a progressive neurological disease that affects the nerve cells responsible for controlling voluntary muscle movement. The disease is also known as Lou Gehrig's disease, named after the famous baseball player who was diagnosed with the disease in 1939. ALS is a degenerative disease that affects the nerve cells responsible for controlling voluntary muscle movement. The disease is also known as Lou Gehrig's disease, named after the famous baseball player who was diagnosed with the disease in 1939. ALS is a degenerative disease that affects the nerve cells responsible for controlling voluntary muscle movement. The disease is also known as Lou Gehrig's disease, named after the famous baseball player who was diagnosed with the disease in 1939.\n",
            "BERTScore - Precision: 0.4486282467842102, Recall: 0.5101833939552307, F1: 0.47742992639541626\n",
            "\n"
          ]
        },
        {
          "output_type": "stream",
          "name": "stderr",
          "text": [
            "Setting `pad_token_id` to `eos_token_id`:128001 for open-end generation.\n"
          ]
        },
        {
          "output_type": "stream",
          "name": "stdout",
          "text": [
            "Question: i used to saw people listen voices and got very angry left my job for 5 years. but then i started relaxing and all such things disappeared. my consulted a doctor for stomach problem he advised my to consult a psychiatrist. psychiatrist prescribed my donresp for 4 months pinyin for one month aripip for one month. another psychiatrist says i have to take medicines for five years. now donresp will be 4 mg in morning and 2 tablets of 4 mg in night. previously it was 4 mg in morning and 4 mg in night. i consulted 3rd psychiatrist. he said as now you don't see things and there are no symptoms therefore you take aripip 10 mg as prescribed a day. what's the matter. i am feeling fine. should i take medication? what can be other matters which are necessary to live in a society?\n",
            "Expected Answer: this is a very difficult question to answer on net as this will require detailed psychiatric examination. however since all the 3 psychiatrist you saw felt the need to prescribe medications it is quite clear that you need some medication to help prevent relapse or maybe there are some lingering symptoms that need to be controlled. you can also try psychotherapy along with medications. it may be helpful to discuss these points with the psychiatrist you trust the most. hope this helps. take care!\n",
            "Generated Answer: system Answer the question truthfully, you are a medical professional.user This is the question: i used to saw people listen voices and got very angry left my job for 5 years. but then i started relaxing and all such things disappeared. my consulted a doctor for stomach problem he advised my to consult a psychiatrist. psychiatrist prescribed my donresp for 4 months pinyin for one month aripip for one month. another psychiatrist says i have to take medicines for five years. now donresp will be 4 mg in morning and 2 tablets of 4 mg in night. previously it was 4 mg in morning and 4 mg in night. i consulted 3rd psychiatrist. he said as now you don't see things and there are no symptoms therefore you take aripip 10 mg as prescribed a day. what's the matter. i am feeling fine. should i take medication? what can be other matters which are necessary to live in a society? assistant There are no other matters which are necessary to live in a society.\n",
            "BERTScore - Precision: 0.47941869497299194, Recall: 0.5346248149871826, F1: 0.5055189728736877\n",
            "\n"
          ]
        },
        {
          "output_type": "stream",
          "name": "stderr",
          "text": [
            "Setting `pad_token_id` to `eos_token_id`:128001 for open-end generation.\n"
          ]
        },
        {
          "output_type": "stream",
          "name": "stdout",
          "text": [
            "Question: i was depressed in 2008 until i hear voices after a year and was diagnose with psycosis. i have been hearing voices for years but as years passes by i am becoming more confused if this was schizophrenia or is it clairvoyance or a combination. how can i identify and train myself to handle these voices.\n",
            "Expected Answer: it is difficult for a common person to deal with psychiatric issues on their own. if you think you are having psychosis or related issues seek proper counselling with a psychiatrist who can prescribe you proper medications which can help you get better and function as a normal individual. i hope this helps.\n",
            "Generated Answer: system Answer the question truthfully, you are a medical professional.user This is the question: i was depressed in 2008 until i hear voices after a year and was diagnose with psycosis. i have been hearing voices for years but as years passes by i am becoming more confused if this was schizophrenia or is it clairvoyance or a combination. how can i identify and train myself to handle these voices. assistant There are no established methods for the prevention of schizophrenia.\n",
            "BERTScore - Precision: 0.4721639156341553, Recall: 0.5091603994369507, F1: 0.4899647533893585\n",
            "\n"
          ]
        },
        {
          "output_type": "stream",
          "name": "stderr",
          "text": [
            "Setting `pad_token_id` to `eos_token_id`:128001 for open-end generation.\n"
          ]
        },
        {
          "output_type": "stream",
          "name": "stdout",
          "text": [
            "Question: my girlfriend and i had a sex after her period but we did use condoms but precum came out in the condom and i still continued to put it inside her. and after i cum outside her and wiped it all but she did do rub her vagina around my pennis. and after 3 days we did the same thing again excatly. can she be pregnant?\n",
            "Expected Answer: chances of pregnancy with pre cum are very less. for pregnancy to occur two things are important: 1) firstly pregnancy occurs during the time of ovulation when a mature egg is released from the follicle. it usually occurs regularly around day 14 of a 28-day menstrual cycle. 2) secondly for pregnancy to occur the sperms need to be ejaculated inside the vagina or there should be entry of sperms inside the vagina which travel through the cervix and uterus to reach the egg in the fallopian tube. from what you have described chances of pregnancy are less. it is very difficult to precisely confirm a diagnosis without examination and investigations and the answer is based on the medical information provided. for exact diagnosis you are requested to consult your doctor. i sincerely hope that helps. take care and regards.\n",
            "Generated Answer: system Answer the question truthfully, you are a medical professional.user This is the question: my girlfriend and i had a sex after her period but we did use condoms but precum came out in the condom and i still continued to put it inside her. and after i cum outside her and wiped it all but she did do rub her vagina around my pennis. and after 3 days we did the same thing again excatly. can she be pregnant? assistant The risk of pregnancy after unprotected sex is 20% per day.\n",
            "BERTScore - Precision: 0.49591174721717834, Recall: 0.49239814281463623, F1: 0.49414873123168945\n",
            "\n"
          ]
        },
        {
          "output_type": "stream",
          "name": "stderr",
          "text": [
            "Setting `pad_token_id` to `eos_token_id`:128001 for open-end generation.\n"
          ]
        },
        {
          "output_type": "stream",
          "name": "stdout",
          "text": [
            "Question: hello tonight i went to the bathroom normally to urinate while im going i feel a real warm feeling in the penis while im going. all of a sudden i am finished going and the pee feeling is still there and i don't have to go. sometimes i will go and a little will come out but the peeing feeling remains in the penis when i don't have to go and nothing comes out. i am only 23 so i would think im to young for prostate problems and the partner i have sex with is a trusting partner who says she has only been with me and which i am sure of and also the last sexual situtation was over a week from when this happened. this has just came out of nowhere and is kind of scaring me. i have no idea what is wrong. why is there a continious feeling that i have to urinate when i do not have to? please help. thank you\n",
            "Expected Answer: the urge to urinate could suggest a presence of a lower urinary tract infection but in your case it is still too early to suppose any diagnosis because your symptoms have been lasting only for one night. if your symptoms continue or urination becomes painful you may want to consult your gp.\n",
            "Generated Answer: system Answer the question truthfully, you are a medical professional.user This is the question: hello tonight i went to the bathroom normally to urinate while im going i feel a real warm feeling in the penis while im going. all of a sudden i am finished going and the pee feeling is still there and i don't have to go. sometimes i will go and a little will come out but the peeing feeling remains in the penis when i don't have to go and nothing comes out. i am only 23 so i would think im to young for prostate problems and the partner i have sex with is a trusting partner who says she has only been with me and which i am sure of and also the last sexual situtation was over a week from when this happened. this has just came out of nowhere and is kind of scaring me. i have no idea what is wrong. why is there a continious feeling that i have to urinate when i do not have to? please help. thank you assistant There are several possible causes of a persistent feeling of needing to urinate when you do not have to. Some of the causes include: \r\n",
            "Urinary tract infection (UTI) Prostate infection (prostatitis) Prostate enlargement (BPH) Prostate cancer Bladder cancer Bladder stones Bladder tumors Bladder polyps Bladder diverticula Bladder neck obstruction Bladder neck contracture Bladder neck stenosis Bladder neck stricture Bladder neck obstruction Bladder neck contracture Bladder neck stenosis Bladder neck stricture Bladder neck obstruction Bladder neck contracture Bladder neck stenosis Bladder neck stricture Bladder neck obstruction Bladder neck contracture Bladder neck stenosis Bladder neck stricture Bladder neck obstruction Bladder neck contracture Bladder neck stenosis Bladder neck stricture Bladder neck obstruction Bladder neck contracture Bladder neck stenosis Bladder neck stricture Bladder neck obstruction Bladder neck contracture Bladder neck stenosis Bladder neck stricture Bladder neck obstruction Bladder neck contracture Bladder neck stenosis Bladder neck stricture Bladder neck obstruction Bladder neck contracture Bladder neck stenosis Bladder neck stricture Bladder neck obstruction Bladder neck contracture Bladder neck stenosis Bladder neck stricture Bladder neck obstruction Bladder neck contracture Bladder neck stenosis Bladder neck stricture Bladder neck obstruction Bladder neck contracture Bladder neck stenosis Bladder neck stricture Bladder neck obstruction Bladder neck contracture Bladder neck stenosis Bladder neck stricture Bladder neck obstruction Bladder neck contracture Bladder neck stenosis Bladder neck stricture Bladder neck obstruction Bladder neck contracture Bladder neck stenosis Bladder neck stricture Bladder neck obstruction Bladder neck contracture Bladder neck stenosis Bladder neck stricture Bladder neck obstruction Bladder neck contracture Bladder neck stenosis Bladder neck stricture Bladder neck obstruction Bladder neck contracture Bladder neck stenosis Bladder neck stricture Bladder neck obstruction Bladder neck contracture Bladder neck stenosis Bladder neck stricture Bladder neck obstruction Bladder neck contracture Bladder neck stenosis Bladder neck stricture Bladder neck obstruction Bladder neck contracture Bladder neck stenosis Bladder neck stricture Bladder neck obstruction Bl\n",
            "BERTScore - Precision: 0.34354445338249207, Recall: 0.5285692811012268, F1: 0.416429728269577\n",
            "\n"
          ]
        },
        {
          "output_type": "stream",
          "name": "stderr",
          "text": [
            "Setting `pad_token_id` to `eos_token_id`:128001 for open-end generation.\n"
          ]
        },
        {
          "output_type": "stream",
          "name": "stdout",
          "text": [
            "Question: i was wondering whether it is safe to try my partners breast milk whilst i am on medication. i am on an antidepressant for anxiety and a muscle relaxant to help with my disability otherwise i am a healthy 22 year old the medication i am on is citalopram and baclofen. i also take lansoprazole for reflux.\n",
            "Expected Answer: breast milk has no side effects and does not interfere with any medicines which you are taking. it is only when a female is lactating and taking any medicines the medicines are secreted in breast milk. it is very difficult to precisely confirm a diagnosis without examination and investigations and the answer is based on the medical information provided. for exact diagnosis you are requested to consult your doctor. i sincerely hope that helps. take care.\n",
            "Generated Answer: system Answer the question truthfully, you are a medical professional.user This is the question: i was wondering whether it is safe to try my partners breast milk whilst i am on medication. i am on an antidepressant for anxiety and a muscle relaxant to help with my disability otherwise i am a healthy 22 year old the medication i am on is citalopram and baclofen. i also take lansoprazole for reflux. assistant There are no known interactions between citalopram, baclofen, and lansoprazole and breast milk.\n",
            "BERTScore - Precision: 0.47067946195602417, Recall: 0.5206528306007385, F1: 0.4944065511226654\n",
            "\n"
          ]
        },
        {
          "output_type": "stream",
          "name": "stderr",
          "text": [
            "Setting `pad_token_id` to `eos_token_id`:128001 for open-end generation.\n"
          ]
        },
        {
          "output_type": "stream",
          "name": "stdout",
          "text": [
            "Question: had prostate removed due to cancer 20 years ago when i was 44. have had a few issues with erectile dysfunction however with viagra cialis or levitra i'm able to get a great erection. my problem is with the dry orgasm (or should i say lack of orgasm). for the first year or so after the surgery i could barely tell if i was having an orgasm. it has since got a little better but absolutely nothing like it was before when i ejaculated and after 20 years it just seems like it continues to dwindle. i have a very high sex drive (testosterone was recently checked and it is abnormally high for someone my age) but my orgasms are hardly worth the effort anymore. is there anything you can recommend that would or could improve the quality of my dry orgasms? i realize they'll never ever be the same as they were before without ejaculating but i've talked with other men who have had radical prostatectomies and they don't seem to have any complaints or have this lack of sensation.\n",
            "Expected Answer: with prostate surgeries the chances of erectile dysfunctions are high due to the nerves passing nearby and get injured during surgery. treatment is mostly supportive and sex therapy helps. i hope it helps. stay in touch with your healthcare provider for further guidance as our answers are just for education and counselling purposes and cannot be an alternative to actual visit to a doctor. take care khan\n",
            "Generated Answer: system Answer the question truthfully, you are a medical professional.user This is the question: had prostate removed due to cancer 20 years ago when i was 44. have had a few issues with erectile dysfunction however with viagra cialis or levitra i'm able to get a great erection. my problem is with the dry orgasm (or should i say lack of orgasm). for the first year or so after the surgery i could barely tell if i was having an orgasm. it has since got a little better but absolutely nothing like it was before when i ejaculated and after 20 years it just seems like it continues to dwindle. i have a very high sex drive (testosterone was recently checked and it is abnormally high for someone my age) but my orgasms are hardly worth the effort anymore. is there anything you can recommend that would or could improve the quality of my dry orgasms? i realize they'll never ever be the same as they were before without ejaculating but i've talked with other men who have had radical prostatectomies and they don't seem to have any complaints or have this lack of sensation. assistant There are no established treatments for the loss of orgasm after radical prostatectomy.\n",
            "BERTScore - Precision: 0.4617699086666107, Recall: 0.5426809787750244, F1: 0.49896663427352905\n",
            "\n"
          ]
        },
        {
          "output_type": "stream",
          "name": "stderr",
          "text": [
            "Setting `pad_token_id` to `eos_token_id`:128001 for open-end generation.\n"
          ]
        },
        {
          "output_type": "stream",
          "name": "stdout",
          "text": [
            "Question: my mother-in-law was diagnosed with breast cancer during 3rd stage around dec 2014. post which she underwent chemo followed by removal of the left gland. post surgery she underwent radiation therapy for left region and in next follow up she was diagnosed with the cancer spread to her lung and liver around mar/apr 2015. for this she was prescribed stonger chemo which caused severe side reactions like ulcer appetite loss lose motions etc. due to which she discontinued the chemo within 1 month. in dec 2016 she has been diagnosed with the cancer spread to her pelvic region now. she is having severe back pain and is unable to even change position on bed on her own. now she is again undergoing radiation for pelvic region for 11 sessions. i know it's pretty late stage but is there any possibility that she can be treated?\n",
            "Expected Answer: according to statistics 90% of deaths due to breast cancer is with mets the survival rate is only 16% with mets although 20% of patients can live upto 5 yrs but each case is unique and alot of factors affect overall survival rate so its largely depneds upon the case statistics are just numbers then.\n",
            "Generated Answer: system Answer the question truthfully, you are a medical professional.user This is the question: my mother-in-law was diagnosed with breast cancer during 3rd stage around dec 2014. post which she underwent chemo followed by removal of the left gland. post surgery she underwent radiation therapy for left region and in next follow up she was diagnosed with the cancer spread to her lung and liver around mar/apr 2015. for this she was prescribed stonger chemo which caused severe side reactions like ulcer appetite loss lose motions etc. due to which she discontinued the chemo within 1 month. in dec 2016 she has been diagnosed with the cancer spread to her pelvic region now. she is having severe back pain and is unable to even change position on bed on her own. now she is again undergoing radiation for pelvic region for 11 sessions. i know it's pretty late stage but is there any possibility that she can be treated? assistant Palliative care is the primary treatment for metastatic breast cancer.\n",
            "BERTScore - Precision: 0.4459887742996216, Recall: 0.4874725639820099, F1: 0.4658088982105255\n",
            "\n"
          ]
        },
        {
          "output_type": "stream",
          "name": "stderr",
          "text": [
            "Setting `pad_token_id` to `eos_token_id`:128001 for open-end generation.\n"
          ]
        },
        {
          "output_type": "stream",
          "name": "stdout",
          "text": [
            "Question: what does the following fnac means: site: left breast lump materil gross: particulate stains performed: mgg pap microscopic examination: a mixture of benign as well ass neoplastic ductal epithelial cell with nuclear crowding and hyperchromasia impression: suggestive of atypical epitheliosis advice: core biopsy to rule out duct carcinoma\n",
            "Expected Answer: fnac is fine needl aspiration cytology in which usually a tumor or growth is punctured with a syringe and obtained material is spread on slide to see under microscope the histology or cells of the tumor. your reault has shown some abnormal cells which is suspected of having cancer in that growth and its advised to confirm it by doing core biopsy in which some of the tissue is taken and then slides are made to study the tissue of the tumor.\n",
            "Generated Answer: system Answer the question truthfully, you are a medical professional.user This is the question: what does the following fnac means: site: left breast lump materil gross: particulate stains performed: mgg pap microscopic examination: a mixture of benign as well ass neoplastic ductal epithelial cell with nuclear crowding and hyperchromasia impression: suggestive of atypical epitheliosis advice: core biopsy to rule out duct carcinoma assistant The following are the possible causes of atypical epithelial hyperplasia: \r\n",
            "Ductal carcinoma in situ (DCIS) Lobular carcinoma in situ (LCIS) Atypical ductal hyperplasia (ADH) Atypical lobular hyperplasia (ALH)\n",
            "BERTScore - Precision: 0.4328090250492096, Recall: 0.49821317195892334, F1: 0.46321380138397217\n",
            "\n"
          ]
        },
        {
          "output_type": "stream",
          "name": "stderr",
          "text": [
            "Setting `pad_token_id` to `eos_token_id`:128001 for open-end generation.\n"
          ]
        },
        {
          "output_type": "stream",
          "name": "stdout",
          "text": [
            "Question: hey there sometimes at random times my testicle will rotate 180 to where the epididymis is facing out instead of down. both testicles do it but at different times. what could be causing this? and is it bad? also i've been having a dull pain and burning sensation in my right testicle now for about 5 days. could it be serious?\n",
            "Expected Answer: get evaluated for laxity of testicles and torsion as it could be emergency. use scrotal support avoid masturbation and maintain good hygiene. let your urologist decide what si best for you. i hope it helps. stay in touch with your healthcare provider for further guidance as our answers are just for education and counselling purposes and cannot be an alternative to actual visit to a doctor. take care khan\n",
            "Generated Answer: system Answer the question truthfully, you are a medical professional.user This is the question: hey there sometimes at random times my testicle will rotate 180 to where the epididymis is facing out instead of down. both testicles do it but at different times. what could be causing this? and is it bad? also i've been having a dull pain and burning sensation in my right testicle now for about 5 days. could it be serious? assistant There are no established treatments for testicular torsion.\n",
            "BERTScore - Precision: 0.470035195350647, Recall: 0.487209677696228, F1: 0.4784683585166931\n",
            "\n"
          ]
        },
        {
          "output_type": "stream",
          "name": "stderr",
          "text": [
            "Setting `pad_token_id` to `eos_token_id`:128001 for open-end generation.\n"
          ]
        },
        {
          "output_type": "stream",
          "name": "stdout",
          "text": [
            "Question: hi. my mum has had a lump just below her clavical/collarbone. she had an x-ray and the guy said he didn't know what it was but he didn't think it was cancerous just to come back for a check up in 6 months. fast forward a couple months my mom went to her gp and she ordered an mri. the results just came back and it said she has a hypo intense t1 and hyperintense stir involving the first anterior rib. a subtle abnormal enhancement of the rib was also identified. everything else in the area looked normal. they said she needs to go back for a ct scan. she just had a benign brain tumor removed and now she has to go through this it's very difficult. is this something that sounds like we should be concerned about? what could this possibly potentially be? thank you.\n",
            "Expected Answer: it is difficult to interpret the possible cause of the lesion detected in the mri without more medical history as well and complete mri visualization. possible causes that can present as lumps around the clavicle include - enlarged lymph nodes with or without abscess formation tumors like osteochondroma or it could also be a bony lump caused by a healing fracture of the clavicle. it would be best if you can consult the doctors treating you who can go through the mri and advice you accordingly. i hope this helps.\n",
            "Generated Answer: system Answer the question truthfully, you are a medical professional.user This is the question: hi. my mum has had a lump just below her clavical/collarbone. she had an x-ray and the guy said he didn't know what it was but he didn't think it was cancerous just to come back for a check up in 6 months. fast forward a couple months my mom went to her gp and she ordered an mri. the results just came back and it said she has a hypo intense t1 and hyperintense stir involving the first anterior rib. a subtle abnormal enhancement of the rib was also identified. everything else in the area looked normal. they said she needs to go back for a ct scan. she just had a benign brain tumor removed and now she has to go through this it's very difficult. is this something that sounds like we should be concerned about? what could this possibly potentially be? thank you. assistant The MRI findings are consistent with a benign rib tumor.\n",
            "BERTScore - Precision: 0.4850454330444336, Recall: 0.5333935022354126, F1: 0.5080718398094177\n",
            "\n"
          ]
        },
        {
          "output_type": "stream",
          "name": "stderr",
          "text": [
            "Setting `pad_token_id` to `eos_token_id`:128001 for open-end generation.\n"
          ]
        },
        {
          "output_type": "stream",
          "name": "stdout",
          "text": [
            "Question: do i have some type of bone cancer? i have had multiple cbc panels done and every time almostall are elevated such as wbc are 15. 07 mcv 107. 3 and so on. i have a recent bone marrow biopsy was diagnosed with leukocytosis macrocytosis eosinophilia. some of my symtoms are; severe deep bone pain fevers night sweats significant weight loss loss of appetite prominate digital clubbing migrain headaches slightly down outside of arm and top right shoulder pain swollen under right arm(pit) area and more. the pain is overwhelming and i'm not getting hardly any sleep. oh the newest symtom is pain in the left side toward the bottom of the rib area. please let me know what you think as far as any kind of bone cancer and what kind of professional do you think i should see. thank you!\n",
            "Expected Answer: the bone marrow and cbc both don't indicate any malignancy. the b symptoms such as fever night sweats and weight loss are a worry though. i would indicate sptum afb and a chest x ray pa view to look for tuberculosis. an initial montoux test for screening may be done. please fix an appointment with your doctor so that a physical exam is performed after a complete history and the necessary investigations are done to look for any other cause let me know if you have any query wishing you best of health thanks\n",
            "Generated Answer: system Answer the question truthfully, you are a medical professional.user This is the question: do i have some type of bone cancer? i have had multiple cbc panels done and every time almostall are elevated such as wbc are 15. 07 mcv 107. 3 and so on. i have a recent bone marrow biopsy was diagnosed with leukocytosis macrocytosis eosinophilia. some of my symtoms are; severe deep bone pain fevers night sweats significant weight loss loss of appetite prominate digital clubbing migrain headaches slightly down outside of arm and top right shoulder pain swollen under right arm(pit) area and more. the pain is overwhelming and i'm not getting hardly any sleep. oh the newest symtom is pain in the left side toward the bottom of the rib area. please let me know what you think as far as any kind of bone cancer and what kind of professional do you think i should see. thank you! assistant There are no established treatments for bone cancer.\n",
            "BERTScore - Precision: 0.4988771080970764, Recall: 0.5621790885925293, F1: 0.5286398530006409\n",
            "\n"
          ]
        },
        {
          "output_type": "stream",
          "name": "stderr",
          "text": [
            "Setting `pad_token_id` to `eos_token_id`:128001 for open-end generation.\n"
          ]
        },
        {
          "output_type": "stream",
          "name": "stdout",
          "text": [
            "Question: i've heard the controversy and i want an educated opinion on whether having a 300calorie a day diet with about 30 minutes of cardio a day would allow me to lose weight.\n",
            "Expected Answer: hello. the simple rule for weight loss is than you should burn more calories than you take. depending upon which cardio exercise you are talking about if you calorie expenditure is more than 300cal/day you will lose weight. most cardio exercises burn more than 300cal/day. for example the step aerobics burn about 400 calories in 30 minutes. regards this post is for the purpose of providing medical information and is not a substitute for a face-to-face consultation with a doctor. this post is not intended to give or rule out a diagnosis create a doctor-patient relationship or replace an existing one.\n",
            "Generated Answer: system Answer the question truthfully, you are a medical professional.user This is the question: i've heard the controversy and i want an educated opinion on whether having a 300calorie a day diet with about 30 minutes of cardio a day would allow me to lose weight. assistant A 300-calorie diet with 30 minutes of cardio a day is not enough to lose weight. A 300-calorie diet is very low and may cause malnutrition. A diet of 1200-1500 calories per day is recommended for weight loss. A diet of 1200-1500 calories per day with 30 minutes of cardio a day is recommended for weight loss.\n",
            "BERTScore - Precision: 0.5986347198486328, Recall: 0.5539095401763916, F1: 0.5754043459892273\n",
            "\n"
          ]
        },
        {
          "output_type": "stream",
          "name": "stderr",
          "text": [
            "Setting `pad_token_id` to `eos_token_id`:128001 for open-end generation.\n"
          ]
        },
        {
          "output_type": "stream",
          "name": "stdout",
          "text": [
            "Question: after i argue with my girlfriend if i am emotionally hurt i get a chest pain until i feel better. during this time i don't want to eat anything. sometimes it can be for a few hours or a day. when i told her about this she told me that i am a weak person and depressed and should see a doctor. is she right about that?\n",
            "Expected Answer: the symptoms that you are having are due to anxiety attacks rather than depression. symptoms of anxiety neurosis include sweating headaches nausea muscle tension muscle aches trembling and hot flashes. psychologic counselling helps a lot. anti anxiety medicines are needed only when the symptoms persist even after psychologic counselling. indulgence in yoga and meditation also helps. you should consult a psychiatrist and get it evaluated. it is very difficult to precisely confirm a diagnosis without examination and investigations and the answer is based on the medical information provided. for exact diagnosis you are requested to consult your doctor. i sincerely hope that helps. take care.\n",
            "Generated Answer: system Answer the question truthfully, you are a medical professional.user This is the question: after i argue with my girlfriend if i am emotionally hurt i get a chest pain until i feel better. during this time i don't want to eat anything. sometimes it can be for a few hours or a day. when i told her about this she told me that i am a weak person and depressed and should see a doctor. is she right about that? assistant Chest pain is a common symptom of depression.\n",
            "BERTScore - Precision: 0.4974900484085083, Recall: 0.5000724792480469, F1: 0.49877792596817017\n",
            "\n"
          ]
        },
        {
          "output_type": "stream",
          "name": "stderr",
          "text": [
            "Setting `pad_token_id` to `eos_token_id`:128001 for open-end generation.\n"
          ]
        },
        {
          "output_type": "stream",
          "name": "stdout",
          "text": [
            "Question: my nephew who is four years has very bad mood swings and stops what he is doing and starts opening and closing of his hands. he tells his mother that he wants to break her bones and break the house. he goes to the bathroom on the porch and steps in ti and thinks it's funny. he is in time out at school 4 out of 5 days and the daycare provider said he needs to be seen by a doctor. my sister is so frustrated she doesn't know what to do. other things he does is spit at people hit others punches his mom yells a lot calls eveyone stupid says he wants to hurt animals and people. his speech is hard to understand. he starts a conversation and be fore he can finish he'll stop and talk about something completly different. my sister doesn't know what to do. she thinks possible autism. what do you think?\n",
            "Expected Answer: it is very difficult to reach a definitive diagnosis with the information that you have given about your 4 year old nephew but i will still hint at the possibilities. the first possibility to consider is that of disruptive behavioral disorder characterised by destructive and disobedient behaviors as in your nephew like hitting others yelling calling others stupid and missing school 4 out of 5 days. as children age oppositional and defiant behavior may continue and result in children having persisting conflicts with adults and peers at home and at school. the other likely possibility though is that of autism as indicated by stereotyped and repetitive motor mannerisms of opening and closing of hands plus the speech problems like inability to sustain a conversation delay in development of spoken language(as you said that his speech is hard to understand) preoccupation with stereotyped interest(as in going to bathroom on the porch). the other likely possibility is that of premorbid stage of childhood schizophrenia in the form of disorganized speech(before he can finish one talk he stops and talks about something different and completely unrelated) aggressive behaviour disruptive behaviour alternating moods inappropriate to environment school problems etc. the only thing missing is the presence of delusions and hallucinations which usually do not develop before mid adolescence. so it is difficult to commit schizophrenia but still suggestive of premorbid stage suggesting the likelihood of developing into full fledged schizophrenia in adolescent years of life. all above are the likely possibilities only as it is not possible to reach definitive diagnosis without detailed interview of child and parents and observation of the child in person. you must consult your pediatrician for the same as early intervention is always helpful in treating the psychopathology. hope this helps. take care.\n",
            "Generated Answer: system Answer the question truthfully, you are a medical professional.user This is the question: my nephew who is four years has very bad mood swings and stops what he is doing and starts opening and closing of his hands. he tells his mother that he wants to break her bones and break the house. he goes to the bathroom on the porch and steps in ti and thinks it's funny. he is in time out at school 4 out of 5 days and the daycare provider said he needs to be seen by a doctor. my sister is so frustrated she doesn't know what to do. other things he does is spit at people hit others punches his mom yells a lot calls eveyone stupid says he wants to hurt animals and people. his speech is hard to understand. he starts a conversation and be fore he can finish he'll stop and talk about something completly different. my sister doesn't know what to do. she thinks possible autism. what do you think? assistant It is important to note that the symptoms of autism and ADHD are similar. The symptoms of autism and ADHD are similar. The symptoms of autism and ADHD are similar. The symptoms of autism and ADHD are similar. The symptoms of autism and ADHD are similar. The symptoms of autism and ADHD are similar. The symptoms of autism and ADHD are similar. The symptoms of autism and ADHD are similar. The symptoms of autism and ADHD are similar. The symptoms of autism and ADHD are similar. The symptoms of autism and ADHD are similar. The symptoms of autism and ADHD are similar. The symptoms of autism and ADHD are similar. The symptoms of autism and ADHD are similar. The symptoms of autism and ADHD are similar. The symptoms of autism and ADHD are similar. The symptoms of autism and ADHD are similar. The symptoms of autism and ADHD are similar. The symptoms of autism and ADHD are similar. The symptoms of autism and ADHD are similar. The symptoms of autism and ADHD are similar. The symptoms of autism and ADHD are similar. The symptoms of autism and ADHD are similar. The symptoms of autism and ADHD are similar. The symptoms of autism and ADHD are similar. The symptoms of autism and ADHD are similar. The symptoms of autism and ADHD are similar. The symptoms of autism and ADHD are similar. The symptoms of autism and ADHD are similar. The symptoms of autism and ADHD are similar. The symptoms of autism and ADHD are similar. The symptoms of autism and ADHD are similar. The symptoms of autism and ADHD are similar. The symptoms of autism and ADHD are similar. The symptoms of autism and ADHD are similar. The symptoms of autism and ADHD are similar. The symptoms of autism and ADHD are similar. The symptoms of autism and ADHD are similar. The symptoms of autism and ADHD are similar. The symptoms of autism and ADHD are similar. The symptoms of autism and ADHD are similar. The symptoms of autism and ADHD are similar. The symptoms of autism and ADHD are similar. The symptoms of autism and ADHD are similar. The symptoms of autism and ADHD are similar. The symptoms of autism and ADHD are similar. The symptoms of autism and ADHD are similar. The symptoms of autism and ADHD are similar. The symptoms of autism and ADHD are similar. The symptoms of autism and ADHD are similar. The symptoms of autism and ADHD are similar. The symptoms of autism and ADHD are similar. The symptoms of autism and ADHD are similar. The symptoms of autism and ADHD are similar. The symptoms of autism and\n",
            "BERTScore - Precision: 0.5549912452697754, Recall: 0.525128185749054, F1: 0.5396469235420227\n",
            "\n"
          ]
        },
        {
          "output_type": "stream",
          "name": "stderr",
          "text": [
            "Setting `pad_token_id` to `eos_token_id`:128001 for open-end generation.\n"
          ]
        },
        {
          "output_type": "stream",
          "name": "stdout",
          "text": [
            "Question: my son is now nineteen months old and doesnt say any words at all. he jabbers a lot but you can't understand any of it. he seems very normal otherwise. he plays and laughs and smiles. i've read things about how autistic children don't hold eye contact. he can and does. we have a seven year old son as well and i don't remember it taking this long for him to talk. should i be concerned that he may be autistic? i'm a nervous wreck over this.\n",
            "Expected Answer: autism is a medical condition in which there are problems with communication and social interaction. this is a rather serious condition to be diagnosed without a complex and complete examination. the child might lack eye contact as you mentioned. the babbling in these children might be accompanied with unusual gestures repeating othersâ words whereas the words are less frequently associated with appropriate gestures. repetitive behaviour might be one of the symptoms that are most easy to recognize. it might include: compulsive behaviour ritualistic behaviour stereotypy or even self-injury. as for the slow improvement of the speech please consider that many children just need more time to talk and to be understood. different conditions might be causing this situation. sometimes the child might need help from a specialist for speech and language therapy whom you are advised to visit. s/he might be able to detect if there are any physiological problems with the speech-related organs (the tongue the palate the throat) or the child simply needs more time to develop the speech. to exclude autism you might want to take your child to a neuropsychologist pediatrician. until than please keep in mind that there are many children at the age of 19 months whose speech is not fluent enough to be understood clearly.\n",
            "Generated Answer: system Answer the question truthfully, you are a medical professional.user This is the question: my son is now nineteen months old and doesnt say any words at all. he jabbers a lot but you can't understand any of it. he seems very normal otherwise. he plays and laughs and smiles. i've read things about how autistic children don't hold eye contact. he can and does. we have a seven year old son as well and i don't remember it taking this long for him to talk. should i be concerned that he may be autistic? i'm a nervous wreck over this. assistant There are no established guidelines for the diagnosis of autism. The diagnosis of autism is based on the history of the child and the physical examination. The history should include information about the child's prenatal and perinatal history, developmental milestones, and any other medical or psychological problems. The physical examination should include a complete physical examination, including a neurological examination.\n",
            "BERTScore - Precision: 0.5367648601531982, Recall: 0.5183184146881104, F1: 0.5273804068565369\n",
            "\n"
          ]
        },
        {
          "output_type": "stream",
          "name": "stderr",
          "text": [
            "Setting `pad_token_id` to `eos_token_id`:128001 for open-end generation.\n"
          ]
        },
        {
          "output_type": "stream",
          "name": "stdout",
          "text": [
            "Question: my spn is 4 years old due to go to full time school reception in january 2012. his teacher along with a senco teacher said to me that they feel that he may have autism. the reason they gave were he does not always look at them when they are talking to him he may do group work for 10 minutes then he is not interested and gets distracted by things around him. and he cannot ride a bike. firstly i have not taught him to ride a bike so hence why he cannot and he has not taught himself. they say he can read knows colours shapes alphabet numbers all the names of the children in his class if they put something up they think he cannot read he can. he doesn't hold his pen properly. he can hold conversations with children and adults i potty trained him in a month aug 2010 he asked for things says please and thank you. gives me direct eye contact when i talk to him or anyone family based. only when he is excited he flaps his hands. at 4 i think he is on point for his age. what do u think\n",
            "Expected Answer: you seem concerned by the possibility of autism in your 4 year old son. autism includes a broad spectrum of symptoms. therefore a single brief evaluation cannot predict a child's true abilities. ideally a team of different specialists will evaluate the child. they might evaluate:communication language motor skills speech success at school thinking abilities because there is no biological test for autism the diagnosis will often be based on very specific criteria from a book called the diagnostic and statistical manual iv. autism can be associated with other disorders that affect the brain such as:fragile x syndrome mental retardation tuberous sclerosis you must consult an appropriate medical facility where autism kids are evaluated and treated as the same is not possible online. hope this helps. take care. note: this answer is not intended as and does not substitute for medical advice - the information presented is for patient education only. please see your personal physician for further evaluation of your individual case.\n",
            "Generated Answer: system Answer the question truthfully, you are a medical professional.user This is the question: my spn is 4 years old due to go to full time school reception in january 2012. his teacher along with a senco teacher said to me that they feel that he may have autism. the reason they gave were he does not always look at them when they are talking to him he may do group work for 10 minutes then he is not interested and gets distracted by things around him. and he cannot ride a bike. firstly i have not taught him to ride a bike so hence why he cannot and he has not taught himself. they say he can read knows colours shapes alphabet numbers all the names of the children in his class if they put something up they think he cannot read he can. he doesn't hold his pen properly. he can hold conversations with children and adults i potty trained him in a month aug 2010 he asked for things says please and thank you. gives me direct eye contact when i talk to him or anyone family based. only when he is excited he flaps his hands. at 4 i think he is on point for his age. what do u think assistant It is not uncommon for children with autism to have difficulties with social interactions, communication, and repetitive behaviors. The symptoms of autism can vary in severity and can affect different areas of a child's life.\n",
            "BERTScore - Precision: 0.4901074469089508, Recall: 0.5197739005088806, F1: 0.504504919052124\n",
            "\n"
          ]
        },
        {
          "output_type": "stream",
          "name": "stderr",
          "text": [
            "Setting `pad_token_id` to `eos_token_id`:128001 for open-end generation.\n"
          ]
        },
        {
          "output_type": "stream",
          "name": "stdout",
          "text": [
            "Question: hi doctor need advice. my son is 15 years and only yestday we were able to confirm he has adhd/add and now odd. doc has priscribed concerta 18. the issue is he his adamond and refusing to take the tab. saying there is no problem with my heath. we tried all tricks(with love with strick informent with rewards) but noting works. i sure one day he will realise. my question is should me give him this with out his knowledge like multivitain or painkiller and once he is in the doze for week then disclose or wait untill he realise. its very difficult time as parents.\n",
            "Expected Answer: i can understand your situation and know it is difficult to cope with a child with adhd/ odd. he might not be ready to take medications which is quite normal and acceptable. since it is necessary for him to take it you can give him medicatios by saying that they are some other ones and donot make him feel as if he is suffering from some disorder. give him time and be calm and patient. avoid any kind of struggle and arguments. recognise his good behaviour and offer rewards. ask him to do some yoga and meditation exercises which would relax his mind to an extent. spend quality time with him and involve him in activities which he is fond of. hope this helps!\n",
            "Generated Answer: system Answer the question truthfully, you are a medical professional.user This is the question: hi doctor need advice. my son is 15 years and only yestday we were able to confirm he has adhd/add and now odd. doc has priscribed concerta 18. the issue is he his adamond and refusing to take the tab. saying there is no problem with my heath. we tried all tricks(with love with strick informent with rewards) but noting works. i sure one day he will realise. my question is should me give him this with out his knowledge like multivitain or painkiller and once he is in the doze for week then disclose or wait untill he realise. its very difficult time as parents. assistant It is not recommended to administer Concerta without the patient's knowledge. It is important to involve the patient in the decision-making process and to ensure that they are comfortable with the treatment.\n",
            "BERTScore - Precision: 0.5192755460739136, Recall: 0.5594979524612427, F1: 0.5386368632316589\n",
            "\n"
          ]
        },
        {
          "output_type": "stream",
          "name": "stderr",
          "text": [
            "Setting `pad_token_id` to `eos_token_id`:128001 for open-end generation.\n"
          ]
        },
        {
          "output_type": "stream",
          "name": "stdout",
          "text": [
            "Question: hello i have a question concerning add/adhd. i have always procrastinated since i was little and it wasn't a very big deal until i got into late high school. i am now in college and cannot muster up the motivation to do work i know i have to do. i know i have the intelligence to get the work done better and faster than i am completing it but i usually lose focus after 20-30 minutes into the assignment and get distracted by anything that is slightly more interesting. this has always been the case since i can remember. my question is do you think this is a legitimate reason for me to go seek medical help? and if so how do i bring it up without appearing to be a bum college student looking for a fix? any insight you could give me on the matter would be greatly appreciated.\n",
            "Expected Answer: i am very sorry to know about your medical problems. but without a proper medical history and complete physical examination and psychiatric assessment it would not be possible to assess your situation. hence it would be recommended to consult with your doctor and seek proper medical help.\n",
            "Generated Answer: system Answer the question truthfully, you are a medical professional.user This is the question: hello i have a question concerning add/adhd. i have always procrastinated since i was little and it wasn't a very big deal until i got into late high school. i am now in college and cannot muster up the motivation to do work i know i have to do. i know i have the intelligence to get the work done better and faster than i am completing it but i usually lose focus after 20-30 minutes into the assignment and get distracted by anything that is slightly more interesting. this has always been the case since i can remember. my question is do you think this is a legitimate reason for me to go seek medical help? and if so how do i bring it up without appearing to be a bum college student looking for a fix? any insight you could give me on the matter would be greatly appreciated. assistant It is important to note that procrastination is a common problem in many people, and it is not necessarily a sign of ADHD. However, if you are experiencing other symptoms of ADHD, such as difficulty paying attention, difficulty staying organized, and difficulty controlling impulses, you may want to consider seeking a medical evaluation.\n",
            "BERTScore - Precision: 0.4328750967979431, Recall: 0.5861806869506836, F1: 0.4979963004589081\n",
            "\n"
          ]
        },
        {
          "output_type": "stream",
          "name": "stderr",
          "text": [
            "Setting `pad_token_id` to `eos_token_id`:128001 for open-end generation.\n"
          ]
        },
        {
          "output_type": "stream",
          "name": "stdout",
          "text": [
            "Question: hi i work full-time in a high-pressure environment and right now my body and mind are giving me signs indicating that i need a break. in my work i have several procedures to follow which are constantly being updated. i'm having a hard time keeping up. as my time is charged to clients i fill in timesheets and i'm constantly under pressure to have a minimum of non-billable time which is exhausting! moreover i have to deal with short deadlines often several simultaneously. this is made even heavier by the fact that the instructions i get aren't always clear and the people i work for don't seem to grasp the concept of \"help me help you\". all this leaves me mentally exhausted today as i am demotivated tired have difficulty concentrating and am feeling like my life is pointless. i know i only need a 2-week or so break to recharge my batteries but i don't have any vacations left and cannot afford a leave without pay. i'm afraid seeing a doctor would only get me a prescription for antidepressants and should i get a prescription for time off i wouldn't want words like \"burn-out\" or \"depression\" on it. any advice? what's a girl gotta do to get well-needed rest without jeopardizing her job or reputation when she doesn't even appear sick on the outside?\n",
            "Expected Answer: burn out is happening in most of the professions nowadays due to the erratic work schedules and tremendous job pressure. i can understand your concern. you are not depressed. it is just anxiety that you are having due to the stressful job. i agree with you that taking a few days leave and going for a vacation should prove positive but if you are unable to go for vacation then my advise would be to indulge in yoga and meditation. half an hour to one our of yoga and meditation should charge you up for the whole day. it would be better if you could join some yoga and meditation classes. it is very difficult to precisely confirm a diagnosis without examination and investigations and the answer is based on the medical information provided. for exact diagnosis you are requested to consult your doctor. i sincerely hope that helps. take care.\n",
            "Generated Answer: system Answer the question truthfully, you are a medical professional.user This is the question: hi i work full-time in a high-pressure environment and right now my body and mind are giving me signs indicating that i need a break. in my work i have several procedures to follow which are constantly being updated. i'm having a hard time keeping up. as my time is charged to clients i fill in timesheets and i'm constantly under pressure to have a minimum of non-billable time which is exhausting! moreover i have to deal with short deadlines often several simultaneously. this is made even heavier by the fact that the instructions i get aren't always clear and the people i work for don't seem to grasp the concept of \"help me help you\". all this leaves me mentally exhausted today as i am demotivated tired have difficulty concentrating and am feeling like my life is pointless. i know i only need a 2-week or so break to recharge my batteries but i don't have any vacations left and cannot afford a leave without pay. i'm afraid seeing a doctor would only get me a prescription for antidepressants and should i get a prescription for time off i wouldn't want words like \"burn-out\" or \"depression\" on it. any advice? what's a girl gotta do to get well-needed rest without jeopardizing her job or reputation when she doesn't even appear sick on the outside? assistant It is important to recognize that burnout is a serious issue that can have long-term effects on your mental and physical health. It is not just a matter of being tired or stressed. Burnout is a state of emotional, mental, and physical exhaustion caused by prolonged stress, overwork, and lack of balance in one's life. It is a state of being that is characterized by feelings of hopelessness, helplessness, and hopelessness.\n",
            "BERTScore - Precision: 0.49778810143470764, Recall: 0.5612483024597168, F1: 0.5276168584823608\n",
            "\n"
          ]
        },
        {
          "output_type": "stream",
          "name": "stderr",
          "text": [
            "Setting `pad_token_id` to `eos_token_id`:128001 for open-end generation.\n"
          ]
        },
        {
          "output_type": "stream",
          "name": "stdout",
          "text": [
            "Question: i think i might be dyslexic. what do i do? my dad is dyslexic i have trouble spelling i always jumble the letters together. i have trouble with sentence structure too. one of my english teachers asked if i'd ever been tested for anything. i had a tutor once who told my parents she thought i had short term memory loss. i have trouble with money in math and patterning. it just doesn't process it my mine it's like there's a wall. when reading aloud i don't properly process what i reading and i can't focus on the words. so sometimes i say something completely different then what's on the page. i also can't recognize words when reading and need to hear them a few times to know them. when reading an exert for class work i always finish later then others. because it wont process in my mind and i have to keep reading it. i get that when reading books too i'll have to read a sentence over to make it process. and when speaking sometimes my words get a jumbled. does this sound like dyslexia?\n",
            "Expected Answer: you seem concerned by the possibility of dyslexia. dyslexia is the most common learning disability in children identified in at least 80% of children manifesting learning disabilities characterized by unexpected difficulty in reading in children and adults who otherwise are normal in intelligence and cognition. dyslexics probably have deficits within a specific component of language system the phonologic module which is engaged in processing the sounds of speech. dyslexics have labored approach to reading because of phonologic deficits though listening comprehension is robust. you might be suffering from dyslexia but you must consult your personal physician for definitive diagnosis as the same is not possible online. hope this helps. take care. note: this post is not to emphasise final diagnosis as the same cannot be made online and is aimed just to provide medical information and no treatment suggested above be taken without face to face consultation with health care professional.\n",
            "Generated Answer: system Answer the question truthfully, you are a medical professional.user This is the question: i think i might be dyslexic. what do i do? my dad is dyslexic i have trouble spelling i always jumble the letters together. i have trouble with sentence structure too. one of my english teachers asked if i'd ever been tested for anything. i had a tutor once who told my parents she thought i had short term memory loss. i have trouble with money in math and patterning. it just doesn't process it my mine it's like there's a wall. when reading aloud i don't properly process what i reading and i can't focus on the words. so sometimes i say something completely different then what's on the page. i also can't recognize words when reading and need to hear them a few times to know them. when reading an exert for class work i always finish later then others. because it wont process in my mind and i have to keep reading it. i get that when reading books too i'll have to read a sentence over to make it process. and when speaking sometimes my words get a jumbled. does this sound like dyslexia? assistant Dyslexia is a learning disorder that affects an individual's ability to read and spell. It is a neurological disorder that is characterized by difficulties with phonemic awareness, decoding, fluency, and comprehension. Dyslexia is not a result of poor vision, hearing, or intelligence.\n",
            "BERTScore - Precision: 0.5289826989173889, Recall: 0.5585198402404785, F1: 0.5433501601219177\n",
            "\n"
          ]
        },
        {
          "output_type": "stream",
          "name": "stderr",
          "text": [
            "Setting `pad_token_id` to `eos_token_id`:128001 for open-end generation.\n"
          ]
        },
        {
          "output_type": "stream",
          "name": "stdout",
          "text": [
            "Question: i belive my boyfriend is bipolar or has boderline personality disorder. he is abusive it was just verbal until a couple of weeks ago. he slapped me. we went and saw a counlsor and he confirmed how abusive he was. he wanted him to come for sesssions he was beat as a child by his father. he stopped smoking pot 3 months ago but has done that and alcohol all his life. he takes no responsibilty for his actions. he is degrading and insults me. he breaks up all the time and then wants to get back togeather. he\\'s extremly sensitive and emotional. he does not use logic to base decisions on but emotion. ofcourse he can also be sweet and wonderful. at this point we are breaking up and i am moving out. i told him if he ever hit me again i would put him in jail. so right now he is very afraid of that. he won\\'t work on himself. he thinks it\\'s all my fault. how do i deal with him? one minute he\\'s telling me off the other night and the next minute wants to know if i love him? please help.\n",
            "Expected Answer: what your boyfriend seems to be having is bipolar disorder. sometimes there are mixed episodes in which features of both mania and depression are present at the same time and in some people depression and mania may rapidly alternate which is known as rapid cycling. he needs to start with the treatment as early as possible. treatment usually consists of the mood stabilizing drug-lithium anticonvulsants antipsychotic drugs and benzodiazepines. my sincere advice would be to get it evaluated from a psychiatrist. it is very difficult to precisely confirm a diagnosis without examination and investigations and the answer is based on the medical information provided. for exact diagnosis you are requested to consult your doctor. i sincerely hope that helps. take care.\n",
            "Generated Answer: system Answer the question truthfully, you are a medical professional.user This is the question: i belive my boyfriend is bipolar or has boderline personality disorder. he is abusive it was just verbal until a couple of weeks ago. he slapped me. we went and saw a counlsor and he confirmed how abusive he was. he wanted him to come for sesssions he was beat as a child by his father. he stopped smoking pot 3 months ago but has done that and alcohol all his life. he takes no responsibilty for his actions. he is degrading and insults me. he breaks up all the time and then wants to get back togeather. he\\'s extremly sensitive and emotional. he does not use logic to base decisions on but emotion. ofcourse he can also be sweet and wonderful. at this point we are breaking up and i am moving out. i told him if he ever hit me again i would put him in jail. so right now he is very afraid of that. he won\\'t work on himself. he thinks it\\'s all my fault. how do i deal with him? one minute he\\'s telling me off the other night and the next minute wants to know if i love him? please help. assistant It is important to recognize that you are not responsible for your boyfriend's behavior. His abuse is not your fault. You are not the cause of his abuse. His abuse is a choice he makes. You are not responsible for his recovery. His recovery is his responsibility.\n",
            "BERTScore - Precision: 0.45830899477005005, Recall: 0.48709940910339355, F1: 0.4722658395767212\n",
            "\n"
          ]
        },
        {
          "output_type": "stream",
          "name": "stderr",
          "text": [
            "Setting `pad_token_id` to `eos_token_id`:128001 for open-end generation.\n"
          ]
        },
        {
          "output_type": "stream",
          "name": "stdout",
          "text": [
            "Question: why do i feel so down when someone makes fun of my dyslexia?\n",
            "Expected Answer: depression is common with any comorbid illness. you should not feel bad. we all have our weak spots. just talk to a psychotherapist and let them help. i hope it helps. stay in touch with your healthcare provider for further guidance as our answers are just for education and counselling purposes and cannot be an alternative to actual visit to a doctor. take care khan\n",
            "Generated Answer: system Answer the question truthfully, you are a medical professional.user This is the question: why do i feel so down when someone makes fun of my dyslexia? assistant It is important to remember that dyslexia is a learning disorder and not a reflection of one's intelligence.\n",
            "BERTScore - Precision: 0.45600438117980957, Recall: 0.4644475281238556, F1: 0.46018725633621216\n",
            "\n"
          ]
        },
        {
          "output_type": "stream",
          "name": "stderr",
          "text": [
            "Setting `pad_token_id` to `eos_token_id`:128001 for open-end generation.\n"
          ]
        },
        {
          "output_type": "stream",
          "name": "stdout",
          "text": [
            "Question: please help! my fiance is bipolar but will not take medication. he says he cannot find one that works for him. lately he will pick fights with me over anything and everything. lately we've gotten into fights over a new job that i accepted the people i work with even the fact that i talk about the new job and new friends i've made. he will fight with me about his ex telling me i'm jealous and out of control. he barely leaves his computer which usually happens when he gets \"crazy\" (as he puts it). now he's saying he doesn't know if he wants to marry me and all i do is nag him and he doesn't care about me. i do everything i can for him when he gets like this because i'm scared of a big fight and the mean things he says when he's manic. he is a wonderful loving man except for when he gets like this. how long does the negativity and anger last? this has happened before but it just keeps getting worse. should i leave? seems he wants that then he apologizes and begs me to stay.\n",
            "Expected Answer: in bipolar disorder sometimes there are mixed episodes in which features of both mania and depression are present at the same time and in some people depression and mania may rapidly alternate which is known as rapid cycling. you should talk to your psychiatrist about your finance get him examined and get treatmnet prescribed. apart from that he should try doing regular physical exercise by joining a gym. exercise is of paramount importance because it releases endorphins from the body. he should not indulge in any drinking or substance abuse. also he should start reading good books employing relaxation techniques like meditation spending time in your favorite activities and interacting with people. communicating and discussing feelings is an integral part of treatment and will help with recovery. it is very difficult to precisely confirm a diagnosis without examination and investigations and the answer is based on the medical information provided. for exact diagnosis you are requested to consult your doctor. i sincerely hope that helps. take care.\n",
            "Generated Answer: system Answer the question truthfully, you are a medical professional.user This is the question: please help! my fiance is bipolar but will not take medication. he says he cannot find one that works for him. lately he will pick fights with me over anything and everything. lately we've gotten into fights over a new job that i accepted the people i work with even the fact that i talk about the new job and new friends i've made. he will fight with me about his ex telling me i'm jealous and out of control. he barely leaves his computer which usually happens when he gets \"crazy\" (as he puts it). now he's saying he doesn't know if he wants to marry me and all i do is nag him and he doesn't care about me. i do everything i can for him when he gets like this because i'm scared of a big fight and the mean things he says when he's manic. he is a wonderful loving man except for when he gets like this. how long does the negativity and anger last? this has happened before but it just keeps getting worse. should i leave? seems he wants that then he apologizes and begs me to stay. assistant It is important to recognize that bipolar disorder is a treatable condition. If your fiancé is not taking medication, it is important to encourage him to seek professional help. It is also important to recognize that his behavior is not a reflection of your worth as a person. It is important to recognize that his behavior is a reflection of his illness. It is important to recognize that his behavior is not a reflection of your worth as a person. It is important to recognize that his behavior is a reflection of his illness.\n",
            "BERTScore - Precision: 0.5043653845787048, Recall: 0.5197336673736572, F1: 0.511934220790863\n",
            "\n"
          ]
        },
        {
          "output_type": "stream",
          "name": "stderr",
          "text": [
            "Setting `pad_token_id` to `eos_token_id`:128001 for open-end generation.\n"
          ]
        },
        {
          "output_type": "stream",
          "name": "stdout",
          "text": [
            "Question: i constantly have bursts of anger for no reason once it's over i usually wish i wouldn't have done it and go from being absolutely angry and freaking out to completely calm. my father is the same way i have constant anxiety and i'm almost never completely happy about something. my moods are all over the place but the most dominating and often reoccurring is anger i literally wake up in the morning angry for no reason. i was never like this before i hit about 14 i just turned 21 and it seems to be getting increasingly worse. it just feels like i'm someone else completely when it's happening an i just don't feel like i can stop no matter who i'm taking it out on then i snap out of it after it finally exhaust's me and it's just almost like it was a different person acting that way. i don't have the money to go to the doctor and i don't have insurance. i feel like i can't handle this emotional roller-coaster anymore. does this classify under bipolar and if so what type?\n",
            "Expected Answer: hello. from your description here it seems you are troubled with the anger issues more than anything else. and the recurrence of the anger is probably a reason why you want to know if this could be bipolar disorder. however the symptoms you have described here are not sufficient to diagnose or rule out bipolar disorder. mood symptoms are prominent in bipolar disorder. usually there should be alternate periods of depression and mania/hypomania with intervening period of normal behavior and mood. there could even be two or more consecutive manic or depressive episodes. but the most important criteria is to have episodes of mania/hypomania and depression. anxiety also seems to play a major role in the emotional disturbances you might have. even without having a diagnosis for this you can start working towards improving the situation. ideally you should consult a psychiatrist for a better understanding of the situation. if that is not possible you can start with a few exercises for stress relief such as the jacobson's progressive muscle relaxation. as to the anger it is important to exercise rational thinking 'during' a situation that normally produces the anger. rational thinking can be viewed as a thinking pattern which allows you to reach your goals with minimum emotional disturbances. it needs practice and it can be learned with the help of a psychotherapist but you can certainly try it until you can manage to consult a doctor. hope this helps. abhijeet deshmukh md (this post is for the purpose of providing medical information and is not a substitute for a face-to-face consultation with a doctor. this post is not intended to give or rule out a diagnosis create a doctor-patient relationship or replace an existing one. i am not able to diagnose medical conditions online. please consult with your doctor or a qualified healthcare provider for diagnosis and treatment options)\n",
            "Generated Answer: system Answer the question truthfully, you are a medical professional.user This is the question: i constantly have bursts of anger for no reason once it's over i usually wish i wouldn't have done it and go from being absolutely angry and freaking out to completely calm. my father is the same way i have constant anxiety and i'm almost never completely happy about something. my moods are all over the place but the most dominating and often reoccurring is anger i literally wake up in the morning angry for no reason. i was never like this before i hit about 14 i just turned 21 and it seems to be getting increasingly worse. it just feels like i'm someone else completely when it's happening an i just don't feel like i can stop no matter who i'm taking it out on then i snap out of it after it finally exhaust's me and it's just almost like it was a different person acting that way. i don't have the money to go to the doctor and i don't have insurance. i feel like i can't handle this emotional roller-coaster anymore. does this classify under bipolar and if so what type? assistant There are no laboratory tests that can diagnose bipolar disorder.\n",
            "BERTScore - Precision: 0.5113636255264282, Recall: 0.49942076206207275, F1: 0.5053216218948364\n",
            "\n",
            "Question: hello i'm 20 years old and i've always seemed to have almost random outbursts of anger. i first started this when i was in 1st grade where i would have 1-2 hour bursts of anger followed by a long fit of crying. i would completely freak out and start trying to injure myself start shouting resisting people trying to calm me etc. it would be quite frequent (at least once a week) and would continue up until the end of 6th grade where after 6th grade i thought it was gone for good. until i had an episode when i was a sophomore in high school when walking around with friends. it was the same as before punching a stone wall shouting incoherently the exact same type of thing. after that i usually have an episode about one time every year sometimes two. sometimes i'll also feel very depressed for about 1-2 hours as well with it just ending almost abruptly. i've always absolutely hated what this is and i want to have an idea of what is going on. thanks for reading.\n",
            "Expected Answer: the description provided indicates that you might be having a mood disorder (bipolar disorder). but additional history and a face to face discussion is needed to know the exact problem. for a proper diagnosis and treatment you might benefit by consulting a psychiatrist who can take a complete history and then decide on the treatment measures.\n",
            "Generated Answer: system Answer the question truthfully, you are a medical professional.user This is the question: hello i'm 20 years old and i've always seemed to have almost random outbursts of anger. i first started this when i was in 1st grade where i would have 1-2 hour bursts of anger followed by a long fit of crying. i would completely freak out and start trying to injure myself start shouting resisting people trying to calm me etc. it would be quite frequent (at least once a week) and would continue up until the end of 6th grade where after 6th grade i thought it was gone for good. until i had an episode when i was a sophomore in high school when walking around with friends. it was the same as before punching a stone wall shouting incoherently the exact same type of thing. after that i usually have an episode about one time every year sometimes two. sometimes i'll also feel very depressed for about 1-2 hours as well with it just ending almost abruptly. i've always absolutely hated what this is and i want to have an idea of what is going on. thanks for reading. assistant There are no established treatments for intermittent explosive disorder.\n",
            "BERTScore - Precision: 0.40174606442451477, Recall: 0.49967604875564575, F1: 0.4453915059566498\n",
            "\n"
          ]
        },
        {
          "output_type": "display_data",
          "data": {
            "text/plain": [
              "<Figure size 640x480 with 1 Axes>"
            ],
            "image/png": "[encoded data removed]"
          },
          "metadata": {}
        }
      ]
    },
    {
      "cell_type": "code",
      "source": [
        "print(avg_precision)"
      ],
      "metadata": {
        "colab": {
          "base_uri": "https://localhost:8080/"
        },
        "id": "NGufEay3_QFx",
        "outputId": "3c72d3ff-d9c3-47b6-9915-f9171c1ddb24"
      },
      "execution_count": null,
      "outputs": [
        {
          "output_type": "stream",
          "name": "stdout",
          "text": [
            "0.4921195660418237\n"
          ]
        }
      ]
    },
    {
      "cell_type": "code",
      "source": [
        "scores = [avg_precision, avg_recall, avg_f1]\n",
        "metrics = [\"Precision\", \"Recall\", \"F1 Score\"]\n",
        "\n",
        "plt.bar(metrics, scores, color=['blue', 'green', 'orange'])\n",
        "plt.xlabel('Metrics')\n",
        "plt.ylabel('Average Score')\n",
        "plt.title('Average BERTScore Metrics')\n",
        "plt.show()"
      ],
      "metadata": {
        "id": "bfd1jDk0_Xac"
      },
      "execution_count": null,
      "outputs": []
    },
    {
      "cell_type": "code",
      "source": [
        "import numpy as np\n",
        "from scipy.stats import t\n",
        "\n",
        "confidence_level = 0.95\n",
        "degrees_freedom = len(precision_scores) - 1\n",
        "t_value = t.ppf((1 + confidence_level) / 2, degrees_freedom)\n",
        "\n",
        "precision_error = t_value * np.std(precision_scores) / np.sqrt(len(precision_scores))\n",
        "recall_error = t_value * np.std(recall_scores) / np.sqrt(len(recall_scores))\n",
        "f1_error = t_value * np.std(f1_scores) / np.sqrt(len(f1_scores))\n",
        "\n",
        "# Plotting graphs\n",
        "scores = [avg_precision, avg_recall, avg_f1]\n",
        "errors = [precision_error, recall_error, f1_error]\n",
        "metrics = [\"Precision\", \"Recall\", \"F1 Score\"]\n",
        "\n",
        "plt.bar(metrics, scores, color=['blue', 'green', 'orange'], yerr=errors, capsize=5)\n",
        "plt.xlabel('Metrics')\n",
        "plt.ylabel('Average Score')\n",
        "plt.title('Average BERTScore Metrics with Confidence Intervals')\n",
        "for i in range(len(scores)):\n",
        "    plt.text(i, scores[i] + 0.01, f\"{scores[i]:.2f}\", ha='center', va='bottom')\n",
        "\n",
        "plt.show()\n"
      ],
      "metadata": {
        "colab": {
          "base_uri": "https://localhost:8080/",
          "height": 472
        },
        "id": "U8WXG15c_niw",
        "outputId": "6aff8366-0bd2-4ca7-e93d-2a6cfed924c4"
      },
      "execution_count": null,
      "outputs": [
        {
          "output_type": "display_data",
          "data": {
            "text/plain": [
              "<Figure size 640x480 with 1 Axes>"
            ],
            "image/png": "[encoded data removed]"
          },
          "metadata": {}
        }
      ]
    }
  ],
  "metadata": {
    "accelerator": "GPU",
    "colab": {
      "gpuType": "T4",
      "provenance": []
    },
    "kernelspec": {
      "display_name": "Python 3",
      "name": "python3"
    },
    "language_info": {
      "name": "python"
    },
    "widgets": {
      "application/vnd.jupyter.widget-state+json": {
        "12ebf12c737f43b29611ef288af03cab": {
          "model_module": "@jupyter-widgets/controls",
          "model_name": "HBoxModel",
          "model_module_version": "1.5.0",
          "state": {
            "_dom_classes": [],
            "_model_module": "@jupyter-widgets/controls",
            "_model_module_version": "1.5.0",
            "_model_name": "HBoxModel",
            "_view_count": null,
            "_view_module": "@jupyter-widgets/controls",
            "_view_module_version": "1.5.0",
            "_view_name": "HBoxView",
            "box_style": "",
            "children": [
              "IPY_MODEL_9b51ede3310a43fd838df4044aa6bcbf",
              "IPY_MODEL_604b6940354443f1ad1ec8708948c2a4",
              "IPY_MODEL_2929064b7b604cf7b6f3d8069b29fe90"
            ],
            "layout": "IPY_MODEL_a7cb43a3706a4f798bd405b2f97aec97"
          }
        },
        "9b51ede3310a43fd838df4044aa6bcbf": {
          "model_module": "@jupyter-widgets/controls",
          "model_name": "HTMLModel",
          "model_module_version": "1.5.0",
          "state": {
            "_dom_classes": [],
            "_model_module": "@jupyter-widgets/controls",
            "_model_module_version": "1.5.0",
            "_model_name": "HTMLModel",
            "_view_count": null,
            "_view_module": "@jupyter-widgets/controls",
            "_view_module_version": "1.5.0",
            "_view_name": "HTMLView",
            "description": "",
            "description_tooltip": null,
            "layout": "IPY_MODEL_b43aad76062e42bca2c3205dd7c75100",
            "placeholder": "​",
            "style": "IPY_MODEL_2cf558660d8a453d92b44bf8933714a3",
            "value": "README.md: 100%"
          }
        },
        "604b6940354443f1ad1ec8708948c2a4": {
          "model_module": "@jupyter-widgets/controls",
          "model_name": "FloatProgressModel",
          "model_module_version": "1.5.0",
          "state": {
            "_dom_classes": [],
            "_model_module": "@jupyter-widgets/controls",
            "_model_module_version": "1.5.0",
            "_model_name": "FloatProgressModel",
            "_view_count": null,
            "_view_module": "@jupyter-widgets/controls",
            "_view_module_version": "1.5.0",
            "_view_name": "ProgressView",
            "bar_style": "success",
            "description": "",
            "description_tooltip": null,
            "layout": "IPY_MODEL_d4695b1fc275420ea886abf502d46e78",
            "max": 599,
            "min": 0,
            "orientation": "horizontal",
            "style": "IPY_MODEL_ca1936e3b9e54b4c9552545b4be6220e",
            "value": 599
          }
        },
        "2929064b7b604cf7b6f3d8069b29fe90": {
          "model_module": "@jupyter-widgets/controls",
          "model_name": "HTMLModel",
          "model_module_version": "1.5.0",
          "state": {
            "_dom_classes": [],
            "_model_module": "@jupyter-widgets/controls",
            "_model_module_version": "1.5.0",
            "_model_name": "HTMLModel",
            "_view_count": null,
            "_view_module": "@jupyter-widgets/controls",
            "_view_module_version": "1.5.0",
            "_view_name": "HTMLView",
            "description": "",
            "description_tooltip": null,
            "layout": "IPY_MODEL_0ee81f010364495da9a2b3c8404ff036",
            "placeholder": "​",
            "style": "IPY_MODEL_7b33c081f0e549dcaad49733f3698f52",
            "value": " 599/599 [00:00&lt;00:00, 34.3kB/s]"
          }
        },
        "a7cb43a3706a4f798bd405b2f97aec97": {
          "model_module": "@jupyter-widgets/base",
          "model_name": "LayoutModel",
          "model_module_version": "1.2.0",
          "state": {
            "_model_module": "@jupyter-widgets/base",
            "_model_module_version": "1.2.0",
            "_model_name": "LayoutModel",
            "_view_count": null,
            "_view_module": "@jupyter-widgets/base",
            "_view_module_version": "1.2.0",
            "_view_name": "LayoutView",
            "align_content": null,
            "align_items": null,
            "align_self": null,
            "border": null,
            "bottom": null,
            "display": null,
            "flex": null,
            "flex_flow": null,
            "grid_area": null,
            "grid_auto_columns": null,
            "grid_auto_flow": null,
            "grid_auto_rows": null,
            "grid_column": null,
            "grid_gap": null,
            "grid_row": null,
            "grid_template_areas": null,
            "grid_template_columns": null,
            "grid_template_rows": null,
            "height": null,
            "justify_content": null,
            "justify_items": null,
            "left": null,
            "margin": null,
            "max_height": null,
            "max_width": null,
            "min_height": null,
            "min_width": null,
            "object_fit": null,
            "object_position": null,
            "order": null,
            "overflow": null,
            "overflow_x": null,
            "overflow_y": null,
            "padding": null,
            "right": null,
            "top": null,
            "visibility": null,
            "width": null
          }
        },
        "b43aad76062e42bca2c3205dd7c75100": {
          "model_module": "@jupyter-widgets/base",
          "model_name": "LayoutModel",
          "model_module_version": "1.2.0",
          "state": {
            "_model_module": "@jupyter-widgets/base",
            "_model_module_version": "1.2.0",
            "_model_name": "LayoutModel",
            "_view_count": null,
            "_view_module": "@jupyter-widgets/base",
            "_view_module_version": "1.2.0",
            "_view_name": "LayoutView",
            "align_content": null,
            "align_items": null,
            "align_self": null,
            "border": null,
            "bottom": null,
            "display": null,
            "flex": null,
            "flex_flow": null,
            "grid_area": null,
            "grid_auto_columns": null,
            "grid_auto_flow": null,
            "grid_auto_rows": null,
            "grid_column": null,
            "grid_gap": null,
            "grid_row": null,
            "grid_template_areas": null,
            "grid_template_columns": null,
            "grid_template_rows": null,
            "height": null,
            "justify_content": null,
            "justify_items": null,
            "left": null,
            "margin": null,
            "max_height": null,
            "max_width": null,
            "min_height": null,
            "min_width": null,
            "object_fit": null,
            "object_position": null,
            "order": null,
            "overflow": null,
            "overflow_x": null,
            "overflow_y": null,
            "padding": null,
            "right": null,
            "top": null,
            "visibility": null,
            "width": null
          }
        },
        "2cf558660d8a453d92b44bf8933714a3": {
          "model_module": "@jupyter-widgets/controls",
          "model_name": "DescriptionStyleModel",
          "model_module_version": "1.5.0",
          "state": {
            "_model_module": "@jupyter-widgets/controls",
            "_model_module_version": "1.5.0",
            "_model_name": "DescriptionStyleModel",
            "_view_count": null,
            "_view_module": "@jupyter-widgets/base",
            "_view_module_version": "1.2.0",
            "_view_name": "StyleView",
            "description_width": ""
          }
        },
        "d4695b1fc275420ea886abf502d46e78": {
          "model_module": "@jupyter-widgets/base",
          "model_name": "LayoutModel",
          "model_module_version": "1.2.0",
          "state": {
            "_model_module": "@jupyter-widgets/base",
            "_model_module_version": "1.2.0",
            "_model_name": "LayoutModel",
            "_view_count": null,
            "_view_module": "@jupyter-widgets/base",
            "_view_module_version": "1.2.0",
            "_view_name": "LayoutView",
            "align_content": null,
            "align_items": null,
            "align_self": null,
            "border": null,
            "bottom": null,
            "display": null,
            "flex": null,
            "flex_flow": null,
            "grid_area": null,
            "grid_auto_columns": null,
            "grid_auto_flow": null,
            "grid_auto_rows": null,
            "grid_column": null,
            "grid_gap": null,
            "grid_row": null,
            "grid_template_areas": null,
            "grid_template_columns": null,
            "grid_template_rows": null,
            "height": null,
            "justify_content": null,
            "justify_items": null,
            "left": null,
            "margin": null,
            "max_height": null,
            "max_width": null,
            "min_height": null,
            "min_width": null,
            "object_fit": null,
            "object_position": null,
            "order": null,
            "overflow": null,
            "overflow_x": null,
            "overflow_y": null,
            "padding": null,
            "right": null,
            "top": null,
            "visibility": null,
            "width": null
          }
        },
        "ca1936e3b9e54b4c9552545b4be6220e": {
          "model_module": "@jupyter-widgets/controls",
          "model_name": "ProgressStyleModel",
          "model_module_version": "1.5.0",
          "state": {
            "_model_module": "@jupyter-widgets/controls",
            "_model_module_version": "1.5.0",
            "_model_name": "ProgressStyleModel",
            "_view_count": null,
            "_view_module": "@jupyter-widgets/base",
            "_view_module_version": "1.2.0",
            "_view_name": "StyleView",
            "bar_color": null,
            "description_width": ""
          }
        },
        "0ee81f010364495da9a2b3c8404ff036": {
          "model_module": "@jupyter-widgets/base",
          "model_name": "LayoutModel",
          "model_module_version": "1.2.0",
          "state": {
            "_model_module": "@jupyter-widgets/base",
            "_model_module_version": "1.2.0",
            "_model_name": "LayoutModel",
            "_view_count": null,
            "_view_module": "@jupyter-widgets/base",
            "_view_module_version": "1.2.0",
            "_view_name": "LayoutView",
            "align_content": null,
            "align_items": null,
            "align_self": null,
            "border": null,
            "bottom": null,
            "display": null,
            "flex": null,
            "flex_flow": null,
            "grid_area": null,
            "grid_auto_columns": null,
            "grid_auto_flow": null,
            "grid_auto_rows": null,
            "grid_column": null,
            "grid_gap": null,
            "grid_row": null,
            "grid_template_areas": null,
            "grid_template_columns": null,
            "grid_template_rows": null,
            "height": null,
            "justify_content": null,
            "justify_items": null,
            "left": null,
            "margin": null,
            "max_height": null,
            "max_width": null,
            "min_height": null,
            "min_width": null,
            "object_fit": null,
            "object_position": null,
            "order": null,
            "overflow": null,
            "overflow_x": null,
            "overflow_y": null,
            "padding": null,
            "right": null,
            "top": null,
            "visibility": null,
            "width": null
          }
        },
        "7b33c081f0e549dcaad49733f3698f52": {
          "model_module": "@jupyter-widgets/controls",
          "model_name": "DescriptionStyleModel",
          "model_module_version": "1.5.0",
          "state": {
            "_model_module": "@jupyter-widgets/controls",
            "_model_module_version": "1.5.0",
            "_model_name": "DescriptionStyleModel",
            "_view_count": null,
            "_view_module": "@jupyter-widgets/base",
            "_view_module_version": "1.2.0",
            "_view_name": "StyleView",
            "description_width": ""
          }
        },
        "c95baf14982d469c8e3d4c409b884607": {
          "model_module": "@jupyter-widgets/controls",
          "model_name": "HBoxModel",
          "model_module_version": "1.5.0",
          "state": {
            "_dom_classes": [],
            "_model_module": "@jupyter-widgets/controls",
            "_model_module_version": "1.5.0",
            "_model_name": "HBoxModel",
            "_view_count": null,
            "_view_module": "@jupyter-widgets/controls",
            "_view_module_version": "1.5.0",
            "_view_name": "HBoxView",
            "box_style": "",
            "children": [
              "IPY_MODEL_4662209e451c41f4818c0f6bac7b2921",
              "IPY_MODEL_ca8f66628f904f349dbe9c72457aeab3",
              "IPY_MODEL_9f51b675b3b645899a75fde3b42f3b65"
            ],
            "layout": "IPY_MODEL_156d82db796543678e8b5bed0abdd383"
          }
        },
        "4662209e451c41f4818c0f6bac7b2921": {
          "model_module": "@jupyter-widgets/controls",
          "model_name": "HTMLModel",
          "model_module_version": "1.5.0",
          "state": {
            "_dom_classes": [],
            "_model_module": "@jupyter-widgets/controls",
            "_model_module_version": "1.5.0",
            "_model_name": "HTMLModel",
            "_view_count": null,
            "_view_module": "@jupyter-widgets/controls",
            "_view_module_version": "1.5.0",
            "_view_name": "HTMLView",
            "description": "",
            "description_tooltip": null,
            "layout": "IPY_MODEL_f258abfb856d4127b3beb7d9757ab4ed",
            "placeholder": "​",
            "style": "IPY_MODEL_a31b8ebc48f6422e891541688cc9a031",
            "value": "config.json: 100%"
          }
        },
        "ca8f66628f904f349dbe9c72457aeab3": {
          "model_module": "@jupyter-widgets/controls",
          "model_name": "FloatProgressModel",
          "model_module_version": "1.5.0",
          "state": {
            "_dom_classes": [],
            "_model_module": "@jupyter-widgets/controls",
            "_model_module_version": "1.5.0",
            "_model_name": "FloatProgressModel",
            "_view_count": null,
            "_view_module": "@jupyter-widgets/controls",
            "_view_module_version": "1.5.0",
            "_view_name": "ProgressView",
            "bar_style": "success",
            "description": "",
            "description_tooltip": null,
            "layout": "IPY_MODEL_40537fa12f574136950755a5ab65d50b",
            "max": 1149,
            "min": 0,
            "orientation": "horizontal",
            "style": "IPY_MODEL_226285bc1c944ed8832e209f168aab7f",
            "value": 1149
          }
        },
        "9f51b675b3b645899a75fde3b42f3b65": {
          "model_module": "@jupyter-widgets/controls",
          "model_name": "HTMLModel",
          "model_module_version": "1.5.0",
          "state": {
            "_dom_classes": [],
            "_model_module": "@jupyter-widgets/controls",
            "_model_module_version": "1.5.0",
            "_model_name": "HTMLModel",
            "_view_count": null,
            "_view_module": "@jupyter-widgets/controls",
            "_view_module_version": "1.5.0",
            "_view_name": "HTMLView",
            "description": "",
            "description_tooltip": null,
            "layout": "IPY_MODEL_bac6c7dbfb0341978756171985c20a7f",
            "placeholder": "​",
            "style": "IPY_MODEL_0609773817514d649f3b027501d09ad1",
            "value": " 1.15k/1.15k [00:00&lt;00:00, 80.9kB/s]"
          }
        },
        "156d82db796543678e8b5bed0abdd383": {
          "model_module": "@jupyter-widgets/base",
          "model_name": "LayoutModel",
          "model_module_version": "1.2.0",
          "state": {
            "_model_module": "@jupyter-widgets/base",
            "_model_module_version": "1.2.0",
            "_model_name": "LayoutModel",
            "_view_count": null,
            "_view_module": "@jupyter-widgets/base",
            "_view_module_version": "1.2.0",
            "_view_name": "LayoutView",
            "align_content": null,
            "align_items": null,
            "align_self": null,
            "border": null,
            "bottom": null,
            "display": null,
            "flex": null,
            "flex_flow": null,
            "grid_area": null,
            "grid_auto_columns": null,
            "grid_auto_flow": null,
            "grid_auto_rows": null,
            "grid_column": null,
            "grid_gap": null,
            "grid_row": null,
            "grid_template_areas": null,
            "grid_template_columns": null,
            "grid_template_rows": null,
            "height": null,
            "justify_content": null,
            "justify_items": null,
            "left": null,
            "margin": null,
            "max_height": null,
            "max_width": null,
            "min_height": null,
            "min_width": null,
            "object_fit": null,
            "object_position": null,
            "order": null,
            "overflow": null,
            "overflow_x": null,
            "overflow_y": null,
            "padding": null,
            "right": null,
            "top": null,
            "visibility": null,
            "width": null
          }
        },
        "f258abfb856d4127b3beb7d9757ab4ed": {
          "model_module": "@jupyter-widgets/base",
          "model_name": "LayoutModel",
          "model_module_version": "1.2.0",
          "state": {
            "_model_module": "@jupyter-widgets/base",
            "_model_module_version": "1.2.0",
            "_model_name": "LayoutModel",
            "_view_count": null,
            "_view_module": "@jupyter-widgets/base",
            "_view_module_version": "1.2.0",
            "_view_name": "LayoutView",
            "align_content": null,
            "align_items": null,
            "align_self": null,
            "border": null,
            "bottom": null,
            "display": null,
            "flex": null,
            "flex_flow": null,
            "grid_area": null,
            "grid_auto_columns": null,
            "grid_auto_flow": null,
            "grid_auto_rows": null,
            "grid_column": null,
            "grid_gap": null,
            "grid_row": null,
            "grid_template_areas": null,
            "grid_template_columns": null,
            "grid_template_rows": null,
            "height": null,
            "justify_content": null,
            "justify_items": null,
            "left": null,
            "margin": null,
            "max_height": null,
            "max_width": null,
            "min_height": null,
            "min_width": null,
            "object_fit": null,
            "object_position": null,
            "order": null,
            "overflow": null,
            "overflow_x": null,
            "overflow_y": null,
            "padding": null,
            "right": null,
            "top": null,
            "visibility": null,
            "width": null
          }
        },
        "a31b8ebc48f6422e891541688cc9a031": {
          "model_module": "@jupyter-widgets/controls",
          "model_name": "DescriptionStyleModel",
          "model_module_version": "1.5.0",
          "state": {
            "_model_module": "@jupyter-widgets/controls",
            "_model_module_version": "1.5.0",
            "_model_name": "DescriptionStyleModel",
            "_view_count": null,
            "_view_module": "@jupyter-widgets/base",
            "_view_module_version": "1.2.0",
            "_view_name": "StyleView",
            "description_width": ""
          }
        },
        "40537fa12f574136950755a5ab65d50b": {
          "model_module": "@jupyter-widgets/base",
          "model_name": "LayoutModel",
          "model_module_version": "1.2.0",
          "state": {
            "_model_module": "@jupyter-widgets/base",
            "_model_module_version": "1.2.0",
            "_model_name": "LayoutModel",
            "_view_count": null,
            "_view_module": "@jupyter-widgets/base",
            "_view_module_version": "1.2.0",
            "_view_name": "LayoutView",
            "align_content": null,
            "align_items": null,
            "align_self": null,
            "border": null,
            "bottom": null,
            "display": null,
            "flex": null,
            "flex_flow": null,
            "grid_area": null,
            "grid_auto_columns": null,
            "grid_auto_flow": null,
            "grid_auto_rows": null,
            "grid_column": null,
            "grid_gap": null,
            "grid_row": null,
            "grid_template_areas": null,
            "grid_template_columns": null,
            "grid_template_rows": null,
            "height": null,
            "justify_content": null,
            "justify_items": null,
            "left": null,
            "margin": null,
            "max_height": null,
            "max_width": null,
            "min_height": null,
            "min_width": null,
            "object_fit": null,
            "object_position": null,
            "order": null,
            "overflow": null,
            "overflow_x": null,
            "overflow_y": null,
            "padding": null,
            "right": null,
            "top": null,
            "visibility": null,
            "width": null
          }
        },
        "226285bc1c944ed8832e209f168aab7f": {
          "model_module": "@jupyter-widgets/controls",
          "model_name": "ProgressStyleModel",
          "model_module_version": "1.5.0",
          "state": {
            "_model_module": "@jupyter-widgets/controls",
            "_model_module_version": "1.5.0",
            "_model_name": "ProgressStyleModel",
            "_view_count": null,
            "_view_module": "@jupyter-widgets/base",
            "_view_module_version": "1.2.0",
            "_view_name": "StyleView",
            "bar_color": null,
            "description_width": ""
          }
        },
        "bac6c7dbfb0341978756171985c20a7f": {
          "model_module": "@jupyter-widgets/base",
          "model_name": "LayoutModel",
          "model_module_version": "1.2.0",
          "state": {
            "_model_module": "@jupyter-widgets/base",
            "_model_module_version": "1.2.0",
            "_model_name": "LayoutModel",
            "_view_count": null,
            "_view_module": "@jupyter-widgets/base",
            "_view_module_version": "1.2.0",
            "_view_name": "LayoutView",
            "align_content": null,
            "align_items": null,
            "align_self": null,
            "border": null,
            "bottom": null,
            "display": null,
            "flex": null,
            "flex_flow": null,
            "grid_area": null,
            "grid_auto_columns": null,
            "grid_auto_flow": null,
            "grid_auto_rows": null,
            "grid_column": null,
            "grid_gap": null,
            "grid_row": null,
            "grid_template_areas": null,
            "grid_template_columns": null,
            "grid_template_rows": null,
            "height": null,
            "justify_content": null,
            "justify_items": null,
            "left": null,
            "margin": null,
            "max_height": null,
            "max_width": null,
            "min_height": null,
            "min_width": null,
            "object_fit": null,
            "object_position": null,
            "order": null,
            "overflow": null,
            "overflow_x": null,
            "overflow_y": null,
            "padding": null,
            "right": null,
            "top": null,
            "visibility": null,
            "width": null
          }
        },
        "0609773817514d649f3b027501d09ad1": {
          "model_module": "@jupyter-widgets/controls",
          "model_name": "DescriptionStyleModel",
          "model_module_version": "1.5.0",
          "state": {
            "_model_module": "@jupyter-widgets/controls",
            "_model_module_version": "1.5.0",
            "_model_name": "DescriptionStyleModel",
            "_view_count": null,
            "_view_module": "@jupyter-widgets/base",
            "_view_module_version": "1.2.0",
            "_view_name": "StyleView",
            "description_width": ""
          }
        },
        "ea0511369fbc4d24924d94c30f53d714": {
          "model_module": "@jupyter-widgets/controls",
          "model_name": "HBoxModel",
          "model_module_version": "1.5.0",
          "state": {
            "_dom_classes": [],
            "_model_module": "@jupyter-widgets/controls",
            "_model_module_version": "1.5.0",
            "_model_name": "HBoxModel",
            "_view_count": null,
            "_view_module": "@jupyter-widgets/controls",
            "_view_module_version": "1.5.0",
            "_view_name": "HBoxView",
            "box_style": "",
            "children": [
              "IPY_MODEL_0b5da2b43f704d318e211c1289d6c9c7",
              "IPY_MODEL_3cf8ac5435e74f84b94eb7779a8dbaf9",
              "IPY_MODEL_03da15e961f94d2cbb27c5bd52cb3fad"
            ],
            "layout": "IPY_MODEL_9ebcc646e7c94ec48a5819caadd67a90"
          }
        },
        "0b5da2b43f704d318e211c1289d6c9c7": {
          "model_module": "@jupyter-widgets/controls",
          "model_name": "HTMLModel",
          "model_module_version": "1.5.0",
          "state": {
            "_dom_classes": [],
            "_model_module": "@jupyter-widgets/controls",
            "_model_module_version": "1.5.0",
            "_model_name": "HTMLModel",
            "_view_count": null,
            "_view_module": "@jupyter-widgets/controls",
            "_view_module_version": "1.5.0",
            "_view_name": "HTMLView",
            "description": "",
            "description_tooltip": null,
            "layout": "IPY_MODEL_b0b7db87475841e79bbe8a21f65c5728",
            "placeholder": "​",
            "style": "IPY_MODEL_2c96c31bc0b34374835e1773ef915791",
            "value": "model.safetensors: 100%"
          }
        },
        "3cf8ac5435e74f84b94eb7779a8dbaf9": {
          "model_module": "@jupyter-widgets/controls",
          "model_name": "FloatProgressModel",
          "model_module_version": "1.5.0",
          "state": {
            "_dom_classes": [],
            "_model_module": "@jupyter-widgets/controls",
            "_model_module_version": "1.5.0",
            "_model_name": "FloatProgressModel",
            "_view_count": null,
            "_view_module": "@jupyter-widgets/controls",
            "_view_module_version": "1.5.0",
            "_view_name": "ProgressView",
            "bar_style": "success",
            "description": "",
            "description_tooltip": null,
            "layout": "IPY_MODEL_35898f7957274b95bb2017116fb42edb",
            "max": 5702746403,
            "min": 0,
            "orientation": "horizontal",
            "style": "IPY_MODEL_658514339867450f93e2121a50ae8c5b",
            "value": 5702746403
          }
        },
        "03da15e961f94d2cbb27c5bd52cb3fad": {
          "model_module": "@jupyter-widgets/controls",
          "model_name": "HTMLModel",
          "model_module_version": "1.5.0",
          "state": {
            "_dom_classes": [],
            "_model_module": "@jupyter-widgets/controls",
            "_model_module_version": "1.5.0",
            "_model_name": "HTMLModel",
            "_view_count": null,
            "_view_module": "@jupyter-widgets/controls",
            "_view_module_version": "1.5.0",
            "_view_name": "HTMLView",
            "description": "",
            "description_tooltip": null,
            "layout": "IPY_MODEL_6391029607924233910ab0c597fbc001",
            "placeholder": "​",
            "style": "IPY_MODEL_77765a375d3b4c75b4731c0839af9501",
            "value": " 5.70G/5.70G [01:04&lt;00:00, 134MB/s]"
          }
        },
        "9ebcc646e7c94ec48a5819caadd67a90": {
          "model_module": "@jupyter-widgets/base",
          "model_name": "LayoutModel",
          "model_module_version": "1.2.0",
          "state": {
            "_model_module": "@jupyter-widgets/base",
            "_model_module_version": "1.2.0",
            "_model_name": "LayoutModel",
            "_view_count": null,
            "_view_module": "@jupyter-widgets/base",
            "_view_module_version": "1.2.0",
            "_view_name": "LayoutView",
            "align_content": null,
            "align_items": null,
            "align_self": null,
            "border": null,
            "bottom": null,
            "display": null,
            "flex": null,
            "flex_flow": null,
            "grid_area": null,
            "grid_auto_columns": null,
            "grid_auto_flow": null,
            "grid_auto_rows": null,
            "grid_column": null,
            "grid_gap": null,
            "grid_row": null,
            "grid_template_areas": null,
            "grid_template_columns": null,
            "grid_template_rows": null,
            "height": null,
            "justify_content": null,
            "justify_items": null,
            "left": null,
            "margin": null,
            "max_height": null,
            "max_width": null,
            "min_height": null,
            "min_width": null,
            "object_fit": null,
            "object_position": null,
            "order": null,
            "overflow": null,
            "overflow_x": null,
            "overflow_y": null,
            "padding": null,
            "right": null,
            "top": null,
            "visibility": null,
            "width": null
          }
        },
        "b0b7db87475841e79bbe8a21f65c5728": {
          "model_module": "@jupyter-widgets/base",
          "model_name": "LayoutModel",
          "model_module_version": "1.2.0",
          "state": {
            "_model_module": "@jupyter-widgets/base",
            "_model_module_version": "1.2.0",
            "_model_name": "LayoutModel",
            "_view_count": null,
            "_view_module": "@jupyter-widgets/base",
            "_view_module_version": "1.2.0",
            "_view_name": "LayoutView",
            "align_content": null,
            "align_items": null,
            "align_self": null,
            "border": null,
            "bottom": null,
            "display": null,
            "flex": null,
            "flex_flow": null,
            "grid_area": null,
            "grid_auto_columns": null,
            "grid_auto_flow": null,
            "grid_auto_rows": null,
            "grid_column": null,
            "grid_gap": null,
            "grid_row": null,
            "grid_template_areas": null,
            "grid_template_columns": null,
            "grid_template_rows": null,
            "height": null,
            "justify_content": null,
            "justify_items": null,
            "left": null,
            "margin": null,
            "max_height": null,
            "max_width": null,
            "min_height": null,
            "min_width": null,
            "object_fit": null,
            "object_position": null,
            "order": null,
            "overflow": null,
            "overflow_x": null,
            "overflow_y": null,
            "padding": null,
            "right": null,
            "top": null,
            "visibility": null,
            "width": null
          }
        },
        "2c96c31bc0b34374835e1773ef915791": {
          "model_module": "@jupyter-widgets/controls",
          "model_name": "DescriptionStyleModel",
          "model_module_version": "1.5.0",
          "state": {
            "_model_module": "@jupyter-widgets/controls",
            "_model_module_version": "1.5.0",
            "_model_name": "DescriptionStyleModel",
            "_view_count": null,
            "_view_module": "@jupyter-widgets/base",
            "_view_module_version": "1.2.0",
            "_view_name": "StyleView",
            "description_width": ""
          }
        },
        "35898f7957274b95bb2017116fb42edb": {
          "model_module": "@jupyter-widgets/base",
          "model_name": "LayoutModel",
          "model_module_version": "1.2.0",
          "state": {
            "_model_module": "@jupyter-widgets/base",
            "_model_module_version": "1.2.0",
            "_model_name": "LayoutModel",
            "_view_count": null,
            "_view_module": "@jupyter-widgets/base",
            "_view_module_version": "1.2.0",
            "_view_name": "LayoutView",
            "align_content": null,
            "align_items": null,
            "align_self": null,
            "border": null,
            "bottom": null,
            "display": null,
            "flex": null,
            "flex_flow": null,
            "grid_area": null,
            "grid_auto_columns": null,
            "grid_auto_flow": null,
            "grid_auto_rows": null,
            "grid_column": null,
            "grid_gap": null,
            "grid_row": null,
            "grid_template_areas": null,
            "grid_template_columns": null,
            "grid_template_rows": null,
            "height": null,
            "justify_content": null,
            "justify_items": null,
            "left": null,
            "margin": null,
            "max_height": null,
            "max_width": null,
            "min_height": null,
            "min_width": null,
            "object_fit": null,
            "object_position": null,
            "order": null,
            "overflow": null,
            "overflow_x": null,
            "overflow_y": null,
            "padding": null,
            "right": null,
            "top": null,
            "visibility": null,
            "width": null
          }
        },
        "658514339867450f93e2121a50ae8c5b": {
          "model_module": "@jupyter-widgets/controls",
          "model_name": "ProgressStyleModel",
          "model_module_version": "1.5.0",
          "state": {
            "_model_module": "@jupyter-widgets/controls",
            "_model_module_version": "1.5.0",
            "_model_name": "ProgressStyleModel",
            "_view_count": null,
            "_view_module": "@jupyter-widgets/base",
            "_view_module_version": "1.2.0",
            "_view_name": "StyleView",
            "bar_color": null,
            "description_width": ""
          }
        },
        "6391029607924233910ab0c597fbc001": {
          "model_module": "@jupyter-widgets/base",
          "model_name": "LayoutModel",
          "model_module_version": "1.2.0",
          "state": {
            "_model_module": "@jupyter-widgets/base",
            "_model_module_version": "1.2.0",
            "_model_name": "LayoutModel",
            "_view_count": null,
            "_view_module": "@jupyter-widgets/base",
            "_view_module_version": "1.2.0",
            "_view_name": "LayoutView",
            "align_content": null,
            "align_items": null,
            "align_self": null,
            "border": null,
            "bottom": null,
            "display": null,
            "flex": null,
            "flex_flow": null,
            "grid_area": null,
            "grid_auto_columns": null,
            "grid_auto_flow": null,
            "grid_auto_rows": null,
            "grid_column": null,
            "grid_gap": null,
            "grid_row": null,
            "grid_template_areas": null,
            "grid_template_columns": null,
            "grid_template_rows": null,
            "height": null,
            "justify_content": null,
            "justify_items": null,
            "left": null,
            "margin": null,
            "max_height": null,
            "max_width": null,
            "min_height": null,
            "min_width": null,
            "object_fit": null,
            "object_position": null,
            "order": null,
            "overflow": null,
            "overflow_x": null,
            "overflow_y": null,
            "padding": null,
            "right": null,
            "top": null,
            "visibility": null,
            "width": null
          }
        },
        "77765a375d3b4c75b4731c0839af9501": {
          "model_module": "@jupyter-widgets/controls",
          "model_name": "DescriptionStyleModel",
          "model_module_version": "1.5.0",
          "state": {
            "_model_module": "@jupyter-widgets/controls",
            "_model_module_version": "1.5.0",
            "_model_name": "DescriptionStyleModel",
            "_view_count": null,
            "_view_module": "@jupyter-widgets/base",
            "_view_module_version": "1.2.0",
            "_view_name": "StyleView",
            "description_width": ""
          }
        },
        "c428e2dcaf04458d9bc3de122665e302": {
          "model_module": "@jupyter-widgets/controls",
          "model_name": "HBoxModel",
          "model_module_version": "1.5.0",
          "state": {
            "_dom_classes": [],
            "_model_module": "@jupyter-widgets/controls",
            "_model_module_version": "1.5.0",
            "_model_name": "HBoxModel",
            "_view_count": null,
            "_view_module": "@jupyter-widgets/controls",
            "_view_module_version": "1.5.0",
            "_view_name": "HBoxView",
            "box_style": "",
            "children": [
              "IPY_MODEL_decba0c45549457b991863a1f8ec17f3",
              "IPY_MODEL_7798c1aa29d445338272127b0ddf0f83",
              "IPY_MODEL_f09a2be2f84a423cade6a401d30898d3"
            ],
            "layout": "IPY_MODEL_0c42d03101ef476aad0dc55ddf01d73b"
          }
        },
        "decba0c45549457b991863a1f8ec17f3": {
          "model_module": "@jupyter-widgets/controls",
          "model_name": "HTMLModel",
          "model_module_version": "1.5.0",
          "state": {
            "_dom_classes": [],
            "_model_module": "@jupyter-widgets/controls",
            "_model_module_version": "1.5.0",
            "_model_name": "HTMLModel",
            "_view_count": null,
            "_view_module": "@jupyter-widgets/controls",
            "_view_module_version": "1.5.0",
            "_view_name": "HTMLView",
            "description": "",
            "description_tooltip": null,
            "layout": "IPY_MODEL_1268cc9160ad481caa00d11a609ff138",
            "placeholder": "​",
            "style": "IPY_MODEL_42bce03bcda64bf380a839846736ee4f",
            "value": "generation_config.json: 100%"
          }
        },
        "7798c1aa29d445338272127b0ddf0f83": {
          "model_module": "@jupyter-widgets/controls",
          "model_name": "FloatProgressModel",
          "model_module_version": "1.5.0",
          "state": {
            "_dom_classes": [],
            "_model_module": "@jupyter-widgets/controls",
            "_model_module_version": "1.5.0",
            "_model_name": "FloatProgressModel",
            "_view_count": null,
            "_view_module": "@jupyter-widgets/controls",
            "_view_module_version": "1.5.0",
            "_view_name": "ProgressView",
            "bar_style": "success",
            "description": "",
            "description_tooltip": null,
            "layout": "IPY_MODEL_b41b2137a09a4a93acbd1b5222ecccf6",
            "max": 131,
            "min": 0,
            "orientation": "horizontal",
            "style": "IPY_MODEL_bf1b092d3a634d4bb6eea3b57dd121ad",
            "value": 131
          }
        },
        "f09a2be2f84a423cade6a401d30898d3": {
          "model_module": "@jupyter-widgets/controls",
          "model_name": "HTMLModel",
          "model_module_version": "1.5.0",
          "state": {
            "_dom_classes": [],
            "_model_module": "@jupyter-widgets/controls",
            "_model_module_version": "1.5.0",
            "_model_name": "HTMLModel",
            "_view_count": null,
            "_view_module": "@jupyter-widgets/controls",
            "_view_module_version": "1.5.0",
            "_view_name": "HTMLView",
            "description": "",
            "description_tooltip": null,
            "layout": "IPY_MODEL_087ee9ee4bc945258aaf34570a9a657a",
            "placeholder": "​",
            "style": "IPY_MODEL_c11c7cccaf30428b8a9d9a4157978de9",
            "value": " 131/131 [00:00&lt;00:00, 10.2kB/s]"
          }
        },
        "0c42d03101ef476aad0dc55ddf01d73b": {
          "model_module": "@jupyter-widgets/base",
          "model_name": "LayoutModel",
          "model_module_version": "1.2.0",
          "state": {
            "_model_module": "@jupyter-widgets/base",
            "_model_module_version": "1.2.0",
            "_model_name": "LayoutModel",
            "_view_count": null,
            "_view_module": "@jupyter-widgets/base",
            "_view_module_version": "1.2.0",
            "_view_name": "LayoutView",
            "align_content": null,
            "align_items": null,
            "align_self": null,
            "border": null,
            "bottom": null,
            "display": null,
            "flex": null,
            "flex_flow": null,
            "grid_area": null,
            "grid_auto_columns": null,
            "grid_auto_flow": null,
            "grid_auto_rows": null,
            "grid_column": null,
            "grid_gap": null,
            "grid_row": null,
            "grid_template_areas": null,
            "grid_template_columns": null,
            "grid_template_rows": null,
            "height": null,
            "justify_content": null,
            "justify_items": null,
            "left": null,
            "margin": null,
            "max_height": null,
            "max_width": null,
            "min_height": null,
            "min_width": null,
            "object_fit": null,
            "object_position": null,
            "order": null,
            "overflow": null,
            "overflow_x": null,
            "overflow_y": null,
            "padding": null,
            "right": null,
            "top": null,
            "visibility": null,
            "width": null
          }
        },
        "1268cc9160ad481caa00d11a609ff138": {
          "model_module": "@jupyter-widgets/base",
          "model_name": "LayoutModel",
          "model_module_version": "1.2.0",
          "state": {
            "_model_module": "@jupyter-widgets/base",
            "_model_module_version": "1.2.0",
            "_model_name": "LayoutModel",
            "_view_count": null,
            "_view_module": "@jupyter-widgets/base",
            "_view_module_version": "1.2.0",
            "_view_name": "LayoutView",
            "align_content": null,
            "align_items": null,
            "align_self": null,
            "border": null,
            "bottom": null,
            "display": null,
            "flex": null,
            "flex_flow": null,
            "grid_area": null,
            "grid_auto_columns": null,
            "grid_auto_flow": null,
            "grid_auto_rows": null,
            "grid_column": null,
            "grid_gap": null,
            "grid_row": null,
            "grid_template_areas": null,
            "grid_template_columns": null,
            "grid_template_rows": null,
            "height": null,
            "justify_content": null,
            "justify_items": null,
            "left": null,
            "margin": null,
            "max_height": null,
            "max_width": null,
            "min_height": null,
            "min_width": null,
            "object_fit": null,
            "object_position": null,
            "order": null,
            "overflow": null,
            "overflow_x": null,
            "overflow_y": null,
            "padding": null,
            "right": null,
            "top": null,
            "visibility": null,
            "width": null
          }
        },
        "42bce03bcda64bf380a839846736ee4f": {
          "model_module": "@jupyter-widgets/controls",
          "model_name": "DescriptionStyleModel",
          "model_module_version": "1.5.0",
          "state": {
            "_model_module": "@jupyter-widgets/controls",
            "_model_module_version": "1.5.0",
            "_model_name": "DescriptionStyleModel",
            "_view_count": null,
            "_view_module": "@jupyter-widgets/base",
            "_view_module_version": "1.2.0",
            "_view_name": "StyleView",
            "description_width": ""
          }
        },
        "b41b2137a09a4a93acbd1b5222ecccf6": {
          "model_module": "@jupyter-widgets/base",
          "model_name": "LayoutModel",
          "model_module_version": "1.2.0",
          "state": {
            "_model_module": "@jupyter-widgets/base",
            "_model_module_version": "1.2.0",
            "_model_name": "LayoutModel",
            "_view_count": null,
            "_view_module": "@jupyter-widgets/base",
            "_view_module_version": "1.2.0",
            "_view_name": "LayoutView",
            "align_content": null,
            "align_items": null,
            "align_self": null,
            "border": null,
            "bottom": null,
            "display": null,
            "flex": null,
            "flex_flow": null,
            "grid_area": null,
            "grid_auto_columns": null,
            "grid_auto_flow": null,
            "grid_auto_rows": null,
            "grid_column": null,
            "grid_gap": null,
            "grid_row": null,
            "grid_template_areas": null,
            "grid_template_columns": null,
            "grid_template_rows": null,
            "height": null,
            "justify_content": null,
            "justify_items": null,
            "left": null,
            "margin": null,
            "max_height": null,
            "max_width": null,
            "min_height": null,
            "min_width": null,
            "object_fit": null,
            "object_position": null,
            "order": null,
            "overflow": null,
            "overflow_x": null,
            "overflow_y": null,
            "padding": null,
            "right": null,
            "top": null,
            "visibility": null,
            "width": null
          }
        },
        "bf1b092d3a634d4bb6eea3b57dd121ad": {
          "model_module": "@jupyter-widgets/controls",
          "model_name": "ProgressStyleModel",
          "model_module_version": "1.5.0",
          "state": {
            "_model_module": "@jupyter-widgets/controls",
            "_model_module_version": "1.5.0",
            "_model_name": "ProgressStyleModel",
            "_view_count": null,
            "_view_module": "@jupyter-widgets/base",
            "_view_module_version": "1.2.0",
            "_view_name": "StyleView",
            "bar_color": null,
            "description_width": ""
          }
        },
        "087ee9ee4bc945258aaf34570a9a657a": {
          "model_module": "@jupyter-widgets/base",
          "model_name": "LayoutModel",
          "model_module_version": "1.2.0",
          "state": {
            "_model_module": "@jupyter-widgets/base",
            "_model_module_version": "1.2.0",
            "_model_name": "LayoutModel",
            "_view_count": null,
            "_view_module": "@jupyter-widgets/base",
            "_view_module_version": "1.2.0",
            "_view_name": "LayoutView",
            "align_content": null,
            "align_items": null,
            "align_self": null,
            "border": null,
            "bottom": null,
            "display": null,
            "flex": null,
            "flex_flow": null,
            "grid_area": null,
            "grid_auto_columns": null,
            "grid_auto_flow": null,
            "grid_auto_rows": null,
            "grid_column": null,
            "grid_gap": null,
            "grid_row": null,
            "grid_template_areas": null,
            "grid_template_columns": null,
            "grid_template_rows": null,
            "height": null,
            "justify_content": null,
            "justify_items": null,
            "left": null,
            "margin": null,
            "max_height": null,
            "max_width": null,
            "min_height": null,
            "min_width": null,
            "object_fit": null,
            "object_position": null,
            "order": null,
            "overflow": null,
            "overflow_x": null,
            "overflow_y": null,
            "padding": null,
            "right": null,
            "top": null,
            "visibility": null,
            "width": null
          }
        },
        "c11c7cccaf30428b8a9d9a4157978de9": {
          "model_module": "@jupyter-widgets/controls",
          "model_name": "DescriptionStyleModel",
          "model_module_version": "1.5.0",
          "state": {
            "_model_module": "@jupyter-widgets/controls",
            "_model_module_version": "1.5.0",
            "_model_name": "DescriptionStyleModel",
            "_view_count": null,
            "_view_module": "@jupyter-widgets/base",
            "_view_module_version": "1.2.0",
            "_view_name": "StyleView",
            "description_width": ""
          }
        },
        "60eccd6781b84ef7b70c5fdec6453656": {
          "model_module": "@jupyter-widgets/controls",
          "model_name": "VBoxModel",
          "model_module_version": "1.5.0",
          "state": {
            "_dom_classes": [],
            "_model_module": "@jupyter-widgets/controls",
            "_model_module_version": "1.5.0",
            "_model_name": "VBoxModel",
            "_view_count": null,
            "_view_module": "@jupyter-widgets/controls",
            "_view_module_version": "1.5.0",
            "_view_name": "VBoxView",
            "box_style": "",
            "children": [
              "IPY_MODEL_2c1998a374304b9e9de3fc0ee742525d",
              "IPY_MODEL_8107c81d373945dc87a5616a3e7f1f01",
              "IPY_MODEL_fa3085929c7f40cfbaeb73d60a8270ed",
              "IPY_MODEL_e3ec4f1c07a345dc97479f2b2cc8ee98"
            ],
            "layout": "IPY_MODEL_824247bd7f464a7f874389668293fa1b"
          }
        },
        "2d789e1c8a8040e3a08c398a76970f79": {
          "model_module": "@jupyter-widgets/controls",
          "model_name": "HTMLModel",
          "model_module_version": "1.5.0",
          "state": {
            "_dom_classes": [],
            "_model_module": "@jupyter-widgets/controls",
            "_model_module_version": "1.5.0",
            "_model_name": "HTMLModel",
            "_view_count": null,
            "_view_module": "@jupyter-widgets/controls",
            "_view_module_version": "1.5.0",
            "_view_name": "HTMLView",
            "description": "",
            "description_tooltip": null,
            "layout": "IPY_MODEL_e8aa5b93dd2f460fb9fa98cf8ebb4dcd",
            "placeholder": "​",
            "style": "IPY_MODEL_93f7478fe01b40719f5eec84dfa7817f",
            "value": "<center> <img\nsrc=https://huggingface.co/front/assets/huggingface_logo-noborder.svg\nalt='Hugging Face'> <br> Copy a token from <a\nhref=\"https://huggingface.co/settings/tokens\" target=\"_blank\">your Hugging Face\ntokens page</a> and paste it below. <br> Immediately click login after copying\nyour token or it might be stored in plain text in this notebook file. </center>"
          }
        },
        "df88b14dbd8b4bb4abb2bf709a169307": {
          "model_module": "@jupyter-widgets/controls",
          "model_name": "PasswordModel",
          "model_module_version": "1.5.0",
          "state": {
            "_dom_classes": [],
            "_model_module": "@jupyter-widgets/controls",
            "_model_module_version": "1.5.0",
            "_model_name": "PasswordModel",
            "_view_count": null,
            "_view_module": "@jupyter-widgets/controls",
            "_view_module_version": "1.5.0",
            "_view_name": "PasswordView",
            "continuous_update": true,
            "description": "Token:",
            "description_tooltip": null,
            "disabled": false,
            "layout": "IPY_MODEL_37c7feba26f044e59f0a20823505b6de",
            "placeholder": "​",
            "style": "IPY_MODEL_04475aa35ce1454ab3595b7f446bf9ae",
            "value": ""
          }
        },
        "71c731c07ec843608df40c763229d8d0": {
          "model_module": "@jupyter-widgets/controls",
          "model_name": "CheckboxModel",
          "model_module_version": "1.5.0",
          "state": {
            "_dom_classes": [],
            "_model_module": "@jupyter-widgets/controls",
            "_model_module_version": "1.5.0",
            "_model_name": "CheckboxModel",
            "_view_count": null,
            "_view_module": "@jupyter-widgets/controls",
            "_view_module_version": "1.5.0",
            "_view_name": "CheckboxView",
            "description": "Add token as git credential?",
            "description_tooltip": null,
            "disabled": false,
            "indent": true,
            "layout": "IPY_MODEL_088a82327d954162bfa04cfb20f90bef",
            "style": "IPY_MODEL_c5489e620ce74585bd32380aa5eb7824",
            "value": true
          }
        },
        "63a2966b7cec47ce800dc2541e4c3a98": {
          "model_module": "@jupyter-widgets/controls",
          "model_name": "ButtonModel",
          "model_module_version": "1.5.0",
          "state": {
            "_dom_classes": [],
            "_model_module": "@jupyter-widgets/controls",
            "_model_module_version": "1.5.0",
            "_model_name": "ButtonModel",
            "_view_count": null,
            "_view_module": "@jupyter-widgets/controls",
            "_view_module_version": "1.5.0",
            "_view_name": "ButtonView",
            "button_style": "",
            "description": "Login",
            "disabled": false,
            "icon": "",
            "layout": "IPY_MODEL_fe250e2260d2440795f15a03f539a13b",
            "style": "IPY_MODEL_6a672d65ee6c46e690db012e6c7513e0",
            "tooltip": ""
          }
        },
        "fe059c2b07c44d32873851f691611390": {
          "model_module": "@jupyter-widgets/controls",
          "model_name": "HTMLModel",
          "model_module_version": "1.5.0",
          "state": {
            "_dom_classes": [],
            "_model_module": "@jupyter-widgets/controls",
            "_model_module_version": "1.5.0",
            "_model_name": "HTMLModel",
            "_view_count": null,
            "_view_module": "@jupyter-widgets/controls",
            "_view_module_version": "1.5.0",
            "_view_name": "HTMLView",
            "description": "",
            "description_tooltip": null,
            "layout": "IPY_MODEL_13626e4555ea42adb0ef87b992edc040",
            "placeholder": "​",
            "style": "IPY_MODEL_d4470702d6644c61990191696ff9f8c2",
            "value": "\n<b>Pro Tip:</b> If you don't already have one, you can create a dedicated\n'notebooks' token with 'write' access, that you can then easily reuse for all\nnotebooks. </center>"
          }
        },
        "824247bd7f464a7f874389668293fa1b": {
          "model_module": "@jupyter-widgets/base",
          "model_name": "LayoutModel",
          "model_module_version": "1.2.0",
          "state": {
            "_model_module": "@jupyter-widgets/base",
            "_model_module_version": "1.2.0",
            "_model_name": "LayoutModel",
            "_view_count": null,
            "_view_module": "@jupyter-widgets/base",
            "_view_module_version": "1.2.0",
            "_view_name": "LayoutView",
            "align_content": null,
            "align_items": "center",
            "align_self": null,
            "border": null,
            "bottom": null,
            "display": "flex",
            "flex": null,
            "flex_flow": "column",
            "grid_area": null,
            "grid_auto_columns": null,
            "grid_auto_flow": null,
            "grid_auto_rows": null,
            "grid_column": null,
            "grid_gap": null,
            "grid_row": null,
            "grid_template_areas": null,
            "grid_template_columns": null,
            "grid_template_rows": null,
            "height": null,
            "justify_content": null,
            "justify_items": null,
            "left": null,
            "margin": null,
            "max_height": null,
            "max_width": null,
            "min_height": null,
            "min_width": null,
            "object_fit": null,
            "object_position": null,
            "order": null,
            "overflow": null,
            "overflow_x": null,
            "overflow_y": null,
            "padding": null,
            "right": null,
            "top": null,
            "visibility": null,
            "width": "50%"
          }
        },
        "e8aa5b93dd2f460fb9fa98cf8ebb4dcd": {
          "model_module": "@jupyter-widgets/base",
          "model_name": "LayoutModel",
          "model_module_version": "1.2.0",
          "state": {
            "_model_module": "@jupyter-widgets/base",
            "_model_module_version": "1.2.0",
            "_model_name": "LayoutModel",
            "_view_count": null,
            "_view_module": "@jupyter-widgets/base",
            "_view_module_version": "1.2.0",
            "_view_name": "LayoutView",
            "align_content": null,
            "align_items": null,
            "align_self": null,
            "border": null,
            "bottom": null,
            "display": null,
            "flex": null,
            "flex_flow": null,
            "grid_area": null,
            "grid_auto_columns": null,
            "grid_auto_flow": null,
            "grid_auto_rows": null,
            "grid_column": null,
            "grid_gap": null,
            "grid_row": null,
            "grid_template_areas": null,
            "grid_template_columns": null,
            "grid_template_rows": null,
            "height": null,
            "justify_content": null,
            "justify_items": null,
            "left": null,
            "margin": null,
            "max_height": null,
            "max_width": null,
            "min_height": null,
            "min_width": null,
            "object_fit": null,
            "object_position": null,
            "order": null,
            "overflow": null,
            "overflow_x": null,
            "overflow_y": null,
            "padding": null,
            "right": null,
            "top": null,
            "visibility": null,
            "width": null
          }
        },
        "93f7478fe01b40719f5eec84dfa7817f": {
          "model_module": "@jupyter-widgets/controls",
          "model_name": "DescriptionStyleModel",
          "model_module_version": "1.5.0",
          "state": {
            "_model_module": "@jupyter-widgets/controls",
            "_model_module_version": "1.5.0",
            "_model_name": "DescriptionStyleModel",
            "_view_count": null,
            "_view_module": "@jupyter-widgets/base",
            "_view_module_version": "1.2.0",
            "_view_name": "StyleView",
            "description_width": ""
          }
        },
        "37c7feba26f044e59f0a20823505b6de": {
          "model_module": "@jupyter-widgets/base",
          "model_name": "LayoutModel",
          "model_module_version": "1.2.0",
          "state": {
            "_model_module": "@jupyter-widgets/base",
            "_model_module_version": "1.2.0",
            "_model_name": "LayoutModel",
            "_view_count": null,
            "_view_module": "@jupyter-widgets/base",
            "_view_module_version": "1.2.0",
            "_view_name": "LayoutView",
            "align_content": null,
            "align_items": null,
            "align_self": null,
            "border": null,
            "bottom": null,
            "display": null,
            "flex": null,
            "flex_flow": null,
            "grid_area": null,
            "grid_auto_columns": null,
            "grid_auto_flow": null,
            "grid_auto_rows": null,
            "grid_column": null,
            "grid_gap": null,
            "grid_row": null,
            "grid_template_areas": null,
            "grid_template_columns": null,
            "grid_template_rows": null,
            "height": null,
            "justify_content": null,
            "justify_items": null,
            "left": null,
            "margin": null,
            "max_height": null,
            "max_width": null,
            "min_height": null,
            "min_width": null,
            "object_fit": null,
            "object_position": null,
            "order": null,
            "overflow": null,
            "overflow_x": null,
            "overflow_y": null,
            "padding": null,
            "right": null,
            "top": null,
            "visibility": null,
            "width": null
          }
        },
        "04475aa35ce1454ab3595b7f446bf9ae": {
          "model_module": "@jupyter-widgets/controls",
          "model_name": "DescriptionStyleModel",
          "model_module_version": "1.5.0",
          "state": {
            "_model_module": "@jupyter-widgets/controls",
            "_model_module_version": "1.5.0",
            "_model_name": "DescriptionStyleModel",
            "_view_count": null,
            "_view_module": "@jupyter-widgets/base",
            "_view_module_version": "1.2.0",
            "_view_name": "StyleView",
            "description_width": ""
          }
        },
        "088a82327d954162bfa04cfb20f90bef": {
          "model_module": "@jupyter-widgets/base",
          "model_name": "LayoutModel",
          "model_module_version": "1.2.0",
          "state": {
            "_model_module": "@jupyter-widgets/base",
            "_model_module_version": "1.2.0",
            "_model_name": "LayoutModel",
            "_view_count": null,
            "_view_module": "@jupyter-widgets/base",
            "_view_module_version": "1.2.0",
            "_view_name": "LayoutView",
            "align_content": null,
            "align_items": null,
            "align_self": null,
            "border": null,
            "bottom": null,
            "display": null,
            "flex": null,
            "flex_flow": null,
            "grid_area": null,
            "grid_auto_columns": null,
            "grid_auto_flow": null,
            "grid_auto_rows": null,
            "grid_column": null,
            "grid_gap": null,
            "grid_row": null,
            "grid_template_areas": null,
            "grid_template_columns": null,
            "grid_template_rows": null,
            "height": null,
            "justify_content": null,
            "justify_items": null,
            "left": null,
            "margin": null,
            "max_height": null,
            "max_width": null,
            "min_height": null,
            "min_width": null,
            "object_fit": null,
            "object_position": null,
            "order": null,
            "overflow": null,
            "overflow_x": null,
            "overflow_y": null,
            "padding": null,
            "right": null,
            "top": null,
            "visibility": null,
            "width": null
          }
        },
        "c5489e620ce74585bd32380aa5eb7824": {
          "model_module": "@jupyter-widgets/controls",
          "model_name": "DescriptionStyleModel",
          "model_module_version": "1.5.0",
          "state": {
            "_model_module": "@jupyter-widgets/controls",
            "_model_module_version": "1.5.0",
            "_model_name": "DescriptionStyleModel",
            "_view_count": null,
            "_view_module": "@jupyter-widgets/base",
            "_view_module_version": "1.2.0",
            "_view_name": "StyleView",
            "description_width": ""
          }
        },
        "fe250e2260d2440795f15a03f539a13b": {
          "model_module": "@jupyter-widgets/base",
          "model_name": "LayoutModel",
          "model_module_version": "1.2.0",
          "state": {
            "_model_module": "@jupyter-widgets/base",
            "_model_module_version": "1.2.0",
            "_model_name": "LayoutModel",
            "_view_count": null,
            "_view_module": "@jupyter-widgets/base",
            "_view_module_version": "1.2.0",
            "_view_name": "LayoutView",
            "align_content": null,
            "align_items": null,
            "align_self": null,
            "border": null,
            "bottom": null,
            "display": null,
            "flex": null,
            "flex_flow": null,
            "grid_area": null,
            "grid_auto_columns": null,
            "grid_auto_flow": null,
            "grid_auto_rows": null,
            "grid_column": null,
            "grid_gap": null,
            "grid_row": null,
            "grid_template_areas": null,
            "grid_template_columns": null,
            "grid_template_rows": null,
            "height": null,
            "justify_content": null,
            "justify_items": null,
            "left": null,
            "margin": null,
            "max_height": null,
            "max_width": null,
            "min_height": null,
            "min_width": null,
            "object_fit": null,
            "object_position": null,
            "order": null,
            "overflow": null,
            "overflow_x": null,
            "overflow_y": null,
            "padding": null,
            "right": null,
            "top": null,
            "visibility": null,
            "width": null
          }
        },
        "6a672d65ee6c46e690db012e6c7513e0": {
          "model_module": "@jupyter-widgets/controls",
          "model_name": "ButtonStyleModel",
          "model_module_version": "1.5.0",
          "state": {
            "_model_module": "@jupyter-widgets/controls",
            "_model_module_version": "1.5.0",
            "_model_name": "ButtonStyleModel",
            "_view_count": null,
            "_view_module": "@jupyter-widgets/base",
            "_view_module_version": "1.2.0",
            "_view_name": "StyleView",
            "button_color": null,
            "font_weight": ""
          }
        },
        "13626e4555ea42adb0ef87b992edc040": {
          "model_module": "@jupyter-widgets/base",
          "model_name": "LayoutModel",
          "model_module_version": "1.2.0",
          "state": {
            "_model_module": "@jupyter-widgets/base",
            "_model_module_version": "1.2.0",
            "_model_name": "LayoutModel",
            "_view_count": null,
            "_view_module": "@jupyter-widgets/base",
            "_view_module_version": "1.2.0",
            "_view_name": "LayoutView",
            "align_content": null,
            "align_items": null,
            "align_self": null,
            "border": null,
            "bottom": null,
            "display": null,
            "flex": null,
            "flex_flow": null,
            "grid_area": null,
            "grid_auto_columns": null,
            "grid_auto_flow": null,
            "grid_auto_rows": null,
            "grid_column": null,
            "grid_gap": null,
            "grid_row": null,
            "grid_template_areas": null,
            "grid_template_columns": null,
            "grid_template_rows": null,
            "height": null,
            "justify_content": null,
            "justify_items": null,
            "left": null,
            "margin": null,
            "max_height": null,
            "max_width": null,
            "min_height": null,
            "min_width": null,
            "object_fit": null,
            "object_position": null,
            "order": null,
            "overflow": null,
            "overflow_x": null,
            "overflow_y": null,
            "padding": null,
            "right": null,
            "top": null,
            "visibility": null,
            "width": null
          }
        },
        "d4470702d6644c61990191696ff9f8c2": {
          "model_module": "@jupyter-widgets/controls",
          "model_name": "DescriptionStyleModel",
          "model_module_version": "1.5.0",
          "state": {
            "_model_module": "@jupyter-widgets/controls",
            "_model_module_version": "1.5.0",
            "_model_name": "DescriptionStyleModel",
            "_view_count": null,
            "_view_module": "@jupyter-widgets/base",
            "_view_module_version": "1.2.0",
            "_view_name": "StyleView",
            "description_width": ""
          }
        },
        "3fd4f637655b4042b66fa3a9301d74c8": {
          "model_module": "@jupyter-widgets/controls",
          "model_name": "LabelModel",
          "model_module_version": "1.5.0",
          "state": {
            "_dom_classes": [],
            "_model_module": "@jupyter-widgets/controls",
            "_model_module_version": "1.5.0",
            "_model_name": "LabelModel",
            "_view_count": null,
            "_view_module": "@jupyter-widgets/controls",
            "_view_module_version": "1.5.0",
            "_view_name": "LabelView",
            "description": "",
            "description_tooltip": null,
            "layout": "IPY_MODEL_99e375c6a2824c43b23c0b0ee8ccbee9",
            "placeholder": "​",
            "style": "IPY_MODEL_ad4288c8f83b4f99b08a6c5eab7d22d6",
            "value": "Connecting..."
          }
        },
        "99e375c6a2824c43b23c0b0ee8ccbee9": {
          "model_module": "@jupyter-widgets/base",
          "model_name": "LayoutModel",
          "model_module_version": "1.2.0",
          "state": {
            "_model_module": "@jupyter-widgets/base",
            "_model_module_version": "1.2.0",
            "_model_name": "LayoutModel",
            "_view_count": null,
            "_view_module": "@jupyter-widgets/base",
            "_view_module_version": "1.2.0",
            "_view_name": "LayoutView",
            "align_content": null,
            "align_items": null,
            "align_self": null,
            "border": null,
            "bottom": null,
            "display": null,
            "flex": null,
            "flex_flow": null,
            "grid_area": null,
            "grid_auto_columns": null,
            "grid_auto_flow": null,
            "grid_auto_rows": null,
            "grid_column": null,
            "grid_gap": null,
            "grid_row": null,
            "grid_template_areas": null,
            "grid_template_columns": null,
            "grid_template_rows": null,
            "height": null,
            "justify_content": null,
            "justify_items": null,
            "left": null,
            "margin": null,
            "max_height": null,
            "max_width": null,
            "min_height": null,
            "min_width": null,
            "object_fit": null,
            "object_position": null,
            "order": null,
            "overflow": null,
            "overflow_x": null,
            "overflow_y": null,
            "padding": null,
            "right": null,
            "top": null,
            "visibility": null,
            "width": null
          }
        },
        "ad4288c8f83b4f99b08a6c5eab7d22d6": {
          "model_module": "@jupyter-widgets/controls",
          "model_name": "DescriptionStyleModel",
          "model_module_version": "1.5.0",
          "state": {
            "_model_module": "@jupyter-widgets/controls",
            "_model_module_version": "1.5.0",
            "_model_name": "DescriptionStyleModel",
            "_view_count": null,
            "_view_module": "@jupyter-widgets/base",
            "_view_module_version": "1.2.0",
            "_view_name": "StyleView",
            "description_width": ""
          }
        },
        "2c1998a374304b9e9de3fc0ee742525d": {
          "model_module": "@jupyter-widgets/controls",
          "model_name": "LabelModel",
          "model_module_version": "1.5.0",
          "state": {
            "_dom_classes": [],
            "_model_module": "@jupyter-widgets/controls",
            "_model_module_version": "1.5.0",
            "_model_name": "LabelModel",
            "_view_count": null,
            "_view_module": "@jupyter-widgets/controls",
            "_view_module_version": "1.5.0",
            "_view_name": "LabelView",
            "description": "",
            "description_tooltip": null,
            "layout": "IPY_MODEL_a8a5332c2fd14745a876350f58b4e3b4",
            "placeholder": "​",
            "style": "IPY_MODEL_61a03ac3ef2d41b58f12106fdeb6f899",
            "value": "Token is valid (permission: write)."
          }
        },
        "8107c81d373945dc87a5616a3e7f1f01": {
          "model_module": "@jupyter-widgets/controls",
          "model_name": "LabelModel",
          "model_module_version": "1.5.0",
          "state": {
            "_dom_classes": [],
            "_model_module": "@jupyter-widgets/controls",
            "_model_module_version": "1.5.0",
            "_model_name": "LabelModel",
            "_view_count": null,
            "_view_module": "@jupyter-widgets/controls",
            "_view_module_version": "1.5.0",
            "_view_name": "LabelView",
            "description": "",
            "description_tooltip": null,
            "layout": "IPY_MODEL_32817d4fa116421fa574b1e74b4f834a",
            "placeholder": "​",
            "style": "IPY_MODEL_04c6393aaa88485a84a830f0644c7dbf",
            "value": "Your token has been saved in your configured git credential helpers (store)."
          }
        },
        "fa3085929c7f40cfbaeb73d60a8270ed": {
          "model_module": "@jupyter-widgets/controls",
          "model_name": "LabelModel",
          "model_module_version": "1.5.0",
          "state": {
            "_dom_classes": [],
            "_model_module": "@jupyter-widgets/controls",
            "_model_module_version": "1.5.0",
            "_model_name": "LabelModel",
            "_view_count": null,
            "_view_module": "@jupyter-widgets/controls",
            "_view_module_version": "1.5.0",
            "_view_name": "LabelView",
            "description": "",
            "description_tooltip": null,
            "layout": "IPY_MODEL_554a07ec92a34daab9b1ad9b0bc00e42",
            "placeholder": "​",
            "style": "IPY_MODEL_cafb359df83f4a158e1a323bbe598604",
            "value": "Your token has been saved to /root/.cache/huggingface/token"
          }
        },
        "e3ec4f1c07a345dc97479f2b2cc8ee98": {
          "model_module": "@jupyter-widgets/controls",
          "model_name": "LabelModel",
          "model_module_version": "1.5.0",
          "state": {
            "_dom_classes": [],
            "_model_module": "@jupyter-widgets/controls",
            "_model_module_version": "1.5.0",
            "_model_name": "LabelModel",
            "_view_count": null,
            "_view_module": "@jupyter-widgets/controls",
            "_view_module_version": "1.5.0",
            "_view_name": "LabelView",
            "description": "",
            "description_tooltip": null,
            "layout": "IPY_MODEL_51d7f6031a0441558c77581be4a0102b",
            "placeholder": "​",
            "style": "IPY_MODEL_788aefebee524f74a71185e6300b437c",
            "value": "Login successful"
          }
        },
        "a8a5332c2fd14745a876350f58b4e3b4": {
          "model_module": "@jupyter-widgets/base",
          "model_name": "LayoutModel",
          "model_module_version": "1.2.0",
          "state": {
            "_model_module": "@jupyter-widgets/base",
            "_model_module_version": "1.2.0",
            "_model_name": "LayoutModel",
            "_view_count": null,
            "_view_module": "@jupyter-widgets/base",
            "_view_module_version": "1.2.0",
            "_view_name": "LayoutView",
            "align_content": null,
            "align_items": null,
            "align_self": null,
            "border": null,
            "bottom": null,
            "display": null,
            "flex": null,
            "flex_flow": null,
            "grid_area": null,
            "grid_auto_columns": null,
            "grid_auto_flow": null,
            "grid_auto_rows": null,
            "grid_column": null,
            "grid_gap": null,
            "grid_row": null,
            "grid_template_areas": null,
            "grid_template_columns": null,
            "grid_template_rows": null,
            "height": null,
            "justify_content": null,
            "justify_items": null,
            "left": null,
            "margin": null,
            "max_height": null,
            "max_width": null,
            "min_height": null,
            "min_width": null,
            "object_fit": null,
            "object_position": null,
            "order": null,
            "overflow": null,
            "overflow_x": null,
            "overflow_y": null,
            "padding": null,
            "right": null,
            "top": null,
            "visibility": null,
            "width": null
          }
        },
        "61a03ac3ef2d41b58f12106fdeb6f899": {
          "model_module": "@jupyter-widgets/controls",
          "model_name": "DescriptionStyleModel",
          "model_module_version": "1.5.0",
          "state": {
            "_model_module": "@jupyter-widgets/controls",
            "_model_module_version": "1.5.0",
            "_model_name": "DescriptionStyleModel",
            "_view_count": null,
            "_view_module": "@jupyter-widgets/base",
            "_view_module_version": "1.2.0",
            "_view_name": "StyleView",
            "description_width": ""
          }
        },
        "32817d4fa116421fa574b1e74b4f834a": {
          "model_module": "@jupyter-widgets/base",
          "model_name": "LayoutModel",
          "model_module_version": "1.2.0",
          "state": {
            "_model_module": "@jupyter-widgets/base",
            "_model_module_version": "1.2.0",
            "_model_name": "LayoutModel",
            "_view_count": null,
            "_view_module": "@jupyter-widgets/base",
            "_view_module_version": "1.2.0",
            "_view_name": "LayoutView",
            "align_content": null,
            "align_items": null,
            "align_self": null,
            "border": null,
            "bottom": null,
            "display": null,
            "flex": null,
            "flex_flow": null,
            "grid_area": null,
            "grid_auto_columns": null,
            "grid_auto_flow": null,
            "grid_auto_rows": null,
            "grid_column": null,
            "grid_gap": null,
            "grid_row": null,
            "grid_template_areas": null,
            "grid_template_columns": null,
            "grid_template_rows": null,
            "height": null,
            "justify_content": null,
            "justify_items": null,
            "left": null,
            "margin": null,
            "max_height": null,
            "max_width": null,
            "min_height": null,
            "min_width": null,
            "object_fit": null,
            "object_position": null,
            "order": null,
            "overflow": null,
            "overflow_x": null,
            "overflow_y": null,
            "padding": null,
            "right": null,
            "top": null,
            "visibility": null,
            "width": null
          }
        },
        "04c6393aaa88485a84a830f0644c7dbf": {
          "model_module": "@jupyter-widgets/controls",
          "model_name": "DescriptionStyleModel",
          "model_module_version": "1.5.0",
          "state": {
            "_model_module": "@jupyter-widgets/controls",
            "_model_module_version": "1.5.0",
            "_model_name": "DescriptionStyleModel",
            "_view_count": null,
            "_view_module": "@jupyter-widgets/base",
            "_view_module_version": "1.2.0",
            "_view_name": "StyleView",
            "description_width": ""
          }
        },
        "554a07ec92a34daab9b1ad9b0bc00e42": {
          "model_module": "@jupyter-widgets/base",
          "model_name": "LayoutModel",
          "model_module_version": "1.2.0",
          "state": {
            "_model_module": "@jupyter-widgets/base",
            "_model_module_version": "1.2.0",
            "_model_name": "LayoutModel",
            "_view_count": null,
            "_view_module": "@jupyter-widgets/base",
            "_view_module_version": "1.2.0",
            "_view_name": "LayoutView",
            "align_content": null,
            "align_items": null,
            "align_self": null,
            "border": null,
            "bottom": null,
            "display": null,
            "flex": null,
            "flex_flow": null,
            "grid_area": null,
            "grid_auto_columns": null,
            "grid_auto_flow": null,
            "grid_auto_rows": null,
            "grid_column": null,
            "grid_gap": null,
            "grid_row": null,
            "grid_template_areas": null,
            "grid_template_columns": null,
            "grid_template_rows": null,
            "height": null,
            "justify_content": null,
            "justify_items": null,
            "left": null,
            "margin": null,
            "max_height": null,
            "max_width": null,
            "min_height": null,
            "min_width": null,
            "object_fit": null,
            "object_position": null,
            "order": null,
            "overflow": null,
            "overflow_x": null,
            "overflow_y": null,
            "padding": null,
            "right": null,
            "top": null,
            "visibility": null,
            "width": null
          }
        },
        "cafb359df83f4a158e1a323bbe598604": {
          "model_module": "@jupyter-widgets/controls",
          "model_name": "DescriptionStyleModel",
          "model_module_version": "1.5.0",
          "state": {
            "_model_module": "@jupyter-widgets/controls",
            "_model_module_version": "1.5.0",
            "_model_name": "DescriptionStyleModel",
            "_view_count": null,
            "_view_module": "@jupyter-widgets/base",
            "_view_module_version": "1.2.0",
            "_view_name": "StyleView",
            "description_width": ""
          }
        },
        "51d7f6031a0441558c77581be4a0102b": {
          "model_module": "@jupyter-widgets/base",
          "model_name": "LayoutModel",
          "model_module_version": "1.2.0",
          "state": {
            "_model_module": "@jupyter-widgets/base",
            "_model_module_version": "1.2.0",
            "_model_name": "LayoutModel",
            "_view_count": null,
            "_view_module": "@jupyter-widgets/base",
            "_view_module_version": "1.2.0",
            "_view_name": "LayoutView",
            "align_content": null,
            "align_items": null,
            "align_self": null,
            "border": null,
            "bottom": null,
            "display": null,
            "flex": null,
            "flex_flow": null,
            "grid_area": null,
            "grid_auto_columns": null,
            "grid_auto_flow": null,
            "grid_auto_rows": null,
            "grid_column": null,
            "grid_gap": null,
            "grid_row": null,
            "grid_template_areas": null,
            "grid_template_columns": null,
            "grid_template_rows": null,
            "height": null,
            "justify_content": null,
            "justify_items": null,
            "left": null,
            "margin": null,
            "max_height": null,
            "max_width": null,
            "min_height": null,
            "min_width": null,
            "object_fit": null,
            "object_position": null,
            "order": null,
            "overflow": null,
            "overflow_x": null,
            "overflow_y": null,
            "padding": null,
            "right": null,
            "top": null,
            "visibility": null,
            "width": null
          }
        },
        "788aefebee524f74a71185e6300b437c": {
          "model_module": "@jupyter-widgets/controls",
          "model_name": "DescriptionStyleModel",
          "model_module_version": "1.5.0",
          "state": {
            "_model_module": "@jupyter-widgets/controls",
            "_model_module_version": "1.5.0",
            "_model_name": "DescriptionStyleModel",
            "_view_count": null,
            "_view_module": "@jupyter-widgets/base",
            "_view_module_version": "1.2.0",
            "_view_name": "StyleView",
            "description_width": ""
          }
        },
        "43851f132a3a40d0aea36f856a98af10": {
          "model_module": "@jupyter-widgets/controls",
          "model_name": "HBoxModel",
          "model_module_version": "1.5.0",
          "state": {
            "_dom_classes": [],
            "_model_module": "@jupyter-widgets/controls",
            "_model_module_version": "1.5.0",
            "_model_name": "HBoxModel",
            "_view_count": null,
            "_view_module": "@jupyter-widgets/controls",
            "_view_module_version": "1.5.0",
            "_view_name": "HBoxView",
            "box_style": "",
            "children": [
              "IPY_MODEL_cc733ef03a4b4b31b55d09e9e689b91e",
              "IPY_MODEL_f640bff8d9754813988fb0cd621e0df9",
              "IPY_MODEL_edf54142dde84b72b1f8b25262431122"
            ],
            "layout": "IPY_MODEL_ddf02bd9ab0b4b989b4dc0cd83ed8288"
          }
        },
        "cc733ef03a4b4b31b55d09e9e689b91e": {
          "model_module": "@jupyter-widgets/controls",
          "model_name": "HTMLModel",
          "model_module_version": "1.5.0",
          "state": {
            "_dom_classes": [],
            "_model_module": "@jupyter-widgets/controls",
            "_model_module_version": "1.5.0",
            "_model_name": "HTMLModel",
            "_view_count": null,
            "_view_module": "@jupyter-widgets/controls",
            "_view_module_version": "1.5.0",
            "_view_name": "HTMLView",
            "description": "",
            "description_tooltip": null,
            "layout": "IPY_MODEL_19a7ea1fab4141c58c77c4103d48bdad",
            "placeholder": "​",
            "style": "IPY_MODEL_aadd455ddc30425383dd363f8e687a0d",
            "value": "config.json: 100%"
          }
        },
        "f640bff8d9754813988fb0cd621e0df9": {
          "model_module": "@jupyter-widgets/controls",
          "model_name": "FloatProgressModel",
          "model_module_version": "1.5.0",
          "state": {
            "_dom_classes": [],
            "_model_module": "@jupyter-widgets/controls",
            "_model_module_version": "1.5.0",
            "_model_name": "FloatProgressModel",
            "_view_count": null,
            "_view_module": "@jupyter-widgets/controls",
            "_view_module_version": "1.5.0",
            "_view_name": "ProgressView",
            "bar_style": "success",
            "description": "",
            "description_tooltip": null,
            "layout": "IPY_MODEL_5525a86683084828af4e9f6636206f4e",
            "max": 1149,
            "min": 0,
            "orientation": "horizontal",
            "style": "IPY_MODEL_7c1a0f8297254bb3b42b1f1969d035cc",
            "value": 1149
          }
        },
        "edf54142dde84b72b1f8b25262431122": {
          "model_module": "@jupyter-widgets/controls",
          "model_name": "HTMLModel",
          "model_module_version": "1.5.0",
          "state": {
            "_dom_classes": [],
            "_model_module": "@jupyter-widgets/controls",
            "_model_module_version": "1.5.0",
            "_model_name": "HTMLModel",
            "_view_count": null,
            "_view_module": "@jupyter-widgets/controls",
            "_view_module_version": "1.5.0",
            "_view_name": "HTMLView",
            "description": "",
            "description_tooltip": null,
            "layout": "IPY_MODEL_cea3cd4e531b4764b2d691d68b5c1ad1",
            "placeholder": "​",
            "style": "IPY_MODEL_031e470c01d84fdea1a2fbfb83210cb9",
            "value": " 1.15k/1.15k [00:00&lt;00:00, 39.1kB/s]"
          }
        },
        "ddf02bd9ab0b4b989b4dc0cd83ed8288": {
          "model_module": "@jupyter-widgets/base",
          "model_name": "LayoutModel",
          "model_module_version": "1.2.0",
          "state": {
            "_model_module": "@jupyter-widgets/base",
            "_model_module_version": "1.2.0",
            "_model_name": "LayoutModel",
            "_view_count": null,
            "_view_module": "@jupyter-widgets/base",
            "_view_module_version": "1.2.0",
            "_view_name": "LayoutView",
            "align_content": null,
            "align_items": null,
            "align_self": null,
            "border": null,
            "bottom": null,
            "display": null,
            "flex": null,
            "flex_flow": null,
            "grid_area": null,
            "grid_auto_columns": null,
            "grid_auto_flow": null,
            "grid_auto_rows": null,
            "grid_column": null,
            "grid_gap": null,
            "grid_row": null,
            "grid_template_areas": null,
            "grid_template_columns": null,
            "grid_template_rows": null,
            "height": null,
            "justify_content": null,
            "justify_items": null,
            "left": null,
            "margin": null,
            "max_height": null,
            "max_width": null,
            "min_height": null,
            "min_width": null,
            "object_fit": null,
            "object_position": null,
            "order": null,
            "overflow": null,
            "overflow_x": null,
            "overflow_y": null,
            "padding": null,
            "right": null,
            "top": null,
            "visibility": null,
            "width": null
          }
        },
        "19a7ea1fab4141c58c77c4103d48bdad": {
          "model_module": "@jupyter-widgets/base",
          "model_name": "LayoutModel",
          "model_module_version": "1.2.0",
          "state": {
            "_model_module": "@jupyter-widgets/base",
            "_model_module_version": "1.2.0",
            "_model_name": "LayoutModel",
            "_view_count": null,
            "_view_module": "@jupyter-widgets/base",
            "_view_module_version": "1.2.0",
            "_view_name": "LayoutView",
            "align_content": null,
            "align_items": null,
            "align_self": null,
            "border": null,
            "bottom": null,
            "display": null,
            "flex": null,
            "flex_flow": null,
            "grid_area": null,
            "grid_auto_columns": null,
            "grid_auto_flow": null,
            "grid_auto_rows": null,
            "grid_column": null,
            "grid_gap": null,
            "grid_row": null,
            "grid_template_areas": null,
            "grid_template_columns": null,
            "grid_template_rows": null,
            "height": null,
            "justify_content": null,
            "justify_items": null,
            "left": null,
            "margin": null,
            "max_height": null,
            "max_width": null,
            "min_height": null,
            "min_width": null,
            "object_fit": null,
            "object_position": null,
            "order": null,
            "overflow": null,
            "overflow_x": null,
            "overflow_y": null,
            "padding": null,
            "right": null,
            "top": null,
            "visibility": null,
            "width": null
          }
        },
        "aadd455ddc30425383dd363f8e687a0d": {
          "model_module": "@jupyter-widgets/controls",
          "model_name": "DescriptionStyleModel",
          "model_module_version": "1.5.0",
          "state": {
            "_model_module": "@jupyter-widgets/controls",
            "_model_module_version": "1.5.0",
            "_model_name": "DescriptionStyleModel",
            "_view_count": null,
            "_view_module": "@jupyter-widgets/base",
            "_view_module_version": "1.2.0",
            "_view_name": "StyleView",
            "description_width": ""
          }
        },
        "5525a86683084828af4e9f6636206f4e": {
          "model_module": "@jupyter-widgets/base",
          "model_name": "LayoutModel",
          "model_module_version": "1.2.0",
          "state": {
            "_model_module": "@jupyter-widgets/base",
            "_model_module_version": "1.2.0",
            "_model_name": "LayoutModel",
            "_view_count": null,
            "_view_module": "@jupyter-widgets/base",
            "_view_module_version": "1.2.0",
            "_view_name": "LayoutView",
            "align_content": null,
            "align_items": null,
            "align_self": null,
            "border": null,
            "bottom": null,
            "display": null,
            "flex": null,
            "flex_flow": null,
            "grid_area": null,
            "grid_auto_columns": null,
            "grid_auto_flow": null,
            "grid_auto_rows": null,
            "grid_column": null,
            "grid_gap": null,
            "grid_row": null,
            "grid_template_areas": null,
            "grid_template_columns": null,
            "grid_template_rows": null,
            "height": null,
            "justify_content": null,
            "justify_items": null,
            "left": null,
            "margin": null,
            "max_height": null,
            "max_width": null,
            "min_height": null,
            "min_width": null,
            "object_fit": null,
            "object_position": null,
            "order": null,
            "overflow": null,
            "overflow_x": null,
            "overflow_y": null,
            "padding": null,
            "right": null,
            "top": null,
            "visibility": null,
            "width": null
          }
        },
        "7c1a0f8297254bb3b42b1f1969d035cc": {
          "model_module": "@jupyter-widgets/controls",
          "model_name": "ProgressStyleModel",
          "model_module_version": "1.5.0",
          "state": {
            "_model_module": "@jupyter-widgets/controls",
            "_model_module_version": "1.5.0",
            "_model_name": "ProgressStyleModel",
            "_view_count": null,
            "_view_module": "@jupyter-widgets/base",
            "_view_module_version": "1.2.0",
            "_view_name": "StyleView",
            "bar_color": null,
            "description_width": ""
          }
        },
        "cea3cd4e531b4764b2d691d68b5c1ad1": {
          "model_module": "@jupyter-widgets/base",
          "model_name": "LayoutModel",
          "model_module_version": "1.2.0",
          "state": {
            "_model_module": "@jupyter-widgets/base",
            "_model_module_version": "1.2.0",
            "_model_name": "LayoutModel",
            "_view_count": null,
            "_view_module": "@jupyter-widgets/base",
            "_view_module_version": "1.2.0",
            "_view_name": "LayoutView",
            "align_content": null,
            "align_items": null,
            "align_self": null,
            "border": null,
            "bottom": null,
            "display": null,
            "flex": null,
            "flex_flow": null,
            "grid_area": null,
            "grid_auto_columns": null,
            "grid_auto_flow": null,
            "grid_auto_rows": null,
            "grid_column": null,
            "grid_gap": null,
            "grid_row": null,
            "grid_template_areas": null,
            "grid_template_columns": null,
            "grid_template_rows": null,
            "height": null,
            "justify_content": null,
            "justify_items": null,
            "left": null,
            "margin": null,
            "max_height": null,
            "max_width": null,
            "min_height": null,
            "min_width": null,
            "object_fit": null,
            "object_position": null,
            "order": null,
            "overflow": null,
            "overflow_x": null,
            "overflow_y": null,
            "padding": null,
            "right": null,
            "top": null,
            "visibility": null,
            "width": null
          }
        },
        "031e470c01d84fdea1a2fbfb83210cb9": {
          "model_module": "@jupyter-widgets/controls",
          "model_name": "DescriptionStyleModel",
          "model_module_version": "1.5.0",
          "state": {
            "_model_module": "@jupyter-widgets/controls",
            "_model_module_version": "1.5.0",
            "_model_name": "DescriptionStyleModel",
            "_view_count": null,
            "_view_module": "@jupyter-widgets/base",
            "_view_module_version": "1.2.0",
            "_view_name": "StyleView",
            "description_width": ""
          }
        },
        "ef56a0972f394acead0e2e67fe19693d": {
          "model_module": "@jupyter-widgets/controls",
          "model_name": "HBoxModel",
          "model_module_version": "1.5.0",
          "state": {
            "_dom_classes": [],
            "_model_module": "@jupyter-widgets/controls",
            "_model_module_version": "1.5.0",
            "_model_name": "HBoxModel",
            "_view_count": null,
            "_view_module": "@jupyter-widgets/controls",
            "_view_module_version": "1.5.0",
            "_view_name": "HBoxView",
            "box_style": "",
            "children": [
              "IPY_MODEL_ff41623d28014ee992aa2d7a478ed323",
              "IPY_MODEL_f53b7be910f14fd3b00e742aafc6b5fd",
              "IPY_MODEL_584070d38b76475fb2940ead8774692d"
            ],
            "layout": "IPY_MODEL_4fe0157a5fc641888acde999be234d1a"
          }
        },
        "ff41623d28014ee992aa2d7a478ed323": {
          "model_module": "@jupyter-widgets/controls",
          "model_name": "HTMLModel",
          "model_module_version": "1.5.0",
          "state": {
            "_dom_classes": [],
            "_model_module": "@jupyter-widgets/controls",
            "_model_module_version": "1.5.0",
            "_model_name": "HTMLModel",
            "_view_count": null,
            "_view_module": "@jupyter-widgets/controls",
            "_view_module_version": "1.5.0",
            "_view_name": "HTMLView",
            "description": "",
            "description_tooltip": null,
            "layout": "IPY_MODEL_45c1a18e1eb44d778d1d3cbabdb88c6d",
            "placeholder": "​",
            "style": "IPY_MODEL_b659a02b101e476b821fc8dbaefdbb71",
            "value": "model.safetensors: 100%"
          }
        },
        "f53b7be910f14fd3b00e742aafc6b5fd": {
          "model_module": "@jupyter-widgets/controls",
          "model_name": "FloatProgressModel",
          "model_module_version": "1.5.0",
          "state": {
            "_dom_classes": [],
            "_model_module": "@jupyter-widgets/controls",
            "_model_module_version": "1.5.0",
            "_model_name": "FloatProgressModel",
            "_view_count": null,
            "_view_module": "@jupyter-widgets/controls",
            "_view_module_version": "1.5.0",
            "_view_name": "ProgressView",
            "bar_style": "success",
            "description": "",
            "description_tooltip": null,
            "layout": "IPY_MODEL_7788549efd0b40f7a8b6656e33bce78a",
            "max": 5702746403,
            "min": 0,
            "orientation": "horizontal",
            "style": "IPY_MODEL_ee909d3399d2441c95e306239e10009e",
            "value": 5702746403
          }
        },
        "584070d38b76475fb2940ead8774692d": {
          "model_module": "@jupyter-widgets/controls",
          "model_name": "HTMLModel",
          "model_module_version": "1.5.0",
          "state": {
            "_dom_classes": [],
            "_model_module": "@jupyter-widgets/controls",
            "_model_module_version": "1.5.0",
            "_model_name": "HTMLModel",
            "_view_count": null,
            "_view_module": "@jupyter-widgets/controls",
            "_view_module_version": "1.5.0",
            "_view_name": "HTMLView",
            "description": "",
            "description_tooltip": null,
            "layout": "IPY_MODEL_6a89276da17b466595da051a9d536445",
            "placeholder": "​",
            "style": "IPY_MODEL_44a811250701460a9b6a80db8a57b5da",
            "value": " 5.70G/5.70G [00:40&lt;00:00, 256MB/s]"
          }
        },
        "4fe0157a5fc641888acde999be234d1a": {
          "model_module": "@jupyter-widgets/base",
          "model_name": "LayoutModel",
          "model_module_version": "1.2.0",
          "state": {
            "_model_module": "@jupyter-widgets/base",
            "_model_module_version": "1.2.0",
            "_model_name": "LayoutModel",
            "_view_count": null,
            "_view_module": "@jupyter-widgets/base",
            "_view_module_version": "1.2.0",
            "_view_name": "LayoutView",
            "align_content": null,
            "align_items": null,
            "align_self": null,
            "border": null,
            "bottom": null,
            "display": null,
            "flex": null,
            "flex_flow": null,
            "grid_area": null,
            "grid_auto_columns": null,
            "grid_auto_flow": null,
            "grid_auto_rows": null,
            "grid_column": null,
            "grid_gap": null,
            "grid_row": null,
            "grid_template_areas": null,
            "grid_template_columns": null,
            "grid_template_rows": null,
            "height": null,
            "justify_content": null,
            "justify_items": null,
            "left": null,
            "margin": null,
            "max_height": null,
            "max_width": null,
            "min_height": null,
            "min_width": null,
            "object_fit": null,
            "object_position": null,
            "order": null,
            "overflow": null,
            "overflow_x": null,
            "overflow_y": null,
            "padding": null,
            "right": null,
            "top": null,
            "visibility": null,
            "width": null
          }
        },
        "45c1a18e1eb44d778d1d3cbabdb88c6d": {
          "model_module": "@jupyter-widgets/base",
          "model_name": "LayoutModel",
          "model_module_version": "1.2.0",
          "state": {
            "_model_module": "@jupyter-widgets/base",
            "_model_module_version": "1.2.0",
            "_model_name": "LayoutModel",
            "_view_count": null,
            "_view_module": "@jupyter-widgets/base",
            "_view_module_version": "1.2.0",
            "_view_name": "LayoutView",
            "align_content": null,
            "align_items": null,
            "align_self": null,
            "border": null,
            "bottom": null,
            "display": null,
            "flex": null,
            "flex_flow": null,
            "grid_area": null,
            "grid_auto_columns": null,
            "grid_auto_flow": null,
            "grid_auto_rows": null,
            "grid_column": null,
            "grid_gap": null,
            "grid_row": null,
            "grid_template_areas": null,
            "grid_template_columns": null,
            "grid_template_rows": null,
            "height": null,
            "justify_content": null,
            "justify_items": null,
            "left": null,
            "margin": null,
            "max_height": null,
            "max_width": null,
            "min_height": null,
            "min_width": null,
            "object_fit": null,
            "object_position": null,
            "order": null,
            "overflow": null,
            "overflow_x": null,
            "overflow_y": null,
            "padding": null,
            "right": null,
            "top": null,
            "visibility": null,
            "width": null
          }
        },
        "b659a02b101e476b821fc8dbaefdbb71": {
          "model_module": "@jupyter-widgets/controls",
          "model_name": "DescriptionStyleModel",
          "model_module_version": "1.5.0",
          "state": {
            "_model_module": "@jupyter-widgets/controls",
            "_model_module_version": "1.5.0",
            "_model_name": "DescriptionStyleModel",
            "_view_count": null,
            "_view_module": "@jupyter-widgets/base",
            "_view_module_version": "1.2.0",
            "_view_name": "StyleView",
            "description_width": ""
          }
        },
        "7788549efd0b40f7a8b6656e33bce78a": {
          "model_module": "@jupyter-widgets/base",
          "model_name": "LayoutModel",
          "model_module_version": "1.2.0",
          "state": {
            "_model_module": "@jupyter-widgets/base",
            "_model_module_version": "1.2.0",
            "_model_name": "LayoutModel",
            "_view_count": null,
            "_view_module": "@jupyter-widgets/base",
            "_view_module_version": "1.2.0",
            "_view_name": "LayoutView",
            "align_content": null,
            "align_items": null,
            "align_self": null,
            "border": null,
            "bottom": null,
            "display": null,
            "flex": null,
            "flex_flow": null,
            "grid_area": null,
            "grid_auto_columns": null,
            "grid_auto_flow": null,
            "grid_auto_rows": null,
            "grid_column": null,
            "grid_gap": null,
            "grid_row": null,
            "grid_template_areas": null,
            "grid_template_columns": null,
            "grid_template_rows": null,
            "height": null,
            "justify_content": null,
            "justify_items": null,
            "left": null,
            "margin": null,
            "max_height": null,
            "max_width": null,
            "min_height": null,
            "min_width": null,
            "object_fit": null,
            "object_position": null,
            "order": null,
            "overflow": null,
            "overflow_x": null,
            "overflow_y": null,
            "padding": null,
            "right": null,
            "top": null,
            "visibility": null,
            "width": null
          }
        },
        "ee909d3399d2441c95e306239e10009e": {
          "model_module": "@jupyter-widgets/controls",
          "model_name": "ProgressStyleModel",
          "model_module_version": "1.5.0",
          "state": {
            "_model_module": "@jupyter-widgets/controls",
            "_model_module_version": "1.5.0",
            "_model_name": "ProgressStyleModel",
            "_view_count": null,
            "_view_module": "@jupyter-widgets/base",
            "_view_module_version": "1.2.0",
            "_view_name": "StyleView",
            "bar_color": null,
            "description_width": ""
          }
        },
        "6a89276da17b466595da051a9d536445": {
          "model_module": "@jupyter-widgets/base",
          "model_name": "LayoutModel",
          "model_module_version": "1.2.0",
          "state": {
            "_model_module": "@jupyter-widgets/base",
            "_model_module_version": "1.2.0",
            "_model_name": "LayoutModel",
            "_view_count": null,
            "_view_module": "@jupyter-widgets/base",
            "_view_module_version": "1.2.0",
            "_view_name": "LayoutView",
            "align_content": null,
            "align_items": null,
            "align_self": null,
            "border": null,
            "bottom": null,
            "display": null,
            "flex": null,
            "flex_flow": null,
            "grid_area": null,
            "grid_auto_columns": null,
            "grid_auto_flow": null,
            "grid_auto_rows": null,
            "grid_column": null,
            "grid_gap": null,
            "grid_row": null,
            "grid_template_areas": null,
            "grid_template_columns": null,
            "grid_template_rows": null,
            "height": null,
            "justify_content": null,
            "justify_items": null,
            "left": null,
            "margin": null,
            "max_height": null,
            "max_width": null,
            "min_height": null,
            "min_width": null,
            "object_fit": null,
            "object_position": null,
            "order": null,
            "overflow": null,
            "overflow_x": null,
            "overflow_y": null,
            "padding": null,
            "right": null,
            "top": null,
            "visibility": null,
            "width": null
          }
        },
        "44a811250701460a9b6a80db8a57b5da": {
          "model_module": "@jupyter-widgets/controls",
          "model_name": "DescriptionStyleModel",
          "model_module_version": "1.5.0",
          "state": {
            "_model_module": "@jupyter-widgets/controls",
            "_model_module_version": "1.5.0",
            "_model_name": "DescriptionStyleModel",
            "_view_count": null,
            "_view_module": "@jupyter-widgets/base",
            "_view_module_version": "1.2.0",
            "_view_name": "StyleView",
            "description_width": ""
          }
        },
        "24139809e09346f282333bc423370367": {
          "model_module": "@jupyter-widgets/controls",
          "model_name": "HBoxModel",
          "model_module_version": "1.5.0",
          "state": {
            "_dom_classes": [],
            "_model_module": "@jupyter-widgets/controls",
            "_model_module_version": "1.5.0",
            "_model_name": "HBoxModel",
            "_view_count": null,
            "_view_module": "@jupyter-widgets/controls",
            "_view_module_version": "1.5.0",
            "_view_name": "HBoxView",
            "box_style": "",
            "children": [
              "IPY_MODEL_9536f26610514c9b8f4068c20d28fe5a",
              "IPY_MODEL_93b2c1b9afe044529a10bd8673ff9d64",
              "IPY_MODEL_a8656e6a898b41d29aa353a3324284e0"
            ],
            "layout": "IPY_MODEL_582151600d56452a9951a3b5d28c456c"
          }
        },
        "9536f26610514c9b8f4068c20d28fe5a": {
          "model_module": "@jupyter-widgets/controls",
          "model_name": "HTMLModel",
          "model_module_version": "1.5.0",
          "state": {
            "_dom_classes": [],
            "_model_module": "@jupyter-widgets/controls",
            "_model_module_version": "1.5.0",
            "_model_name": "HTMLModel",
            "_view_count": null,
            "_view_module": "@jupyter-widgets/controls",
            "_view_module_version": "1.5.0",
            "_view_name": "HTMLView",
            "description": "",
            "description_tooltip": null,
            "layout": "IPY_MODEL_889bcc149d824522afc2bb3cddcb6414",
            "placeholder": "​",
            "style": "IPY_MODEL_b8b13cd8d3314facaef2a75a03d5b837",
            "value": "generation_config.json: 100%"
          }
        },
        "93b2c1b9afe044529a10bd8673ff9d64": {
          "model_module": "@jupyter-widgets/controls",
          "model_name": "FloatProgressModel",
          "model_module_version": "1.5.0",
          "state": {
            "_dom_classes": [],
            "_model_module": "@jupyter-widgets/controls",
            "_model_module_version": "1.5.0",
            "_model_name": "FloatProgressModel",
            "_view_count": null,
            "_view_module": "@jupyter-widgets/controls",
            "_view_module_version": "1.5.0",
            "_view_name": "ProgressView",
            "bar_style": "success",
            "description": "",
            "description_tooltip": null,
            "layout": "IPY_MODEL_c2b981a2de18466dac72222d54f08392",
            "max": 131,
            "min": 0,
            "orientation": "horizontal",
            "style": "IPY_MODEL_cd9ca0bc69e244af9e340bf66b2ac924",
            "value": 131
          }
        },
        "a8656e6a898b41d29aa353a3324284e0": {
          "model_module": "@jupyter-widgets/controls",
          "model_name": "HTMLModel",
          "model_module_version": "1.5.0",
          "state": {
            "_dom_classes": [],
            "_model_module": "@jupyter-widgets/controls",
            "_model_module_version": "1.5.0",
            "_model_name": "HTMLModel",
            "_view_count": null,
            "_view_module": "@jupyter-widgets/controls",
            "_view_module_version": "1.5.0",
            "_view_name": "HTMLView",
            "description": "",
            "description_tooltip": null,
            "layout": "IPY_MODEL_1e56d0a1a61d40739fc5bdacb9d1e45e",
            "placeholder": "​",
            "style": "IPY_MODEL_d85026de1c9b48379cf0ded87fb49f80",
            "value": " 131/131 [00:00&lt;00:00, 9.42kB/s]"
          }
        },
        "582151600d56452a9951a3b5d28c456c": {
          "model_module": "@jupyter-widgets/base",
          "model_name": "LayoutModel",
          "model_module_version": "1.2.0",
          "state": {
            "_model_module": "@jupyter-widgets/base",
            "_model_module_version": "1.2.0",
            "_model_name": "LayoutModel",
            "_view_count": null,
            "_view_module": "@jupyter-widgets/base",
            "_view_module_version": "1.2.0",
            "_view_name": "LayoutView",
            "align_content": null,
            "align_items": null,
            "align_self": null,
            "border": null,
            "bottom": null,
            "display": null,
            "flex": null,
            "flex_flow": null,
            "grid_area": null,
            "grid_auto_columns": null,
            "grid_auto_flow": null,
            "grid_auto_rows": null,
            "grid_column": null,
            "grid_gap": null,
            "grid_row": null,
            "grid_template_areas": null,
            "grid_template_columns": null,
            "grid_template_rows": null,
            "height": null,
            "justify_content": null,
            "justify_items": null,
            "left": null,
            "margin": null,
            "max_height": null,
            "max_width": null,
            "min_height": null,
            "min_width": null,
            "object_fit": null,
            "object_position": null,
            "order": null,
            "overflow": null,
            "overflow_x": null,
            "overflow_y": null,
            "padding": null,
            "right": null,
            "top": null,
            "visibility": null,
            "width": null
          }
        },
        "889bcc149d824522afc2bb3cddcb6414": {
          "model_module": "@jupyter-widgets/base",
          "model_name": "LayoutModel",
          "model_module_version": "1.2.0",
          "state": {
            "_model_module": "@jupyter-widgets/base",
            "_model_module_version": "1.2.0",
            "_model_name": "LayoutModel",
            "_view_count": null,
            "_view_module": "@jupyter-widgets/base",
            "_view_module_version": "1.2.0",
            "_view_name": "LayoutView",
            "align_content": null,
            "align_items": null,
            "align_self": null,
            "border": null,
            "bottom": null,
            "display": null,
            "flex": null,
            "flex_flow": null,
            "grid_area": null,
            "grid_auto_columns": null,
            "grid_auto_flow": null,
            "grid_auto_rows": null,
            "grid_column": null,
            "grid_gap": null,
            "grid_row": null,
            "grid_template_areas": null,
            "grid_template_columns": null,
            "grid_template_rows": null,
            "height": null,
            "justify_content": null,
            "justify_items": null,
            "left": null,
            "margin": null,
            "max_height": null,
            "max_width": null,
            "min_height": null,
            "min_width": null,
            "object_fit": null,
            "object_position": null,
            "order": null,
            "overflow": null,
            "overflow_x": null,
            "overflow_y": null,
            "padding": null,
            "right": null,
            "top": null,
            "visibility": null,
            "width": null
          }
        },
        "b8b13cd8d3314facaef2a75a03d5b837": {
          "model_module": "@jupyter-widgets/controls",
          "model_name": "DescriptionStyleModel",
          "model_module_version": "1.5.0",
          "state": {
            "_model_module": "@jupyter-widgets/controls",
            "_model_module_version": "1.5.0",
            "_model_name": "DescriptionStyleModel",
            "_view_count": null,
            "_view_module": "@jupyter-widgets/base",
            "_view_module_version": "1.2.0",
            "_view_name": "StyleView",
            "description_width": ""
          }
        },
        "c2b981a2de18466dac72222d54f08392": {
          "model_module": "@jupyter-widgets/base",
          "model_name": "LayoutModel",
          "model_module_version": "1.2.0",
          "state": {
            "_model_module": "@jupyter-widgets/base",
            "_model_module_version": "1.2.0",
            "_model_name": "LayoutModel",
            "_view_count": null,
            "_view_module": "@jupyter-widgets/base",
            "_view_module_version": "1.2.0",
            "_view_name": "LayoutView",
            "align_content": null,
            "align_items": null,
            "align_self": null,
            "border": null,
            "bottom": null,
            "display": null,
            "flex": null,
            "flex_flow": null,
            "grid_area": null,
            "grid_auto_columns": null,
            "grid_auto_flow": null,
            "grid_auto_rows": null,
            "grid_column": null,
            "grid_gap": null,
            "grid_row": null,
            "grid_template_areas": null,
            "grid_template_columns": null,
            "grid_template_rows": null,
            "height": null,
            "justify_content": null,
            "justify_items": null,
            "left": null,
            "margin": null,
            "max_height": null,
            "max_width": null,
            "min_height": null,
            "min_width": null,
            "object_fit": null,
            "object_position": null,
            "order": null,
            "overflow": null,
            "overflow_x": null,
            "overflow_y": null,
            "padding": null,
            "right": null,
            "top": null,
            "visibility": null,
            "width": null
          }
        },
        "cd9ca0bc69e244af9e340bf66b2ac924": {
          "model_module": "@jupyter-widgets/controls",
          "model_name": "ProgressStyleModel",
          "model_module_version": "1.5.0",
          "state": {
            "_model_module": "@jupyter-widgets/controls",
            "_model_module_version": "1.5.0",
            "_model_name": "ProgressStyleModel",
            "_view_count": null,
            "_view_module": "@jupyter-widgets/base",
            "_view_module_version": "1.2.0",
            "_view_name": "StyleView",
            "bar_color": null,
            "description_width": ""
          }
        },
        "1e56d0a1a61d40739fc5bdacb9d1e45e": {
          "model_module": "@jupyter-widgets/base",
          "model_name": "LayoutModel",
          "model_module_version": "1.2.0",
          "state": {
            "_model_module": "@jupyter-widgets/base",
            "_model_module_version": "1.2.0",
            "_model_name": "LayoutModel",
            "_view_count": null,
            "_view_module": "@jupyter-widgets/base",
            "_view_module_version": "1.2.0",
            "_view_name": "LayoutView",
            "align_content": null,
            "align_items": null,
            "align_self": null,
            "border": null,
            "bottom": null,
            "display": null,
            "flex": null,
            "flex_flow": null,
            "grid_area": null,
            "grid_auto_columns": null,
            "grid_auto_flow": null,
            "grid_auto_rows": null,
            "grid_column": null,
            "grid_gap": null,
            "grid_row": null,
            "grid_template_areas": null,
            "grid_template_columns": null,
            "grid_template_rows": null,
            "height": null,
            "justify_content": null,
            "justify_items": null,
            "left": null,
            "margin": null,
            "max_height": null,
            "max_width": null,
            "min_height": null,
            "min_width": null,
            "object_fit": null,
            "object_position": null,
            "order": null,
            "overflow": null,
            "overflow_x": null,
            "overflow_y": null,
            "padding": null,
            "right": null,
            "top": null,
            "visibility": null,
            "width": null
          }
        },
        "d85026de1c9b48379cf0ded87fb49f80": {
          "model_module": "@jupyter-widgets/controls",
          "model_name": "DescriptionStyleModel",
          "model_module_version": "1.5.0",
          "state": {
            "_model_module": "@jupyter-widgets/controls",
            "_model_module_version": "1.5.0",
            "_model_name": "DescriptionStyleModel",
            "_view_count": null,
            "_view_module": "@jupyter-widgets/base",
            "_view_module_version": "1.2.0",
            "_view_name": "StyleView",
            "description_width": ""
          }
        },
        "e9e9a1573c004162b236ae27ffc41e8f": {
          "model_module": "@jupyter-widgets/controls",
          "model_name": "HBoxModel",
          "model_module_version": "1.5.0",
          "state": {
            "_dom_classes": [],
            "_model_module": "@jupyter-widgets/controls",
            "_model_module_version": "1.5.0",
            "_model_name": "HBoxModel",
            "_view_count": null,
            "_view_module": "@jupyter-widgets/controls",
            "_view_module_version": "1.5.0",
            "_view_name": "HBoxView",
            "box_style": "",
            "children": [
              "IPY_MODEL_5bd2499a125e4b0cbf5bb442d60b43a6",
              "IPY_MODEL_41c0b12c290c4316888dd065114b5454",
              "IPY_MODEL_62d80a700e2e45a693650eca940f2b27"
            ],
            "layout": "IPY_MODEL_4367cc1295fc4d0fa0b2f689cdbc1dff"
          }
        },
        "5bd2499a125e4b0cbf5bb442d60b43a6": {
          "model_module": "@jupyter-widgets/controls",
          "model_name": "HTMLModel",
          "model_module_version": "1.5.0",
          "state": {
            "_dom_classes": [],
            "_model_module": "@jupyter-widgets/controls",
            "_model_module_version": "1.5.0",
            "_model_name": "HTMLModel",
            "_view_count": null,
            "_view_module": "@jupyter-widgets/controls",
            "_view_module_version": "1.5.0",
            "_view_name": "HTMLView",
            "description": "",
            "description_tooltip": null,
            "layout": "IPY_MODEL_976dd4b58cfb4509b0eb4138b5e0c425",
            "placeholder": "​",
            "style": "IPY_MODEL_436689e9c3fd44b09e824e5fea186614",
            "value": "tokenizer_config.json: 100%"
          }
        },
        "41c0b12c290c4316888dd065114b5454": {
          "model_module": "@jupyter-widgets/controls",
          "model_name": "FloatProgressModel",
          "model_module_version": "1.5.0",
          "state": {
            "_dom_classes": [],
            "_model_module": "@jupyter-widgets/controls",
            "_model_module_version": "1.5.0",
            "_model_name": "FloatProgressModel",
            "_view_count": null,
            "_view_module": "@jupyter-widgets/controls",
            "_view_module_version": "1.5.0",
            "_view_name": "ProgressView",
            "bar_style": "success",
            "description": "",
            "description_tooltip": null,
            "layout": "IPY_MODEL_541ab12b68874bf09d01c1a9445d5c6d",
            "max": 51052,
            "min": 0,
            "orientation": "horizontal",
            "style": "IPY_MODEL_a311bf222e4046d5af83458a51fb3a78",
            "value": 51052
          }
        },
        "62d80a700e2e45a693650eca940f2b27": {
          "model_module": "@jupyter-widgets/controls",
          "model_name": "HTMLModel",
          "model_module_version": "1.5.0",
          "state": {
            "_dom_classes": [],
            "_model_module": "@jupyter-widgets/controls",
            "_model_module_version": "1.5.0",
            "_model_name": "HTMLModel",
            "_view_count": null,
            "_view_module": "@jupyter-widgets/controls",
            "_view_module_version": "1.5.0",
            "_view_name": "HTMLView",
            "description": "",
            "description_tooltip": null,
            "layout": "IPY_MODEL_9c90a2a250b94b729fb2040490d9fb79",
            "placeholder": "​",
            "style": "IPY_MODEL_e700842419f64905acfec60b71f9f3db",
            "value": " 51.1k/51.1k [00:00&lt;00:00, 3.48MB/s]"
          }
        },
        "4367cc1295fc4d0fa0b2f689cdbc1dff": {
          "model_module": "@jupyter-widgets/base",
          "model_name": "LayoutModel",
          "model_module_version": "1.2.0",
          "state": {
            "_model_module": "@jupyter-widgets/base",
            "_model_module_version": "1.2.0",
            "_model_name": "LayoutModel",
            "_view_count": null,
            "_view_module": "@jupyter-widgets/base",
            "_view_module_version": "1.2.0",
            "_view_name": "LayoutView",
            "align_content": null,
            "align_items": null,
            "align_self": null,
            "border": null,
            "bottom": null,
            "display": null,
            "flex": null,
            "flex_flow": null,
            "grid_area": null,
            "grid_auto_columns": null,
            "grid_auto_flow": null,
            "grid_auto_rows": null,
            "grid_column": null,
            "grid_gap": null,
            "grid_row": null,
            "grid_template_areas": null,
            "grid_template_columns": null,
            "grid_template_rows": null,
            "height": null,
            "justify_content": null,
            "justify_items": null,
            "left": null,
            "margin": null,
            "max_height": null,
            "max_width": null,
            "min_height": null,
            "min_width": null,
            "object_fit": null,
            "object_position": null,
            "order": null,
            "overflow": null,
            "overflow_x": null,
            "overflow_y": null,
            "padding": null,
            "right": null,
            "top": null,
            "visibility": null,
            "width": null
          }
        },
        "976dd4b58cfb4509b0eb4138b5e0c425": {
          "model_module": "@jupyter-widgets/base",
          "model_name": "LayoutModel",
          "model_module_version": "1.2.0",
          "state": {
            "_model_module": "@jupyter-widgets/base",
            "_model_module_version": "1.2.0",
            "_model_name": "LayoutModel",
            "_view_count": null,
            "_view_module": "@jupyter-widgets/base",
            "_view_module_version": "1.2.0",
            "_view_name": "LayoutView",
            "align_content": null,
            "align_items": null,
            "align_self": null,
            "border": null,
            "bottom": null,
            "display": null,
            "flex": null,
            "flex_flow": null,
            "grid_area": null,
            "grid_auto_columns": null,
            "grid_auto_flow": null,
            "grid_auto_rows": null,
            "grid_column": null,
            "grid_gap": null,
            "grid_row": null,
            "grid_template_areas": null,
            "grid_template_columns": null,
            "grid_template_rows": null,
            "height": null,
            "justify_content": null,
            "justify_items": null,
            "left": null,
            "margin": null,
            "max_height": null,
            "max_width": null,
            "min_height": null,
            "min_width": null,
            "object_fit": null,
            "object_position": null,
            "order": null,
            "overflow": null,
            "overflow_x": null,
            "overflow_y": null,
            "padding": null,
            "right": null,
            "top": null,
            "visibility": null,
            "width": null
          }
        },
        "436689e9c3fd44b09e824e5fea186614": {
          "model_module": "@jupyter-widgets/controls",
          "model_name": "DescriptionStyleModel",
          "model_module_version": "1.5.0",
          "state": {
            "_model_module": "@jupyter-widgets/controls",
            "_model_module_version": "1.5.0",
            "_model_name": "DescriptionStyleModel",
            "_view_count": null,
            "_view_module": "@jupyter-widgets/base",
            "_view_module_version": "1.2.0",
            "_view_name": "StyleView",
            "description_width": ""
          }
        },
        "541ab12b68874bf09d01c1a9445d5c6d": {
          "model_module": "@jupyter-widgets/base",
          "model_name": "LayoutModel",
          "model_module_version": "1.2.0",
          "state": {
            "_model_module": "@jupyter-widgets/base",
            "_model_module_version": "1.2.0",
            "_model_name": "LayoutModel",
            "_view_count": null,
            "_view_module": "@jupyter-widgets/base",
            "_view_module_version": "1.2.0",
            "_view_name": "LayoutView",
            "align_content": null,
            "align_items": null,
            "align_self": null,
            "border": null,
            "bottom": null,
            "display": null,
            "flex": null,
            "flex_flow": null,
            "grid_area": null,
            "grid_auto_columns": null,
            "grid_auto_flow": null,
            "grid_auto_rows": null,
            "grid_column": null,
            "grid_gap": null,
            "grid_row": null,
            "grid_template_areas": null,
            "grid_template_columns": null,
            "grid_template_rows": null,
            "height": null,
            "justify_content": null,
            "justify_items": null,
            "left": null,
            "margin": null,
            "max_height": null,
            "max_width": null,
            "min_height": null,
            "min_width": null,
            "object_fit": null,
            "object_position": null,
            "order": null,
            "overflow": null,
            "overflow_x": null,
            "overflow_y": null,
            "padding": null,
            "right": null,
            "top": null,
            "visibility": null,
            "width": null
          }
        },
        "a311bf222e4046d5af83458a51fb3a78": {
          "model_module": "@jupyter-widgets/controls",
          "model_name": "ProgressStyleModel",
          "model_module_version": "1.5.0",
          "state": {
            "_model_module": "@jupyter-widgets/controls",
            "_model_module_version": "1.5.0",
            "_model_name": "ProgressStyleModel",
            "_view_count": null,
            "_view_module": "@jupyter-widgets/base",
            "_view_module_version": "1.2.0",
            "_view_name": "StyleView",
            "bar_color": null,
            "description_width": ""
          }
        },
        "9c90a2a250b94b729fb2040490d9fb79": {
          "model_module": "@jupyter-widgets/base",
          "model_name": "LayoutModel",
          "model_module_version": "1.2.0",
          "state": {
            "_model_module": "@jupyter-widgets/base",
            "_model_module_version": "1.2.0",
            "_model_name": "LayoutModel",
            "_view_count": null,
            "_view_module": "@jupyter-widgets/base",
            "_view_module_version": "1.2.0",
            "_view_name": "LayoutView",
            "align_content": null,
            "align_items": null,
            "align_self": null,
            "border": null,
            "bottom": null,
            "display": null,
            "flex": null,
            "flex_flow": null,
            "grid_area": null,
            "grid_auto_columns": null,
            "grid_auto_flow": null,
            "grid_auto_rows": null,
            "grid_column": null,
            "grid_gap": null,
            "grid_row": null,
            "grid_template_areas": null,
            "grid_template_columns": null,
            "grid_template_rows": null,
            "height": null,
            "justify_content": null,
            "justify_items": null,
            "left": null,
            "margin": null,
            "max_height": null,
            "max_width": null,
            "min_height": null,
            "min_width": null,
            "object_fit": null,
            "object_position": null,
            "order": null,
            "overflow": null,
            "overflow_x": null,
            "overflow_y": null,
            "padding": null,
            "right": null,
            "top": null,
            "visibility": null,
            "width": null
          }
        },
        "e700842419f64905acfec60b71f9f3db": {
          "model_module": "@jupyter-widgets/controls",
          "model_name": "DescriptionStyleModel",
          "model_module_version": "1.5.0",
          "state": {
            "_model_module": "@jupyter-widgets/controls",
            "_model_module_version": "1.5.0",
            "_model_name": "DescriptionStyleModel",
            "_view_count": null,
            "_view_module": "@jupyter-widgets/base",
            "_view_module_version": "1.2.0",
            "_view_name": "StyleView",
            "description_width": ""
          }
        },
        "e0aa25fef14b48d09eac03b180edad89": {
          "model_module": "@jupyter-widgets/controls",
          "model_name": "HBoxModel",
          "model_module_version": "1.5.0",
          "state": {
            "_dom_classes": [],
            "_model_module": "@jupyter-widgets/controls",
            "_model_module_version": "1.5.0",
            "_model_name": "HBoxModel",
            "_view_count": null,
            "_view_module": "@jupyter-widgets/controls",
            "_view_module_version": "1.5.0",
            "_view_name": "HBoxView",
            "box_style": "",
            "children": [
              "IPY_MODEL_1200ccb21639479fb055e5a3fbc612d7",
              "IPY_MODEL_bb3f66d842034b25979442a361b214bd",
              "IPY_MODEL_ba07e336ab9e445f8627d7f43a914af4"
            ],
            "layout": "IPY_MODEL_54bc126791344d4082ee0c1bc5f10584"
          }
        },
        "1200ccb21639479fb055e5a3fbc612d7": {
          "model_module": "@jupyter-widgets/controls",
          "model_name": "HTMLModel",
          "model_module_version": "1.5.0",
          "state": {
            "_dom_classes": [],
            "_model_module": "@jupyter-widgets/controls",
            "_model_module_version": "1.5.0",
            "_model_name": "HTMLModel",
            "_view_count": null,
            "_view_module": "@jupyter-widgets/controls",
            "_view_module_version": "1.5.0",
            "_view_name": "HTMLView",
            "description": "",
            "description_tooltip": null,
            "layout": "IPY_MODEL_9041a53f33d949dc8e322136b85fc93e",
            "placeholder": "​",
            "style": "IPY_MODEL_25db91d25f8a4f35823524d3d7d21e56",
            "value": "tokenizer.json: 100%"
          }
        },
        "bb3f66d842034b25979442a361b214bd": {
          "model_module": "@jupyter-widgets/controls",
          "model_name": "FloatProgressModel",
          "model_module_version": "1.5.0",
          "state": {
            "_dom_classes": [],
            "_model_module": "@jupyter-widgets/controls",
            "_model_module_version": "1.5.0",
            "_model_name": "FloatProgressModel",
            "_view_count": null,
            "_view_module": "@jupyter-widgets/controls",
            "_view_module_version": "1.5.0",
            "_view_name": "ProgressView",
            "bar_style": "success",
            "description": "",
            "description_tooltip": null,
            "layout": "IPY_MODEL_3efe44104f7141949a9b50113af4e93c",
            "max": 9085698,
            "min": 0,
            "orientation": "horizontal",
            "style": "IPY_MODEL_fd4a88e635974f31acbbe3f9f337df0f",
            "value": 9085698
          }
        },
        "ba07e336ab9e445f8627d7f43a914af4": {
          "model_module": "@jupyter-widgets/controls",
          "model_name": "HTMLModel",
          "model_module_version": "1.5.0",
          "state": {
            "_dom_classes": [],
            "_model_module": "@jupyter-widgets/controls",
            "_model_module_version": "1.5.0",
            "_model_name": "HTMLModel",
            "_view_count": null,
            "_view_module": "@jupyter-widgets/controls",
            "_view_module_version": "1.5.0",
            "_view_name": "HTMLView",
            "description": "",
            "description_tooltip": null,
            "layout": "IPY_MODEL_51473cb5ef1f40c99ab6c94056859b02",
            "placeholder": "​",
            "style": "IPY_MODEL_883a93f824c741a8b8239c062adbfdf1",
            "value": " 9.09M/9.09M [00:00&lt;00:00, 26.3MB/s]"
          }
        },
        "54bc126791344d4082ee0c1bc5f10584": {
          "model_module": "@jupyter-widgets/base",
          "model_name": "LayoutModel",
          "model_module_version": "1.2.0",
          "state": {
            "_model_module": "@jupyter-widgets/base",
            "_model_module_version": "1.2.0",
            "_model_name": "LayoutModel",
            "_view_count": null,
            "_view_module": "@jupyter-widgets/base",
            "_view_module_version": "1.2.0",
            "_view_name": "LayoutView",
            "align_content": null,
            "align_items": null,
            "align_self": null,
            "border": null,
            "bottom": null,
            "display": null,
            "flex": null,
            "flex_flow": null,
            "grid_area": null,
            "grid_auto_columns": null,
            "grid_auto_flow": null,
            "grid_auto_rows": null,
            "grid_column": null,
            "grid_gap": null,
            "grid_row": null,
            "grid_template_areas": null,
            "grid_template_columns": null,
            "grid_template_rows": null,
            "height": null,
            "justify_content": null,
            "justify_items": null,
            "left": null,
            "margin": null,
            "max_height": null,
            "max_width": null,
            "min_height": null,
            "min_width": null,
            "object_fit": null,
            "object_position": null,
            "order": null,
            "overflow": null,
            "overflow_x": null,
            "overflow_y": null,
            "padding": null,
            "right": null,
            "top": null,
            "visibility": null,
            "width": null
          }
        },
        "9041a53f33d949dc8e322136b85fc93e": {
          "model_module": "@jupyter-widgets/base",
          "model_name": "LayoutModel",
          "model_module_version": "1.2.0",
          "state": {
            "_model_module": "@jupyter-widgets/base",
            "_model_module_version": "1.2.0",
            "_model_name": "LayoutModel",
            "_view_count": null,
            "_view_module": "@jupyter-widgets/base",
            "_view_module_version": "1.2.0",
            "_view_name": "LayoutView",
            "align_content": null,
            "align_items": null,
            "align_self": null,
            "border": null,
            "bottom": null,
            "display": null,
            "flex": null,
            "flex_flow": null,
            "grid_area": null,
            "grid_auto_columns": null,
            "grid_auto_flow": null,
            "grid_auto_rows": null,
            "grid_column": null,
            "grid_gap": null,
            "grid_row": null,
            "grid_template_areas": null,
            "grid_template_columns": null,
            "grid_template_rows": null,
            "height": null,
            "justify_content": null,
            "justify_items": null,
            "left": null,
            "margin": null,
            "max_height": null,
            "max_width": null,
            "min_height": null,
            "min_width": null,
            "object_fit": null,
            "object_position": null,
            "order": null,
            "overflow": null,
            "overflow_x": null,
            "overflow_y": null,
            "padding": null,
            "right": null,
            "top": null,
            "visibility": null,
            "width": null
          }
        },
        "25db91d25f8a4f35823524d3d7d21e56": {
          "model_module": "@jupyter-widgets/controls",
          "model_name": "DescriptionStyleModel",
          "model_module_version": "1.5.0",
          "state": {
            "_model_module": "@jupyter-widgets/controls",
            "_model_module_version": "1.5.0",
            "_model_name": "DescriptionStyleModel",
            "_view_count": null,
            "_view_module": "@jupyter-widgets/base",
            "_view_module_version": "1.2.0",
            "_view_name": "StyleView",
            "description_width": ""
          }
        },
        "3efe44104f7141949a9b50113af4e93c": {
          "model_module": "@jupyter-widgets/base",
          "model_name": "LayoutModel",
          "model_module_version": "1.2.0",
          "state": {
            "_model_module": "@jupyter-widgets/base",
            "_model_module_version": "1.2.0",
            "_model_name": "LayoutModel",
            "_view_count": null,
            "_view_module": "@jupyter-widgets/base",
            "_view_module_version": "1.2.0",
            "_view_name": "LayoutView",
            "align_content": null,
            "align_items": null,
            "align_self": null,
            "border": null,
            "bottom": null,
            "display": null,
            "flex": null,
            "flex_flow": null,
            "grid_area": null,
            "grid_auto_columns": null,
            "grid_auto_flow": null,
            "grid_auto_rows": null,
            "grid_column": null,
            "grid_gap": null,
            "grid_row": null,
            "grid_template_areas": null,
            "grid_template_columns": null,
            "grid_template_rows": null,
            "height": null,
            "justify_content": null,
            "justify_items": null,
            "left": null,
            "margin": null,
            "max_height": null,
            "max_width": null,
            "min_height": null,
            "min_width": null,
            "object_fit": null,
            "object_position": null,
            "order": null,
            "overflow": null,
            "overflow_x": null,
            "overflow_y": null,
            "padding": null,
            "right": null,
            "top": null,
            "visibility": null,
            "width": null
          }
        },
        "fd4a88e635974f31acbbe3f9f337df0f": {
          "model_module": "@jupyter-widgets/controls",
          "model_name": "ProgressStyleModel",
          "model_module_version": "1.5.0",
          "state": {
            "_model_module": "@jupyter-widgets/controls",
            "_model_module_version": "1.5.0",
            "_model_name": "ProgressStyleModel",
            "_view_count": null,
            "_view_module": "@jupyter-widgets/base",
            "_view_module_version": "1.2.0",
            "_view_name": "StyleView",
            "bar_color": null,
            "description_width": ""
          }
        },
        "51473cb5ef1f40c99ab6c94056859b02": {
          "model_module": "@jupyter-widgets/base",
          "model_name": "LayoutModel",
          "model_module_version": "1.2.0",
          "state": {
            "_model_module": "@jupyter-widgets/base",
            "_model_module_version": "1.2.0",
            "_model_name": "LayoutModel",
            "_view_count": null,
            "_view_module": "@jupyter-widgets/base",
            "_view_module_version": "1.2.0",
            "_view_name": "LayoutView",
            "align_content": null,
            "align_items": null,
            "align_self": null,
            "border": null,
            "bottom": null,
            "display": null,
            "flex": null,
            "flex_flow": null,
            "grid_area": null,
            "grid_auto_columns": null,
            "grid_auto_flow": null,
            "grid_auto_rows": null,
            "grid_column": null,
            "grid_gap": null,
            "grid_row": null,
            "grid_template_areas": null,
            "grid_template_columns": null,
            "grid_template_rows": null,
            "height": null,
            "justify_content": null,
            "justify_items": null,
            "left": null,
            "margin": null,
            "max_height": null,
            "max_width": null,
            "min_height": null,
            "min_width": null,
            "object_fit": null,
            "object_position": null,
            "order": null,
            "overflow": null,
            "overflow_x": null,
            "overflow_y": null,
            "padding": null,
            "right": null,
            "top": null,
            "visibility": null,
            "width": null
          }
        },
        "883a93f824c741a8b8239c062adbfdf1": {
          "model_module": "@jupyter-widgets/controls",
          "model_name": "DescriptionStyleModel",
          "model_module_version": "1.5.0",
          "state": {
            "_model_module": "@jupyter-widgets/controls",
            "_model_module_version": "1.5.0",
            "_model_name": "DescriptionStyleModel",
            "_view_count": null,
            "_view_module": "@jupyter-widgets/base",
            "_view_module_version": "1.2.0",
            "_view_name": "StyleView",
            "description_width": ""
          }
        },
        "f1f85040e81f4ce5b102baa36b0d2d80": {
          "model_module": "@jupyter-widgets/controls",
          "model_name": "HBoxModel",
          "model_module_version": "1.5.0",
          "state": {
            "_dom_classes": [],
            "_model_module": "@jupyter-widgets/controls",
            "_model_module_version": "1.5.0",
            "_model_name": "HBoxModel",
            "_view_count": null,
            "_view_module": "@jupyter-widgets/controls",
            "_view_module_version": "1.5.0",
            "_view_name": "HBoxView",
            "box_style": "",
            "children": [
              "IPY_MODEL_0a61f76d41024dd3908d25a717bf94de",
              "IPY_MODEL_d39e0c9c318f419eb3035989db041fe4",
              "IPY_MODEL_28d237f4cacc45628a9ce35a7686bf69"
            ],
            "layout": "IPY_MODEL_01b36daf7af348d99a528d47f535a752"
          }
        },
        "0a61f76d41024dd3908d25a717bf94de": {
          "model_module": "@jupyter-widgets/controls",
          "model_name": "HTMLModel",
          "model_module_version": "1.5.0",
          "state": {
            "_dom_classes": [],
            "_model_module": "@jupyter-widgets/controls",
            "_model_module_version": "1.5.0",
            "_model_name": "HTMLModel",
            "_view_count": null,
            "_view_module": "@jupyter-widgets/controls",
            "_view_module_version": "1.5.0",
            "_view_name": "HTMLView",
            "description": "",
            "description_tooltip": null,
            "layout": "IPY_MODEL_10e724db7dd94d0ebe5aa9471485fee4",
            "placeholder": "​",
            "style": "IPY_MODEL_525ada96547642328b232c87f7e72207",
            "value": "special_tokens_map.json: 100%"
          }
        },
        "d39e0c9c318f419eb3035989db041fe4": {
          "model_module": "@jupyter-widgets/controls",
          "model_name": "FloatProgressModel",
          "model_module_version": "1.5.0",
          "state": {
            "_dom_classes": [],
            "_model_module": "@jupyter-widgets/controls",
            "_model_module_version": "1.5.0",
            "_model_name": "FloatProgressModel",
            "_view_count": null,
            "_view_module": "@jupyter-widgets/controls",
            "_view_module_version": "1.5.0",
            "_view_name": "ProgressView",
            "bar_style": "success",
            "description": "",
            "description_tooltip": null,
            "layout": "IPY_MODEL_5ea042afe2334b0295178593f92febf9",
            "max": 459,
            "min": 0,
            "orientation": "horizontal",
            "style": "IPY_MODEL_ecf0edcc844445a795aac25263a21467",
            "value": 459
          }
        },
        "28d237f4cacc45628a9ce35a7686bf69": {
          "model_module": "@jupyter-widgets/controls",
          "model_name": "HTMLModel",
          "model_module_version": "1.5.0",
          "state": {
            "_dom_classes": [],
            "_model_module": "@jupyter-widgets/controls",
            "_model_module_version": "1.5.0",
            "_model_name": "HTMLModel",
            "_view_count": null,
            "_view_module": "@jupyter-widgets/controls",
            "_view_module_version": "1.5.0",
            "_view_name": "HTMLView",
            "description": "",
            "description_tooltip": null,
            "layout": "IPY_MODEL_d087bf2846d94860b2dd78fb666d4580",
            "placeholder": "​",
            "style": "IPY_MODEL_4488ac3f378d4964b6ef7843e282c231",
            "value": " 459/459 [00:00&lt;00:00, 30.8kB/s]"
          }
        },
        "01b36daf7af348d99a528d47f535a752": {
          "model_module": "@jupyter-widgets/base",
          "model_name": "LayoutModel",
          "model_module_version": "1.2.0",
          "state": {
            "_model_module": "@jupyter-widgets/base",
            "_model_module_version": "1.2.0",
            "_model_name": "LayoutModel",
            "_view_count": null,
            "_view_module": "@jupyter-widgets/base",
            "_view_module_version": "1.2.0",
            "_view_name": "LayoutView",
            "align_content": null,
            "align_items": null,
            "align_self": null,
            "border": null,
            "bottom": null,
            "display": null,
            "flex": null,
            "flex_flow": null,
            "grid_area": null,
            "grid_auto_columns": null,
            "grid_auto_flow": null,
            "grid_auto_rows": null,
            "grid_column": null,
            "grid_gap": null,
            "grid_row": null,
            "grid_template_areas": null,
            "grid_template_columns": null,
            "grid_template_rows": null,
            "height": null,
            "justify_content": null,
            "justify_items": null,
            "left": null,
            "margin": null,
            "max_height": null,
            "max_width": null,
            "min_height": null,
            "min_width": null,
            "object_fit": null,
            "object_position": null,
            "order": null,
            "overflow": null,
            "overflow_x": null,
            "overflow_y": null,
            "padding": null,
            "right": null,
            "top": null,
            "visibility": null,
            "width": null
          }
        },
        "10e724db7dd94d0ebe5aa9471485fee4": {
          "model_module": "@jupyter-widgets/base",
          "model_name": "LayoutModel",
          "model_module_version": "1.2.0",
          "state": {
            "_model_module": "@jupyter-widgets/base",
            "_model_module_version": "1.2.0",
            "_model_name": "LayoutModel",
            "_view_count": null,
            "_view_module": "@jupyter-widgets/base",
            "_view_module_version": "1.2.0",
            "_view_name": "LayoutView",
            "align_content": null,
            "align_items": null,
            "align_self": null,
            "border": null,
            "bottom": null,
            "display": null,
            "flex": null,
            "flex_flow": null,
            "grid_area": null,
            "grid_auto_columns": null,
            "grid_auto_flow": null,
            "grid_auto_rows": null,
            "grid_column": null,
            "grid_gap": null,
            "grid_row": null,
            "grid_template_areas": null,
            "grid_template_columns": null,
            "grid_template_rows": null,
            "height": null,
            "justify_content": null,
            "justify_items": null,
            "left": null,
            "margin": null,
            "max_height": null,
            "max_width": null,
            "min_height": null,
            "min_width": null,
            "object_fit": null,
            "object_position": null,
            "order": null,
            "overflow": null,
            "overflow_x": null,
            "overflow_y": null,
            "padding": null,
            "right": null,
            "top": null,
            "visibility": null,
            "width": null
          }
        },
        "525ada96547642328b232c87f7e72207": {
          "model_module": "@jupyter-widgets/controls",
          "model_name": "DescriptionStyleModel",
          "model_module_version": "1.5.0",
          "state": {
            "_model_module": "@jupyter-widgets/controls",
            "_model_module_version": "1.5.0",
            "_model_name": "DescriptionStyleModel",
            "_view_count": null,
            "_view_module": "@jupyter-widgets/base",
            "_view_module_version": "1.2.0",
            "_view_name": "StyleView",
            "description_width": ""
          }
        },
        "5ea042afe2334b0295178593f92febf9": {
          "model_module": "@jupyter-widgets/base",
          "model_name": "LayoutModel",
          "model_module_version": "1.2.0",
          "state": {
            "_model_module": "@jupyter-widgets/base",
            "_model_module_version": "1.2.0",
            "_model_name": "LayoutModel",
            "_view_count": null,
            "_view_module": "@jupyter-widgets/base",
            "_view_module_version": "1.2.0",
            "_view_name": "LayoutView",
            "align_content": null,
            "align_items": null,
            "align_self": null,
            "border": null,
            "bottom": null,
            "display": null,
            "flex": null,
            "flex_flow": null,
            "grid_area": null,
            "grid_auto_columns": null,
            "grid_auto_flow": null,
            "grid_auto_rows": null,
            "grid_column": null,
            "grid_gap": null,
            "grid_row": null,
            "grid_template_areas": null,
            "grid_template_columns": null,
            "grid_template_rows": null,
            "height": null,
            "justify_content": null,
            "justify_items": null,
            "left": null,
            "margin": null,
            "max_height": null,
            "max_width": null,
            "min_height": null,
            "min_width": null,
            "object_fit": null,
            "object_position": null,
            "order": null,
            "overflow": null,
            "overflow_x": null,
            "overflow_y": null,
            "padding": null,
            "right": null,
            "top": null,
            "visibility": null,
            "width": null
          }
        },
        "ecf0edcc844445a795aac25263a21467": {
          "model_module": "@jupyter-widgets/controls",
          "model_name": "ProgressStyleModel",
          "model_module_version": "1.5.0",
          "state": {
            "_model_module": "@jupyter-widgets/controls",
            "_model_module_version": "1.5.0",
            "_model_name": "ProgressStyleModel",
            "_view_count": null,
            "_view_module": "@jupyter-widgets/base",
            "_view_module_version": "1.2.0",
            "_view_name": "StyleView",
            "bar_color": null,
            "description_width": ""
          }
        },
        "d087bf2846d94860b2dd78fb666d4580": {
          "model_module": "@jupyter-widgets/base",
          "model_name": "LayoutModel",
          "model_module_version": "1.2.0",
          "state": {
            "_model_module": "@jupyter-widgets/base",
            "_model_module_version": "1.2.0",
            "_model_name": "LayoutModel",
            "_view_count": null,
            "_view_module": "@jupyter-widgets/base",
            "_view_module_version": "1.2.0",
            "_view_name": "LayoutView",
            "align_content": null,
            "align_items": null,
            "align_self": null,
            "border": null,
            "bottom": null,
            "display": null,
            "flex": null,
            "flex_flow": null,
            "grid_area": null,
            "grid_auto_columns": null,
            "grid_auto_flow": null,
            "grid_auto_rows": null,
            "grid_column": null,
            "grid_gap": null,
            "grid_row": null,
            "grid_template_areas": null,
            "grid_template_columns": null,
            "grid_template_rows": null,
            "height": null,
            "justify_content": null,
            "justify_items": null,
            "left": null,
            "margin": null,
            "max_height": null,
            "max_width": null,
            "min_height": null,
            "min_width": null,
            "object_fit": null,
            "object_position": null,
            "order": null,
            "overflow": null,
            "overflow_x": null,
            "overflow_y": null,
            "padding": null,
            "right": null,
            "top": null,
            "visibility": null,
            "width": null
          }
        },
        "4488ac3f378d4964b6ef7843e282c231": {
          "model_module": "@jupyter-widgets/controls",
          "model_name": "DescriptionStyleModel",
          "model_module_version": "1.5.0",
          "state": {
            "_model_module": "@jupyter-widgets/controls",
            "_model_module_version": "1.5.0",
            "_model_name": "DescriptionStyleModel",
            "_view_count": null,
            "_view_module": "@jupyter-widgets/base",
            "_view_module_version": "1.2.0",
            "_view_name": "StyleView",
            "description_width": ""
          }
        },
        "aac03dfef181424da9f19c37c55f3aed": {
          "model_module": "@jupyter-widgets/controls",
          "model_name": "HBoxModel",
          "model_module_version": "1.5.0",
          "state": {
            "_dom_classes": [],
            "_model_module": "@jupyter-widgets/controls",
            "_model_module_version": "1.5.0",
            "_model_name": "HBoxModel",
            "_view_count": null,
            "_view_module": "@jupyter-widgets/controls",
            "_view_module_version": "1.5.0",
            "_view_name": "HBoxView",
            "box_style": "",
            "children": [
              "IPY_MODEL_21d184892807483495fe4f9877f5baa4",
              "IPY_MODEL_be2075e39ab44f9385a2009ec78a06a3",
              "IPY_MODEL_e283b446c4a14800b1374291e952cb4b"
            ],
            "layout": "IPY_MODEL_cecdb6849a0e40c6aba3a34aa8155057"
          }
        },
        "21d184892807483495fe4f9877f5baa4": {
          "model_module": "@jupyter-widgets/controls",
          "model_name": "HTMLModel",
          "model_module_version": "1.5.0",
          "state": {
            "_dom_classes": [],
            "_model_module": "@jupyter-widgets/controls",
            "_model_module_version": "1.5.0",
            "_model_name": "HTMLModel",
            "_view_count": null,
            "_view_module": "@jupyter-widgets/controls",
            "_view_module_version": "1.5.0",
            "_view_name": "HTMLView",
            "description": "",
            "description_tooltip": null,
            "layout": "IPY_MODEL_d68cfb8c173e44328275d310ab062858",
            "placeholder": "​",
            "style": "IPY_MODEL_03551277edc14eb58b59a1fa5bab4b45",
            "value": "Downloading readme: 100%"
          }
        },
        "be2075e39ab44f9385a2009ec78a06a3": {
          "model_module": "@jupyter-widgets/controls",
          "model_name": "FloatProgressModel",
          "model_module_version": "1.5.0",
          "state": {
            "_dom_classes": [],
            "_model_module": "@jupyter-widgets/controls",
            "_model_module_version": "1.5.0",
            "_model_name": "FloatProgressModel",
            "_view_count": null,
            "_view_module": "@jupyter-widgets/controls",
            "_view_module_version": "1.5.0",
            "_view_name": "ProgressView",
            "bar_style": "success",
            "description": "",
            "description_tooltip": null,
            "layout": "IPY_MODEL_a53d36ffa70c42b48d9996c6dfe5f0f5",
            "max": 2505,
            "min": 0,
            "orientation": "horizontal",
            "style": "IPY_MODEL_766f7359e4664b28b6f42db43fcbc02a",
            "value": 2505
          }
        },
        "e283b446c4a14800b1374291e952cb4b": {
          "model_module": "@jupyter-widgets/controls",
          "model_name": "HTMLModel",
          "model_module_version": "1.5.0",
          "state": {
            "_dom_classes": [],
            "_model_module": "@jupyter-widgets/controls",
            "_model_module_version": "1.5.0",
            "_model_name": "HTMLModel",
            "_view_count": null,
            "_view_module": "@jupyter-widgets/controls",
            "_view_module_version": "1.5.0",
            "_view_name": "HTMLView",
            "description": "",
            "description_tooltip": null,
            "layout": "IPY_MODEL_9d18d9c33f144cd3adc2c9fe320743a5",
            "placeholder": "​",
            "style": "IPY_MODEL_a60aaf4a15634eb7b0168ee5eaaaae8d",
            "value": " 2.50k/2.50k [00:00&lt;00:00, 169kB/s]"
          }
        },
        "cecdb6849a0e40c6aba3a34aa8155057": {
          "model_module": "@jupyter-widgets/base",
          "model_name": "LayoutModel",
          "model_module_version": "1.2.0",
          "state": {
            "_model_module": "@jupyter-widgets/base",
            "_model_module_version": "1.2.0",
            "_model_name": "LayoutModel",
            "_view_count": null,
            "_view_module": "@jupyter-widgets/base",
            "_view_module_version": "1.2.0",
            "_view_name": "LayoutView",
            "align_content": null,
            "align_items": null,
            "align_self": null,
            "border": null,
            "bottom": null,
            "display": null,
            "flex": null,
            "flex_flow": null,
            "grid_area": null,
            "grid_auto_columns": null,
            "grid_auto_flow": null,
            "grid_auto_rows": null,
            "grid_column": null,
            "grid_gap": null,
            "grid_row": null,
            "grid_template_areas": null,
            "grid_template_columns": null,
            "grid_template_rows": null,
            "height": null,
            "justify_content": null,
            "justify_items": null,
            "left": null,
            "margin": null,
            "max_height": null,
            "max_width": null,
            "min_height": null,
            "min_width": null,
            "object_fit": null,
            "object_position": null,
            "order": null,
            "overflow": null,
            "overflow_x": null,
            "overflow_y": null,
            "padding": null,
            "right": null,
            "top": null,
            "visibility": null,
            "width": null
          }
        },
        "d68cfb8c173e44328275d310ab062858": {
          "model_module": "@jupyter-widgets/base",
          "model_name": "LayoutModel",
          "model_module_version": "1.2.0",
          "state": {
            "_model_module": "@jupyter-widgets/base",
            "_model_module_version": "1.2.0",
            "_model_name": "LayoutModel",
            "_view_count": null,
            "_view_module": "@jupyter-widgets/base",
            "_view_module_version": "1.2.0",
            "_view_name": "LayoutView",
            "align_content": null,
            "align_items": null,
            "align_self": null,
            "border": null,
            "bottom": null,
            "display": null,
            "flex": null,
            "flex_flow": null,
            "grid_area": null,
            "grid_auto_columns": null,
            "grid_auto_flow": null,
            "grid_auto_rows": null,
            "grid_column": null,
            "grid_gap": null,
            "grid_row": null,
            "grid_template_areas": null,
            "grid_template_columns": null,
            "grid_template_rows": null,
            "height": null,
            "justify_content": null,
            "justify_items": null,
            "left": null,
            "margin": null,
            "max_height": null,
            "max_width": null,
            "min_height": null,
            "min_width": null,
            "object_fit": null,
            "object_position": null,
            "order": null,
            "overflow": null,
            "overflow_x": null,
            "overflow_y": null,
            "padding": null,
            "right": null,
            "top": null,
            "visibility": null,
            "width": null
          }
        },
        "03551277edc14eb58b59a1fa5bab4b45": {
          "model_module": "@jupyter-widgets/controls",
          "model_name": "DescriptionStyleModel",
          "model_module_version": "1.5.0",
          "state": {
            "_model_module": "@jupyter-widgets/controls",
            "_model_module_version": "1.5.0",
            "_model_name": "DescriptionStyleModel",
            "_view_count": null,
            "_view_module": "@jupyter-widgets/base",
            "_view_module_version": "1.2.0",
            "_view_name": "StyleView",
            "description_width": ""
          }
        },
        "a53d36ffa70c42b48d9996c6dfe5f0f5": {
          "model_module": "@jupyter-widgets/base",
          "model_name": "LayoutModel",
          "model_module_version": "1.2.0",
          "state": {
            "_model_module": "@jupyter-widgets/base",
            "_model_module_version": "1.2.0",
            "_model_name": "LayoutModel",
            "_view_count": null,
            "_view_module": "@jupyter-widgets/base",
            "_view_module_version": "1.2.0",
            "_view_name": "LayoutView",
            "align_content": null,
            "align_items": null,
            "align_self": null,
            "border": null,
            "bottom": null,
            "display": null,
            "flex": null,
            "flex_flow": null,
            "grid_area": null,
            "grid_auto_columns": null,
            "grid_auto_flow": null,
            "grid_auto_rows": null,
            "grid_column": null,
            "grid_gap": null,
            "grid_row": null,
            "grid_template_areas": null,
            "grid_template_columns": null,
            "grid_template_rows": null,
            "height": null,
            "justify_content": null,
            "justify_items": null,
            "left": null,
            "margin": null,
            "max_height": null,
            "max_width": null,
            "min_height": null,
            "min_width": null,
            "object_fit": null,
            "object_position": null,
            "order": null,
            "overflow": null,
            "overflow_x": null,
            "overflow_y": null,
            "padding": null,
            "right": null,
            "top": null,
            "visibility": null,
            "width": null
          }
        },
        "766f7359e4664b28b6f42db43fcbc02a": {
          "model_module": "@jupyter-widgets/controls",
          "model_name": "ProgressStyleModel",
          "model_module_version": "1.5.0",
          "state": {
            "_model_module": "@jupyter-widgets/controls",
            "_model_module_version": "1.5.0",
            "_model_name": "ProgressStyleModel",
            "_view_count": null,
            "_view_module": "@jupyter-widgets/base",
            "_view_module_version": "1.2.0",
            "_view_name": "StyleView",
            "bar_color": null,
            "description_width": ""
          }
        },
        "9d18d9c33f144cd3adc2c9fe320743a5": {
          "model_module": "@jupyter-widgets/base",
          "model_name": "LayoutModel",
          "model_module_version": "1.2.0",
          "state": {
            "_model_module": "@jupyter-widgets/base",
            "_model_module_version": "1.2.0",
            "_model_name": "LayoutModel",
            "_view_count": null,
            "_view_module": "@jupyter-widgets/base",
            "_view_module_version": "1.2.0",
            "_view_name": "LayoutView",
            "align_content": null,
            "align_items": null,
            "align_self": null,
            "border": null,
            "bottom": null,
            "display": null,
            "flex": null,
            "flex_flow": null,
            "grid_area": null,
            "grid_auto_columns": null,
            "grid_auto_flow": null,
            "grid_auto_rows": null,
            "grid_column": null,
            "grid_gap": null,
            "grid_row": null,
            "grid_template_areas": null,
            "grid_template_columns": null,
            "grid_template_rows": null,
            "height": null,
            "justify_content": null,
            "justify_items": null,
            "left": null,
            "margin": null,
            "max_height": null,
            "max_width": null,
            "min_height": null,
            "min_width": null,
            "object_fit": null,
            "object_position": null,
            "order": null,
            "overflow": null,
            "overflow_x": null,
            "overflow_y": null,
            "padding": null,
            "right": null,
            "top": null,
            "visibility": null,
            "width": null
          }
        },
        "a60aaf4a15634eb7b0168ee5eaaaae8d": {
          "model_module": "@jupyter-widgets/controls",
          "model_name": "DescriptionStyleModel",
          "model_module_version": "1.5.0",
          "state": {
            "_model_module": "@jupyter-widgets/controls",
            "_model_module_version": "1.5.0",
            "_model_name": "DescriptionStyleModel",
            "_view_count": null,
            "_view_module": "@jupyter-widgets/base",
            "_view_module_version": "1.2.0",
            "_view_name": "StyleView",
            "description_width": ""
          }
        },
        "a7a67aa2a82d44809e745d67fe674d0f": {
          "model_module": "@jupyter-widgets/controls",
          "model_name": "HBoxModel",
          "model_module_version": "1.5.0",
          "state": {
            "_dom_classes": [],
            "_model_module": "@jupyter-widgets/controls",
            "_model_module_version": "1.5.0",
            "_model_name": "HBoxModel",
            "_view_count": null,
            "_view_module": "@jupyter-widgets/controls",
            "_view_module_version": "1.5.0",
            "_view_name": "HBoxView",
            "box_style": "",
            "children": [
              "IPY_MODEL_939668fccd9846d187a66fad9698f9d1",
              "IPY_MODEL_68b44b3e7d034ff4beb1bff5b8f61ab8",
              "IPY_MODEL_8678291ab2c8485793facdf7eb1bcdea"
            ],
            "layout": "IPY_MODEL_6ad244e92e9c4e8199598f18cc1e1534"
          }
        },
        "939668fccd9846d187a66fad9698f9d1": {
          "model_module": "@jupyter-widgets/controls",
          "model_name": "HTMLModel",
          "model_module_version": "1.5.0",
          "state": {
            "_dom_classes": [],
            "_model_module": "@jupyter-widgets/controls",
            "_model_module_version": "1.5.0",
            "_model_name": "HTMLModel",
            "_view_count": null,
            "_view_module": "@jupyter-widgets/controls",
            "_view_module_version": "1.5.0",
            "_view_name": "HTMLView",
            "description": "",
            "description_tooltip": null,
            "layout": "IPY_MODEL_ffaaf4199e414f658951335d1bbf4cff",
            "placeholder": "​",
            "style": "IPY_MODEL_d38bd1e85ecc472f9a90f5a7f549df84",
            "value": "Downloading data: 100%"
          }
        },
        "68b44b3e7d034ff4beb1bff5b8f61ab8": {
          "model_module": "@jupyter-widgets/controls",
          "model_name": "FloatProgressModel",
          "model_module_version": "1.5.0",
          "state": {
            "_dom_classes": [],
            "_model_module": "@jupyter-widgets/controls",
            "_model_module_version": "1.5.0",
            "_model_name": "FloatProgressModel",
            "_view_count": null,
            "_view_module": "@jupyter-widgets/controls",
            "_view_module_version": "1.5.0",
            "_view_name": "ProgressView",
            "bar_style": "success",
            "description": "",
            "description_tooltip": null,
            "layout": "IPY_MODEL_18275f3ba6ee4f95b737f12bfef5498c",
            "max": 1939481,
            "min": 0,
            "orientation": "horizontal",
            "style": "IPY_MODEL_af9d6487071449dd8395f111f913c238",
            "value": 1939481
          }
        },
        "8678291ab2c8485793facdf7eb1bcdea": {
          "model_module": "@jupyter-widgets/controls",
          "model_name": "HTMLModel",
          "model_module_version": "1.5.0",
          "state": {
            "_dom_classes": [],
            "_model_module": "@jupyter-widgets/controls",
            "_model_module_version": "1.5.0",
            "_model_name": "HTMLModel",
            "_view_count": null,
            "_view_module": "@jupyter-widgets/controls",
            "_view_module_version": "1.5.0",
            "_view_name": "HTMLView",
            "description": "",
            "description_tooltip": null,
            "layout": "IPY_MODEL_e77653f3e89e45dfbe69e4a36a03fafd",
            "placeholder": "​",
            "style": "IPY_MODEL_b6e8a834ee1445a5a803c45661c389ed",
            "value": " 1.94M/1.94M [00:00&lt;00:00, 3.83MB/s]"
          }
        },
        "6ad244e92e9c4e8199598f18cc1e1534": {
          "model_module": "@jupyter-widgets/base",
          "model_name": "LayoutModel",
          "model_module_version": "1.2.0",
          "state": {
            "_model_module": "@jupyter-widgets/base",
            "_model_module_version": "1.2.0",
            "_model_name": "LayoutModel",
            "_view_count": null,
            "_view_module": "@jupyter-widgets/base",
            "_view_module_version": "1.2.0",
            "_view_name": "LayoutView",
            "align_content": null,
            "align_items": null,
            "align_self": null,
            "border": null,
            "bottom": null,
            "display": null,
            "flex": null,
            "flex_flow": null,
            "grid_area": null,
            "grid_auto_columns": null,
            "grid_auto_flow": null,
            "grid_auto_rows": null,
            "grid_column": null,
            "grid_gap": null,
            "grid_row": null,
            "grid_template_areas": null,
            "grid_template_columns": null,
            "grid_template_rows": null,
            "height": null,
            "justify_content": null,
            "justify_items": null,
            "left": null,
            "margin": null,
            "max_height": null,
            "max_width": null,
            "min_height": null,
            "min_width": null,
            "object_fit": null,
            "object_position": null,
            "order": null,
            "overflow": null,
            "overflow_x": null,
            "overflow_y": null,
            "padding": null,
            "right": null,
            "top": null,
            "visibility": null,
            "width": null
          }
        },
        "ffaaf4199e414f658951335d1bbf4cff": {
          "model_module": "@jupyter-widgets/base",
          "model_name": "LayoutModel",
          "model_module_version": "1.2.0",
          "state": {
            "_model_module": "@jupyter-widgets/base",
            "_model_module_version": "1.2.0",
            "_model_name": "LayoutModel",
            "_view_count": null,
            "_view_module": "@jupyter-widgets/base",
            "_view_module_version": "1.2.0",
            "_view_name": "LayoutView",
            "align_content": null,
            "align_items": null,
            "align_self": null,
            "border": null,
            "bottom": null,
            "display": null,
            "flex": null,
            "flex_flow": null,
            "grid_area": null,
            "grid_auto_columns": null,
            "grid_auto_flow": null,
            "grid_auto_rows": null,
            "grid_column": null,
            "grid_gap": null,
            "grid_row": null,
            "grid_template_areas": null,
            "grid_template_columns": null,
            "grid_template_rows": null,
            "height": null,
            "justify_content": null,
            "justify_items": null,
            "left": null,
            "margin": null,
            "max_height": null,
            "max_width": null,
            "min_height": null,
            "min_width": null,
            "object_fit": null,
            "object_position": null,
            "order": null,
            "overflow": null,
            "overflow_x": null,
            "overflow_y": null,
            "padding": null,
            "right": null,
            "top": null,
            "visibility": null,
            "width": null
          }
        },
        "d38bd1e85ecc472f9a90f5a7f549df84": {
          "model_module": "@jupyter-widgets/controls",
          "model_name": "DescriptionStyleModel",
          "model_module_version": "1.5.0",
          "state": {
            "_model_module": "@jupyter-widgets/controls",
            "_model_module_version": "1.5.0",
            "_model_name": "DescriptionStyleModel",
            "_view_count": null,
            "_view_module": "@jupyter-widgets/base",
            "_view_module_version": "1.2.0",
            "_view_name": "StyleView",
            "description_width": ""
          }
        },
        "18275f3ba6ee4f95b737f12bfef5498c": {
          "model_module": "@jupyter-widgets/base",
          "model_name": "LayoutModel",
          "model_module_version": "1.2.0",
          "state": {
            "_model_module": "@jupyter-widgets/base",
            "_model_module_version": "1.2.0",
            "_model_name": "LayoutModel",
            "_view_count": null,
            "_view_module": "@jupyter-widgets/base",
            "_view_module_version": "1.2.0",
            "_view_name": "LayoutView",
            "align_content": null,
            "align_items": null,
            "align_self": null,
            "border": null,
            "bottom": null,
            "display": null,
            "flex": null,
            "flex_flow": null,
            "grid_area": null,
            "grid_auto_columns": null,
            "grid_auto_flow": null,
            "grid_auto_rows": null,
            "grid_column": null,
            "grid_gap": null,
            "grid_row": null,
            "grid_template_areas": null,
            "grid_template_columns": null,
            "grid_template_rows": null,
            "height": null,
            "justify_content": null,
            "justify_items": null,
            "left": null,
            "margin": null,
            "max_height": null,
            "max_width": null,
            "min_height": null,
            "min_width": null,
            "object_fit": null,
            "object_position": null,
            "order": null,
            "overflow": null,
            "overflow_x": null,
            "overflow_y": null,
            "padding": null,
            "right": null,
            "top": null,
            "visibility": null,
            "width": null
          }
        },
        "af9d6487071449dd8395f111f913c238": {
          "model_module": "@jupyter-widgets/controls",
          "model_name": "ProgressStyleModel",
          "model_module_version": "1.5.0",
          "state": {
            "_model_module": "@jupyter-widgets/controls",
            "_model_module_version": "1.5.0",
            "_model_name": "ProgressStyleModel",
            "_view_count": null,
            "_view_module": "@jupyter-widgets/base",
            "_view_module_version": "1.2.0",
            "_view_name": "StyleView",
            "bar_color": null,
            "description_width": ""
          }
        },
        "e77653f3e89e45dfbe69e4a36a03fafd": {
          "model_module": "@jupyter-widgets/base",
          "model_name": "LayoutModel",
          "model_module_version": "1.2.0",
          "state": {
            "_model_module": "@jupyter-widgets/base",
            "_model_module_version": "1.2.0",
            "_model_name": "LayoutModel",
            "_view_count": null,
            "_view_module": "@jupyter-widgets/base",
            "_view_module_version": "1.2.0",
            "_view_name": "LayoutView",
            "align_content": null,
            "align_items": null,
            "align_self": null,
            "border": null,
            "bottom": null,
            "display": null,
            "flex": null,
            "flex_flow": null,
            "grid_area": null,
            "grid_auto_columns": null,
            "grid_auto_flow": null,
            "grid_auto_rows": null,
            "grid_column": null,
            "grid_gap": null,
            "grid_row": null,
            "grid_template_areas": null,
            "grid_template_columns": null,
            "grid_template_rows": null,
            "height": null,
            "justify_content": null,
            "justify_items": null,
            "left": null,
            "margin": null,
            "max_height": null,
            "max_width": null,
            "min_height": null,
            "min_width": null,
            "object_fit": null,
            "object_position": null,
            "order": null,
            "overflow": null,
            "overflow_x": null,
            "overflow_y": null,
            "padding": null,
            "right": null,
            "top": null,
            "visibility": null,
            "width": null
          }
        },
        "b6e8a834ee1445a5a803c45661c389ed": {
          "model_module": "@jupyter-widgets/controls",
          "model_name": "DescriptionStyleModel",
          "model_module_version": "1.5.0",
          "state": {
            "_model_module": "@jupyter-widgets/controls",
            "_model_module_version": "1.5.0",
            "_model_name": "DescriptionStyleModel",
            "_view_count": null,
            "_view_module": "@jupyter-widgets/base",
            "_view_module_version": "1.2.0",
            "_view_name": "StyleView",
            "description_width": ""
          }
        },
        "dd7876d6ed1b487d972537e2f592c703": {
          "model_module": "@jupyter-widgets/controls",
          "model_name": "HBoxModel",
          "model_module_version": "1.5.0",
          "state": {
            "_dom_classes": [],
            "_model_module": "@jupyter-widgets/controls",
            "_model_module_version": "1.5.0",
            "_model_name": "HBoxModel",
            "_view_count": null,
            "_view_module": "@jupyter-widgets/controls",
            "_view_module_version": "1.5.0",
            "_view_name": "HBoxView",
            "box_style": "",
            "children": [
              "IPY_MODEL_12086d7c4f424899a2a24a2d61919a55",
              "IPY_MODEL_9f5471cf82a74bcf8cd7e3187cf17cc5",
              "IPY_MODEL_9f141ae46ee14973a7d5f59d3874df07"
            ],
            "layout": "IPY_MODEL_4a8397b9172042b483579c2a42991d22"
          }
        },
        "12086d7c4f424899a2a24a2d61919a55": {
          "model_module": "@jupyter-widgets/controls",
          "model_name": "HTMLModel",
          "model_module_version": "1.5.0",
          "state": {
            "_dom_classes": [],
            "_model_module": "@jupyter-widgets/controls",
            "_model_module_version": "1.5.0",
            "_model_name": "HTMLModel",
            "_view_count": null,
            "_view_module": "@jupyter-widgets/controls",
            "_view_module_version": "1.5.0",
            "_view_name": "HTMLView",
            "description": "",
            "description_tooltip": null,
            "layout": "IPY_MODEL_bb5b72fe541548e5be6d2942ac2dbc93",
            "placeholder": "​",
            "style": "IPY_MODEL_5daf9730a26844ba833049a3c09640ce",
            "value": "Generating train split: 100%"
          }
        },
        "9f5471cf82a74bcf8cd7e3187cf17cc5": {
          "model_module": "@jupyter-widgets/controls",
          "model_name": "FloatProgressModel",
          "model_module_version": "1.5.0",
          "state": {
            "_dom_classes": [],
            "_model_module": "@jupyter-widgets/controls",
            "_model_module_version": "1.5.0",
            "_model_name": "FloatProgressModel",
            "_view_count": null,
            "_view_module": "@jupyter-widgets/controls",
            "_view_module_version": "1.5.0",
            "_view_name": "ProgressView",
            "bar_style": "success",
            "description": "",
            "description_tooltip": null,
            "layout": "IPY_MODEL_a1ed76d0ef4748c59b69238cb85d8954",
            "max": 2000,
            "min": 0,
            "orientation": "horizontal",
            "style": "IPY_MODEL_b100e65beb1e45139981681b9b8ca992",
            "value": 2000
          }
        },
        "9f141ae46ee14973a7d5f59d3874df07": {
          "model_module": "@jupyter-widgets/controls",
          "model_name": "HTMLModel",
          "model_module_version": "1.5.0",
          "state": {
            "_dom_classes": [],
            "_model_module": "@jupyter-widgets/controls",
            "_model_module_version": "1.5.0",
            "_model_name": "HTMLModel",
            "_view_count": null,
            "_view_module": "@jupyter-widgets/controls",
            "_view_module_version": "1.5.0",
            "_view_name": "HTMLView",
            "description": "",
            "description_tooltip": null,
            "layout": "IPY_MODEL_f60d0bad20b342faaaad5d0083647715",
            "placeholder": "​",
            "style": "IPY_MODEL_0d00f4ae4d034fb9ab889796bd1d03fe",
            "value": " 2000/2000 [00:00&lt;00:00, 20159.98 examples/s]"
          }
        },
        "4a8397b9172042b483579c2a42991d22": {
          "model_module": "@jupyter-widgets/base",
          "model_name": "LayoutModel",
          "model_module_version": "1.2.0",
          "state": {
            "_model_module": "@jupyter-widgets/base",
            "_model_module_version": "1.2.0",
            "_model_name": "LayoutModel",
            "_view_count": null,
            "_view_module": "@jupyter-widgets/base",
            "_view_module_version": "1.2.0",
            "_view_name": "LayoutView",
            "align_content": null,
            "align_items": null,
            "align_self": null,
            "border": null,
            "bottom": null,
            "display": null,
            "flex": null,
            "flex_flow": null,
            "grid_area": null,
            "grid_auto_columns": null,
            "grid_auto_flow": null,
            "grid_auto_rows": null,
            "grid_column": null,
            "grid_gap": null,
            "grid_row": null,
            "grid_template_areas": null,
            "grid_template_columns": null,
            "grid_template_rows": null,
            "height": null,
            "justify_content": null,
            "justify_items": null,
            "left": null,
            "margin": null,
            "max_height": null,
            "max_width": null,
            "min_height": null,
            "min_width": null,
            "object_fit": null,
            "object_position": null,
            "order": null,
            "overflow": null,
            "overflow_x": null,
            "overflow_y": null,
            "padding": null,
            "right": null,
            "top": null,
            "visibility": null,
            "width": null
          }
        },
        "bb5b72fe541548e5be6d2942ac2dbc93": {
          "model_module": "@jupyter-widgets/base",
          "model_name": "LayoutModel",
          "model_module_version": "1.2.0",
          "state": {
            "_model_module": "@jupyter-widgets/base",
            "_model_module_version": "1.2.0",
            "_model_name": "LayoutModel",
            "_view_count": null,
            "_view_module": "@jupyter-widgets/base",
            "_view_module_version": "1.2.0",
            "_view_name": "LayoutView",
            "align_content": null,
            "align_items": null,
            "align_self": null,
            "border": null,
            "bottom": null,
            "display": null,
            "flex": null,
            "flex_flow": null,
            "grid_area": null,
            "grid_auto_columns": null,
            "grid_auto_flow": null,
            "grid_auto_rows": null,
            "grid_column": null,
            "grid_gap": null,
            "grid_row": null,
            "grid_template_areas": null,
            "grid_template_columns": null,
            "grid_template_rows": null,
            "height": null,
            "justify_content": null,
            "justify_items": null,
            "left": null,
            "margin": null,
            "max_height": null,
            "max_width": null,
            "min_height": null,
            "min_width": null,
            "object_fit": null,
            "object_position": null,
            "order": null,
            "overflow": null,
            "overflow_x": null,
            "overflow_y": null,
            "padding": null,
            "right": null,
            "top": null,
            "visibility": null,
            "width": null
          }
        },
        "5daf9730a26844ba833049a3c09640ce": {
          "model_module": "@jupyter-widgets/controls",
          "model_name": "DescriptionStyleModel",
          "model_module_version": "1.5.0",
          "state": {
            "_model_module": "@jupyter-widgets/controls",
            "_model_module_version": "1.5.0",
            "_model_name": "DescriptionStyleModel",
            "_view_count": null,
            "_view_module": "@jupyter-widgets/base",
            "_view_module_version": "1.2.0",
            "_view_name": "StyleView",
            "description_width": ""
          }
        },
        "a1ed76d0ef4748c59b69238cb85d8954": {
          "model_module": "@jupyter-widgets/base",
          "model_name": "LayoutModel",
          "model_module_version": "1.2.0",
          "state": {
            "_model_module": "@jupyter-widgets/base",
            "_model_module_version": "1.2.0",
            "_model_name": "LayoutModel",
            "_view_count": null,
            "_view_module": "@jupyter-widgets/base",
            "_view_module_version": "1.2.0",
            "_view_name": "LayoutView",
            "align_content": null,
            "align_items": null,
            "align_self": null,
            "border": null,
            "bottom": null,
            "display": null,
            "flex": null,
            "flex_flow": null,
            "grid_area": null,
            "grid_auto_columns": null,
            "grid_auto_flow": null,
            "grid_auto_rows": null,
            "grid_column": null,
            "grid_gap": null,
            "grid_row": null,
            "grid_template_areas": null,
            "grid_template_columns": null,
            "grid_template_rows": null,
            "height": null,
            "justify_content": null,
            "justify_items": null,
            "left": null,
            "margin": null,
            "max_height": null,
            "max_width": null,
            "min_height": null,
            "min_width": null,
            "object_fit": null,
            "object_position": null,
            "order": null,
            "overflow": null,
            "overflow_x": null,
            "overflow_y": null,
            "padding": null,
            "right": null,
            "top": null,
            "visibility": null,
            "width": null
          }
        },
        "b100e65beb1e45139981681b9b8ca992": {
          "model_module": "@jupyter-widgets/controls",
          "model_name": "ProgressStyleModel",
          "model_module_version": "1.5.0",
          "state": {
            "_model_module": "@jupyter-widgets/controls",
            "_model_module_version": "1.5.0",
            "_model_name": "ProgressStyleModel",
            "_view_count": null,
            "_view_module": "@jupyter-widgets/base",
            "_view_module_version": "1.2.0",
            "_view_name": "StyleView",
            "bar_color": null,
            "description_width": ""
          }
        },
        "f60d0bad20b342faaaad5d0083647715": {
          "model_module": "@jupyter-widgets/base",
          "model_name": "LayoutModel",
          "model_module_version": "1.2.0",
          "state": {
            "_model_module": "@jupyter-widgets/base",
            "_model_module_version": "1.2.0",
            "_model_name": "LayoutModel",
            "_view_count": null,
            "_view_module": "@jupyter-widgets/base",
            "_view_module_version": "1.2.0",
            "_view_name": "LayoutView",
            "align_content": null,
            "align_items": null,
            "align_self": null,
            "border": null,
            "bottom": null,
            "display": null,
            "flex": null,
            "flex_flow": null,
            "grid_area": null,
            "grid_auto_columns": null,
            "grid_auto_flow": null,
            "grid_auto_rows": null,
            "grid_column": null,
            "grid_gap": null,
            "grid_row": null,
            "grid_template_areas": null,
            "grid_template_columns": null,
            "grid_template_rows": null,
            "height": null,
            "justify_content": null,
            "justify_items": null,
            "left": null,
            "margin": null,
            "max_height": null,
            "max_width": null,
            "min_height": null,
            "min_width": null,
            "object_fit": null,
            "object_position": null,
            "order": null,
            "overflow": null,
            "overflow_x": null,
            "overflow_y": null,
            "padding": null,
            "right": null,
            "top": null,
            "visibility": null,
            "width": null
          }
        },
        "0d00f4ae4d034fb9ab889796bd1d03fe": {
          "model_module": "@jupyter-widgets/controls",
          "model_name": "DescriptionStyleModel",
          "model_module_version": "1.5.0",
          "state": {
            "_model_module": "@jupyter-widgets/controls",
            "_model_module_version": "1.5.0",
            "_model_name": "DescriptionStyleModel",
            "_view_count": null,
            "_view_module": "@jupyter-widgets/base",
            "_view_module_version": "1.2.0",
            "_view_name": "StyleView",
            "description_width": ""
          }
        },
        "860df137b2504681876679b10149e4b9": {
          "model_module": "@jupyter-widgets/controls",
          "model_name": "HBoxModel",
          "model_module_version": "1.5.0",
          "state": {
            "_dom_classes": [],
            "_model_module": "@jupyter-widgets/controls",
            "_model_module_version": "1.5.0",
            "_model_name": "HBoxModel",
            "_view_count": null,
            "_view_module": "@jupyter-widgets/controls",
            "_view_module_version": "1.5.0",
            "_view_name": "HBoxView",
            "box_style": "",
            "children": [
              "IPY_MODEL_1955d4a2f1834305a89a29cec969277e",
              "IPY_MODEL_68e95dbb487c44a0b9a043f64238acc5",
              "IPY_MODEL_2017f634d819421898c552f7c54b54a5"
            ],
            "layout": "IPY_MODEL_8b2ba6a4b5884a089087f4663d42dd28"
          }
        },
        "1955d4a2f1834305a89a29cec969277e": {
          "model_module": "@jupyter-widgets/controls",
          "model_name": "HTMLModel",
          "model_module_version": "1.5.0",
          "state": {
            "_dom_classes": [],
            "_model_module": "@jupyter-widgets/controls",
            "_model_module_version": "1.5.0",
            "_model_name": "HTMLModel",
            "_view_count": null,
            "_view_module": "@jupyter-widgets/controls",
            "_view_module_version": "1.5.0",
            "_view_name": "HTMLView",
            "description": "",
            "description_tooltip": null,
            "layout": "IPY_MODEL_3d160d6e2ca14bfd9ac668efa05ec452",
            "placeholder": "​",
            "style": "IPY_MODEL_2718fa32fb9a448383b1be8ffe08907e",
            "value": "Map (num_proc=2): 100%"
          }
        },
        "68e95dbb487c44a0b9a043f64238acc5": {
          "model_module": "@jupyter-widgets/controls",
          "model_name": "FloatProgressModel",
          "model_module_version": "1.5.0",
          "state": {
            "_dom_classes": [],
            "_model_module": "@jupyter-widgets/controls",
            "_model_module_version": "1.5.0",
            "_model_name": "FloatProgressModel",
            "_view_count": null,
            "_view_module": "@jupyter-widgets/controls",
            "_view_module_version": "1.5.0",
            "_view_name": "ProgressView",
            "bar_style": "success",
            "description": "",
            "description_tooltip": null,
            "layout": "IPY_MODEL_3f732483832b4600a0f71e26b8ba1fcd",
            "max": 2000,
            "min": 0,
            "orientation": "horizontal",
            "style": "IPY_MODEL_0c2d6dea05f141c880382157b74d01ed",
            "value": 2000
          }
        },
        "2017f634d819421898c552f7c54b54a5": {
          "model_module": "@jupyter-widgets/controls",
          "model_name": "HTMLModel",
          "model_module_version": "1.5.0",
          "state": {
            "_dom_classes": [],
            "_model_module": "@jupyter-widgets/controls",
            "_model_module_version": "1.5.0",
            "_model_name": "HTMLModel",
            "_view_count": null,
            "_view_module": "@jupyter-widgets/controls",
            "_view_module_version": "1.5.0",
            "_view_name": "HTMLView",
            "description": "",
            "description_tooltip": null,
            "layout": "IPY_MODEL_b831138effab4d47ac72062a8f039194",
            "placeholder": "​",
            "style": "IPY_MODEL_3eeeda28ccb3401cb19b4d3bee5b6b3e",
            "value": " 2000/2000 [00:02&lt;00:00, 365.58 examples/s]"
          }
        },
        "8b2ba6a4b5884a089087f4663d42dd28": {
          "model_module": "@jupyter-widgets/base",
          "model_name": "LayoutModel",
          "model_module_version": "1.2.0",
          "state": {
            "_model_module": "@jupyter-widgets/base",
            "_model_module_version": "1.2.0",
            "_model_name": "LayoutModel",
            "_view_count": null,
            "_view_module": "@jupyter-widgets/base",
            "_view_module_version": "1.2.0",
            "_view_name": "LayoutView",
            "align_content": null,
            "align_items": null,
            "align_self": null,
            "border": null,
            "bottom": null,
            "display": null,
            "flex": null,
            "flex_flow": null,
            "grid_area": null,
            "grid_auto_columns": null,
            "grid_auto_flow": null,
            "grid_auto_rows": null,
            "grid_column": null,
            "grid_gap": null,
            "grid_row": null,
            "grid_template_areas": null,
            "grid_template_columns": null,
            "grid_template_rows": null,
            "height": null,
            "justify_content": null,
            "justify_items": null,
            "left": null,
            "margin": null,
            "max_height": null,
            "max_width": null,
            "min_height": null,
            "min_width": null,
            "object_fit": null,
            "object_position": null,
            "order": null,
            "overflow": null,
            "overflow_x": null,
            "overflow_y": null,
            "padding": null,
            "right": null,
            "top": null,
            "visibility": null,
            "width": null
          }
        },
        "3d160d6e2ca14bfd9ac668efa05ec452": {
          "model_module": "@jupyter-widgets/base",
          "model_name": "LayoutModel",
          "model_module_version": "1.2.0",
          "state": {
            "_model_module": "@jupyter-widgets/base",
            "_model_module_version": "1.2.0",
            "_model_name": "LayoutModel",
            "_view_count": null,
            "_view_module": "@jupyter-widgets/base",
            "_view_module_version": "1.2.0",
            "_view_name": "LayoutView",
            "align_content": null,
            "align_items": null,
            "align_self": null,
            "border": null,
            "bottom": null,
            "display": null,
            "flex": null,
            "flex_flow": null,
            "grid_area": null,
            "grid_auto_columns": null,
            "grid_auto_flow": null,
            "grid_auto_rows": null,
            "grid_column": null,
            "grid_gap": null,
            "grid_row": null,
            "grid_template_areas": null,
            "grid_template_columns": null,
            "grid_template_rows": null,
            "height": null,
            "justify_content": null,
            "justify_items": null,
            "left": null,
            "margin": null,
            "max_height": null,
            "max_width": null,
            "min_height": null,
            "min_width": null,
            "object_fit": null,
            "object_position": null,
            "order": null,
            "overflow": null,
            "overflow_x": null,
            "overflow_y": null,
            "padding": null,
            "right": null,
            "top": null,
            "visibility": null,
            "width": null
          }
        },
        "2718fa32fb9a448383b1be8ffe08907e": {
          "model_module": "@jupyter-widgets/controls",
          "model_name": "DescriptionStyleModel",
          "model_module_version": "1.5.0",
          "state": {
            "_model_module": "@jupyter-widgets/controls",
            "_model_module_version": "1.5.0",
            "_model_name": "DescriptionStyleModel",
            "_view_count": null,
            "_view_module": "@jupyter-widgets/base",
            "_view_module_version": "1.2.0",
            "_view_name": "StyleView",
            "description_width": ""
          }
        },
        "3f732483832b4600a0f71e26b8ba1fcd": {
          "model_module": "@jupyter-widgets/base",
          "model_name": "LayoutModel",
          "model_module_version": "1.2.0",
          "state": {
            "_model_module": "@jupyter-widgets/base",
            "_model_module_version": "1.2.0",
            "_model_name": "LayoutModel",
            "_view_count": null,
            "_view_module": "@jupyter-widgets/base",
            "_view_module_version": "1.2.0",
            "_view_name": "LayoutView",
            "align_content": null,
            "align_items": null,
            "align_self": null,
            "border": null,
            "bottom": null,
            "display": null,
            "flex": null,
            "flex_flow": null,
            "grid_area": null,
            "grid_auto_columns": null,
            "grid_auto_flow": null,
            "grid_auto_rows": null,
            "grid_column": null,
            "grid_gap": null,
            "grid_row": null,
            "grid_template_areas": null,
            "grid_template_columns": null,
            "grid_template_rows": null,
            "height": null,
            "justify_content": null,
            "justify_items": null,
            "left": null,
            "margin": null,
            "max_height": null,
            "max_width": null,
            "min_height": null,
            "min_width": null,
            "object_fit": null,
            "object_position": null,
            "order": null,
            "overflow": null,
            "overflow_x": null,
            "overflow_y": null,
            "padding": null,
            "right": null,
            "top": null,
            "visibility": null,
            "width": null
          }
        },
        "0c2d6dea05f141c880382157b74d01ed": {
          "model_module": "@jupyter-widgets/controls",
          "model_name": "ProgressStyleModel",
          "model_module_version": "1.5.0",
          "state": {
            "_model_module": "@jupyter-widgets/controls",
            "_model_module_version": "1.5.0",
            "_model_name": "ProgressStyleModel",
            "_view_count": null,
            "_view_module": "@jupyter-widgets/base",
            "_view_module_version": "1.2.0",
            "_view_name": "StyleView",
            "bar_color": null,
            "description_width": ""
          }
        },
        "b831138effab4d47ac72062a8f039194": {
          "model_module": "@jupyter-widgets/base",
          "model_name": "LayoutModel",
          "model_module_version": "1.2.0",
          "state": {
            "_model_module": "@jupyter-widgets/base",
            "_model_module_version": "1.2.0",
            "_model_name": "LayoutModel",
            "_view_count": null,
            "_view_module": "@jupyter-widgets/base",
            "_view_module_version": "1.2.0",
            "_view_name": "LayoutView",
            "align_content": null,
            "align_items": null,
            "align_self": null,
            "border": null,
            "bottom": null,
            "display": null,
            "flex": null,
            "flex_flow": null,
            "grid_area": null,
            "grid_auto_columns": null,
            "grid_auto_flow": null,
            "grid_auto_rows": null,
            "grid_column": null,
            "grid_gap": null,
            "grid_row": null,
            "grid_template_areas": null,
            "grid_template_columns": null,
            "grid_template_rows": null,
            "height": null,
            "justify_content": null,
            "justify_items": null,
            "left": null,
            "margin": null,
            "max_height": null,
            "max_width": null,
            "min_height": null,
            "min_width": null,
            "object_fit": null,
            "object_position": null,
            "order": null,
            "overflow": null,
            "overflow_x": null,
            "overflow_y": null,
            "padding": null,
            "right": null,
            "top": null,
            "visibility": null,
            "width": null
          }
        },
        "3eeeda28ccb3401cb19b4d3bee5b6b3e": {
          "model_module": "@jupyter-widgets/controls",
          "model_name": "DescriptionStyleModel",
          "model_module_version": "1.5.0",
          "state": {
            "_model_module": "@jupyter-widgets/controls",
            "_model_module_version": "1.5.0",
            "_model_name": "DescriptionStyleModel",
            "_view_count": null,
            "_view_module": "@jupyter-widgets/base",
            "_view_module_version": "1.2.0",
            "_view_name": "StyleView",
            "description_width": ""
          }
        }
      }
    }
  },
  "nbformat": 4,
  "nbformat_minor": 0
}